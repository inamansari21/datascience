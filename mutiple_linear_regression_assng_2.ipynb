{
  "nbformat": 4,
  "nbformat_minor": 0,
  "metadata": {
    "colab": {
      "name": "mutiple_linear_regression_assng 2.ipynb",
      "provenance": [],
      "collapsed_sections": [],
      "authorship_tag": "ABX9TyMn+zso4G9LnGZfo952SYAS",
      "include_colab_link": true
    },
    "kernelspec": {
      "name": "python3",
      "display_name": "Python 3"
    },
    "language_info": {
      "name": "python"
    }
  },
  "cells": [
    {
      "cell_type": "markdown",
      "metadata": {
        "id": "view-in-github",
        "colab_type": "text"
      },
      "source": [
        "<a href=\"https://colab.research.google.com/github/inamansari21/datascience/blob/main/mutiple_linear_regression_assng_2.ipynb\" target=\"_parent\"><img src=\"https://colab.research.google.com/assets/colab-badge.svg\" alt=\"Open In Colab\"/></a>"
      ]
    },
    {
      "cell_type": "code",
      "execution_count": null,
      "metadata": {
        "id": "BcQzP35_NDSs"
      },
      "outputs": [],
      "source": [
        "import pandas as pd\n",
        "import numpy as np\n",
        "import matplotlib.pyplot as plt\n",
        "import seaborn as sns\n",
        "import statsmodels.formula.api as smf\n",
        "import statsmodels.api as sm\n",
        "from statsmodels.graphics.regressionplots import influence_plot\n"
      ]
    },
    {
      "cell_type": "code",
      "source": [
        "data=pd.read_csv(\"50_Startups.csv\")\n",
        "data\n"
      ],
      "metadata": {
        "id": "8MPALOC2NPFv"
      },
      "execution_count": null,
      "outputs": []
    },
    {
      "cell_type": "code",
      "source": [
        "data.info()\n"
      ],
      "metadata": {
        "id": "v8PibjcTNdJw"
      },
      "execution_count": null,
      "outputs": []
    },
    {
      "cell_type": "code",
      "source": [
        "data1=data.rename({'R&D Spend':'RDS','Administration':'ADMS','Marketing Spend':'MKTS'},axis=1)\n",
        "data1\n"
      ],
      "metadata": {
        "id": "FGn-Y1M9Nlw1"
      },
      "execution_count": null,
      "outputs": []
    },
    {
      "cell_type": "code",
      "source": [
        "data1[data1.duplicated()] # No duplicated data\n"
      ],
      "metadata": {
        "id": "HUHYvOTeNqd6"
      },
      "execution_count": null,
      "outputs": []
    },
    {
      "cell_type": "code",
      "source": [
        "data1.describe()"
      ],
      "metadata": {
        "id": "l_ymyhGGNyB3"
      },
      "execution_count": null,
      "outputs": []
    },
    {
      "cell_type": "code",
      "source": [
        "data1.corr()\n"
      ],
      "metadata": {
        "id": "m7LFBprbN9Wj"
      },
      "execution_count": null,
      "outputs": []
    },
    {
      "cell_type": "code",
      "source": [
        "sns.set_style(style='darkgrid')\n",
        "sns.pairplot(data1)\n"
      ],
      "metadata": {
        "id": "cuojw_kROD_l"
      },
      "execution_count": null,
      "outputs": []
    },
    {
      "cell_type": "code",
      "source": [
        "model=smf.ols(\"Profit~RDS+ADMS+MKTS\",data=data1).fit()\n"
      ],
      "metadata": {
        "id": "7NacK05bOIWu"
      },
      "execution_count": null,
      "outputs": []
    },
    {
      "cell_type": "markdown",
      "source": [
        "# **model testing**"
      ],
      "metadata": {
        "id": "bMIYqxGJOVJW"
      }
    },
    {
      "cell_type": "code",
      "source": [
        "model.params\n"
      ],
      "metadata": {
        "id": "ub-6Q0ygOnJ-"
      },
      "execution_count": null,
      "outputs": []
    },
    {
      "cell_type": "code",
      "source": [
        "model.tvalues , np.round(model.pvalues,5)\n"
      ],
      "metadata": {
        "id": "Kp95K1hGOr6u"
      },
      "execution_count": null,
      "outputs": []
    },
    {
      "cell_type": "code",
      "source": [
        "model.rsquared , model.rsquared_adj \n"
      ],
      "metadata": {
        "id": "3z-p_jRWOw1p"
      },
      "execution_count": null,
      "outputs": []
    },
    {
      "cell_type": "code",
      "source": [
        "slr_a=smf.ols(\"Profit~ADMS\",data=data1).fit()\n",
        "slr_a.tvalues , slr_a.pvalues  # ADMS has in-significant pvalue\n"
      ],
      "metadata": {
        "id": "1M6S71j1O5rd"
      },
      "execution_count": null,
      "outputs": []
    },
    {
      "cell_type": "code",
      "source": [
        "slr_m=smf.ols(\"Profit~MKTS\",data=data1).fit()\n",
        "slr_m.tvalues , slr_m.pvalues  # MKTS has significant pvalue\n"
      ],
      "metadata": {
        "id": "ekq2nORJPATN"
      },
      "execution_count": null,
      "outputs": []
    },
    {
      "cell_type": "code",
      "source": [
        "mlr_am=smf.ols(\"Profit~ADMS+MKTS\",data=data1).fit()\n",
        "mlr_am.tvalues , mlr_am.pvalues  # varaibles have significant pvalues\n"
      ],
      "metadata": {
        "id": "tgIwKIwiPGsN"
      },
      "execution_count": null,
      "outputs": []
    },
    {
      "cell_type": "code",
      "source": [
        ""
      ],
      "metadata": {
        "id": "DSeG1eXsPddI"
      },
      "execution_count": null,
      "outputs": []
    },
    {
      "cell_type": "markdown",
      "source": [
        "# **model validation techniques**"
      ],
      "metadata": {
        "id": "H11o4T9tPs2y"
      }
    },
    {
      "cell_type": "code",
      "source": [
        "# 1) Collinearity Problem Check\n",
        "# Calculate VIF = 1/(1-Rsquare) for all independent variables\n",
        "\n",
        "rsq_r=smf.ols(\"RDS~ADMS+MKTS\",data=data1).fit().rsquared\n",
        "vif_r=1/(1-rsq_r)\n",
        "\n",
        "rsq_a=smf.ols(\"ADMS~RDS+MKTS\",data=data1).fit().rsquared\n",
        "vif_a=1/(1-rsq_a)\n",
        "\n",
        "rsq_m=smf.ols(\"MKTS~RDS+ADMS\",data=data1).fit().rsquared\n",
        "vif_m=1/(1-rsq_m)\n",
        "\n",
        "# Putting the values in Dataframe format\n",
        "d1={'Variables':['RDS','ADMS','MKTS'],'Vif':[vif_r,vif_a,vif_m]}\n",
        "Vif_df=pd.DataFrame(d1)\n",
        "Vif_df\n"
      ],
      "metadata": {
        "id": "nXAw96SdPzDP"
      },
      "execution_count": null,
      "outputs": []
    },
    {
      "cell_type": "code",
      "source": [
        "# None variable has VIF>20, No Collinearity, so consider all varaibles in Regression equation\n"
      ],
      "metadata": {
        "id": "pD0pmiuGP0i1"
      },
      "execution_count": null,
      "outputs": []
    },
    {
      "cell_type": "code",
      "source": [
        "# 2) Residual Analysis\n",
        "# Test for Normality of Residuals (Q-Q Plot) using residual model (model.resid)\n",
        "\n",
        "sm.qqplot(model.resid,line='q')\n",
        "plt.title(\"Normal Q-Q plot of residuals\")\n",
        "plt.show()\n"
      ],
      "metadata": {
        "id": "PAEdjQk3QYvs"
      },
      "execution_count": null,
      "outputs": []
    },
    {
      "cell_type": "code",
      "source": [
        "list(np.where(model.resid<-30000))\n"
      ],
      "metadata": {
        "id": "YgsoPXyoQdFN"
      },
      "execution_count": null,
      "outputs": []
    },
    {
      "cell_type": "code",
      "source": [
        "# Test for Homoscedasticity or Heteroscedasticity (plotting model's standardized fitted values vs standardized residual values)\n",
        "\n",
        "def standard_values(vals) : return (vals-vals.mean())/vals.std()  # User defined z = (x - mu)/sigma\n"
      ],
      "metadata": {
        "id": "tAbmeOgfQy9N"
      },
      "execution_count": null,
      "outputs": []
    },
    {
      "cell_type": "code",
      "source": [
        "plt.scatter(standard_values(model.fittedvalues),standard_values(model.resid))\n",
        "plt.title('Residual Plot')\n",
        "plt.xlabel('standardized fitted values')\n",
        "plt.ylabel('standardized residual values')\n",
        "plt.show() \n"
      ],
      "metadata": {
        "id": "tMxRrlX3Qk-P"
      },
      "execution_count": null,
      "outputs": []
    },
    {
      "cell_type": "code",
      "source": [
        "fig=plt.figure(figsize=(15,8))\n",
        "sm.graphics.plot_regress_exog(model,'RDS',fig=fig)\n",
        "plt.show()\n"
      ],
      "metadata": {
        "id": "E872gm2dQwUM"
      },
      "execution_count": null,
      "outputs": []
    },
    {
      "cell_type": "code",
      "source": [
        "fig=plt.figure(figsize=(15,8))\n",
        "sm.graphics.plot_regress_exog(model,'ADMS',fig=fig)\n",
        "plt.show()\n"
      ],
      "metadata": {
        "id": "mFpxXda8RA2H"
      },
      "execution_count": null,
      "outputs": []
    },
    {
      "cell_type": "code",
      "source": [
        "fig=plt.figure(figsize=(15,8))\n",
        "sm.graphics.plot_regress_exog(model,'MKTS',fig=fig)\n",
        "plt.show()\n"
      ],
      "metadata": {
        "id": "siVU9P7HRHQI"
      },
      "execution_count": null,
      "outputs": []
    },
    {
      "cell_type": "code",
      "source": [
        ""
      ],
      "metadata": {
        "id": "2d4N3zFiRKr0"
      },
      "execution_count": null,
      "outputs": []
    },
    {
      "cell_type": "markdown",
      "source": [
        "# **model deletion technique**"
      ],
      "metadata": {
        "id": "dIobpbeXRRcm"
      }
    },
    {
      "cell_type": "code",
      "source": [
        "# 1. Cook's Distance: If Cook's distance > 1, then it's an outlier\n",
        "# Get influencers using cook's distance\n",
        "(c,_)=model.get_influence().cooks_distance\n",
        "c\n"
      ],
      "metadata": {
        "id": "TvBxeq30RW25"
      },
      "execution_count": null,
      "outputs": []
    },
    {
      "cell_type": "code",
      "source": [
        "fig=plt.figure(figsize=(20,7))\n",
        "plt.stem(np.arange(len(data1)),np.round(c,5))\n",
        "plt.xlabel('Row Index')\n",
        "plt.ylabel('Cooks Distance')\n",
        "plt.show()\n"
      ],
      "metadata": {
        "id": "E1DH-UfLRYS7"
      },
      "execution_count": null,
      "outputs": []
    },
    {
      "cell_type": "code",
      "source": [
        "np.argmax(c) , np.max(c)\n"
      ],
      "metadata": {
        "id": "-Y3A1BYNRksr"
      },
      "execution_count": null,
      "outputs": []
    },
    {
      "cell_type": "code",
      "source": [
        "# 2. Leverage Value using High Influence Points : Points beyond Leverage_cutoff value are influencers\n",
        "influence_plot(model)\n",
        "plt.show()\n"
      ],
      "metadata": {
        "id": "hBSD_grVRp5O"
      },
      "execution_count": null,
      "outputs": []
    },
    {
      "cell_type": "code",
      "source": [
        "# Leverage Cuttoff Value = 3*(k+1)/n ; k = no.of features/columns & n = no. of datapoints\n",
        "k=data1.shape[1]\n",
        "n=data1.shape[0]\n",
        "leverage_cutoff = (3*(k+1))/n\n",
        "leverage_cutoff\n"
      ],
      "metadata": {
        "id": "NEt32m2vRume"
      },
      "execution_count": null,
      "outputs": []
    },
    {
      "cell_type": "code",
      "source": [
        "data1[data1.index.isin([49])] \n"
      ],
      "metadata": {
        "id": "nBywj1I7eN3-"
      },
      "execution_count": null,
      "outputs": []
    },
    {
      "cell_type": "code",
      "source": [
        ""
      ],
      "metadata": {
        "id": "1sH6VUTieV0F"
      },
      "execution_count": null,
      "outputs": []
    },
    {
      "cell_type": "markdown",
      "source": [
        "# **improving the model**"
      ],
      "metadata": {
        "id": "e_frl5gmeaGx"
      }
    },
    {
      "cell_type": "code",
      "source": [
        "data2=data1.drop(data1.index[[49]],axis=0).reset_index(drop=True)\n",
        "data2\n"
      ],
      "metadata": {
        "id": "etGbJeDgejdp"
      },
      "execution_count": null,
      "outputs": []
    },
    {
      "cell_type": "code",
      "source": [
        ""
      ],
      "metadata": {
        "id": "pjXyoHP-epgw"
      },
      "execution_count": null,
      "outputs": []
    },
    {
      "cell_type": "markdown",
      "source": [
        "# **final model**"
      ],
      "metadata": {
        "id": "BrALpo-410hN"
      }
    },
    {
      "cell_type": "code",
      "source": [
        "while np.max(c)>0.5 :\n",
        "    model=smf.ols(\"Profit~RDS+ADMS+MKTS\",data=data2).fit()\n",
        "    (c,_)=model.get_influence().cooks_distance\n",
        "    c\n",
        "    np.argmax(c) , np.max(c)\n",
        "    data2=data2.drop(data2.index[[np.argmax(c)]],axis=0).reset_index(drop=True)\n",
        "    data2\n",
        "else:\n",
        "    final_model=smf.ols(\"Profit~RDS+ADMS+MKTS\",data=data2).fit()\n",
        "    final_model.rsquared , final_model.aic\n",
        "    print(\"Thus model accuracy is improved to\",final_model.rsquared)\n"
      ],
      "metadata": {
        "id": "POjou0Lk16K-"
      },
      "execution_count": null,
      "outputs": []
    },
    {
      "cell_type": "code",
      "source": [
        "final_model.rsquared\n"
      ],
      "metadata": {
        "id": "k1kJX6Y22PCx"
      },
      "execution_count": null,
      "outputs": []
    },
    {
      "cell_type": "code",
      "source": [
        "data2\n"
      ],
      "metadata": {
        "id": "K1AgLPO72kXX"
      },
      "execution_count": null,
      "outputs": []
    },
    {
      "cell_type": "code",
      "source": [
        ""
      ],
      "metadata": {
        "id": "XaYVDHji2qsl"
      },
      "execution_count": null,
      "outputs": []
    },
    {
      "cell_type": "markdown",
      "source": [
        ""
      ],
      "metadata": {
        "id": "D7_5o4al22_N"
      }
    },
    {
      "cell_type": "markdown",
      "source": [
        "### **model prediction**"
      ],
      "metadata": {
        "id": "0C1YELpN23CG"
      }
    },
    {
      "cell_type": "code",
      "source": [
        "# say New data for prediction is\n",
        "new_data=pd.DataFrame({'RDS':70000,\"ADMS\":90000,\"MKTS\":140000},index=[0])\n",
        "new_data"
      ],
      "metadata": {
        "id": "JtxHz49j3BDj"
      },
      "execution_count": null,
      "outputs": []
    },
    {
      "cell_type": "code",
      "source": [
        "final_model.predict(new_data)\n"
      ],
      "metadata": {
        "id": "TKGekxu23RuJ"
      },
      "execution_count": null,
      "outputs": []
    },
    {
      "cell_type": "code",
      "source": [
        "# Automatic Prediction of Price with 90.02% accurcy\n",
        "pred_y=final_model.predict(data2)\n",
        "pred_y\n"
      ],
      "metadata": {
        "id": "kl-ut1Mr3X8f"
      },
      "execution_count": null,
      "outputs": []
    },
    {
      "cell_type": "code",
      "source": [
        ""
      ],
      "metadata": {
        "id": "kHh1VF8B3d-i"
      },
      "execution_count": null,
      "outputs": []
    },
    {
      "cell_type": "markdown",
      "source": [
        "# **table containing R^2 value for each prepared model\n",
        "**"
      ],
      "metadata": {
        "id": "StxjqLdR3pIH"
      }
    },
    {
      "cell_type": "code",
      "source": [
        "d2={'Prep_Models':['Model','Final_Model'],'Rsquared':[model.rsquared,final_model.rsquared]}\n",
        "table=pd.DataFrame(d2)\n",
        "table\n"
      ],
      "metadata": {
        "id": "rZyGuB9t3tDh"
      },
      "execution_count": null,
      "outputs": []
    },
    {
      "cell_type": "code",
      "source": [
        ""
      ],
      "metadata": {
        "id": "bnfC6Hea32uI"
      },
      "execution_count": null,
      "outputs": []
    }
  ]
}