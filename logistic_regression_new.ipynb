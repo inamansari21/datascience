{
  "nbformat": 4,
  "nbformat_minor": 0,
  "metadata": {
    "colab": {
      "name": "logistic regression new.ipynb",
      "provenance": [],
      "authorship_tag": "ABX9TyOAHi6HFnmSvC25h4rIJ7+x",
      "include_colab_link": true
    },
    "kernelspec": {
      "name": "python3",
      "display_name": "Python 3"
    },
    "language_info": {
      "name": "python"
    }
  },
  "cells": [
    {
      "cell_type": "markdown",
      "metadata": {
        "id": "view-in-github",
        "colab_type": "text"
      },
      "source": [
        "<a href=\"https://colab.research.google.com/github/inamansari21/datascience/blob/main/logistic_regression_new.ipynb\" target=\"_parent\"><img src=\"https://colab.research.google.com/assets/colab-badge.svg\" alt=\"Open In Colab\"/></a>"
      ]
    },
    {
      "cell_type": "code",
      "execution_count": null,
      "metadata": {
        "id": "ntHCTyfCtwuh"
      },
      "outputs": [],
      "source": [
        "import numpy as np\n",
        "import pandas as pd\n",
        "import matplotlib.pyplot as plt\n",
        "import statsmodels.api as sm\n",
        "from numpy.polynomial.polynomial import polyfit\n",
        "from sklearn.linear_model import LogisticRegression\n",
        "import seaborn as sns\n",
        "import statsmodels.stats.tests.test_influence\n",
        "from sklearn.feature_selection import RFE\n",
        "from statsmodels.stats.outliers_influence import variance_inflation_factor\n",
        "from sklearn.metrics import confusion_matrix\n",
        "from sklearn.metrics import classification_report\n"
      ]
    },
    {
      "cell_type": "code",
      "source": [
        "df = pd.read_csv(\"bank-full-new.csv\")\n",
        "\n",
        "\n"
      ],
      "metadata": {
        "id": "y2k_kvWZuTWn"
      },
      "execution_count": null,
      "outputs": []
    },
    {
      "cell_type": "code",
      "source": [
        "df1 = df.copy()\n"
      ],
      "metadata": {
        "id": "2TwGf8I-uuA1"
      },
      "execution_count": null,
      "outputs": []
    },
    {
      "cell_type": "code",
      "source": [
        "df1"
      ],
      "metadata": {
        "id": "IJGDKpKcvi6Z"
      },
      "execution_count": null,
      "outputs": []
    },
    {
      "cell_type": "code",
      "source": [
        "df1.describe\n"
      ],
      "metadata": {
        "id": "6-BSQNbtuus6"
      },
      "execution_count": null,
      "outputs": []
    },
    {
      "cell_type": "code",
      "source": [
        "sns.pairplot(df1)\n",
        "\n"
      ],
      "metadata": {
        "id": "h5402umivP_A"
      },
      "execution_count": null,
      "outputs": []
    },
    {
      "cell_type": "code",
      "source": [
        "df1['y'].value_counts()\n"
      ],
      "metadata": {
        "id": "i4JkM3jpvVP4"
      },
      "execution_count": null,
      "outputs": []
    },
    {
      "cell_type": "code",
      "source": [
        "count_no_sub = len(df1[df1['y']==\"no\"])\n",
        "count_sub = len(df1[df1['y']==\"yes\"])\n"
      ],
      "metadata": {
        "id": "WDvKGve54GyL"
      },
      "execution_count": null,
      "outputs": []
    },
    {
      "cell_type": "code",
      "source": [
        "(count_sub / (count_sub + count_no_sub))*100\n"
      ],
      "metadata": {
        "id": "_0K_xzPx4K48"
      },
      "execution_count": null,
      "outputs": []
    },
    {
      "cell_type": "code",
      "source": [
        "pd.crosstab(df1.job,df1.y).plot(kind='bar')\n",
        "plt.title('Subscribed Frequency for Job Title')\n",
        "plt.xlabel('Job')\n",
        "plt.ylabel('Frequency of subscribtion')\n"
      ],
      "metadata": {
        "id": "2e8FrZj74UJU"
      },
      "execution_count": null,
      "outputs": []
    },
    {
      "cell_type": "code",
      "source": [
        "table=pd.crosstab(df1.marital,df1.y)\n",
        "table.div(table.sum(1).astype(float), axis=0).plot(kind='bar', stacked=True)\n",
        "plt.title('Stacked Bar Chart of Marital Status vs Subscribed')\n",
        "plt.xlabel('Marital Status')\n",
        "plt.ylabel('Proportion of Customers')\n"
      ],
      "metadata": {
        "id": "kSlMFFsI4lMp"
      },
      "execution_count": null,
      "outputs": []
    },
    {
      "cell_type": "markdown",
      "source": [
        "Education seem a strong predictor for the outcome variable\n"
      ],
      "metadata": {
        "id": "EVwYAv6-5Dux"
      }
    },
    {
      "cell_type": "code",
      "source": [
        "table=pd.crosstab(df1.education,df1.y)\n",
        "table.div(table.sum(1).astype(float), axis=0).plot(kind='bar', stacked=True)\n",
        "plt.title('Stacked Bar Chart of Education vs Subscribed')\n",
        "plt.xlabel('Education')\n",
        "plt.ylabel('Proportion of Customers')\n"
      ],
      "metadata": {
        "id": "HRhcuYk14rnF"
      },
      "execution_count": null,
      "outputs": []
    },
    {
      "cell_type": "markdown",
      "source": [
        "Contact does not seem a strong predictor for the outcome variable\n"
      ],
      "metadata": {
        "id": "8_u1qB9K5Vpu"
      }
    },
    {
      "cell_type": "code",
      "source": [
        "table=pd.crosstab(df1.contact,df1.y)\n",
        "table.div(table.sum(1).astype(float), axis=0).plot(kind='bar', stacked=True)\n",
        "plt.title('Stacked Bar Chart of Contact vs Subscribed')\n",
        "plt.xlabel('Contact')\n",
        "plt.ylabel('Proportion of Customers')\n"
      ],
      "metadata": {
        "id": "iNNmr5BQ40Yj"
      },
      "execution_count": null,
      "outputs": []
    },
    {
      "cell_type": "markdown",
      "source": [
        "Poutcome does not seem a strong predictor for the outcome variable\n"
      ],
      "metadata": {
        "id": "rXVJZdM15ag9"
      }
    },
    {
      "cell_type": "code",
      "source": [
        "df1.age.hist()\n",
        "plt.title('Histogram of Age')\n",
        "plt.xlabel('Age')\n",
        "plt.ylabel('Frequency')\n"
      ],
      "metadata": {
        "id": "0gmVQHfY4686"
      },
      "execution_count": null,
      "outputs": []
    },
    {
      "cell_type": "markdown",
      "source": [
        "Most of the customers are in age between 20 and 50 years\n"
      ],
      "metadata": {
        "id": "u93ewHex5mVu"
      }
    },
    {
      "cell_type": "code",
      "source": [
        "pd.crosstab(df1.month,df1.y).plot(kind='bar')\n",
        "plt.title('Subscribed Frequency for Month')\n",
        "plt.xlabel('Month')\n",
        "plt.ylabel('Frequency of Subscribed')\n"
      ],
      "metadata": {
        "id": "EBF-mPGz5gzQ"
      },
      "execution_count": null,
      "outputs": []
    },
    {
      "cell_type": "markdown",
      "source": [
        "Month might be a good predictor of the outcome variabl\n"
      ],
      "metadata": {
        "id": "qRRIRM8r5wPa"
      }
    },
    {
      "cell_type": "code",
      "source": [
        "df1.day.hist()\n",
        "plt.title('Histogram of Duration')\n",
        "plt.xlabel('Duration')\n",
        "plt.ylabel('Frequency')\n"
      ],
      "metadata": {
        "id": "Y_zqxvM05rVp"
      },
      "execution_count": null,
      "outputs": []
    },
    {
      "cell_type": "code",
      "source": [
        "df1['housing'].value_counts()\n"
      ],
      "metadata": {
        "id": "33TkuTLn50Kt"
      },
      "execution_count": null,
      "outputs": []
    },
    {
      "cell_type": "code",
      "source": [
        "df1['loan'].value_counts()\n"
      ],
      "metadata": {
        "id": "Uu5TS24H54Ff"
      },
      "execution_count": null,
      "outputs": []
    },
    {
      "cell_type": "markdown",
      "source": [
        "# **Cleaning Data**\n"
      ],
      "metadata": {
        "id": "7jfzwb_J6COJ"
      }
    },
    {
      "cell_type": "code",
      "source": [
        "df1.isnull().sum()\n"
      ],
      "metadata": {
        "id": "V37Ldi-G57q5"
      },
      "execution_count": null,
      "outputs": []
    },
    {
      "cell_type": "markdown",
      "source": [
        "# **logistic regression model**"
      ],
      "metadata": {
        "id": "wQ445PCP6X4G"
      }
    },
    {
      "cell_type": "code",
      "source": [
        "df1 ['default'] = df1 ['default'].map({'yes': 1, 'no': 0})\n"
      ],
      "metadata": {
        "id": "Gw_VSJAX6Rvk"
      },
      "execution_count": null,
      "outputs": []
    },
    {
      "cell_type": "code",
      "source": [
        "df1 ['housing'] = df1 ['housing'].map({'yes': 1, 'no': 0})\n"
      ],
      "metadata": {
        "id": "TigOkiBm6dcY"
      },
      "execution_count": null,
      "outputs": []
    },
    {
      "cell_type": "code",
      "source": [
        "df1 ['loan'] = df1 ['loan'].map({'yes': 1, 'no': 0})\n"
      ],
      "metadata": {
        "id": "xUST1iRP6gyI"
      },
      "execution_count": null,
      "outputs": []
    },
    {
      "cell_type": "code",
      "source": [
        "df1 ['y'] = df1 ['y'].map({'yes': 1, 'no': 0})\n"
      ],
      "metadata": {
        "id": "cuzqPflT6jO4"
      },
      "execution_count": null,
      "outputs": []
    },
    {
      "cell_type": "code",
      "source": [
        "df1 = pd.get_dummies(df1, columns=['job'])\n"
      ],
      "metadata": {
        "id": "EzBheT1G6ltP"
      },
      "execution_count": null,
      "outputs": []
    },
    {
      "cell_type": "code",
      "source": [
        "df1 = pd.get_dummies(df1, columns=['marital'])\n"
      ],
      "metadata": {
        "id": "MQ-rsEp16o-T"
      },
      "execution_count": null,
      "outputs": []
    },
    {
      "cell_type": "code",
      "source": [
        "df1 = pd.get_dummies(df1, columns=['education'])\n"
      ],
      "metadata": {
        "id": "ErcDfaEU6rdW"
      },
      "execution_count": null,
      "outputs": []
    },
    {
      "cell_type": "code",
      "source": [
        "df1 = pd.get_dummies(df1, columns=['month'])\n"
      ],
      "metadata": {
        "id": "o0I08ILt6tyR"
      },
      "execution_count": null,
      "outputs": []
    },
    {
      "cell_type": "code",
      "source": [
        "df1 = df1.drop(['contact', 'poutcome'], axis=1)\n"
      ],
      "metadata": {
        "id": "ngOReXpW6xjW"
      },
      "execution_count": null,
      "outputs": []
    },
    {
      "cell_type": "code",
      "source": [
        "X = df1.loc[:, df1.columns != 'y']\n",
        "y = df1.loc[:, df1.columns == 'y']\n"
      ],
      "metadata": {
        "id": "XY-JCKR060QN"
      },
      "execution_count": null,
      "outputs": []
    },
    {
      "cell_type": "code",
      "source": [
        "logreg = LogisticRegression()\n"
      ],
      "metadata": {
        "id": "zey2xzpS63Kr"
      },
      "execution_count": null,
      "outputs": []
    },
    {
      "cell_type": "code",
      "source": [
        "X = df1[['default', 'housing', 'loan', 'job_housemaid', 'job_retired', 'job_student', 'marital_married', 'education_primary', 'education_unknown', 'month_aug', 'month_dec', 'month_feb', 'month_jan', 'month_jul', 'month_jun', 'month_mar', 'month_may', 'month_nov', 'month_oct', 'month_sep']]\n",
        "y = df1.loc[:, df1.columns == 'y']\n"
      ],
      "metadata": {
        "id": "efd6HzFk68b6"
      },
      "execution_count": null,
      "outputs": []
    },
    {
      "cell_type": "code",
      "source": [
        "logit=sm.Logit(y,X)\n",
        "result = logit.fit()\n"
      ],
      "metadata": {
        "id": "cZ78Wm9e8NU_"
      },
      "execution_count": null,
      "outputs": []
    },
    {
      "cell_type": "code",
      "source": [
        "result.summary()\n"
      ],
      "metadata": {
        "id": "ZB_laPCE8S0L"
      },
      "execution_count": null,
      "outputs": []
    },
    {
      "cell_type": "markdown",
      "source": [
        "# **all variables have significant p variable**"
      ],
      "metadata": {
        "id": "C0sFgL-w8xYJ"
      }
    },
    {
      "cell_type": "code",
      "source": [
        "logreg.fit(X, y)\n"
      ],
      "metadata": {
        "id": "5-94wkgy8qTx"
      },
      "execution_count": null,
      "outputs": []
    },
    {
      "cell_type": "code",
      "source": [
        "y_pred = logreg.predict(X)\n",
        "print('Accuracy of logistic regression classifier on test set: {:.2f}'.format(logreg.score(X, y)))\n"
      ],
      "metadata": {
        "id": "Y4xaMufB86v3"
      },
      "execution_count": null,
      "outputs": []
    },
    {
      "cell_type": "code",
      "source": [
        "print(classification_report(y, y_pred))\n"
      ],
      "metadata": {
        "id": "mVjPNUXx9aRS"
      },
      "execution_count": null,
      "outputs": []
    },
    {
      "cell_type": "code",
      "source": [
        "confusion_matrix(y, y_pred)\n"
      ],
      "metadata": {
        "id": "aMP3-0za9eJ2"
      },
      "execution_count": null,
      "outputs": []
    },
    {
      "cell_type": "markdown",
      "source": [
        "## Output Interpretation\n",
        "1 - Confusion Matrix\n",
        "The result is telling us that we have 39455+456 correct predictions and 4833+467 incorrect predictions.\n",
        "\n",
        "2 - Accuracy == 84%\n",
        "Of the entire data set, 84% of the clients will subcribe\n",
        "\n"
      ],
      "metadata": {
        "id": "sYUv2rDo9p3p"
      }
    },
    {
      "cell_type": "code",
      "source": [
        ""
      ],
      "metadata": {
        "id": "skTP-v6-9huV"
      },
      "execution_count": null,
      "outputs": []
    }
  ]
}