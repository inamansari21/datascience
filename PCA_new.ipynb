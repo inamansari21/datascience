{
  "nbformat": 4,
  "nbformat_minor": 0,
  "metadata": {
    "colab": {
      "name": "PCA new.ipynb",
      "provenance": [],
      "authorship_tag": "ABX9TyOmxkOFpZ97UApJjplY4pcj",
      "include_colab_link": true
    },
    "kernelspec": {
      "name": "python3",
      "display_name": "Python 3"
    },
    "language_info": {
      "name": "python"
    }
  },
  "cells": [
    {
      "cell_type": "markdown",
      "metadata": {
        "id": "view-in-github",
        "colab_type": "text"
      },
      "source": [
        "<a href=\"https://colab.research.google.com/github/inamansari21/datascience/blob/main/PCA_new.ipynb\" target=\"_parent\"><img src=\"https://colab.research.google.com/assets/colab-badge.svg\" alt=\"Open In Colab\"/></a>"
      ]
    },
    {
      "cell_type": "code",
      "execution_count": null,
      "metadata": {
        "id": "46EC2RQCWSrO"
      },
      "outputs": [],
      "source": [
        "import numpy as np\n",
        "import pandas as pd\n",
        "from matplotlib import pyplot as plt\n",
        "from sklearn.cluster import KMeans\n",
        "from sklearn.preprocessing import StandardScaler\n",
        "from sklearn import preprocessing\n",
        "import seaborn as sns\n",
        "from sklearn.decomposition import PCA\n",
        "import scipy.cluster.hierarchy as sch\n",
        "from sklearn.cluster import AgglomerativeClustering\n",
        "from scipy.cluster.hierarchy import linkage\n"
      ]
    },
    {
      "cell_type": "code",
      "source": [
        "df = pd.read_csv(\"wine.csv\")\n"
      ],
      "metadata": {
        "id": "dAE92mZIWcnd"
      },
      "execution_count": null,
      "outputs": []
    },
    {
      "cell_type": "code",
      "source": [
        "df1 = df.iloc[:, 1:]\n"
      ],
      "metadata": {
        "id": "392sWn4iWsgS"
      },
      "execution_count": null,
      "outputs": []
    },
    {
      "cell_type": "code",
      "source": [
        "df1.head()\n"
      ],
      "metadata": {
        "id": "Fs6LehsrWv1n"
      },
      "execution_count": null,
      "outputs": []
    },
    {
      "cell_type": "code",
      "source": [
        "df1.describe()\n"
      ],
      "metadata": {
        "id": "3eMnz7jfW0DT"
      },
      "execution_count": null,
      "outputs": []
    },
    {
      "cell_type": "markdown",
      "source": [
        "# **finding correlation**"
      ],
      "metadata": {
        "id": "0WMdd-T8W9uf"
      }
    },
    {
      "cell_type": "code",
      "source": [
        "cor = df1.corr()\n"
      ],
      "metadata": {
        "id": "bg0Z2KhNW4Xb"
      },
      "execution_count": null,
      "outputs": []
    },
    {
      "cell_type": "code",
      "source": [
        "cor.style.background_gradient(cmap='coolwarm')\n"
      ],
      "metadata": {
        "id": "B1TcAuuwXGpG"
      },
      "execution_count": null,
      "outputs": []
    },
    {
      "cell_type": "markdown",
      "source": [
        "There are some quite correlation between variables. For example the correlation between flavanoids and dilution is pretty high (78%). Thus we can remove that variable from our dataset. However this method is long and tedious. Hence we PCA method for Dimensionality Reduction\n"
      ],
      "metadata": {
        "id": "1iEZvNJZXeJF"
      }
    },
    {
      "cell_type": "markdown",
      "source": [
        "# ** Dimensionality Reduction with PCA**"
      ],
      "metadata": {
        "id": "E-O5WGCNXWxb"
      }
    },
    {
      "cell_type": "code",
      "source": [
        "df_norm = StandardScaler().fit_transform(df1) # normalizing the data \n"
      ],
      "metadata": {
        "id": "5yP3ql5fXJZ_"
      },
      "execution_count": null,
      "outputs": []
    },
    {
      "cell_type": "code",
      "source": [
        "pca = PCA(n_components=13)\n"
      ],
      "metadata": {
        "id": "U6x1tQr6Xll1"
      },
      "execution_count": null,
      "outputs": []
    },
    {
      "cell_type": "code",
      "source": [
        "principalComponents = pca.fit_transform(df_norm)\n"
      ],
      "metadata": {
        "id": "RKr6S9zLXok0"
      },
      "execution_count": null,
      "outputs": []
    },
    {
      "cell_type": "code",
      "source": [
        "PC = range(1, pca.n_components_+1)\n",
        "plt.bar(PC, pca.explained_variance_ratio_, color='blue')\n",
        "plt.xlabel('Principal Components')\n",
        "plt.ylabel('Variance %')\n",
        "plt.xticks(PC)\n"
      ],
      "metadata": {
        "id": "5MuVda7HXrEp"
      },
      "execution_count": null,
      "outputs": []
    },
    {
      "cell_type": "code",
      "source": [
        "PCA_components = pd.DataFrame(principalComponents)\n"
      ],
      "metadata": {
        "id": "H39Z4YEmXuPO"
      },
      "execution_count": null,
      "outputs": []
    },
    {
      "cell_type": "code",
      "source": [
        "plt.scatter(PCA_components[0], PCA_components[1], alpha=.3, color='blue')\n",
        "plt.xlabel('PCA 1')\n",
        "plt.ylabel('PCA 2')\n",
        "plt.show()\n"
      ],
      "metadata": {
        "id": "qEDx35ODXyiJ"
      },
      "execution_count": null,
      "outputs": []
    },
    {
      "cell_type": "markdown",
      "source": [
        "As shown in the bar graph, the most of varianve is put in the first 2 components. Since there is not much variance present from 3rd component, lets just the first 2 componets in our analysis. The scatter plot given an indication that there may be 3 clusters present\n"
      ],
      "metadata": {
        "id": "fmFnEE-cX9II"
      }
    },
    {
      "cell_type": "markdown",
      "source": [
        "# **Finding the  number of clusters**"
      ],
      "metadata": {
        "id": "h_mTq9mFX-kY"
      }
    },
    {
      "cell_type": "code",
      "source": [
        "wcss = []\n"
      ],
      "metadata": {
        "id": "4Mwn5mMpX20K"
      },
      "execution_count": null,
      "outputs": []
    },
    {
      "cell_type": "code",
      "source": [
        "for i in range(1, 15):\n",
        "    kmeans = KMeans(n_clusters = i, init = 'k-means++', random_state = 42)\n",
        "    kmeans.fit(PCA_components.iloc[:,:3])\n",
        "    wcss.append(kmeans.inertia_)\n"
      ],
      "metadata": {
        "id": "ra82nbNbYQ-6"
      },
      "execution_count": null,
      "outputs": []
    },
    {
      "cell_type": "code",
      "source": [
        "plt.plot(range(1, 15), wcss)\n",
        "plt.title('The Elbow Method')\n",
        "plt.xlabel('Number of clusters')\n",
        "plt.ylabel('WCSS')\n",
        "plt.show()\n"
      ],
      "metadata": {
        "id": "ffY18YTlYb5N"
      },
      "execution_count": null,
      "outputs": []
    },
    {
      "cell_type": "markdown",
      "source": [
        "The scree plot levels off at k=3 and let's use it to determine the clusters\n"
      ],
      "metadata": {
        "id": "qviyvqalYlw-"
      }
    },
    {
      "cell_type": "markdown",
      "source": [
        "# **k - clusters**"
      ],
      "metadata": {
        "id": "pLrFKj_SYpen"
      }
    },
    {
      "cell_type": "code",
      "source": [
        "model = KMeans(n_clusters=3)\n",
        "model.fit(PCA_components.iloc[:,:2])\n"
      ],
      "metadata": {
        "id": "yTBNVNy4YfYP"
      },
      "execution_count": null,
      "outputs": []
    },
    {
      "cell_type": "code",
      "source": [
        "labels = model.predict(PCA_components.iloc[:,:2])\n"
      ],
      "metadata": {
        "id": "UqFnalACYx3Y"
      },
      "execution_count": null,
      "outputs": []
    },
    {
      "cell_type": "code",
      "source": [
        "plt.scatter(PCA_components[0], PCA_components[1], c=labels)\n",
        "plt.show()\n"
      ],
      "metadata": {
        "id": "b8480Ma7Y3k-"
      },
      "execution_count": null,
      "outputs": []
    },
    {
      "cell_type": "code",
      "source": [
        "k_new_df=pd.DataFrame(principalComponents[:,0:2])\n"
      ],
      "metadata": {
        "id": "Jhj-mxCFY6rw"
      },
      "execution_count": null,
      "outputs": []
    },
    {
      "cell_type": "code",
      "source": [
        "model_k = KMeans(n_clusters=3)\n",
        "model_k.fit(k_new_df)\n"
      ],
      "metadata": {
        "id": "IYWcMaFZY_Sw"
      },
      "execution_count": null,
      "outputs": []
    },
    {
      "cell_type": "code",
      "source": [
        "model_k.labels_\n"
      ],
      "metadata": {
        "id": "vgAKirAbZCTC"
      },
      "execution_count": null,
      "outputs": []
    },
    {
      "cell_type": "code",
      "source": [
        "md=pd.Series(model_k.labels_)\n"
      ],
      "metadata": {
        "id": "5RGnbkfZZFXN"
      },
      "execution_count": null,
      "outputs": []
    },
    {
      "cell_type": "code",
      "source": [
        "df1['clust']=md\n"
      ],
      "metadata": {
        "id": "I-7HLTJQZJhx"
      },
      "execution_count": null,
      "outputs": []
    },
    {
      "cell_type": "code",
      "source": [
        "k_new_df.head()\n"
      ],
      "metadata": {
        "id": "dz4gm1j3ZLpR"
      },
      "execution_count": null,
      "outputs": []
    },
    {
      "cell_type": "code",
      "source": [
        "df1.groupby(df1.clust).mean()\n"
      ],
      "metadata": {
        "id": "5IR314PNZNhp"
      },
      "execution_count": null,
      "outputs": []
    },
    {
      "cell_type": "markdown",
      "source": [
        "# **H-Clusters**"
      ],
      "metadata": {
        "id": "VBxiZM5wZUxa"
      }
    },
    {
      "cell_type": "code",
      "source": [
        "model2 = AgglomerativeClustering(n_clusters=3, affinity='euclidean', linkage='ward')\n"
      ],
      "metadata": {
        "id": "TXWdGtbDZQN_"
      },
      "execution_count": null,
      "outputs": []
    },
    {
      "cell_type": "code",
      "source": [
        "h_cluster = model2.fit(PCA_components.iloc[:,:2])\n"
      ],
      "metadata": {
        "id": "yy255j-KZdIv"
      },
      "execution_count": null,
      "outputs": []
    },
    {
      "cell_type": "code",
      "source": [
        "labels2 = model2.labels_\n"
      ],
      "metadata": {
        "id": "MYDsazqoZfZN"
      },
      "execution_count": null,
      "outputs": []
    },
    {
      "cell_type": "code",
      "source": [
        "X = PCA_components.iloc[:,:1]\n",
        "Y = PCA_components.iloc[:,1:2]\n"
      ],
      "metadata": {
        "id": "9N2ZrOVkZhuV"
      },
      "execution_count": null,
      "outputs": []
    },
    {
      "cell_type": "code",
      "source": [
        "plt.figure(figsize=(10, 7))  \n",
        "plt.scatter(X, Y, c=labels2) \n"
      ],
      "metadata": {
        "id": "G9k9DNV3Zke6"
      },
      "execution_count": null,
      "outputs": []
    },
    {
      "cell_type": "code",
      "source": [
        "h_new_df=pd.DataFrame(principalComponents[:,0:2])\n"
      ],
      "metadata": {
        "id": "-uUS3BNrZoa7"
      },
      "execution_count": null,
      "outputs": []
    },
    {
      "cell_type": "code",
      "source": [
        "h_new_df.head()\n"
      ],
      "metadata": {
        "id": "VuJw-ysFZth0"
      },
      "execution_count": null,
      "outputs": []
    },
    {
      "cell_type": "code",
      "source": [
        "hcf = linkage(h_new_df,method=\"complete\",metric=\"euclidean\")\n"
      ],
      "metadata": {
        "id": "4h2-vqWTZvwd"
      },
      "execution_count": null,
      "outputs": []
    },
    {
      "cell_type": "code",
      "source": [
        "plt.figure(figsize=(15, 5));plt.title('Hierarchical Clustering Dendrogram');plt.xlabel('Index');plt.ylabel('Distance')\n",
        "sch.dendrogram(\n",
        "    hcf,\n",
        "    leaf_rotation=0.,\n",
        "    leaf_font_size=8.,\n",
        ")\n",
        "plt.show()\n"
      ],
      "metadata": {
        "id": "6UCSJBlOZyqw"
      },
      "execution_count": null,
      "outputs": []
    },
    {
      "cell_type": "code",
      "source": [
        "h_complete = AgglomerativeClustering(n_clusters=5,linkage='complete',affinity = \"euclidean\").fit(h_new_df) \n"
      ],
      "metadata": {
        "id": "6RboB8AKZ10S"
      },
      "execution_count": null,
      "outputs": []
    },
    {
      "cell_type": "code",
      "source": [
        "h_complete.labels_\n"
      ],
      "metadata": {
        "id": "rRLG5CqoZ6FU"
      },
      "execution_count": null,
      "outputs": []
    },
    {
      "cell_type": "code",
      "source": [
        "cluster_labels=pd.Series(h_complete.labels_)\n"
      ],
      "metadata": {
        "id": "D1IAWZL8Z8gm"
      },
      "execution_count": null,
      "outputs": []
    },
    {
      "cell_type": "code",
      "source": [
        "df1['clust']=cluster_labels\n"
      ],
      "metadata": {
        "id": "trOnEq_hZ-_3"
      },
      "execution_count": null,
      "outputs": []
    },
    {
      "cell_type": "code",
      "source": [
        "df1.head()\n"
      ],
      "metadata": {
        "id": "2Ud0LqnyaBdV"
      },
      "execution_count": null,
      "outputs": []
    },
    {
      "cell_type": "code",
      "source": [
        "df1.groupby(df1.clust).mean()\n"
      ],
      "metadata": {
        "id": "h1PfhIuwaD38"
      },
      "execution_count": null,
      "outputs": []
    },
    {
      "cell_type": "markdown",
      "source": [
        "## Conclusion\n",
        "Using PCA we reduced the variables to only 2 from 13 and use clustering classification, we can safely assume that there exists 3 cluster in the wine data sets\n",
        "\n"
      ],
      "metadata": {
        "id": "Y3DNPKKxaL5n"
      }
    },
    {
      "cell_type": "code",
      "source": [
        ""
      ],
      "metadata": {
        "id": "F1FrndRQaGym"
      },
      "execution_count": null,
      "outputs": []
    }
  ]
}