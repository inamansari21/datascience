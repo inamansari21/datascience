{
  "nbformat": 4,
  "nbformat_minor": 0,
  "metadata": {
    "colab": {
      "name": "MLR Toyota new.ipynb",
      "provenance": [],
      "authorship_tag": "ABX9TyMpq5qy2PNGXXWMZmZUWuZV",
      "include_colab_link": true
    },
    "kernelspec": {
      "name": "python3",
      "display_name": "Python 3"
    },
    "language_info": {
      "name": "python"
    }
  },
  "cells": [
    {
      "cell_type": "markdown",
      "metadata": {
        "id": "view-in-github",
        "colab_type": "text"
      },
      "source": [
        "<a href=\"https://colab.research.google.com/github/inamansari21/datascience/blob/main/MLR_Toyota_new.ipynb\" target=\"_parent\"><img src=\"https://colab.research.google.com/assets/colab-badge.svg\" alt=\"Open In Colab\"/></a>"
      ]
    },
    {
      "cell_type": "code",
      "execution_count": null,
      "metadata": {
        "id": "vPS963m1tNi1"
      },
      "outputs": [],
      "source": [
        "import pandas as pd\n",
        "import numpy as np\n",
        "import seaborn as sns\n",
        "import matplotlib.pyplot as  plt\n",
        "import statsmodels.formula.api as smf\n",
        "from statsmodels.graphics.regressionplots import influence_plot\n"
      ]
    },
    {
      "cell_type": "code",
      "source": [
        "data= pd.read_csv(\"ToyotaCorolla.csv\",encoding='latin1')\n"
      ],
      "metadata": {
        "id": "vOREfxehuYXZ"
      },
      "execution_count": null,
      "outputs": []
    },
    {
      "cell_type": "code",
      "source": [
        "data"
      ],
      "metadata": {
        "id": "0LJuHiXXuq4w"
      },
      "execution_count": null,
      "outputs": []
    },
    {
      "cell_type": "code",
      "source": [
        "data.info"
      ],
      "metadata": {
        "id": "vilbpyk5uuMt"
      },
      "execution_count": null,
      "outputs": []
    },
    {
      "cell_type": "code",
      "source": [
        "data.dtypes"
      ],
      "metadata": {
        "id": "OzaGQxYVu3as"
      },
      "execution_count": null,
      "outputs": []
    },
    {
      "cell_type": "code",
      "source": [
        "data['Price'].unique()\n"
      ],
      "metadata": {
        "id": "52f939B3u6yQ"
      },
      "execution_count": null,
      "outputs": []
    },
    {
      "cell_type": "code",
      "source": [
        "data['Age_08_04'].unique()\n"
      ],
      "metadata": {
        "id": "jp9ogQe7u_vT"
      },
      "execution_count": null,
      "outputs": []
    },
    {
      "cell_type": "markdown",
      "source": [
        "## by consedering the only important feature"
      ],
      "metadata": {
        "id": "CaABEY5XvHhS"
      }
    },
    {
      "cell_type": "code",
      "source": [
        "data=data[[\"Price\",\"Age_08_04\",\"KM\",\"HP\",\"cc\",\"Doors\",\"Gears\",\"Quarterly_Tax\",\"Weight\"]]\n"
      ],
      "metadata": {
        "id": "GxWhOf59vDbi"
      },
      "execution_count": null,
      "outputs": []
    },
    {
      "cell_type": "code",
      "source": [
        "data.head()\n"
      ],
      "metadata": {
        "id": "q_2Q3Y8DvQzV"
      },
      "execution_count": null,
      "outputs": []
    },
    {
      "cell_type": "code",
      "source": [
        "data.shape"
      ],
      "metadata": {
        "id": "5t7lKAHXvUeR"
      },
      "execution_count": null,
      "outputs": []
    },
    {
      "cell_type": "code",
      "source": [
        "data=data.rename({'Age_08_04':'Age_04_mnths','cc':'CC'},axis=1)\n"
      ],
      "metadata": {
        "id": "4zE-5xVCvXYC"
      },
      "execution_count": null,
      "outputs": []
    },
    {
      "cell_type": "code",
      "source": [
        "data"
      ],
      "metadata": {
        "id": "Gf__GuiFvf3O"
      },
      "execution_count": null,
      "outputs": []
    },
    {
      "cell_type": "code",
      "source": [
        "data.dtypes\n"
      ],
      "metadata": {
        "id": "SwbEooNevgb1"
      },
      "execution_count": null,
      "outputs": []
    },
    {
      "cell_type": "code",
      "source": [
        "data.describe()\n"
      ],
      "metadata": {
        "id": "aakxtiPlvkIc"
      },
      "execution_count": null,
      "outputs": []
    },
    {
      "cell_type": "markdown",
      "source": [
        "# business moments"
      ],
      "metadata": {
        "id": "OKyh1_UcvrYY"
      }
    },
    {
      "cell_type": "code",
      "source": [
        "data.mean()\n"
      ],
      "metadata": {
        "id": "e4N5R4VlvnRG"
      },
      "execution_count": null,
      "outputs": []
    },
    {
      "cell_type": "code",
      "source": [
        "data.median()\n"
      ],
      "metadata": {
        "id": "M2e6csGLvwYJ"
      },
      "execution_count": null,
      "outputs": []
    },
    {
      "cell_type": "code",
      "source": [
        "data.std()"
      ],
      "metadata": {
        "id": "oghVtKRgv0YP"
      },
      "execution_count": null,
      "outputs": []
    },
    {
      "cell_type": "code",
      "source": [
        "data.var()\n"
      ],
      "metadata": {
        "id": "dLbg7vtwv1ib"
      },
      "execution_count": null,
      "outputs": []
    },
    {
      "cell_type": "code",
      "source": [
        "data.skew()"
      ],
      "metadata": {
        "id": "ongRmxlgv4t-"
      },
      "execution_count": null,
      "outputs": []
    },
    {
      "cell_type": "code",
      "source": [
        "data.kurtosis()\n"
      ],
      "metadata": {
        "id": "bg2C0QEov6gH"
      },
      "execution_count": null,
      "outputs": []
    },
    {
      "cell_type": "markdown",
      "source": [
        "## Cheking for outliers"
      ],
      "metadata": {
        "id": "mVQ-TpczwGsU"
      }
    },
    {
      "cell_type": "code",
      "source": [
        "data.info()\n"
      ],
      "metadata": {
        "id": "DiJvHq_5wFIG"
      },
      "execution_count": null,
      "outputs": []
    },
    {
      "cell_type": "code",
      "source": [
        "data.isnull().sum()\n"
      ],
      "metadata": {
        "id": "alIV163owTcF"
      },
      "execution_count": null,
      "outputs": []
    },
    {
      "cell_type": "code",
      "source": [
        "sns.boxplot(data=data)\n"
      ],
      "metadata": {
        "id": "S0EKVxYBwWXi"
      },
      "execution_count": null,
      "outputs": []
    },
    {
      "cell_type": "code",
      "source": [
        "sns.boxplot(data.KM)\n"
      ],
      "metadata": {
        "id": "HudH6RsywaO9"
      },
      "execution_count": null,
      "outputs": []
    },
    {
      "cell_type": "code",
      "source": [
        "sns.boxplot(data.Price)\n"
      ],
      "metadata": {
        "id": "GobihCXQwcwv"
      },
      "execution_count": null,
      "outputs": []
    },
    {
      "cell_type": "code",
      "source": [
        "sns.boxplot(data.HP)\n"
      ],
      "metadata": {
        "id": "_Yq5OMYEwfge"
      },
      "execution_count": null,
      "outputs": []
    },
    {
      "cell_type": "code",
      "source": [
        "sns.boxplot(data.CC)\n"
      ],
      "metadata": {
        "id": "UKf4u4L6wh7v"
      },
      "execution_count": null,
      "outputs": []
    },
    {
      "cell_type": "code",
      "source": [
        "sns.boxplot(data.Age_04_mnths)\n"
      ],
      "metadata": {
        "id": "CGQsmgpQwkjd"
      },
      "execution_count": null,
      "outputs": []
    },
    {
      "cell_type": "code",
      "source": [
        "sns.boxplot(data.Weight)\n"
      ],
      "metadata": {
        "id": "jt4mMq_OwnJH"
      },
      "execution_count": null,
      "outputs": []
    },
    {
      "cell_type": "markdown",
      "source": [
        "## Plots and graphs"
      ],
      "metadata": {
        "id": "nbD2guNgwtWs"
      }
    },
    {
      "cell_type": "code",
      "source": [
        "sns.distplot(data['KM'])\n"
      ],
      "metadata": {
        "id": "3j3zYnLYwprV"
      },
      "execution_count": null,
      "outputs": []
    },
    {
      "cell_type": "code",
      "source": [
        "sns.distplot(data['Age_04_mnths'])\n"
      ],
      "metadata": {
        "id": "VRoWsjxEwx8J"
      },
      "execution_count": null,
      "outputs": []
    },
    {
      "cell_type": "code",
      "source": [
        "sns.distplot(data['Price'])\n"
      ],
      "metadata": {
        "id": "zz7pnkazw1dB"
      },
      "execution_count": null,
      "outputs": []
    },
    {
      "cell_type": "code",
      "source": [
        "sns.distplot(data['HP'])\n"
      ],
      "metadata": {
        "id": "BggBPdvAw36M"
      },
      "execution_count": null,
      "outputs": []
    },
    {
      "cell_type": "code",
      "source": [
        "sns.distplot(data['CC'])\n"
      ],
      "metadata": {
        "id": "4A2l1rM7w6el"
      },
      "execution_count": null,
      "outputs": []
    },
    {
      "cell_type": "code",
      "source": [
        "sns.distplot(data['Doors'])\n"
      ],
      "metadata": {
        "id": "BfEhpGyWw89Y"
      },
      "execution_count": null,
      "outputs": []
    },
    {
      "cell_type": "code",
      "source": [
        "sns.distplot(data['Gears'])\n"
      ],
      "metadata": {
        "id": "F5KxdJyFw_kz"
      },
      "execution_count": null,
      "outputs": []
    },
    {
      "cell_type": "code",
      "source": [
        "sns.distplot(data['Quarterly_Tax'])\n"
      ],
      "metadata": {
        "id": "k5T_ycXKxCLo"
      },
      "execution_count": null,
      "outputs": []
    },
    {
      "cell_type": "code",
      "source": [
        "sns.distplot(data['Weight'])\n"
      ],
      "metadata": {
        "id": "IbyOlJOYxE4D"
      },
      "execution_count": null,
      "outputs": []
    },
    {
      "cell_type": "markdown",
      "source": [
        "# CORRELATION between the variables"
      ],
      "metadata": {
        "id": "JZD83NoixLiM"
      }
    },
    {
      "cell_type": "code",
      "source": [
        "data.corr()\n"
      ],
      "metadata": {
        "id": "6Ssi5CKmxHlf"
      },
      "execution_count": null,
      "outputs": []
    },
    {
      "cell_type": "code",
      "source": [
        "sns.set_style(style='darkgrid')\n",
        "sns.pairplot(data)\n"
      ],
      "metadata": {
        "id": "Nt8DAG3LxWRw"
      },
      "execution_count": null,
      "outputs": []
    },
    {
      "cell_type": "markdown",
      "source": [
        "## Cheking for the best fit model OLS"
      ],
      "metadata": {
        "id": "5Zr_1mhsxhY0"
      }
    },
    {
      "cell_type": "code",
      "source": [
        "import statsmodels.formula.api as smf\n",
        "all_vars=smf.ols(\"Price~CC+HP+Age_04_mnths+KM+Gears+Doors+Quarterly_Tax+Weight\",data=data).fit()\n"
      ],
      "metadata": {
        "id": "tFap-AvVxZ_X"
      },
      "execution_count": null,
      "outputs": []
    },
    {
      "cell_type": "code",
      "source": [
        "all_vars.summary()#==> CC,Doors,\n"
      ],
      "metadata": {
        "id": "yzt6Ss6cxo5F"
      },
      "execution_count": null,
      "outputs": []
    },
    {
      "cell_type": "markdown",
      "source": [
        "Checking with CC with Dependent variable Using SlR techinque\n"
      ],
      "metadata": {
        "id": "77njGjafx32S"
      }
    },
    {
      "cell_type": "code",
      "source": [
        "with_CC=smf.ols(\"Price~CC\",data=data).fit()\n",
        "with_CC.summary()\n"
      ],
      "metadata": {
        "id": "wR_yugG7x2OH"
      },
      "execution_count": null,
      "outputs": []
    },
    {
      "cell_type": "code",
      "source": [
        "with_Doors=smf.ols(\"Price~Doors\",data=data).fit()\n",
        "with_Doors.summary()\n"
      ],
      "metadata": {
        "id": "6UWmoR0TyEoS"
      },
      "execution_count": null,
      "outputs": []
    },
    {
      "cell_type": "code",
      "source": [
        "with_both=smf.ols(\"Price~CC+Doors\",data=data).fit()\n",
        "with_both.summary()\n"
      ],
      "metadata": {
        "id": "H4I4SIxXyJnx"
      },
      "execution_count": null,
      "outputs": []
    },
    {
      "cell_type": "code",
      "source": [
        "out_weight=smf.ols(\"Price~+HP+Age_04_mnths+KM+Gears+Doors+Quarterly_Tax+CC\",data=data).fit()\n",
        "out_weight.summary()\n"
      ],
      "metadata": {
        "id": "unGIztYcyNOn"
      },
      "execution_count": null,
      "outputs": []
    },
    {
      "cell_type": "code",
      "source": [
        "out_quaterly=smf.ols(\"Price~CC+HP+Age_04_mnths+KM+Gears+Doors+Weight\",data=data).fit()\n",
        "out_quaterly.summary()\n"
      ],
      "metadata": {
        "id": "khcpSXkQyRWN"
      },
      "execution_count": null,
      "outputs": []
    },
    {
      "cell_type": "code",
      "source": [
        "out_doors=smf.ols(\"Price~CC+HP+Age_04_mnths+KM+Gears+Weight+Quarterly_Tax\",data=data).fit()\n",
        "out_doors.summary()\n"
      ],
      "metadata": {
        "id": "wMQELJkPyUwB"
      },
      "execution_count": null,
      "outputs": []
    },
    {
      "cell_type": "code",
      "source": [
        "out_cc=smf.ols(\"Price~HP+Age_04_mnths+KM+Gears+Doors+Quarterly_Tax+Weight\",data=data).fit()\n",
        "out_cc.summary()\n"
      ],
      "metadata": {
        "id": "Ad4XNir0ycH1"
      },
      "execution_count": null,
      "outputs": []
    },
    {
      "cell_type": "markdown",
      "source": [
        "## Calculating VIF"
      ],
      "metadata": {
        "id": "WI5B8hPBypYy"
      }
    },
    {
      "cell_type": "code",
      "source": [
        "rsq_cc=smf.ols(\"CC~Age_04_mnths+KM+HP+Doors+Gears+Quarterly_Tax+Weight\",data=data).fit().rsquared\n",
        "vif_cc=1/(1-rsq_cc)\n",
        "\n",
        "rsq_age=smf.ols(\"Age_04_mnths~CC+KM+HP+Doors+Gears+Quarterly_Tax+Weight\",data=data).fit().rsquared\n",
        "vif_age=1/(1-rsq_age)\n",
        "\n",
        "rsq_km=smf.ols(\"KM~Age_04_mnths+CC+HP+Doors+Gears+Quarterly_Tax+Weight\",data=data).fit().rsquared\n",
        "vif_km=1/(1-rsq_km)\n",
        "\n",
        "\n",
        "rsq_hp=smf.ols(\"HP~Age_04_mnths+KM+CC+Doors+Gears+Quarterly_Tax+Weight\",data=data).fit().rsquared\n",
        "vif_hp=1/(1-rsq_hp)\n",
        "\n",
        "\n",
        "rsq_doors=smf.ols(\"Doors~Age_04_mnths+KM+HP+CC+Gears+Quarterly_Tax+Weight\",data=data).fit().rsquared\n",
        "vif_doors=1/(1-rsq_doors)\n",
        "\n",
        "\n",
        "rsq_gear=smf.ols(\"Gears~Age_04_mnths+KM+HP+Doors+CC+Quarterly_Tax+Weight\",data=data).fit().rsquared\n",
        "vif_gear=1/(1-rsq_gear)\n",
        "\n",
        "\n",
        "rsq_quaterly=smf.ols(\"Quarterly_Tax~Age_04_mnths+KM+HP+Doors+Gears+CC+Weight\",data=data).fit().rsquared\n",
        "vif_quaterly=1/(1-rsq_quaterly)\n",
        "\n",
        "rsq_weight=smf.ols(\"Weight~+KM+HP+Doors+Gears+Quarterly_Tax+CC+Age_04_mnths+CC\",data=data).fit().rsquared\n",
        "vif_weight=1/(1-rsq_weight)"
      ],
      "metadata": {
        "id": "wvJeNteoyiz9"
      },
      "execution_count": null,
      "outputs": []
    },
    {
      "cell_type": "code",
      "source": [
        "d1=({'Variables':['CC','Age_04_mnths','KM','HP','Doors','Gears','Quarterly_Tax','Weight'],\n",
        "     'VIF' :[vif_cc,vif_age,vif_km,vif_hp,vif_doors,vif_gear,vif_quaterly,vif_weight]})\n"
      ],
      "metadata": {
        "id": "1X3YZk4Yyuav"
      },
      "execution_count": null,
      "outputs": []
    },
    {
      "cell_type": "code",
      "source": [
        "vif_frame=pd.DataFrame(d1)\n",
        "vif_frame\n"
      ],
      "metadata": {
        "id": "zmzOttlKyz56"
      },
      "execution_count": null,
      "outputs": []
    },
    {
      "cell_type": "markdown",
      "source": [
        "By Observing the VIF values in the above can say that there is NO Mutlicollinearity Probelem exist there is no VIF values more than 5 or 10 if the vif values are greater than 5 or 10 then it considerd as a problem of Multicollinearity\n",
        "\n"
      ],
      "metadata": {
        "id": "RabErDbHy7T3"
      }
    },
    {
      "cell_type": "markdown",
      "source": [
        "## Residual analysis"
      ],
      "metadata": {
        "id": "IsKBJB0BzA4y"
      }
    },
    {
      "cell_type": "code",
      "source": [
        "#QQ-plot\n",
        "import statsmodels.api as sm\n",
        "qqplot=sm.qqplot(all_vars.resid,line='q')\n",
        "plt.title(\"QQ-plot of with all Varibales\")\n",
        "plt.show()\n"
      ],
      "metadata": {
        "id": "pa3f9hQ2y25C"
      },
      "execution_count": null,
      "outputs": []
    },
    {
      "cell_type": "markdown",
      "source": [
        "from the above graph we observe that quantiles of Residualas ar moderately Normally distributed\n",
        "\n"
      ],
      "metadata": {
        "id": "Sqw7MTQnzJy0"
      }
    },
    {
      "cell_type": "code",
      "source": [
        "l1=list(np.where(all_vars.resid > 5000))\n",
        "l1## the cut off point for the above plot is at postive range ==> +5000\n"
      ],
      "metadata": {
        "id": "8ciQhBogzFgv"
      },
      "execution_count": null,
      "outputs": []
    },
    {
      "cell_type": "code",
      "source": [
        "l2=list(np.where(all_vars.resid < -6000)) \n",
        "l2\n",
        "## Cut of value of the negitve range is ==> -6000\n"
      ],
      "metadata": {
        "id": "sk_n4KwSzOD6"
      },
      "execution_count": null,
      "outputs": []
    },
    {
      "cell_type": "markdown",
      "source": [
        "the values of l1,l2  contains higher or lower values than usually  these are  treated as Outliers\n"
      ],
      "metadata": {
        "id": "OJpxpGpSzVu-"
      }
    },
    {
      "cell_type": "markdown",
      "source": [
        "# Residual plot for Hoscedasticity\n"
      ],
      "metadata": {
        "id": "nU_rxHWUzeOv"
      }
    },
    {
      "cell_type": "code",
      "source": [
        "def norm_data(x):\n",
        "    return(x-x.min())/(x.max()-x.min())\n"
      ],
      "metadata": {
        "id": "OEFsvuwMzRCm"
      },
      "execution_count": null,
      "outputs": []
    },
    {
      "cell_type": "code",
      "source": [
        "plt.scatter(norm_data(all_vars.fittedvalues),\n",
        "           norm_data(all_vars.resid))\n",
        "plt.show()\n"
      ],
      "metadata": {
        "id": "oUAM9sVyzmpE"
      },
      "execution_count": null,
      "outputs": []
    },
    {
      "cell_type": "markdown",
      "source": [
        "## Residual VS Regressor"
      ],
      "metadata": {
        "id": "61J3dVZdzudU"
      }
    },
    {
      "cell_type": "code",
      "source": [
        "fig = plt.figure(figsize=(15,8))\n",
        "fig = sm.graphics.plot_regress_exog(all_vars, \"Age_04_mnths\",fig=fig)\n",
        "plt.show()\n"
      ],
      "metadata": {
        "id": "X2vzHWMezpOo"
      },
      "execution_count": null,
      "outputs": []
    },
    {
      "cell_type": "code",
      "source": [
        "fig = plt.figure(figsize=(15,8))\n",
        "fig = sm.graphics.plot_regress_exog(all_vars, \"Gears\",fig=fig)\n",
        "plt.show()\n"
      ],
      "metadata": {
        "id": "d9l__2VBz2sA"
      },
      "execution_count": null,
      "outputs": []
    },
    {
      "cell_type": "code",
      "source": [
        "fig = plt.figure(figsize=(15,8))\n",
        "fig = sm.graphics.plot_regress_exog(all_vars, \"Doors\",fig=fig)\n",
        "plt.show()\n"
      ],
      "metadata": {
        "id": "OfVscooFz6dL"
      },
      "execution_count": null,
      "outputs": []
    },
    {
      "cell_type": "code",
      "source": [
        "fig = plt.figure(figsize=(15,8))\n",
        "fig = sm.graphics.plot_regress_exog(all_vars, \"KM\",fig=fig)\n",
        "plt.show()\n"
      ],
      "metadata": {
        "id": "CJXTAZQIz9nD"
      },
      "execution_count": null,
      "outputs": []
    },
    {
      "cell_type": "code",
      "source": [
        "fig = plt.figure(figsize=(15,8))\n",
        "fig = sm.graphics.plot_regress_exog(all_vars, \"HP\",fig=fig)\n",
        "plt.show()\n"
      ],
      "metadata": {
        "id": "lRMqgUrh0BMM"
      },
      "execution_count": null,
      "outputs": []
    },
    {
      "cell_type": "code",
      "source": [
        "fig = plt.figure(figsize=(15,8))\n",
        "fig = sm.graphics.plot_regress_exog(all_vars, \"Weight\",fig=fig)\n",
        "plt.show()\n"
      ],
      "metadata": {
        "id": "7_5NSrKf0EtH"
      },
      "execution_count": null,
      "outputs": []
    },
    {
      "cell_type": "code",
      "source": [
        "fig = plt.figure(figsize=(15,8))\n",
        "fig = sm.graphics.plot_regress_exog(all_vars, \"CC\",fig=fig)\n",
        "plt.show()\n"
      ],
      "metadata": {
        "id": "5lgoTnul0IHq"
      },
      "execution_count": null,
      "outputs": []
    },
    {
      "cell_type": "code",
      "source": [
        "fig = plt.figure(figsize=(15,8))\n",
        "fig = sm.graphics.plot_regress_exog(all_vars, \"Quarterly_Tax\",fig=fig)\n",
        "plt.show()\n"
      ],
      "metadata": {
        "id": "4flirgYI0LfK"
      },
      "execution_count": null,
      "outputs": []
    },
    {
      "cell_type": "code",
      "source": [
        "#y=data['Price']\n",
        "#x=data[['Age_04_mnths','KM','HP','CC','Doors','Gears','Quarterly_Tax','Weight']]\n"
      ],
      "metadata": {
        "id": "elPNh6uz0O_x"
      },
      "execution_count": null,
      "outputs": []
    },
    {
      "cell_type": "markdown",
      "source": [
        "# Model Deletion Diagnostics\n",
        "\n",
        "Finding Influential variables and Outliers Cooks Distance\n",
        "\n"
      ],
      "metadata": {
        "id": "Yphp-PhV0XiO"
      }
    },
    {
      "cell_type": "code",
      "source": [
        "#cooks distance\n",
        "model_influence=all_vars.get_influence()\n",
        "(c,_)=model_influence.cooks_distance\n"
      ],
      "metadata": {
        "id": "L7VCPm-N0Vcc"
      },
      "execution_count": null,
      "outputs": []
    },
    {
      "cell_type": "code",
      "source": [
        "fig=plt.subplots(figsize=(15,10))\n",
        "plt.stem(np.arange(len(data)),np.round(c, 3))\n",
        "plt.xlabel('Row-Index')\n",
        "plt.ylabel('Cooks Distance')\n",
        "plt.show()\n"
      ],
      "metadata": {
        "id": "trZ6GyjY0hkz"
      },
      "execution_count": null,
      "outputs": []
    },
    {
      "cell_type": "code",
      "source": [
        "(np.argmax(c),np.max(c))\n"
      ],
      "metadata": {
        "id": "N24IFivz0lWT"
      },
      "execution_count": null,
      "outputs": []
    },
    {
      "cell_type": "markdown",
      "source": [
        "Here the data point 80 is high inflential observatrions when compared to normal data\n",
        "\n"
      ],
      "metadata": {
        "id": "2clnlqKM0rTu"
      }
    },
    {
      "cell_type": "code",
      "source": [
        "##influene plot\n",
        "\n",
        "influence_plot(all_vars)\n",
        "plt.show()\n"
      ],
      "metadata": {
        "id": "5EHBkREB0oKw"
      },
      "execution_count": null,
      "outputs": []
    },
    {
      "cell_type": "code",
      "source": [
        "##calculate Leverage value\n",
        "data.shape\n"
      ],
      "metadata": {
        "id": "A5Lx3aSG0udO"
      },
      "execution_count": null,
      "outputs": []
    },
    {
      "cell_type": "code",
      "source": [
        "k=data.shape[1]\n",
        "n=data.shape[0]\n",
        "levrage_cutoff=3*((k +1)/n)\n",
        "levrage_cutoff\n"
      ],
      "metadata": {
        "id": "zlYT3Mp00xtO"
      },
      "execution_count": null,
      "outputs": []
    },
    {
      "cell_type": "markdown",
      "source": [
        "The value greater than 0.20891 those values are cosniderd as influential or outliers Need to take an action\n",
        "\n"
      ],
      "metadata": {
        "id": "jpTHF6nU03qx"
      }
    },
    {
      "cell_type": "markdown",
      "source": [
        "## Improving the model"
      ],
      "metadata": {
        "id": "ww1iNxXv060a"
      }
    },
    {
      "cell_type": "code",
      "source": [
        "data[data.index.isin([80])]\n"
      ],
      "metadata": {
        "id": "k3UAryyd00oQ"
      },
      "execution_count": null,
      "outputs": []
    },
    {
      "cell_type": "code",
      "source": [
        "data.head(6)\n"
      ],
      "metadata": {
        "id": "JxDhevj31CEn"
      },
      "execution_count": null,
      "outputs": []
    },
    {
      "cell_type": "markdown",
      "source": [
        "By observing the above influential observation with data usually \"CC \" has Higher value when compared to others\n",
        "\n"
      ],
      "metadata": {
        "id": "6JXQ_0l81IfJ"
      }
    },
    {
      "cell_type": "code",
      "source": [
        "df=data.drop(data.index[[80]],axis=0).reset_index()\n",
        "df"
      ],
      "metadata": {
        "id": "PgKL9siO1FTc"
      },
      "execution_count": null,
      "outputs": []
    },
    {
      "cell_type": "markdown",
      "source": [
        "## Building the model"
      ],
      "metadata": {
        "id": "gcOwtqQx2d5A"
      }
    },
    {
      "cell_type": "code",
      "source": [
        "final_model=smf.ols(\"Price~CC+HP+Age_04_mnths+KM+Gears+Doors+Quarterly_Tax+Weight\",data=df).fit()\n",
        "final_model.summary()\n"
      ],
      "metadata": {
        "id": "HUf5lOVA2PQH"
      },
      "execution_count": null,
      "outputs": []
    },
    {
      "cell_type": "code",
      "source": [
        "final_model.rsquared,final_model.aic\n"
      ],
      "metadata": {
        "id": "VynO5wnL2iKE"
      },
      "execution_count": null,
      "outputs": []
    },
    {
      "cell_type": "code",
      "source": [
        "#droping Doors\n",
        "final_model1=smf.ols(\"Price~CC+HP+Age_04_mnths+KM+Gears+Quarterly_Tax+Weight\",data=df).fit()\n",
        "final_model1.summary()\n"
      ],
      "metadata": {
        "id": "5vzPHqzO2mJ0"
      },
      "execution_count": null,
      "outputs": []
    },
    {
      "cell_type": "code",
      "source": [
        "final_model1.rsquared,final_model1.aic\n"
      ],
      "metadata": {
        "id": "Dc5Dmg8y2rHp"
      },
      "execution_count": null,
      "outputs": []
    },
    {
      "cell_type": "markdown",
      "source": [
        "## By Observing the \"final_model1\" model has low Aic value and Same R2 and Same Adjusted R2 values in my case \"doors\" are not that much important feature to predict the price while compared to other features"
      ],
      "metadata": {
        "id": "gp9dNO5t2zi5"
      }
    },
    {
      "cell_type": "code",
      "source": [
        ""
      ],
      "metadata": {
        "id": "4mGxBpY42vFZ"
      },
      "execution_count": null,
      "outputs": []
    }
  ]
}