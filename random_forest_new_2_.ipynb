{
  "nbformat": 4,
  "nbformat_minor": 0,
  "metadata": {
    "colab": {
      "name": "random forest new 2..ipynb",
      "provenance": [],
      "collapsed_sections": [],
      "authorship_tag": "ABX9TyPLwU5uVlpWpz80mgCXzrc9",
      "include_colab_link": true
    },
    "kernelspec": {
      "name": "python3",
      "display_name": "Python 3"
    },
    "language_info": {
      "name": "python"
    }
  },
  "cells": [
    {
      "cell_type": "markdown",
      "metadata": {
        "id": "view-in-github",
        "colab_type": "text"
      },
      "source": [
        "<a href=\"https://colab.research.google.com/github/inamansari21/datascience/blob/main/random_forest_new_2_.ipynb\" target=\"_parent\"><img src=\"https://colab.research.google.com/assets/colab-badge.svg\" alt=\"Open In Colab\"/></a>"
      ]
    },
    {
      "cell_type": "code",
      "execution_count": null,
      "metadata": {
        "id": "LVB0NgbYvNxE"
      },
      "outputs": [],
      "source": [
        "import pandas as pd\n",
        "import numpy as np\n",
        "import matplotlib.pyplot as plt\n",
        "from sklearn import preprocessing\n",
        "from sklearn.model_selection import train_test_split\n",
        "from sklearn import datasets,tree\n",
        "from sklearn.tree import export_graphviz \n",
        "from sklearn import externals\n",
        "from io import StringIO\n",
        "import pydotplus\n",
        "import seaborn as sns\n",
        "from sklearn.ensemble import RandomForestClassifier as RF\n",
        "from sklearn.metrics import accuracy_score\n",
        "from sklearn.metrics import confusion_matrix\n",
        "import matplotlib.image as mpimg \n",
        "import matplotlib.pyplot as plt\n"
      ]
    },
    {
      "cell_type": "code",
      "source": [
        "df = pd.read_csv(\"Fraud_check.csv\")\n"
      ],
      "metadata": {
        "id": "jfhpBiVSvmkZ"
      },
      "execution_count": null,
      "outputs": []
    },
    {
      "cell_type": "code",
      "source": [
        "df1 = df.copy()\n"
      ],
      "metadata": {
        "id": "35_JUkDCv5yR"
      },
      "execution_count": null,
      "outputs": []
    },
    {
      "cell_type": "code",
      "source": [
        "df1.head()"
      ],
      "metadata": {
        "id": "WTTTbjYJv9rJ"
      },
      "execution_count": null,
      "outputs": []
    },
    {
      "cell_type": "code",
      "source": [
        "df1.describe()\n"
      ],
      "metadata": {
        "id": "ph8oOTKtv_iv"
      },
      "execution_count": null,
      "outputs": []
    },
    {
      "cell_type": "code",
      "source": [
        "df1.isnull().sum()\n"
      ],
      "metadata": {
        "id": "S7-5ClDGwDsA"
      },
      "execution_count": null,
      "outputs": []
    },
    {
      "cell_type": "code",
      "source": [
        "df1.dtypes\n"
      ],
      "metadata": {
        "id": "LuhqVrNrwJ8H"
      },
      "execution_count": null,
      "outputs": []
    },
    {
      "cell_type": "markdown",
      "source": [
        "# **checking outlier**"
      ],
      "metadata": {
        "id": "fCrN1xOgwQ2R"
      }
    },
    {
      "cell_type": "code",
      "source": [
        "ax = sns.boxplot(df1['Taxable.Income'])\n"
      ],
      "metadata": {
        "id": "_TZBkjgSwNLY"
      },
      "execution_count": null,
      "outputs": []
    },
    {
      "cell_type": "markdown",
      "source": [
        "there are no outliers in the data"
      ],
      "metadata": {
        "id": "_ZUS6YfgwbDf"
      }
    },
    {
      "cell_type": "code",
      "source": [
        "plt.rcParams[\"figure.figsize\"] = 9,5\n"
      ],
      "metadata": {
        "id": "sBrVGHZGwVgx"
      },
      "execution_count": null,
      "outputs": []
    },
    {
      "cell_type": "code",
      "source": [
        "plt.figure(figsize=(16,5))\n",
        "print(\"Skew: {}\".format(df1['Taxable.Income'].skew()))\n",
        "print(\"Kurtosis: {}\".format(df1['Taxable.Income'].kurtosis()))\n",
        "ax = sns.kdeplot(df1['Taxable.Income'],shade=True,color='g')\n",
        "plt.xticks([i for i in range(10000,100000,10000)])\n",
        "plt.show()"
      ],
      "metadata": {
        "id": "wbmsYVCWwjJ_"
      },
      "execution_count": null,
      "outputs": []
    },
    {
      "cell_type": "markdown",
      "source": [
        "The data is Skwed on the right.\n",
        "\n",
        "The data has negative Kurtosis\n"
      ],
      "metadata": {
        "id": "f0ekq6b6w3tA"
      }
    },
    {
      "cell_type": "code",
      "source": [
        "obj_colum = df1.select_dtypes(include='object').columns.tolist()\n"
      ],
      "metadata": {
        "id": "M2C95wbdwqag"
      },
      "execution_count": null,
      "outputs": []
    },
    {
      "cell_type": "code",
      "source": [
        "plt.figure(figsize=(16,10))\n",
        "for i,col in enumerate(obj_colum,1):\n",
        "    plt.subplot(2,2,i)\n",
        "    sns.countplot(data=df1,y=col)\n",
        "    plt.subplot(2,2,i+1)\n",
        "    df1[col].value_counts(normalize=True).plot.bar()\n",
        "    plt.ylabel(col)\n",
        "    plt.xlabel('% distribution per category')\n",
        "plt.tight_layout()\n",
        "plt.show()  \n"
      ],
      "metadata": {
        "id": "yuCwoNcyw8ln"
      },
      "execution_count": null,
      "outputs": []
    },
    {
      "cell_type": "code",
      "source": [
        "num_columns = df1.select_dtypes(exclude='object').columns.tolist()\n"
      ],
      "metadata": {
        "id": "ZxaHFPzQw_vw"
      },
      "execution_count": null,
      "outputs": []
    },
    {
      "cell_type": "code",
      "source": [
        "plt.figure(figsize=(18,40))\n",
        "for i,col in enumerate(num_columns,1):\n",
        "    plt.subplot(8,4,i)\n",
        "    sns.kdeplot(df[col],color='g',shade=True)\n",
        "    plt.subplot(8,4,i+10)\n",
        "    df[col].plot.box()\n",
        "plt.tight_layout() \n",
        "plt.show()\n",
        "num_data = df[num_columns]\n",
        "pd.DataFrame(data=[num_data.skew(),num_data.kurtosis()],index=['skewness','kurtosis'])\n"
      ],
      "metadata": {
        "id": "bzkenZd6xE8j"
      },
      "execution_count": null,
      "outputs": []
    },
    {
      "cell_type": "code",
      "source": [
        "num_columns = df1.select_dtypes(exclude='object').columns.tolist()\n"
      ],
      "metadata": {
        "id": "vj6lFgxKxg1G"
      },
      "execution_count": null,
      "outputs": []
    },
    {
      "cell_type": "code",
      "source": [
        "plt.figure(figsize=(18,40))\n",
        "for i,col in enumerate(num_columns,1):\n",
        "    plt.subplot(8,4,i)\n",
        "    sns.kdeplot(df[col],color='g',shade=True)\n",
        "    plt.subplot(8,4,i+10)\n",
        "    df[col].plot.box()\n",
        "plt.tight_layout() \n",
        "plt.show()\n",
        "num_data = df[num_columns]\n",
        "pd.DataFrame(data=[num_data.skew(),num_data.kurtosis()],index=['skewness','kurtosis'])\n"
      ],
      "metadata": {
        "id": "byP9gjokxhWc"
      },
      "execution_count": null,
      "outputs": []
    },
    {
      "cell_type": "code",
      "source": [
        "df1 = pd.get_dummies(df1, columns = ['Undergrad','Marital.Status','Urban'])\n"
      ],
      "metadata": {
        "id": "wFMV3Nj-xn6C"
      },
      "execution_count": null,
      "outputs": []
    },
    {
      "cell_type": "code",
      "source": [
        "corr = df1.corr()\n"
      ],
      "metadata": {
        "id": "jtwsNHDMxukw"
      },
      "execution_count": null,
      "outputs": []
    },
    {
      "cell_type": "code",
      "source": [
        "corr = df1.corr()\n"
      ],
      "metadata": {
        "id": "zc_iHRJ2xxNW"
      },
      "execution_count": null,
      "outputs": []
    },
    {
      "cell_type": "code",
      "source": [
        "plt.figure(figsize=(10,10))\n",
        "sns.heatmap(corr,annot=True)\n"
      ],
      "metadata": {
        "id": "NS1whLeHxzOj"
      },
      "execution_count": null,
      "outputs": []
    },
    {
      "cell_type": "code",
      "source": [
        ""
      ],
      "metadata": {
        "id": "wYSkcHZ9x2Vu"
      },
      "execution_count": null,
      "outputs": []
    },
    {
      "cell_type": "markdown",
      "source": [
        "## Random Forest Model\n",
        "Since the target variable is continious, we create a class of taxable_income <= 30000 as \"Risky\" and others are \"Good\"\n"
      ],
      "metadata": {
        "id": "t8DgoZTOx-KR"
      }
    },
    {
      "cell_type": "code",
      "source": [
        "df1['Taxable.Income']=pd.cut(df1['Taxable.Income'],bins=[0,30000,100000],labels=['risky','good'])\n"
      ],
      "metadata": {
        "id": "ocKFolE-yAqk"
      },
      "execution_count": null,
      "outputs": []
    },
    {
      "cell_type": "code",
      "source": [
        "list(df1.columns)\n"
      ],
      "metadata": {
        "id": "Hg4fEMHeyEmS"
      },
      "execution_count": null,
      "outputs": []
    },
    {
      "cell_type": "code",
      "source": [
        "X = df1.iloc[:,1:10]\n",
        "y = df1.iloc[:,0]\n"
      ],
      "metadata": {
        "id": "YreTUXgPyHGj"
      },
      "execution_count": null,
      "outputs": []
    },
    {
      "cell_type": "code",
      "source": [
        "x_train,x_test,y_train,y_test = train_test_split(X,y,test_size = 0.2)\n"
      ],
      "metadata": {
        "id": "xcepnVjeyKWo"
      },
      "execution_count": null,
      "outputs": []
    },
    {
      "cell_type": "code",
      "source": [
        "y_train.value_counts()\n"
      ],
      "metadata": {
        "id": "LNGrvrJc45ly"
      },
      "execution_count": null,
      "outputs": []
    },
    {
      "cell_type": "code",
      "source": [
        "model =RF(n_jobs=4,n_estimators = 150, oob_score =True,criterion ='entropy') \n",
        "model.fit(x_train,y_train)\n",
        "model.oob_score_\n"
      ],
      "metadata": {
        "id": "sCP5DQPx5CK-"
      },
      "execution_count": null,
      "outputs": []
    },
    {
      "cell_type": "code",
      "source": [
        "pred_train = model.predict(x_train)\n"
      ],
      "metadata": {
        "id": "76qesi9s5For"
      },
      "execution_count": null,
      "outputs": []
    },
    {
      "cell_type": "code",
      "source": [
        "accuracy_score(y_train,pred_train)\n"
      ],
      "metadata": {
        "id": "Vvhu40AZ5IKv"
      },
      "execution_count": null,
      "outputs": []
    },
    {
      "cell_type": "code",
      "source": [
        "confusion_matrix(y_train,pred_train)\n"
      ],
      "metadata": {
        "id": "yw4qnA0E5K69"
      },
      "execution_count": null,
      "outputs": []
    },
    {
      "cell_type": "code",
      "source": [
        "pred_test = model.predict(x_test)\n"
      ],
      "metadata": {
        "id": "d0ttPl9M5N1s"
      },
      "execution_count": null,
      "outputs": []
    },
    {
      "cell_type": "code",
      "source": [
        "accuracy_score(y_test,pred_test)\n"
      ],
      "metadata": {
        "id": "83or5BP25Qay"
      },
      "execution_count": null,
      "outputs": []
    },
    {
      "cell_type": "code",
      "source": [
        "confusion_matrix(y_test,pred_test)\n"
      ],
      "metadata": {
        "id": "U0aVm6rJ5S2f"
      },
      "execution_count": null,
      "outputs": []
    },
    {
      "cell_type": "code",
      "source": [
        "df_t=pd.DataFrame({'Actual':y_test, 'Predicted':pred_test})\n"
      ],
      "metadata": {
        "id": "a6q1Niyi5Uty"
      },
      "execution_count": null,
      "outputs": []
    },
    {
      "cell_type": "code",
      "source": [
        "df_t\n"
      ],
      "metadata": {
        "id": "cDCIaOCd5ZDo"
      },
      "execution_count": null,
      "outputs": []
    },
    {
      "cell_type": "code",
      "source": [
        "cols = list(df1.columns)\n"
      ],
      "metadata": {
        "id": "WbTu80Ko5bmL"
      },
      "execution_count": null,
      "outputs": []
    },
    {
      "cell_type": "code",
      "source": [
        "predictors = cols[1:10]\n",
        "target = cols[0]\n"
      ],
      "metadata": {
        "id": "XYOd9ls75fRl"
      },
      "execution_count": null,
      "outputs": []
    },
    {
      "cell_type": "code",
      "source": [
        "tree1 = model.estimators_[20]\n"
      ],
      "metadata": {
        "id": "XmGFe_Rq5hvL"
      },
      "execution_count": null,
      "outputs": []
    },
    {
      "cell_type": "code",
      "source": [
        "dot_data = StringIO()\n"
      ],
      "metadata": {
        "id": "9NHJJB4n5j4O"
      },
      "execution_count": null,
      "outputs": []
    },
    {
      "cell_type": "code",
      "source": [
        "export_graphviz(tree1, out_file = dot_data, feature_names =predictors, class_names = target, filled =True,rounded=True,impurity =False,proportion=False,precision =2)\n"
      ],
      "metadata": {
        "id": "sBaMHAQP5mP0"
      },
      "execution_count": null,
      "outputs": []
    },
    {
      "cell_type": "code",
      "source": [
        "graph = pydotplus.graph_from_dot_data(dot_data.getvalue())\n"
      ],
      "metadata": {
        "id": "fLRhdiI35o7T"
      },
      "execution_count": null,
      "outputs": []
    },
    {
      "cell_type": "code",
      "source": [
        "graph.write_png('fraud_full.png')\n"
      ],
      "metadata": {
        "id": "RRwknp3R5sFg"
      },
      "execution_count": null,
      "outputs": []
    },
    {
      "cell_type": "code",
      "source": [
        ""
      ],
      "metadata": {
        "id": "TgcVfy875u01"
      },
      "execution_count": null,
      "outputs": []
    },
    {
      "cell_type": "markdown",
      "source": [
        "## Conclusion\n",
        "Since the accuracy of the Training set is 100%.\n",
        " we test the accurancy on the test data which is 72%\n",
        "\n",
        "As seen in the confusion matrix of Test data 94 instances are presdected correctly and 26 instances are not\n"
      ],
      "metadata": {
        "id": "VSYU-Emo5z75"
      }
    },
    {
      "cell_type": "code",
      "source": [
        "rf_small = RF(n_estimators=10, max_depth = 3)\n"
      ],
      "metadata": {
        "id": "-vxEzXpM52Ky"
      },
      "execution_count": null,
      "outputs": []
    },
    {
      "cell_type": "code",
      "source": [
        "rf_small.fit(x_train,y_train)\n"
      ],
      "metadata": {
        "id": "wCsTb3KZ6C3A"
      },
      "execution_count": null,
      "outputs": []
    },
    {
      "cell_type": "code",
      "source": [
        "tree_small = rf_small.estimators_[5]\n"
      ],
      "metadata": {
        "id": "B1fyc2Eb6GZo"
      },
      "execution_count": null,
      "outputs": []
    },
    {
      "cell_type": "code",
      "source": [
        "export_graphviz(tree_small, out_file = dot_data, feature_names = predictors, rounded = True, precision = 1)\n"
      ],
      "metadata": {
        "id": "zEisOQb76Iok"
      },
      "execution_count": null,
      "outputs": []
    },
    {
      "cell_type": "code",
      "source": [
        "graph_small = pydotplus.graph_from_dot_data(dot_data.getvalue())\n"
      ],
      "metadata": {
        "id": "WeHueHBG6Lkf"
      },
      "execution_count": null,
      "outputs": []
    },
    {
      "cell_type": "code",
      "source": [
        "graph.write_png('fraud_small.png')\n"
      ],
      "metadata": {
        "id": "rOsk_Cb06OUl"
      },
      "execution_count": null,
      "outputs": []
    },
    {
      "cell_type": "code",
      "source": [
        "img = mpimg.imread('fraud_small.png') \n"
      ],
      "metadata": {
        "id": "X_RZqpw26Qka"
      },
      "execution_count": null,
      "outputs": []
    },
    {
      "cell_type": "code",
      "source": [
        "plt.imshow(img)\n"
      ],
      "metadata": {
        "id": "lAP9XRk06WrK"
      },
      "execution_count": null,
      "outputs": []
    },
    {
      "cell_type": "code",
      "source": [
        "model.feature_importances_\n"
      ],
      "metadata": {
        "id": "L1S1Bkvq6kOK"
      },
      "execution_count": null,
      "outputs": []
    },
    {
      "cell_type": "code",
      "source": [
        "fi = pd.DataFrame({'feature': list(x_train.columns),\n",
        "                   'importance': model.feature_importances_}).\\\n",
        "                    sort_values('importance', ascending = False)\n"
      ],
      "metadata": {
        "id": "yfgWo0T46nOc"
      },
      "execution_count": null,
      "outputs": []
    },
    {
      "cell_type": "code",
      "source": [
        "fi"
      ],
      "metadata": {
        "id": "VrsK47Ws6qBE"
      },
      "execution_count": null,
      "outputs": []
    },
    {
      "cell_type": "markdown",
      "source": [
        "As seen in the above table city population is most important feature.\n"
      ],
      "metadata": {
        "id": "m6HNdYN66vbt"
      }
    },
    {
      "cell_type": "code",
      "source": [
        ""
      ],
      "metadata": {
        "id": "qkVxOE_A6qtQ"
      },
      "execution_count": null,
      "outputs": []
    }
  ]
}