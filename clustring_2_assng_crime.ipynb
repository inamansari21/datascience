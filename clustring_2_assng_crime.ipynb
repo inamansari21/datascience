{
  "nbformat": 4,
  "nbformat_minor": 0,
  "metadata": {
    "colab": {
      "name": "clustring_2_assng_crime.ipynb",
      "provenance": [],
      "collapsed_sections": [],
      "include_colab_link": true
    },
    "kernelspec": {
      "name": "python3",
      "display_name": "Python 3"
    },
    "language_info": {
      "name": "python"
    }
  },
  "cells": [
    {
      "cell_type": "markdown",
      "metadata": {
        "id": "view-in-github",
        "colab_type": "text"
      },
      "source": [
        "<a href=\"https://colab.research.google.com/github/inamansari21/datascience/blob/main/clustring_2_assng_crime.ipynb\" target=\"_parent\"><img src=\"https://colab.research.google.com/assets/colab-badge.svg\" alt=\"Open In Colab\"/></a>"
      ]
    },
    {
      "cell_type": "code",
      "execution_count": null,
      "metadata": {
        "id": "pJi3-lNQa_p5"
      },
      "outputs": [],
      "source": [
        "# Importing Libraries\n",
        "import pandas as pd\n",
        "import numpy as np\n",
        "import matplotlib.pyplot as plt\n",
        "import scipy.cluster.hierarchy as sch\n",
        "from sklearn.cluster import AgglomerativeClustering"
      ]
    },
    {
      "cell_type": "code",
      "source": [
        "# Loading Dataset\n",
        "data = pd.read_csv('crime_data.csv')\n",
        "data"
      ],
      "metadata": {
        "id": "G0nC4VKMbnIt"
      },
      "execution_count": null,
      "outputs": []
    },
    {
      "cell_type": "markdown",
      "source": [
        "**Data Preprocessing and EDA**"
      ],
      "metadata": {
        "id": "Ajrtkx9Cb_c2"
      }
    },
    {
      "cell_type": "code",
      "source": [
        "data = data.rename({'Unnamed: 0':'State'}, axis = 1)"
      ],
      "metadata": {
        "id": "5WpMaSprbnVp"
      },
      "execution_count": null,
      "outputs": []
    },
    {
      "cell_type": "code",
      "source": [
        "data.info()"
      ],
      "metadata": {
        "id": "ZpyuuQwnbnYI"
      },
      "execution_count": null,
      "outputs": []
    },
    {
      "cell_type": "code",
      "source": [
        "data.isna().sum()\n"
      ],
      "metadata": {
        "id": "zkrEbVQRbnaw"
      },
      "execution_count": null,
      "outputs": []
    },
    {
      "cell_type": "markdown",
      "source": [
        "**Agglomerative Clustering**"
      ],
      "metadata": {
        "id": "SOiehy_qdcxm"
      }
    },
    {
      "cell_type": "code",
      "source": [
        "from sklearn.preprocessing import MinMaxScaler\n",
        "\n",
        "# Normalizing Dataset\n",
        "\n",
        "scaler = MinMaxScaler()\n",
        "\n",
        "scaler_df = scaler.fit_transform(data.iloc[:,1:])\n",
        "print(scaler_df)"
      ],
      "metadata": {
        "id": "hqoTqKqdbnf0"
      },
      "execution_count": null,
      "outputs": []
    },
    {
      "cell_type": "code",
      "source": [
        "# Create Dendrograms\n",
        "plt.figure(figsize=(10, 7))  \n",
        "dendograms=sch.dendrogram(sch.linkage(scaler_df,'complete'))"
      ],
      "metadata": {
        "id": "jH7cUGPRbnij"
      },
      "execution_count": null,
      "outputs": []
    },
    {
      "cell_type": "code",
      "source": [
        "# Creating clusters\n",
        "H_clusters=AgglomerativeClustering(n_clusters=4,affinity='euclidean',linkage='ward')\n",
        "H_clusters"
      ],
      "metadata": {
        "id": "ZeNyL5E1bnk_"
      },
      "execution_count": null,
      "outputs": []
    },
    {
      "cell_type": "code",
      "source": [
        "# Using data normalized by MinMaxScaler \n",
        "y=pd.DataFrame(H_clusters.fit_predict(scaler_df),columns=['clustersid'])\n",
        "y['clustersid'].value_counts()"
      ],
      "metadata": {
        "id": "nnVsESQJbnoB"
      },
      "execution_count": null,
      "outputs": []
    },
    {
      "cell_type": "code",
      "source": [
        "# Adding clusters to dataset\n",
        "data['clustersid_HC']=H_clusters.labels_\n",
        "data"
      ],
      "metadata": {
        "id": "eO7g2-ySeSCQ"
      },
      "execution_count": null,
      "outputs": []
    },
    {
      "cell_type": "code",
      "source": [
        "data.groupby('clustersid_HC').agg(['mean']).reset_index()"
      ],
      "metadata": {
        "id": "aceWR8CZeW_a"
      },
      "execution_count": null,
      "outputs": []
    },
    {
      "cell_type": "code",
      "source": [
        "# Plotting barplot using groupby method to get visualization of how states in each cluster\n",
        "fig, ax = plt.subplots(figsize=(10, 6))\n",
        "data.groupby(['clustersid_HC']).count()['State'].plot(kind='bar')\n",
        "plt.ylabel('States')\n",
        "plt.title('Hierarchical Clustering',fontsize='large',fontweight='bold')\n",
        "ax.set_xlabel('Clusters', fontsize='large', fontweight='bold')\n",
        "ax.set_ylabel('States', fontsize='large', fontweight='bold')\n",
        "plt.yticks(fontsize=15)\n",
        "plt.xticks(fontsize=15)\n",
        "plt.show()"
      ],
      "metadata": {
        "id": "wmoMP-LZecLN"
      },
      "execution_count": null,
      "outputs": []
    },
    {
      "cell_type": "code",
      "source": [
        "# silhouette_score of AgglomerativeClustering\n",
        "from sklearn.metrics import silhouette_score"
      ],
      "metadata": {
        "id": "JUztckCmef5D"
      },
      "execution_count": null,
      "outputs": []
    },
    {
      "cell_type": "code",
      "source": [
        "sil_score= silhouette_score(scaler_df, H_clusters.labels_)\n",
        "sil_score"
      ],
      "metadata": {
        "id": "1kfYBdT9ekEe"
      },
      "execution_count": null,
      "outputs": []
    },
    {
      "cell_type": "code",
      "source": [
        "# States in cluster #0 \n",
        "data[data['clustersid_HC']==0]"
      ],
      "metadata": {
        "id": "WknBGFqRendj"
      },
      "execution_count": null,
      "outputs": []
    },
    {
      "cell_type": "code",
      "source": [
        "# States in cluster #1 \n",
        "data[data['clustersid_HC']==1]"
      ],
      "metadata": {
        "id": "T4PFhVMFeqjE"
      },
      "execution_count": null,
      "outputs": []
    },
    {
      "cell_type": "code",
      "source": [
        "# States in cluster #2 \n",
        "data[data['clustersid_HC']==2]"
      ],
      "metadata": {
        "id": "k2zlti4gevot"
      },
      "execution_count": null,
      "outputs": []
    },
    {
      "cell_type": "code",
      "source": [
        "# States in cluster #3 \n",
        "data[data['clustersid_HC']==3]"
      ],
      "metadata": {
        "id": "51zEoMvIeyat"
      },
      "execution_count": null,
      "outputs": []
    },
    {
      "cell_type": "markdown",
      "source": [
        "**K-MEANS Clustering**"
      ],
      "metadata": {
        "id": "mzRXUFJpe7BZ"
      }
    },
    {
      "cell_type": "code",
      "source": [
        "# Import Library\n",
        "from sklearn.cluster import KMeans\n",
        "from yellowbrick.cluster import KElbowVisualizer"
      ],
      "metadata": {
        "id": "764hVRN4e_D6"
      },
      "execution_count": null,
      "outputs": []
    },
    {
      "cell_type": "markdown",
      "source": [
        "**The K-means algorithm aims to choose centroids that minimise the inertia, or within-cluster sum-of-squares criterion:**"
      ],
      "metadata": {
        "id": "l6e-jKNlfH-5"
      }
    },
    {
      "cell_type": "code",
      "source": [
        "# Using data normalized by MinMaxScaler\n",
        "wcss = []\n",
        "for i in range(1, 11):\n",
        "    kmeans = KMeans(n_clusters=i,random_state=0)\n",
        "    kmeans.fit(scaler_df)\n",
        "    wcss.append(kmeans.inertia_)\n",
        "    \n",
        "plt.plot(range(1, 11), wcss)\n",
        "plt.title('Elbow Method')\n",
        "plt.xlabel('Number of clusters')\n",
        "plt.ylabel('WCSS')\n",
        "plt.show()"
      ],
      "metadata": {
        "id": "5jhLlLwZe_Be"
      },
      "execution_count": null,
      "outputs": []
    },
    {
      "cell_type": "markdown",
      "source": [
        "**From above Scree plot, optimum number of clusters can be selected equal to 4**\n",
        "\n"
      ],
      "metadata": {
        "id": "ke1joWUtfbKG"
      }
    },
    {
      "cell_type": "code",
      "source": [
        "#Build Cluster algorithm\n",
        "\n",
        "KM_clusters = KMeans(4, random_state=42)\n",
        "KM_clusters.fit(scaler_df)"
      ],
      "metadata": {
        "id": "i3Hr0mFJe-_W"
      },
      "execution_count": null,
      "outputs": []
    },
    {
      "cell_type": "code",
      "source": [
        "y=pd.DataFrame(KM_clusters.fit_predict(scaler_df),columns=['clusterid_Kmeans'])\n",
        "y['clusterid_Kmeans'].value_counts()"
      ],
      "metadata": {
        "id": "ha_h4hlGe-8X"
      },
      "execution_count": null,
      "outputs": []
    },
    {
      "cell_type": "code",
      "source": [
        "#Assign clusters to the data set\n",
        "data['clusterid_Kmeans'] = KM_clusters.labels_\n",
        "data"
      ],
      "metadata": {
        "id": "OftFA9v_e-6v"
      },
      "execution_count": null,
      "outputs": []
    },
    {
      "cell_type": "code",
      "source": [
        "data.groupby('clusterid_Kmeans').agg(['mean']).reset_index()"
      ],
      "metadata": {
        "id": "rhT-5bnse-3k"
      },
      "execution_count": null,
      "outputs": []
    },
    {
      "cell_type": "code",
      "source": [
        "# Plotting barplot using groupby method to get visualization of how states in each cluster\n",
        "fig, ax = plt.subplots(figsize=(10, 6))\n",
        "data.groupby(['clusterid_Kmeans']).count()['State'].plot(kind='bar')\n",
        "plt.ylabel('States')\n",
        "plt.title('KMeans Clustering',fontsize='large',fontweight='bold')\n",
        "ax.set_xlabel('Clusters', fontsize='large', fontweight='bold')\n",
        "ax.set_ylabel('States', fontsize='large', fontweight='bold')\n",
        "plt.yticks(fontsize=15)\n",
        "plt.xticks(fontsize=15)\n",
        "plt.show()"
      ],
      "metadata": {
        "id": "PIbmxtnde-2A"
      },
      "execution_count": null,
      "outputs": []
    },
    {
      "cell_type": "code",
      "source": [
        "# States in cluster #0 \n",
        "data[data['clusterid_Kmeans']==0]"
      ],
      "metadata": {
        "id": "WqC88kSde-zq"
      },
      "execution_count": null,
      "outputs": []
    },
    {
      "cell_type": "code",
      "source": [
        "# States in cluster #1 \n",
        "data[data['clusterid_Kmeans']==1]"
      ],
      "metadata": {
        "id": "_qZrdD5ze-xM"
      },
      "execution_count": null,
      "outputs": []
    },
    {
      "cell_type": "code",
      "source": [
        "# States in cluster #2 \n",
        "data[data['clusterid_Kmeans']==2]"
      ],
      "metadata": {
        "id": "wn-wmunHgCca"
      },
      "execution_count": null,
      "outputs": []
    },
    {
      "cell_type": "code",
      "source": [
        "# States in cluster #1 \n",
        "data[data['clusterid_Kmeans']==2]"
      ],
      "metadata": {
        "id": "vbcOdIQzgFfF"
      },
      "execution_count": null,
      "outputs": []
    },
    {
      "cell_type": "markdown",
      "source": [
        "**DBSCAN**"
      ],
      "metadata": {
        "id": "HDCNA2l4ghkO"
      }
    },
    {
      "cell_type": "code",
      "source": [
        "from sklearn.cluster import DBSCAN\n"
      ],
      "metadata": {
        "id": "dVduYMqUggv6"
      },
      "execution_count": null,
      "outputs": []
    },
    {
      "cell_type": "markdown",
      "source": [
        "**We will try for different values of eps and mn_samples**"
      ],
      "metadata": {
        "id": "T_nJj7A8gtGJ"
      }
    },
    {
      "cell_type": "code",
      "source": [
        "EPS = [0.22, 0.24, 0.26,0.28, 0.30]\n",
        "\n",
        "for n in EPS:\n",
        "    dbscan = DBSCAN(eps=n, min_samples=4)\n",
        "    dbscan.fit(scaler_df)\n",
        "    y=pd.DataFrame(dbscan.fit_predict(scaler_df),columns=['clusterid_DBSCAN'])\n",
        "    print(f'For eps = {n}','\\n',y['clusterid_DBSCAN'].value_counts())\n",
        "    # silhouette score\n",
        "    sil_score= silhouette_score(scaler_df, dbscan.labels_)\n",
        "    print(f'For eps silhouette score = {n}','\\n', sil_score)"
      ],
      "metadata": {
        "id": "AFWW_uSPggt7"
      },
      "execution_count": null,
      "outputs": []
    },
    {
      "cell_type": "markdown",
      "source": [
        "When we have value of epsilon = 0.28, we are getting 3 clusters silhouette score is more as compared to other dbscan models.\n",
        "-1 shows the noisy data points"
      ],
      "metadata": {
        "id": "N23pP2Jqg-1y"
      }
    },
    {
      "cell_type": "code",
      "source": [
        "dbscan = DBSCAN(eps=0.28, min_samples=4)\n",
        "dbscan.fit(scaler_df)"
      ],
      "metadata": {
        "id": "-1qUXmYNggq0"
      },
      "execution_count": null,
      "outputs": []
    },
    {
      "cell_type": "code",
      "source": [
        "data['clusterid_DBSCAN'] = dbscan.labels_\n",
        "data.head()"
      ],
      "metadata": {
        "id": "A6k9Y7uXggoJ"
      },
      "execution_count": null,
      "outputs": []
    },
    {
      "cell_type": "code",
      "source": [
        "data.groupby('clusterid_DBSCAN').agg(['mean']).reset_index()"
      ],
      "metadata": {
        "id": "dn0QKOUrggks"
      },
      "execution_count": null,
      "outputs": []
    },
    {
      "cell_type": "code",
      "source": [
        "# Plotting barplot using groupby method to get visualization of how many row no. in each cluster\n",
        "\n",
        "fig, ax = plt.subplots(figsize=(10, 6))\n",
        "data.groupby(['clusterid_DBSCAN']).count()['State'].plot(kind='bar')\n",
        "plt.ylabel('ID Counts')\n",
        "plt.title('DBSCAN Clustering',fontsize='large',fontweight='bold')\n",
        "ax.set_xlabel('Clusters', fontsize='large', fontweight='bold')\n",
        "ax.set_ylabel('States', fontsize='large', fontweight='bold')\n",
        "plt.yticks(fontsize=15)\n",
        "plt.xticks(fontsize=15)\n",
        "plt.show()\n"
      ],
      "metadata": {
        "id": "CbMpbfOyggi4"
      },
      "execution_count": null,
      "outputs": []
    },
    {
      "cell_type": "code",
      "source": [
        "# States in cluster #0 \n",
        "data[data['clusterid_DBSCAN']==0]"
      ],
      "metadata": {
        "id": "dXGG0AEZggBq"
      },
      "execution_count": null,
      "outputs": []
    },
    {
      "cell_type": "code",
      "source": [
        "# States in cluster #1 \n",
        "data[data['clusterid_DBSCAN']==1]"
      ],
      "metadata": {
        "id": "iAg1zNp_gcZD"
      },
      "execution_count": null,
      "outputs": []
    },
    {
      "cell_type": "code",
      "source": [
        "# States in cluster #2 \n",
        "data[data['clusterid_DBSCAN']==2]"
      ],
      "metadata": {
        "id": "uO-b3NLijvaT"
      },
      "execution_count": null,
      "outputs": []
    },
    {
      "cell_type": "code",
      "source": [
        "# States in cluster #1 \n",
        "data[data['clusterid_DBSCAN']==-1]"
      ],
      "metadata": {
        "id": "TShScAI9jzEO"
      },
      "execution_count": null,
      "outputs": []
    },
    {
      "cell_type": "code",
      "source": [
        ""
      ],
      "metadata": {
        "id": "85Ybywj5j141"
      },
      "execution_count": null,
      "outputs": []
    }
  ]
}