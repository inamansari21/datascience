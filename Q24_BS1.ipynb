{
  "nbformat": 4,
  "nbformat_minor": 0,
  "metadata": {
    "colab": {
      "name": "Q24_BS1.ipynb",
      "provenance": [],
      "collapsed_sections": [],
      "include_colab_link": true
    },
    "kernelspec": {
      "name": "python3",
      "display_name": "Python 3"
    },
    "language_info": {
      "name": "python"
    }
  },
  "cells": [
    {
      "cell_type": "markdown",
      "metadata": {
        "id": "view-in-github",
        "colab_type": "text"
      },
      "source": [
        "<a href=\"https://colab.research.google.com/github/inamansari21/datascience/blob/main/Q24_BS1.ipynb\" target=\"_parent\"><img src=\"https://colab.research.google.com/assets/colab-badge.svg\" alt=\"Open In Colab\"/></a>"
      ]
    },
    {
      "cell_type": "code",
      "metadata": {
        "id": "MneB8KzwDfiA"
      },
      "source": [
        "from scipy import stats\n",
        "from scipy.stats import norm"
      ],
      "execution_count": null,
      "outputs": []
    },
    {
      "cell_type": "code",
      "metadata": {
        "id": "x1mbZdF4DizK"
      },
      "source": [
        "# Assume Null Hypothesis is: Ho = Avg life of Bulb >= 260 days\n",
        "# Alternate Hypothesis is: Ha = Avg life of Bulb < 260 days"
      ],
      "execution_count": null,
      "outputs": []
    },
    {
      "cell_type": "code",
      "metadata": {
        "id": "aF7Si882Di0v"
      },
      "source": [
        "# find t-scores at x=260; t=(s_mean-P_mean)/(s_SD/sqrt(n))\n",
        "t=(260-270)/(90/18**0.5)\n",
        "t"
      ],
      "execution_count": null,
      "outputs": []
    },
    {
      "cell_type": "code",
      "metadata": {
        "id": "dPOUZz19Di32"
      },
      "source": [
        "# Find P(X>=260) for null hypothesis"
      ],
      "execution_count": null,
      "outputs": []
    },
    {
      "cell_type": "code",
      "metadata": {
        "id": "BTw0plq0Di6x"
      },
      "source": [
        "# p_value=1-stats.t.cdf(abs(t_scores),df=n-1)... Using cdf function\n",
        "p_value=1-stats.t.cdf(abs(-0.4714),df=17)\n",
        "p_value"
      ],
      "execution_count": null,
      "outputs": []
    },
    {
      "cell_type": "code",
      "metadata": {
        "id": "8WoxOx2FExgX"
      },
      "source": [
        "#OR p_value=stats.t.sf(abs(t_score),df=n-1)... Using sf function\n",
        "p_value=stats.t.sf(abs(-0.4714),df=17)\n",
        "p_value"
      ],
      "execution_count": null,
      "outputs": []
    },
    {
      "cell_type": "code",
      "metadata": {
        "id": "8m-h8LBQEx3c"
      },
      "source": [
        ""
      ],
      "execution_count": null,
      "outputs": []
    }
  ]
}