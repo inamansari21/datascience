{
  "nbformat": 4,
  "nbformat_minor": 0,
  "metadata": {
    "colab": {
      "name": "Hypothesis testing new 4.ipynb",
      "provenance": [],
      "authorship_tag": "ABX9TyOrhJxoaA9Atr6Pt8kk2Cy6",
      "include_colab_link": true
    },
    "kernelspec": {
      "name": "python3",
      "display_name": "Python 3"
    },
    "language_info": {
      "name": "python"
    }
  },
  "cells": [
    {
      "cell_type": "markdown",
      "metadata": {
        "id": "view-in-github",
        "colab_type": "text"
      },
      "source": [
        "<a href=\"https://colab.research.google.com/github/inamansari21/datascience/blob/main/Hypothesis_testing_new_4.ipynb\" target=\"_parent\"><img src=\"https://colab.research.google.com/assets/colab-badge.svg\" alt=\"Open In Colab\"/></a>"
      ]
    },
    {
      "cell_type": "code",
      "execution_count": 1,
      "metadata": {
        "id": "J9ZAlT2oOFQJ"
      },
      "outputs": [],
      "source": [
        "import pandas as pd\n",
        "import numpy as np\n",
        "from scipy import stats\n"
      ]
    },
    {
      "cell_type": "markdown",
      "source": [
        "# Problem Statement :\n",
        "TeleCall uses 4 centers around the globe to process customer order forms. They audit a certain % of the customer order forms. Any error in order form renders it defective and has to be reworked before processing. The manager wants to check whether the defective % varies by centre. Please analyze the data at 5% significance level and help the manager draw appropriate inferences\n",
        "\n",
        "\n",
        "**Does the defective % varies significantly by centre ?**\n",
        "\n"
      ],
      "metadata": {
        "id": "Ucuwb-y1OdpO"
      }
    },
    {
      "cell_type": "markdown",
      "source": [
        "# Data description\n",
        "α == 0.05 (95% Confidence)\n",
        "\n",
        "Y == Discrete\n",
        "X == Discrete\n",
        "\n",
        " Since there are more than 2 variable we will perform Chi-Square test"
      ],
      "metadata": {
        "id": "tZ_U_7QpOrCY"
      }
    },
    {
      "cell_type": "markdown",
      "source": [
        "# Chi-square test"
      ],
      "metadata": {
        "id": "LDWtYiFpO4Fa"
      }
    },
    {
      "cell_type": "code",
      "source": [
        "df = pd.read_csv(\"Costomer+OrderForm.csv\")\n"
      ],
      "metadata": {
        "id": "_Kk0Wb0HOZLm"
      },
      "execution_count": 2,
      "outputs": []
    },
    {
      "cell_type": "markdown",
      "source": [
        "H0 == The defective % does not varies by centre\n",
        "\n",
        "H1 == The defective % does varies by centre\n",
        "\n"
      ],
      "metadata": {
        "id": "sRCA-gu6PLJ9"
      }
    },
    {
      "cell_type": "code",
      "source": [
        "stats.chi2_contingency([df['Phillippines'].value_counts(), df['Indonesia'].value_counts(), df['Malta'].value_counts(), df['India'].value_counts()])\n"
      ],
      "metadata": {
        "colab": {
          "base_uri": "https://localhost:8080/"
        },
        "id": "y65OojPGPP63",
        "outputId": "d8ab5112-87df-4e02-b070-0ed717fe4f32"
      },
      "execution_count": 3,
      "outputs": [
        {
          "output_type": "execute_result",
          "data": {
            "text/plain": [
              "(3.8589606858203545, 0.2771020991233144, 3, array([[271.75,  28.25],\n",
              "        [271.75,  28.25],\n",
              "        [271.75,  28.25],\n",
              "        [271.75,  28.25]]))"
            ]
          },
          "metadata": {},
          "execution_count": 3
        }
      ]
    },
    {
      "cell_type": "markdown",
      "source": [
        "P value of Chi-Square test == 0.277 > α\n",
        "\n",
        "\n",
        "**Thus HO is accepted.**\n",
        "\n",
        "\n",
        "**The defective % does not varies significantly by centres**\n"
      ],
      "metadata": {
        "id": "rMOAPrjxPZt5"
      }
    },
    {
      "cell_type": "code",
      "source": [
        ""
      ],
      "metadata": {
        "id": "s-aGIZ5ZPS7K"
      },
      "execution_count": null,
      "outputs": []
    }
  ]
}