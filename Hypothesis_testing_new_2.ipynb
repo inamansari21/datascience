{
  "nbformat": 4,
  "nbformat_minor": 0,
  "metadata": {
    "colab": {
      "name": "Hypothesis testing new 2.ipynb",
      "provenance": [],
      "authorship_tag": "ABX9TyO8KlWalSapkcWnSZJDqsfr",
      "include_colab_link": true
    },
    "kernelspec": {
      "name": "python3",
      "display_name": "Python 3"
    },
    "language_info": {
      "name": "python"
    }
  },
  "cells": [
    {
      "cell_type": "markdown",
      "metadata": {
        "id": "view-in-github",
        "colab_type": "text"
      },
      "source": [
        "<a href=\"https://colab.research.google.com/github/inamansari21/datascience/blob/main/Hypothesis_testing_new_2.ipynb\" target=\"_parent\"><img src=\"https://colab.research.google.com/assets/colab-badge.svg\" alt=\"Open In Colab\"/></a>"
      ]
    },
    {
      "cell_type": "code",
      "execution_count": 1,
      "metadata": {
        "id": "l4i7xdMcIMy-"
      },
      "outputs": [],
      "source": [
        "import pandas as pd\n",
        "import numpy as np\n",
        "from scipy import stats\n"
      ]
    },
    {
      "cell_type": "markdown",
      "source": [
        "# Question problem\n",
        "\n",
        "A hospital wants to determine whether there is any difference in the average Turn Around Time (TAT) of reports of the laboratories on their preferred list. They collected a random sample and recorded TAT for reports of 4 laboratories. TAT is defined as sample collected to report dispatch\n",
        "\n",
        "Analyze the data and determine whether there is any difference in average TAT among the different laboratories at 5% significance l\n",
        "\n",
        "\n",
        "**Is there a significant difference in the average Turn Around Time between laboratories ?**\n",
        "\n",
        "\n"
      ],
      "metadata": {
        "id": "pQYGdQ-0I09K"
      }
    },
    {
      "cell_type": "markdown",
      "source": [
        "## Data description\n",
        "α == 0.05 (95% Confidence)\n",
        "\n",
        "Y == Continious\n",
        "X == Discrete\n",
        "\n",
        "Is Y1, Y2, Y3 and Y4 normal ?\n",
        "\n",
        "H0 = Y1, Y2, Y3 and Y4 are normal\n",
        "H1 = Y1, Y2, Y3 and Y4 are not normal\n",
        "\n"
      ],
      "metadata": {
        "id": "8GmjDreIJMjt"
      }
    },
    {
      "cell_type": "markdown",
      "source": [
        "## Normality test"
      ],
      "metadata": {
        "id": "80EzMT8UJUdQ"
      }
    },
    {
      "cell_type": "code",
      "source": [
        "df = pd.read_csv(\"LabTAT.csv\")\n"
      ],
      "metadata": {
        "id": "KONHdRd1ItqT"
      },
      "execution_count": 2,
      "outputs": []
    },
    {
      "cell_type": "code",
      "source": [
        "stats.shapiro(df[\"Laboratory 1\"])\n"
      ],
      "metadata": {
        "colab": {
          "base_uri": "https://localhost:8080/"
        },
        "id": "E9gXAvFoJjio",
        "outputId": "96c33a14-14e3-411c-8810-4ca4cdf986cb"
      },
      "execution_count": 3,
      "outputs": [
        {
          "output_type": "execute_result",
          "data": {
            "text/plain": [
              "(0.9901824593544006, 0.5506953597068787)"
            ]
          },
          "metadata": {},
          "execution_count": 3
        }
      ]
    },
    {
      "cell_type": "markdown",
      "source": [
        "(0.9901824593544006, 0.5506953597068787)\n",
        "\n",
        "P value for Laboratory 1 == 0.55 > α\n",
        "\n",
        "\n",
        "\n"
      ],
      "metadata": {
        "id": "fyFu4tTtJtHS"
      }
    },
    {
      "cell_type": "code",
      "source": [
        "stats.shapiro(df[\"Laboratory 2\"])\n"
      ],
      "metadata": {
        "colab": {
          "base_uri": "https://localhost:8080/"
        },
        "id": "SW9Fbz1dJoLC",
        "outputId": "0f70f649-347f-4e34-dafe-ae46f3bf2ce1"
      },
      "execution_count": 4,
      "outputs": [
        {
          "output_type": "execute_result",
          "data": {
            "text/plain": [
              "(0.9936322569847107, 0.8637524843215942)"
            ]
          },
          "metadata": {},
          "execution_count": 4
        }
      ]
    },
    {
      "cell_type": "markdown",
      "source": [
        "(0.9936322569847107, 0.8637524843215942)\n",
        "\n",
        "P value for Laboratory 2 == 0.86 > α\n",
        "\n"
      ],
      "metadata": {
        "id": "zaZI-JHZJ7eW"
      }
    },
    {
      "cell_type": "code",
      "source": [
        "stats.shapiro(df[\"Laboratory 3\"])\n"
      ],
      "metadata": {
        "colab": {
          "base_uri": "https://localhost:8080/"
        },
        "id": "-nPKX1fOJ3Ul",
        "outputId": "707053b8-02d7-4aef-b546-0cceeaaa0b3c"
      },
      "execution_count": 5,
      "outputs": [
        {
          "output_type": "execute_result",
          "data": {
            "text/plain": [
              "(0.9886345267295837, 0.4205053448677063)"
            ]
          },
          "metadata": {},
          "execution_count": 5
        }
      ]
    },
    {
      "cell_type": "markdown",
      "source": [
        "(0.9886345267295837, 0.4205053448677063)\n",
        "\n",
        "P value for Laboratory 3 == 0.42 > α\n",
        "\n"
      ],
      "metadata": {
        "id": "k1-7i21gKLfB"
      }
    },
    {
      "cell_type": "code",
      "source": [
        "stats.shapiro(df[\"Laboratory 4\"])\n"
      ],
      "metadata": {
        "colab": {
          "base_uri": "https://localhost:8080/"
        },
        "id": "CYMdjxEDKBkv",
        "outputId": "3a86a888-ebb6-4ad5-c896-af7ff462a9ce"
      },
      "execution_count": 6,
      "outputs": [
        {
          "output_type": "execute_result",
          "data": {
            "text/plain": [
              "(0.9913753271102905, 0.6618951559066772)"
            ]
          },
          "metadata": {},
          "execution_count": 6
        }
      ]
    },
    {
      "cell_type": "markdown",
      "source": [
        "(0.9913753271102905, 0.6618951559066772)\n",
        "P value for Y1 (Unit B) == 0.66 > α\n",
        "\n",
        "**HO is accepted. Thats is Y1, Y2, Y3, and Y4 are normal**\n"
      ],
      "metadata": {
        "id": "f2_clAXKKSTd"
      }
    },
    {
      "cell_type": "markdown",
      "source": [
        "## Variance\n",
        "H0 == Variance of all 4 laboratories are the same\n",
        "\n",
        "H1 == Variance of all 4 laboratories are the not same\n",
        "\n"
      ],
      "metadata": {
        "id": "7ledAQDrKnYl"
      }
    },
    {
      "cell_type": "code",
      "source": [
        "stats.levene(df[\"Laboratory 1\"], df[\"Laboratory 2\"], df[\"Laboratory 3\"], df[\"Laboratory 4\"])\n"
      ],
      "metadata": {
        "colab": {
          "base_uri": "https://localhost:8080/"
        },
        "id": "JVllHiC_KRBC",
        "outputId": "891ba309-c8d3-4751-df12-52346faa7c3d"
      },
      "execution_count": 7,
      "outputs": [
        {
          "output_type": "execute_result",
          "data": {
            "text/plain": [
              "LeveneResult(statistic=2.599642500418024, pvalue=0.05161343808309816)"
            ]
          },
          "metadata": {},
          "execution_count": 7
        }
      ]
    },
    {
      "cell_type": "markdown",
      "source": [
        "LeveneResult(statistic=2.599642500418024, pvalue=0.05161343808309816)\n",
        "P Value of Variance test is == 0.051 > α\n",
        "\n",
        "H0 is accepted\n",
        "\n",
        "Thus we will perform one way Anova Test\n"
      ],
      "metadata": {
        "id": "3bvepcqaK1KV"
      }
    },
    {
      "cell_type": "markdown",
      "source": [
        "# MODEL\n",
        "\n",
        "H0 == Mean TAT for 4 laboratories equal (There is no significance difference between TAT of the laboratories)\n",
        "\n",
        "H1 == Mean TAT for 4 laboratories not equal (There is a significance difference between TAT of the laboratories)\n",
        "\n"
      ],
      "metadata": {
        "id": "YUoiRCVsK5HC"
      }
    },
    {
      "cell_type": "code",
      "source": [
        "stats.stats.f_oneway(df[\"Laboratory 1\"], df[\"Laboratory 2\"], df[\"Laboratory 3\"], df[\"Laboratory 4\"])\n"
      ],
      "metadata": {
        "colab": {
          "base_uri": "https://localhost:8080/"
        },
        "id": "kEFr5rkNKwkC",
        "outputId": "fb620773-b528-4696-ecc2-cc3752a4e9e6"
      },
      "execution_count": 8,
      "outputs": [
        {
          "output_type": "execute_result",
          "data": {
            "text/plain": [
              "F_onewayResult(statistic=118.70421654401437, pvalue=2.1156708949992414e-57)"
            ]
          },
          "metadata": {},
          "execution_count": 8
        }
      ]
    },
    {
      "cell_type": "markdown",
      "source": [
        "F_onewayResult(statistic=118.70421654401437, pvalue=2.1156708949992414e-57)\n",
        "P value of the One way Anova test is == 2e-16 < α\n",
        "\n",
        "**Thus H1 is accepted.**\n",
        "\n",
        "**Mean TAT for 4 laboratories not equal (There is a significance difference between TAT of the laboratories)**\n"
      ],
      "metadata": {
        "id": "oav_-RTuLTMy"
      }
    },
    {
      "cell_type": "code",
      "source": [
        ""
      ],
      "metadata": {
        "id": "9Z-y8wWtLNf3"
      },
      "execution_count": null,
      "outputs": []
    }
  ]
}