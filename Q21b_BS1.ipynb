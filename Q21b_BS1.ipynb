{
  "nbformat": 4,
  "nbformat_minor": 0,
  "metadata": {
    "colab": {
      "name": "Q21b BS1.ipynb",
      "provenance": [],
      "collapsed_sections": [],
      "include_colab_link": true
    },
    "kernelspec": {
      "name": "python3",
      "display_name": "Python 3"
    },
    "language_info": {
      "name": "python"
    }
  },
  "cells": [
    {
      "cell_type": "markdown",
      "metadata": {
        "id": "view-in-github",
        "colab_type": "text"
      },
      "source": [
        "<a href=\"https://colab.research.google.com/github/inamansari21/datascience/blob/main/Q21b_BS1.ipynb\" target=\"_parent\"><img src=\"https://colab.research.google.com/assets/colab-badge.svg\" alt=\"Open In Colab\"/></a>"
      ]
    },
    {
      "cell_type": "code",
      "metadata": {
        "id": "lNTulQSaRUTY"
      },
      "source": [
        "import pandas as pd\n",
        "import matplotlib.pyplot as plt\n",
        "import seaborn as sns\n",
        "%matplotlib inline"
      ],
      "execution_count": null,
      "outputs": []
    },
    {
      "cell_type": "code",
      "metadata": {
        "id": "VGI1NRYYRl3e"
      },
      "source": [
        "wcat=pd.read_csv('wc-at.csv')\n",
        "wcat"
      ],
      "execution_count": null,
      "outputs": []
    },
    {
      "cell_type": "code",
      "metadata": {
        "id": "oUZS7BUmRtqt"
      },
      "source": [
        "#plotting distribution for Waist Circumference (Waist) \n",
        "sns.distplot(wcat.Waist)\n",
        "plt.ylabel('density');"
      ],
      "execution_count": null,
      "outputs": []
    },
    {
      "cell_type": "code",
      "metadata": {
        "id": "n2DL1DGkR0h8"
      },
      "source": [
        "#plotting distribution for Adipose Tissue (AT) \n",
        "sns.distplot(wcat.AT)\n",
        "plt.ylabel('density');"
      ],
      "execution_count": null,
      "outputs": []
    },
    {
      "cell_type": "code",
      "metadata": {
        "id": "wfosYlVSSBRr"
      },
      "source": [
        "#WC\n",
        "wcat.Waist.mean() , wcat.Waist.median()"
      ],
      "execution_count": null,
      "outputs": []
    },
    {
      "cell_type": "code",
      "metadata": {
        "id": "nH43N9-mSBFv"
      },
      "source": [
        "#AT\n",
        "wcat.AT.mean() , wcat.AT.median()"
      ],
      "execution_count": null,
      "outputs": []
    },
    {
      "cell_type": "code",
      "source": [
        ""
      ],
      "metadata": {
        "id": "t6nWV2TLIljC"
      },
      "execution_count": null,
      "outputs": []
    }
  ]
}