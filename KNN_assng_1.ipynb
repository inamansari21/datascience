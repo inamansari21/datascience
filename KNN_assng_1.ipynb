{
  "cells": [
    {
      "cell_type": "markdown",
      "metadata": {
        "id": "view-in-github",
        "colab_type": "text"
      },
      "source": [
        "<a href=\"https://colab.research.google.com/github/inamansari21/datascience/blob/main/KNN_assng_1.ipynb\" target=\"_parent\"><img src=\"https://colab.research.google.com/assets/colab-badge.svg\" alt=\"Open In Colab\"/></a>"
      ]
    },
    {
      "cell_type": "code",
      "execution_count": null,
      "id": "67884e4b",
      "metadata": {
        "id": "67884e4b"
      },
      "outputs": [],
      "source": [
        "import pandas as pd\n",
        "import numpy as np\n",
        "from sklearn.model_selection import KFold\n",
        "from sklearn.model_selection import cross_val_score\n",
        "from sklearn.neighbors import KNeighborsClassifier\n",
        "from sklearn.neighbors import KNeighborsClassifier\n",
        "from sklearn.model_selection import GridSearchCV\n",
        "from sklearn.model_selection import train_test_split\n",
        "import matplotlib.pyplot as plt\n",
        "from sklearn.metrics import accuracy_score"
      ]
    },
    {
      "cell_type": "code",
      "execution_count": null,
      "id": "1b6a7f98",
      "metadata": {
        "id": "1b6a7f98"
      },
      "outputs": [],
      "source": [
        "glass=pd.read_csv('glass.csv')"
      ]
    },
    {
      "cell_type": "code",
      "execution_count": null,
      "id": "9a2a5bca",
      "metadata": {
        "id": "9a2a5bca"
      },
      "outputs": [],
      "source": [
        "glass.head()"
      ]
    },
    {
      "cell_type": "markdown",
      "id": "6a4af30e",
      "metadata": {
        "id": "6a4af30e"
      },
      "source": [
        "### split the data"
      ]
    },
    {
      "cell_type": "code",
      "execution_count": null,
      "id": "6856a741",
      "metadata": {
        "id": "6856a741"
      },
      "outputs": [],
      "source": [
        "x = np.array(glass.iloc[:,3:5])\n",
        "y = np.array(glass['Type'])"
      ]
    },
    {
      "cell_type": "code",
      "execution_count": null,
      "id": "0bcd4be3",
      "metadata": {
        "id": "0bcd4be3"
      },
      "outputs": [],
      "source": [
        "x_train, x_test, y_train, y_test = train_test_split(x, y, test_size=0.2, random_state=1)"
      ]
    },
    {
      "cell_type": "code",
      "execution_count": null,
      "id": "e82ca781",
      "metadata": {
        "id": "e82ca781"
      },
      "outputs": [],
      "source": [
        "n_neighbors = np.array(range(1,30))\n",
        "param_grid = dict(n_neighbors=n_neighbors)"
      ]
    },
    {
      "cell_type": "markdown",
      "id": "d1bc925c",
      "metadata": {
        "id": "d1bc925c"
      },
      "source": [
        "### Grid search for finding optimal number of Neighbors"
      ]
    },
    {
      "cell_type": "code",
      "execution_count": null,
      "id": "d1a54bbe",
      "metadata": {
        "id": "d1a54bbe"
      },
      "outputs": [],
      "source": [
        "model = KNeighborsClassifier()\n",
        "grid = GridSearchCV(estimator=model, param_grid=param_grid)\n",
        "grid.fit(x_train, y_train)"
      ]
    },
    {
      "cell_type": "code",
      "execution_count": null,
      "id": "29cd2405",
      "metadata": {
        "id": "29cd2405"
      },
      "outputs": [],
      "source": [
        "print(grid.best_score_)\n",
        "print(grid.best_params_)"
      ]
    },
    {
      "cell_type": "code",
      "execution_count": null,
      "id": "e46b63b6",
      "metadata": {
        "id": "e46b63b6"
      },
      "outputs": [],
      "source": [
        "k_range = range(1, 31)\n",
        "k_scores = []\n",
        "for k in k_range:\n",
        "    knn = KNeighborsClassifier(n_neighbors=k)\n",
        "    train_scores = cross_val_score(knn, x_train, y_train, cv=5)\n",
        "    k_scores.append(train_scores.mean())\n",
        "plt.plot(k_range, k_scores)\n",
        "plt.xlabel('Value of K for KNN')\n",
        "plt.ylabel('Cross-Validated Accuracy')\n",
        "plt.show()"
      ]
    },
    {
      "cell_type": "markdown",
      "id": "d624957c",
      "metadata": {
        "id": "d624957c"
      },
      "source": [
        "### Applying KNN"
      ]
    },
    {
      "cell_type": "code",
      "execution_count": null,
      "id": "cbadd982",
      "metadata": {
        "id": "cbadd982"
      },
      "outputs": [],
      "source": [
        "model = KNeighborsClassifier(n_neighbors=3)"
      ]
    },
    {
      "cell_type": "code",
      "execution_count": null,
      "id": "7c03b107",
      "metadata": {
        "id": "7c03b107"
      },
      "outputs": [],
      "source": [
        "model.fit(x_train,y_train)"
      ]
    },
    {
      "cell_type": "code",
      "execution_count": null,
      "id": "7889728b",
      "metadata": {
        "id": "7889728b"
      },
      "outputs": [],
      "source": [
        "pred=model.predict(x_test)"
      ]
    },
    {
      "cell_type": "code",
      "execution_count": null,
      "id": "c2bce0da",
      "metadata": {
        "id": "c2bce0da"
      },
      "outputs": [],
      "source": [
        "score=accuracy_score(pred,y_test)"
      ]
    },
    {
      "cell_type": "code",
      "execution_count": null,
      "id": "a9e222d4",
      "metadata": {
        "id": "a9e222d4"
      },
      "outputs": [],
      "source": [
        "score"
      ]
    },
    {
      "cell_type": "code",
      "execution_count": null,
      "id": "fe37dd21",
      "metadata": {
        "id": "fe37dd21"
      },
      "outputs": [],
      "source": [
        ""
      ]
    }
  ],
  "metadata": {
    "kernelspec": {
      "display_name": "Python 3",
      "language": "python",
      "name": "python3"
    },
    "language_info": {
      "codemirror_mode": {
        "name": "ipython",
        "version": 3
      },
      "file_extension": ".py",
      "mimetype": "text/x-python",
      "name": "python",
      "nbconvert_exporter": "python",
      "pygments_lexer": "ipython3",
      "version": "3.8.8"
    },
    "colab": {
      "name": " KNN_assng 1.ipynb",
      "provenance": [],
      "include_colab_link": true
    }
  },
  "nbformat": 4,
  "nbformat_minor": 5
}