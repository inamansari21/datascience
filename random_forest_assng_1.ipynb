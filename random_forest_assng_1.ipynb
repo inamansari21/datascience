{
  "nbformat": 4,
  "nbformat_minor": 0,
  "metadata": {
    "colab": {
      "name": "random_forest-assng 1.ipynb",
      "provenance": [],
      "authorship_tag": "ABX9TyN68fOVVduHVG88Oe0G4Qqq",
      "include_colab_link": true
    },
    "kernelspec": {
      "name": "python3",
      "display_name": "Python 3"
    },
    "language_info": {
      "name": "python"
    }
  },
  "cells": [
    {
      "cell_type": "markdown",
      "metadata": {
        "id": "view-in-github",
        "colab_type": "text"
      },
      "source": [
        "<a href=\"https://colab.research.google.com/github/inamansari21/datascience/blob/main/random_forest_assng_1.ipynb\" target=\"_parent\"><img src=\"https://colab.research.google.com/assets/colab-badge.svg\" alt=\"Open In Colab\"/></a>"
      ]
    },
    {
      "cell_type": "code",
      "execution_count": null,
      "metadata": {
        "id": "_BzNVGVHrgkr"
      },
      "outputs": [],
      "source": [
        "import pandas as pd\n",
        "import numpy as np\n",
        "import matplotlib.pyplot\n"
      ]
    },
    {
      "cell_type": "code",
      "source": [
        "fraud = pd.read_csv(\"Fraud_check.csv\")\n"
      ],
      "metadata": {
        "id": "YZgsW2XlrjTJ"
      },
      "execution_count": null,
      "outputs": []
    },
    {
      "cell_type": "code",
      "source": [
        "fraud"
      ],
      "metadata": {
        "id": "tV69x6gwr40b"
      },
      "execution_count": null,
      "outputs": []
    },
    {
      "cell_type": "code",
      "source": [
        "##Converting the Taxable income variable to bucketing. \n",
        "fraud[\"income\"]=\"<=30000\"\n",
        "fraud.loc[fraud[\"Taxable.Income\"]>=30000,\"income\"]=\"Good\"\n",
        "fraud.loc[fraud[\"Taxable.Income\"]<=30000,\"income\"]=\"Risky\"\n"
      ],
      "metadata": {
        "id": "lKyXzmfAr8Ox"
      },
      "execution_count": null,
      "outputs": []
    },
    {
      "cell_type": "code",
      "source": [
        "##Droping the Taxable income variable\n",
        "fraud.drop([\"Taxable.Income\"],axis=1,inplace=True)\n"
      ],
      "metadata": {
        "id": "idHLkVO7sBfS"
      },
      "execution_count": null,
      "outputs": []
    },
    {
      "cell_type": "code",
      "source": [
        "fraud.rename(columns={\"Undergrad\":\"undergrad\",\"Marital.Status\":\"marital\",\"City.Population\":\"population\",\"Work.Experience\":\"experience\",\"Urban\":\"urban\"},inplace=True)\n"
      ],
      "metadata": {
        "id": "m3jfQFzNsGG7"
      },
      "execution_count": null,
      "outputs": []
    },
    {
      "cell_type": "code",
      "source": [
        "from sklearn import preprocessing\n",
        "le=preprocessing.LabelEncoder()\n",
        "for column_name in fraud.columns:\n",
        "    if fraud[column_name].dtype == object:\n",
        "        fraud[column_name] = le.fit_transform(fraud[column_name])\n",
        "    else:\n",
        "        pass\n"
      ],
      "metadata": {
        "id": "KgllTBZjsPAy"
      },
      "execution_count": null,
      "outputs": []
    },
    {
      "cell_type": "code",
      "source": [
        "##Splitting the data into featuers and labels\n",
        "features = fraud.iloc[:,0:5]\n",
        "labels = fraud.iloc[:,5]\n"
      ],
      "metadata": {
        "id": "OcMnLUIasU-Y"
      },
      "execution_count": null,
      "outputs": []
    },
    {
      "cell_type": "code",
      "source": [
        "## Collecting the column names\n",
        "colnames = list(fraud.columns)\n",
        "predictors = colnames[0:5]\n",
        "target = colnames[5]\n",
        "##Splitting the data into train and test\n"
      ],
      "metadata": {
        "id": "57rSQ5H_sZjJ"
      },
      "execution_count": null,
      "outputs": []
    },
    {
      "cell_type": "code",
      "source": [
        "from sklearn.model_selection import train_test_split\n",
        "x_train,x_test,y_train,y_test = train_test_split(features,labels,test_size = 0.2,stratify = labels)\n"
      ],
      "metadata": {
        "id": "xhWbgcK5seu6"
      },
      "execution_count": null,
      "outputs": []
    },
    {
      "cell_type": "code",
      "source": [
        "##Model building\n",
        "from sklearn.ensemble import RandomForestClassifier as RF\n",
        "model = RF(n_jobs = 3,n_estimators = 15, oob_score = True, criterion = \"entropy\")\n",
        "model.fit(x_train,y_train)"
      ],
      "metadata": {
        "id": "H38FUcjBsiy6"
      },
      "execution_count": null,
      "outputs": []
    },
    {
      "cell_type": "code",
      "source": [
        "model.estimators_\n"
      ],
      "metadata": {
        "id": "pyX8x_f7swpT"
      },
      "execution_count": null,
      "outputs": []
    },
    {
      "cell_type": "code",
      "source": [
        "model.classes_\n"
      ],
      "metadata": {
        "id": "5j3xLVx-s0FB"
      },
      "execution_count": null,
      "outputs": []
    },
    {
      "cell_type": "code",
      "source": [
        "model.n_features_\n"
      ],
      "metadata": {
        "id": "OaXikodas9zU"
      },
      "execution_count": null,
      "outputs": []
    },
    {
      "cell_type": "code",
      "source": [
        "model.n_classes_\n"
      ],
      "metadata": {
        "id": "vSj3yP4otBZx"
      },
      "execution_count": null,
      "outputs": []
    },
    {
      "cell_type": "code",
      "source": [
        "model.n_outputs_\n"
      ],
      "metadata": {
        "id": "6RGUdjrrtJfy"
      },
      "execution_count": null,
      "outputs": []
    },
    {
      "cell_type": "code",
      "source": [
        "model.oob_score_\n"
      ],
      "metadata": {
        "id": "Ilx2GUI1tMYq"
      },
      "execution_count": null,
      "outputs": []
    },
    {
      "cell_type": "code",
      "source": [
        "##Predictions on train data\n",
        "prediction = model.predict(x_train)\n"
      ],
      "metadata": {
        "id": "CKkzCnrStQJ_"
      },
      "execution_count": null,
      "outputs": []
    },
    {
      "cell_type": "code",
      "source": [
        "# For accuracy \n",
        "from sklearn.metrics import accuracy_score\n",
        "accuracy = accuracy_score(y_train,prediction)\n"
      ],
      "metadata": {
        "id": "FOCohaeHtV-i"
      },
      "execution_count": null,
      "outputs": []
    },
    {
      "cell_type": "code",
      "source": [
        "accuracy"
      ],
      "metadata": {
        "id": "KBJSqAdFtbD6"
      },
      "execution_count": null,
      "outputs": []
    },
    {
      "cell_type": "code",
      "source": [
        "np.mean(prediction == y_train)\n"
      ],
      "metadata": {
        "id": "A4SENMfrthy-"
      },
      "execution_count": null,
      "outputs": []
    },
    {
      "cell_type": "code",
      "source": [
        "##Confusion matrix\n",
        "from sklearn.metrics import confusion_matrix\n",
        "confusion = confusion_matrix(y_train,prediction)\n"
      ],
      "metadata": {
        "id": "zTEk9jxdtpWX"
      },
      "execution_count": null,
      "outputs": []
    },
    {
      "cell_type": "code",
      "source": [
        "##Prediction on test data\n",
        "pred_test = model.predict(x_test)\n"
      ],
      "metadata": {
        "id": "9pbk7DHZtvNL"
      },
      "execution_count": null,
      "outputs": []
    },
    {
      "cell_type": "code",
      "source": [
        "acc_test =accuracy_score(y_test,pred_test)\n"
      ],
      "metadata": {
        "id": "W9RTCmZFtzBA"
      },
      "execution_count": null,
      "outputs": []
    },
    {
      "cell_type": "code",
      "source": [
        "acc_test"
      ],
      "metadata": {
        "id": "hdPyjtsst6SW"
      },
      "execution_count": null,
      "outputs": []
    },
    {
      "cell_type": "code",
      "source": [
        "## In random forest we can plot a Decision tree present in Random forest\n",
        "from sklearn.tree import export_graphviz\n",
        "import pydotplus\n",
        "\n"
      ],
      "metadata": {
        "id": "kmF8BDFAuCvi"
      },
      "execution_count": null,
      "outputs": []
    },
    {
      "cell_type": "code",
      "source": [
        "## In random forest we can plot a Decision tree present in Random forest\n",
        "from sklearn.tree import export_graphviz\n",
        "import pydotplus\n",
        "from six import StringIO\n"
      ],
      "metadata": {
        "id": "Gt--lR19uI5R"
      },
      "execution_count": null,
      "outputs": []
    },
    {
      "cell_type": "code",
      "source": [
        "tree = model.estimators_[5]\n",
        "tree"
      ],
      "metadata": {
        "id": "AfuTaPcluVMA"
      },
      "execution_count": null,
      "outputs": []
    },
    {
      "cell_type": "code",
      "source": [
        "dot_data = StringIO()\n",
        "\n"
      ],
      "metadata": {
        "id": "kV7fCdzk1fzS"
      },
      "execution_count": null,
      "outputs": []
    },
    {
      "cell_type": "code",
      "source": [
        "export_graphviz(tree,out_file = dot_data, filled = True,rounded = True, feature_names = predictors ,class_names = target,impurity =False)\n"
      ],
      "metadata": {
        "id": "mJgr88bC1vFE"
      },
      "execution_count": null,
      "outputs": []
    },
    {
      "cell_type": "code",
      "source": [
        "graph = pydotplus.graph_from_dot_data(dot_data.getvalue())\n",
        "\n"
      ],
      "metadata": {
        "id": "U2_zJfgL1yqs"
      },
      "execution_count": null,
      "outputs": []
    },
    {
      "cell_type": "code",
      "source": [
        "## Creating pdf and png file the selected decision tree\n",
        "graph.write_pdf('fraudrf.pdf')\n"
      ],
      "metadata": {
        "id": "6JF5bUku12cD"
      },
      "execution_count": null,
      "outputs": []
    },
    {
      "cell_type": "code",
      "source": [
        "graph.write_png('fraudrf.png')\n"
      ],
      "metadata": {
        "id": "tRkgtaOJ18V7"
      },
      "execution_count": null,
      "outputs": []
    },
    {
      "cell_type": "code",
      "source": [
        ""
      ],
      "metadata": {
        "id": "XQzZOemK2ANg"
      },
      "execution_count": null,
      "outputs": []
    }
  ]
}