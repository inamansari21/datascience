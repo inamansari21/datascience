{
  "nbformat": 4,
  "nbformat_minor": 0,
  "metadata": {
    "colab": {
      "name": "Clustering airlines new.ipynb",
      "provenance": [],
      "authorship_tag": "ABX9TyM5YFZkEd6ySHLq54bg0ITY",
      "include_colab_link": true
    },
    "kernelspec": {
      "name": "python3",
      "display_name": "Python 3"
    },
    "language_info": {
      "name": "python"
    }
  },
  "cells": [
    {
      "cell_type": "markdown",
      "metadata": {
        "id": "view-in-github",
        "colab_type": "text"
      },
      "source": [
        "<a href=\"https://colab.research.google.com/github/inamansari21/datascience/blob/main/Clustering_airlines_new.ipynb\" target=\"_parent\"><img src=\"https://colab.research.google.com/assets/colab-badge.svg\" alt=\"Open In Colab\"/></a>"
      ]
    },
    {
      "cell_type": "code",
      "execution_count": null,
      "metadata": {
        "id": "RFqlqa7s-y1A"
      },
      "outputs": [],
      "source": [
        "import numpy as np\n",
        "import pandas as pd\n",
        "from matplotlib import pyplot as plt\n",
        "from sklearn.cluster import KMeans\n",
        "from sklearn.preprocessing import StandardScaler\n",
        "from sklearn import preprocessing\n",
        "import seaborn as sns\n",
        "import scipy.cluster.hierarchy as sch\n",
        "from sklearn.cluster import AgglomerativeClustering\n"
      ]
    },
    {
      "cell_type": "code",
      "source": [
        "df = pd.read_excel(\"EastWestAirlines.xlsx\")\n"
      ],
      "metadata": {
        "id": "JGKaqIXN-9TQ"
      },
      "execution_count": null,
      "outputs": []
    },
    {
      "cell_type": "code",
      "source": [
        "df1 = df.copy()\n"
      ],
      "metadata": {
        "id": "5JkT81-J_iWO"
      },
      "execution_count": null,
      "outputs": []
    },
    {
      "cell_type": "code",
      "source": [
        "df1\n"
      ],
      "metadata": {
        "id": "PcRATg-2AID_"
      },
      "execution_count": null,
      "outputs": []
    },
    {
      "cell_type": "code",
      "source": [
        "df1_norm = preprocessing.scale(df1)\n"
      ],
      "metadata": {
        "id": "P-dCuSlMC8VJ"
      },
      "execution_count": null,
      "outputs": []
    },
    {
      "cell_type": "code",
      "source": [
        "df1_norm = pd.DataFrame(df1_norm) #standardize the data to normal distribution\n"
      ],
      "metadata": {
        "id": "KytG5AsjDBkh"
      },
      "execution_count": null,
      "outputs": []
    },
    {
      "cell_type": "code",
      "source": [
        "df1_norm.head()\n"
      ],
      "metadata": {
        "id": "935X8XiEDGPl"
      },
      "execution_count": null,
      "outputs": []
    },
    {
      "cell_type": "markdown",
      "source": [
        "## Finding out the optimal number of clusters\n"
      ],
      "metadata": {
        "id": "ceuV3SxSCZZZ"
      }
    },
    {
      "cell_type": "code",
      "source": [
        "plt.figure(figsize=(10, 8))\n",
        "wcss = []\n",
        "for i in range(1, 15):\n",
        "    kmeans = KMeans(n_clusters = i, init = 'k-means++', random_state = 42)\n",
        "    kmeans.fit(df1_norm)\n",
        "    wcss.append(kmeans.inertia_)\n",
        "plt.plot(range(1, 15), wcss)\n",
        "plt.title('The Elbow Method')\n",
        "plt.xlabel('Number of clusters')\n",
        "plt.ylabel('WCSS')\n",
        "plt.show()\n"
      ],
      "metadata": {
        "id": "qVkvuPccCZCN"
      },
      "execution_count": null,
      "outputs": []
    },
    {
      "cell_type": "markdown",
      "source": [
        "**As seen from the elbow graph, the slope changes at 2. However, since spltting the dataset into 2 groups would not be very beneficial, we further evaluate clusters for higher values of k.\n",
        "**"
      ],
      "metadata": {
        "id": "hy5MIUMLD1qf"
      }
    },
    {
      "cell_type": "markdown",
      "source": [
        "# **  H Clustering\n",
        " - Euclidean distance, Ward\n",
        "**"
      ],
      "metadata": {
        "id": "5kknQ9-eEFRf"
      }
    },
    {
      "cell_type": "code",
      "source": [
        "dendrogram = sch.dendrogram(sch.linkage(df1_norm, method='ward'))\n"
      ],
      "metadata": {
        "id": "cEfcPdbRDH_y"
      },
      "execution_count": null,
      "outputs": []
    },
    {
      "cell_type": "code",
      "source": [
        "X = df1_norm.values\n"
      ],
      "metadata": {
        "id": "sGjBH6RAESRG"
      },
      "execution_count": null,
      "outputs": []
    },
    {
      "cell_type": "code",
      "source": [
        "model = AgglomerativeClustering(n_clusters=3, affinity='euclidean', linkage='ward')\n"
      ],
      "metadata": {
        "id": "uZe7tgl6Ed4P"
      },
      "execution_count": null,
      "outputs": []
    },
    {
      "cell_type": "code",
      "source": [
        "h_cluster = model.fit(X)\n"
      ],
      "metadata": {
        "id": "Rh9sQl8AEf26"
      },
      "execution_count": null,
      "outputs": []
    },
    {
      "cell_type": "code",
      "source": [
        "labels = model.labels_\n"
      ],
      "metadata": {
        "id": "odDb8d8KElGy"
      },
      "execution_count": null,
      "outputs": []
    },
    {
      "cell_type": "code",
      "source": [
        "plt.scatter(X[labels==0, 0], X[labels==0, 1], s=50, marker='o', color='red')\n",
        "plt.scatter(X[labels==1, 0], X[labels==1, 1], s=50, marker='o', color='blue')\n",
        "plt.scatter(X[labels==2, 0], X[labels==2, 1], s=50, marker='o', color='green')\n"
      ],
      "metadata": {
        "id": "iAu1eLY-EsOF"
      },
      "execution_count": null,
      "outputs": []
    },
    {
      "cell_type": "markdown",
      "source": [
        "# **k means**"
      ],
      "metadata": {
        "id": "dVq80V_fE5VY"
      }
    },
    {
      "cell_type": "code",
      "source": [
        "kmeans = KMeans(n_clusters = 3, init = 'k-means++', random_state = 42)\n",
        "k_means = kmeans.fit_predict(df1_norm)\n"
      ],
      "metadata": {
        "id": "mydXX7KfE86D"
      },
      "execution_count": null,
      "outputs": []
    },
    {
      "cell_type": "code",
      "source": [
        "k_means\n"
      ],
      "metadata": {
        "id": "W2E--6NBFDUU"
      },
      "execution_count": null,
      "outputs": []
    },
    {
      "cell_type": "code",
      "source": [
        "k_means1=k_means+1\n",
        "k_cluster = list(k_means1)\n"
      ],
      "metadata": {
        "id": "2-kDSHe9FMWt"
      },
      "execution_count": null,
      "outputs": []
    },
    {
      "cell_type": "code",
      "source": [
        "df1['k_cluster'] = k_cluster\n"
      ],
      "metadata": {
        "id": "dq4fF_EXFNqS"
      },
      "execution_count": null,
      "outputs": []
    },
    {
      "cell_type": "code",
      "source": [
        "kmeans_mean_cluster = pd.DataFrame(round(df1.groupby('k_cluster').mean(),1))\n"
      ],
      "metadata": {
        "id": "By907jxbFSxd"
      },
      "execution_count": null,
      "outputs": []
    },
    {
      "cell_type": "code",
      "source": [
        "kmeans_mean_cluster\n"
      ],
      "metadata": {
        "id": "oYM_CByEFbMS"
      },
      "execution_count": null,
      "outputs": []
    },
    {
      "cell_type": "code",
      "source": [
        "pd.DataFrame(round(df1.groupby('k_cluster').count(),1))\n"
      ],
      "metadata": {
        "id": "bmgpaXp7FcgC"
      },
      "execution_count": null,
      "outputs": []
    },
    {
      "cell_type": "code",
      "source": [
        "plt.scatter(X[:, 0], X[:, 1], c=k_means, s=50, cmap='viridis')\n"
      ],
      "metadata": {
        "id": "ZHxKGA2NFimy"
      },
      "execution_count": null,
      "outputs": []
    },
    {
      "cell_type": "code",
      "source": [
        ""
      ],
      "metadata": {
        "id": "2uo7rZVZFnlZ"
      },
      "execution_count": null,
      "outputs": []
    },
    {
      "cell_type": "markdown",
      "source": [
        "# ** Conclusion**\n",
        "From the above data generated from K-Means clustering, we can see Cluster-1 has around 63% total travelers and cluster 2 has 33% of the travelers. We will target cluster 1 & 2. Cluster 1 contains less frequent or first time travellers, by giving them discount provided they travel more than twice or thrice and introduce more offer if they register or take the membership.\n",
        "\n"
      ],
      "metadata": {
        "id": "tejVToAVFwFr"
      }
    },
    {
      "cell_type": "code",
      "source": [
        ""
      ],
      "metadata": {
        "id": "6GC5TyR5F0Sd"
      },
      "execution_count": null,
      "outputs": []
    }
  ]
}