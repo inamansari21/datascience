{
  "nbformat": 4,
  "nbformat_minor": 0,
  "metadata": {
    "colab": {
      "name": "Clustering crime new.ipynb",
      "provenance": [],
      "authorship_tag": "ABX9TyMu/6kkStsFG9ySwDZoSvQn",
      "include_colab_link": true
    },
    "kernelspec": {
      "name": "python3",
      "display_name": "Python 3"
    },
    "language_info": {
      "name": "python"
    }
  },
  "cells": [
    {
      "cell_type": "markdown",
      "metadata": {
        "id": "view-in-github",
        "colab_type": "text"
      },
      "source": [
        "<a href=\"https://colab.research.google.com/github/inamansari21/datascience/blob/main/Clustering_crime_new.ipynb\" target=\"_parent\"><img src=\"https://colab.research.google.com/assets/colab-badge.svg\" alt=\"Open In Colab\"/></a>"
      ]
    },
    {
      "cell_type": "code",
      "execution_count": null,
      "metadata": {
        "id": "jBj7jw0mGzMn"
      },
      "outputs": [],
      "source": [
        "import numpy as np\n",
        "import pandas as pd\n",
        "from matplotlib import pyplot as plt\n",
        "from sklearn.cluster import KMeans\n",
        "from sklearn.preprocessing import StandardScaler\n",
        "from sklearn import preprocessing\n",
        "import seaborn as sns\n"
      ]
    },
    {
      "cell_type": "code",
      "source": [
        "df = pd.read_csv(\"crime_data.csv\")\n"
      ],
      "metadata": {
        "id": "fFPuCJ2PG_79"
      },
      "execution_count": null,
      "outputs": []
    },
    {
      "cell_type": "code",
      "source": [
        "df1 = df.copy()\n"
      ],
      "metadata": {
        "id": "7FJyyk-yHNkI"
      },
      "execution_count": null,
      "outputs": []
    },
    {
      "cell_type": "code",
      "source": [
        "df1.columns = ['City','Murder' , 'Assault', 'Urbanpop','Rape']\n"
      ],
      "metadata": {
        "id": "BaGRIYkpHZIR"
      },
      "execution_count": null,
      "outputs": []
    },
    {
      "cell_type": "code",
      "source": [
        "df1.loc[:,'Total'] = df1.sum(numeric_only=True, axis=1)\n"
      ],
      "metadata": {
        "id": "Jwyl-C5LHcZE"
      },
      "execution_count": null,
      "outputs": []
    },
    {
      "cell_type": "code",
      "source": [
        "df1.head()\n"
      ],
      "metadata": {
        "id": "pi0VIMvtHexf"
      },
      "execution_count": null,
      "outputs": []
    },
    {
      "cell_type": "code",
      "source": [
        "df1.describe()\n"
      ],
      "metadata": {
        "id": "hhNoxommHjuN"
      },
      "execution_count": null,
      "outputs": []
    },
    {
      "cell_type": "code",
      "source": [
        "f, ax = plt.subplots(figsize=(16, 10))\n",
        "\n",
        "stats = df1.sort_values(\"Total\", ascending=False)\n",
        "\n",
        "sns.set_color_codes(\"pastel\")\n",
        "\n",
        "sns.barplot(x=\"Total\", y=\"City\", data=stats,\n",
        "            label=\"Total\", color=\"g\")\n",
        "\n",
        "sns.barplot(x=\"Assault\", y=\"City\", data=stats,\n",
        "            label=\"Assault\", color=\"b\")\n"
      ],
      "metadata": {
        "id": "mzMye0CDHqmV"
      },
      "execution_count": null,
      "outputs": []
    },
    {
      "cell_type": "code",
      "source": [
        "plt.scatter(df1.City, df1.Murder, color='r')\n",
        "plt.scatter(df1.City, df1.Assault, color='g')\n",
        "plt.scatter(df1.City, df1.Urbanpop, color='b')\n",
        "plt.scatter(df1.City, df1.Rape, color='y')\n",
        "plt.xlabel('city')\n",
        "plt.ylabel('rate')\n",
        "plt.show()\n"
      ],
      "metadata": {
        "id": "69hJbp4WHwk1"
      },
      "execution_count": null,
      "outputs": []
    },
    {
      "cell_type": "markdown",
      "source": [
        "# **finding the no. of clusters**"
      ],
      "metadata": {
        "id": "6nBFZ9XJIO2L"
      }
    },
    {
      "cell_type": "code",
      "source": [
        "X = df1[['Murder', 'Assault', 'Rape', 'Urbanpop']]\n"
      ],
      "metadata": {
        "id": "eGxTCNL9H4Pk"
      },
      "execution_count": null,
      "outputs": []
    },
    {
      "cell_type": "code",
      "source": [
        "df1_norm = preprocessing.scale(X)\n"
      ],
      "metadata": {
        "id": "ntb9YxxCIWyo"
      },
      "execution_count": null,
      "outputs": []
    },
    {
      "cell_type": "code",
      "source": [
        "df1_norm = pd.DataFrame(df1_norm) #standardize the data to normal distribution\n"
      ],
      "metadata": {
        "id": "ZF9LEwZ0IaJn"
      },
      "execution_count": null,
      "outputs": []
    },
    {
      "cell_type": "code",
      "source": [
        "df1_norm.head()\n"
      ],
      "metadata": {
        "id": "889Rjf56Icx1"
      },
      "execution_count": null,
      "outputs": []
    },
    {
      "cell_type": "code",
      "source": [
        "plt.figure(figsize=(10, 8))\n",
        "wcss = []\n",
        "for i in range(1, 15):\n",
        "    kmeans = KMeans(n_clusters = i, init = 'k-means++', random_state = 42)\n",
        "    kmeans.fit(df1_norm)\n",
        "    wcss.append(kmeans.inertia_)\n",
        "plt.plot(range(1, 15), wcss)\n",
        "plt.title('The Elbow Method')\n",
        "plt.xlabel('Number of clusters')\n",
        "plt.ylabel('WCSS')\n",
        "plt.show()\n"
      ],
      "metadata": {
        "id": "QYayEhGOIf-Z"
      },
      "execution_count": null,
      "outputs": []
    },
    {
      "cell_type": "markdown",
      "source": [
        "The screen plot levels off at k=4 and let's use it to determine the clusters\n"
      ],
      "metadata": {
        "id": "Yc1MC2SAIv_m"
      }
    },
    {
      "cell_type": "markdown",
      "source": [
        "# **analysing the data**"
      ],
      "metadata": {
        "id": "aq_AQJRuI1OL"
      }
    },
    {
      "cell_type": "code",
      "source": [
        "kmeans = KMeans(n_clusters = 4, init = 'k-means++', random_state = 42)\n",
        "y_kmeans = kmeans.fit_predict(df1_norm)\n"
      ],
      "metadata": {
        "id": "q9QHG67dIlQ7"
      },
      "execution_count": null,
      "outputs": []
    },
    {
      "cell_type": "code",
      "source": [
        "y_kmeans\n"
      ],
      "metadata": {
        "id": "Xd68PstXI6YO"
      },
      "execution_count": null,
      "outputs": []
    },
    {
      "cell_type": "code",
      "source": [
        "y_kmeans1=y_kmeans+1\n",
        "cluster = list(y_kmeans1)\n"
      ],
      "metadata": {
        "id": "4jnyyM0eJBGq"
      },
      "execution_count": null,
      "outputs": []
    },
    {
      "cell_type": "code",
      "source": [
        "df1['cluster'] = cluster\n"
      ],
      "metadata": {
        "id": "QP-WYUBBJFY7"
      },
      "execution_count": null,
      "outputs": []
    },
    {
      "cell_type": "code",
      "source": [
        "kmeans_mean_cluster = pd.DataFrame(round(df1.groupby('cluster').mean(),1))\n",
        "kmeans_mean_cluster\n"
      ],
      "metadata": {
        "id": "rJObnuYpJIto"
      },
      "execution_count": null,
      "outputs": []
    },
    {
      "cell_type": "code",
      "source": [
        "plt.figure(figsize=(12,6))\n",
        "sns.scatterplot(x=df1['Murder'], y = df1['Assault'],hue=y_kmeans1)\n"
      ],
      "metadata": {
        "id": "uinQZNJRJMQe"
      },
      "execution_count": null,
      "outputs": []
    },
    {
      "cell_type": "code",
      "source": [
        "plt.figure(figsize=(12,6))\n",
        "sns.scatterplot(x=df1['Murder'], y = df1['Rape'],hue=y_kmeans1)\n"
      ],
      "metadata": {
        "id": "XMytt6w3JQy1"
      },
      "execution_count": null,
      "outputs": []
    },
    {
      "cell_type": "code",
      "source": [
        "plt.figure(figsize=(12,6))\n",
        "sns.scatterplot(x=df1['Rape'], y = df1['Assault'],hue=y_kmeans1)\n"
      ],
      "metadata": {
        "id": "oFIEt2VPJVO8"
      },
      "execution_count": null,
      "outputs": []
    },
    {
      "cell_type": "code",
      "source": [
        "stats = df1.sort_values(\"Total\", ascending=True)\n",
        "df1_total= pd.DataFrame(stats)\n"
      ],
      "metadata": {
        "id": "J7vb5TjIJlXs"
      },
      "execution_count": null,
      "outputs": []
    },
    {
      "cell_type": "code",
      "source": [
        "df1_total.head()\n"
      ],
      "metadata": {
        "id": "559nCxGuJqAP"
      },
      "execution_count": null,
      "outputs": []
    },
    {
      "cell_type": "markdown",
      "source": [
        "## Conclusion\n",
        "1 - Analysing Murder and Assault variables shows a clearer connection between them. Higher the murder rates in a city higer the assaults and vice versa\n",
        "\n",
        "2 = Contrary to murders and assaults, there is much more spread among the clusters when comparing murders and rapes. Some correlation is visible, but low murder rates in a city seem to indicate lower number of rapes and vice versa\n",
        "\n",
        "3 - As with murder and assault, also rates of rape and assault show clearer correlations\n",
        "\n"
      ],
      "metadata": {
        "id": "wMoijJHgJwoE"
      }
    },
    {
      "cell_type": "code",
      "source": [
        ""
      ],
      "metadata": {
        "id": "p-99v7mHJscq"
      },
      "execution_count": null,
      "outputs": []
    }
  ]
}