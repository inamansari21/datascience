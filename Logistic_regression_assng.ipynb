{
  "nbformat": 4,
  "nbformat_minor": 0,
  "metadata": {
    "colab": {
      "name": "Logistic_regression_assng.ipynb",
      "provenance": [],
      "authorship_tag": "ABX9TyP68NIHPIiJH5ZQYdLeuUKT",
      "include_colab_link": true
    },
    "kernelspec": {
      "name": "python3",
      "display_name": "Python 3"
    },
    "language_info": {
      "name": "python"
    }
  },
  "cells": [
    {
      "cell_type": "markdown",
      "metadata": {
        "id": "view-in-github",
        "colab_type": "text"
      },
      "source": [
        "<a href=\"https://colab.research.google.com/github/inamansari21/datascience/blob/main/Logistic_regression_assng.ipynb\" target=\"_parent\"><img src=\"https://colab.research.google.com/assets/colab-badge.svg\" alt=\"Open In Colab\"/></a>"
      ]
    },
    {
      "cell_type": "code",
      "execution_count": null,
      "metadata": {
        "id": "rOAUe742vZFo"
      },
      "outputs": [],
      "source": [
        "import pandas as pd\n",
        "import seaborn as sb\n",
        "from sklearn.linear_model import LogisticRegression\n"
      ]
    },
    {
      "cell_type": "code",
      "source": [
        "app_log = pd.read_csv(\"bank-full.csv\",sep=';')\n"
      ],
      "metadata": {
        "id": "ntjErlnYvjo7"
      },
      "execution_count": null,
      "outputs": []
    },
    {
      "cell_type": "code",
      "source": [
        "app_log.tail()\n"
      ],
      "metadata": {
        "id": "LurYxUR2v4RN"
      },
      "execution_count": null,
      "outputs": []
    },
    {
      "cell_type": "code",
      "source": [
        "app_log.columns\n"
      ],
      "metadata": {
        "id": "AE_2NrCov9Q3"
      },
      "execution_count": null,
      "outputs": []
    },
    {
      "cell_type": "code",
      "source": [
        "# select columns\n",
        "columns = ['age', 'balance', 'duration', 'campaign', 'y']\n",
        "app_log_sel = app_log[columns]\n",
        "app_log_sel.info()\n"
      ],
      "metadata": {
        "id": "-rrUZZOWwCT_"
      },
      "execution_count": null,
      "outputs": []
    },
    {
      "cell_type": "code",
      "source": [
        "pd.crosstab(app_log_sel.age,app_log_sel.y).plot(kind=\"line\")\n"
      ],
      "metadata": {
        "id": "PG8RV9DnwSgh"
      },
      "execution_count": null,
      "outputs": []
    },
    {
      "cell_type": "code",
      "source": [
        "sb.boxplot(data =app_log_sel,orient = \"v\")\n"
      ],
      "metadata": {
        "id": "KrwCA-xJwdA5"
      },
      "execution_count": null,
      "outputs": []
    },
    {
      "cell_type": "code",
      "source": [
        "app_log_sel['outcome'] = app_log_sel.y.map({'no':0, 'yes':1})\n",
        "app_log_sel.tail(10)\n"
      ],
      "metadata": {
        "id": "SF8F-ExNwiqY"
      },
      "execution_count": null,
      "outputs": []
    },
    {
      "cell_type": "code",
      "source": [
        "app_log_sel.boxplot(column='age', by='outcome')\n"
      ],
      "metadata": {
        "id": "nfIiAcShwnmf"
      },
      "execution_count": null,
      "outputs": []
    },
    {
      "cell_type": "code",
      "source": [
        "feature_col=['age','balance','duration','campaign']\n",
        "output_target=['outcome']\n",
        "X = app_log_sel[feature_col]\n",
        "Y = app_log_sel[output_target]\n"
      ],
      "metadata": {
        "id": "oBm-fT4qwrzV"
      },
      "execution_count": null,
      "outputs": []
    },
    {
      "cell_type": "code",
      "source": [
        "classifier = LogisticRegression()\n",
        "classifier.fit(X,Y)\n"
      ],
      "metadata": {
        "id": "6j9mtC6cwxzz"
      },
      "execution_count": null,
      "outputs": []
    },
    {
      "cell_type": "code",
      "source": [
        "LogisticRegression(C=1.0, class_weight=None, dual=False, fit_intercept=True,\n",
        "                   intercept_scaling=1, l1_ratio=None, max_iter=100,\n",
        "                   multi_class='auto', n_jobs=None, penalty='l2',\n",
        "                   random_state=None, solver='lbfgs', tol=0.0001, verbose=0,\n",
        "                   warm_start=False)\n"
      ],
      "metadata": {
        "id": "AJ6Ax5tBw5XM"
      },
      "execution_count": null,
      "outputs": []
    },
    {
      "cell_type": "code",
      "source": [
        "classifier.coef_ # coefficients of features \n"
      ],
      "metadata": {
        "id": "Ebr0lNDCxAMp"
      },
      "execution_count": null,
      "outputs": []
    },
    {
      "cell_type": "code",
      "source": [
        "classifier.predict_proba (X) # Probability values \n"
      ],
      "metadata": {
        "id": "d8S3_bWWxH96"
      },
      "execution_count": null,
      "outputs": []
    },
    {
      "cell_type": "code",
      "source": [
        "y_pred = classifier.predict(X)\n",
        "y_pred\n"
      ],
      "metadata": {
        "id": "_Sk7e4LyxcR9"
      },
      "execution_count": null,
      "outputs": []
    },
    {
      "cell_type": "code",
      "source": [
        "from sklearn.metrics import confusion_matrix\n",
        "confusion_matrix = confusion_matrix(Y,y_pred)\n",
        "print (confusion_matrix)\n"
      ],
      "metadata": {
        "id": "v6n0gm-9xjyX"
      },
      "execution_count": null,
      "outputs": []
    },
    {
      "cell_type": "code",
      "source": [
        "import matplotlib.pyplot as plt\n",
        "sb.heatmap(confusion_matrix, annot=True)\n",
        "plt.ylabel('Actual Label')\n",
        "plt.xlabel('Predicted Label')\n"
      ],
      "metadata": {
        "id": "xB0HYXA2xp6t"
      },
      "execution_count": null,
      "outputs": []
    },
    {
      "cell_type": "code",
      "source": [
        ""
      ],
      "metadata": {
        "id": "FE_IDTW3xw2A"
      },
      "execution_count": null,
      "outputs": []
    }
  ]
}