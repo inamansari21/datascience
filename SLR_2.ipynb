{
  "nbformat": 4,
  "nbformat_minor": 0,
  "metadata": {
    "colab": {
      "name": "SLR 2.ipynb",
      "provenance": [],
      "authorship_tag": "ABX9TyN+3o/x0UZSeQ75YXASCvzM",
      "include_colab_link": true
    },
    "kernelspec": {
      "name": "python3",
      "display_name": "Python 3"
    },
    "language_info": {
      "name": "python"
    }
  },
  "cells": [
    {
      "cell_type": "markdown",
      "metadata": {
        "id": "view-in-github",
        "colab_type": "text"
      },
      "source": [
        "<a href=\"https://colab.research.google.com/github/inamansari21/datascience/blob/main/SLR_2.ipynb\" target=\"_parent\"><img src=\"https://colab.research.google.com/assets/colab-badge.svg\" alt=\"Open In Colab\"/></a>"
      ]
    },
    {
      "cell_type": "code",
      "execution_count": null,
      "metadata": {
        "id": "l4-JUyWv0irt"
      },
      "outputs": [],
      "source": [
        "import numpy as np\n",
        "import pandas as pd\n",
        "import matplotlib.pyplot as plt\n",
        "import statsmodels.api as sm\n",
        "from numpy.polynomial.polynomial import polyfit\n",
        "from sklearn.linear_model import LinearRegression\n"
      ]
    },
    {
      "cell_type": "markdown",
      "source": [
        "# **Problem statement**\n",
        "_Salary_hike -> Build a prediction model for Salaryhike\n",
        "\n"
      ],
      "metadata": {
        "id": "17nEah1q02m0"
      }
    },
    {
      "cell_type": "code",
      "source": [
        "df = pd.read_csv(\"Salary_Data.csv\")\n"
      ],
      "metadata": {
        "id": "xvh09CX-1GdP"
      },
      "execution_count": null,
      "outputs": []
    },
    {
      "cell_type": "markdown",
      "source": [
        "# **scatter plot**"
      ],
      "metadata": {
        "id": "2T5OGUZB1dZC"
      }
    },
    {
      "cell_type": "code",
      "source": [
        "x = df['YearsExperience']\n",
        "y = df['Salary']\n"
      ],
      "metadata": {
        "id": "12b5t0Ph1hDe"
      },
      "execution_count": null,
      "outputs": []
    },
    {
      "cell_type": "code",
      "source": [
        "b, m = polyfit(x, y, 1)\n",
        "plt.scatter(x, y)\n",
        "plt.plot(x, y, '.')\n",
        "plt.plot(x, b + m * x, '-')\n",
        "plt.title('Scatter plot Salary Hike')\n",
        "plt.xlabel('Years of Experience')\n",
        "plt.ylabel('Salary Hike')\n",
        "plt.show()\n"
      ],
      "metadata": {
        "id": "gWJg0x-11hvk"
      },
      "execution_count": null,
      "outputs": []
    },
    {
      "cell_type": "markdown",
      "source": [
        "# **Correlation analysis**"
      ],
      "metadata": {
        "id": "hWQzYNiP1sfV"
      }
    },
    {
      "cell_type": "code",
      "source": [
        "corr = np.corrcoef(x, y)\n",
        "corr"
      ],
      "metadata": {
        "id": "24VOPYcM1yR3"
      },
      "execution_count": null,
      "outputs": []
    },
    {
      "cell_type": "markdown",
      "source": [
        "# **regression model**\n",
        "# **No transformation**"
      ],
      "metadata": {
        "id": "HiysPkaH2B5I"
      }
    },
    {
      "cell_type": "code",
      "source": [
        "model = sm.OLS(y, x).fit()\n",
        "predictions = model.predict(x)\n"
      ],
      "metadata": {
        "id": "u0cUprh-2MUK"
      },
      "execution_count": null,
      "outputs": []
    },
    {
      "cell_type": "code",
      "source": [
        "model.summary()"
      ],
      "metadata": {
        "id": "gbwkYTSx2TbJ"
      },
      "execution_count": null,
      "outputs": []
    },
    {
      "cell_type": "markdown",
      "source": [
        "# **log transformation of X**"
      ],
      "metadata": {
        "id": "Jm6z3Jd62dLM"
      }
    },
    {
      "cell_type": "code",
      "source": [
        "x_log = np.log(df['YearsExperience'])\n"
      ],
      "metadata": {
        "id": "anMB6XE42jOG"
      },
      "execution_count": null,
      "outputs": []
    },
    {
      "cell_type": "code",
      "source": [
        "model = sm.OLS(y, x_log).fit()\n",
        "predictions = model.predict(x_log)\n"
      ],
      "metadata": {
        "id": "AX_mfJLZ2kzF"
      },
      "execution_count": null,
      "outputs": []
    },
    {
      "cell_type": "code",
      "source": [
        "model.summary()"
      ],
      "metadata": {
        "id": "l9lN1Vtt2ooV"
      },
      "execution_count": null,
      "outputs": []
    },
    {
      "cell_type": "markdown",
      "source": [
        "# **log transformation of Y**"
      ],
      "metadata": {
        "id": "PqfBFFKP21bP"
      }
    },
    {
      "cell_type": "code",
      "source": [
        "y_log = np.log(df['Salary'])\n"
      ],
      "metadata": {
        "id": "bLrNv0C027Nq"
      },
      "execution_count": null,
      "outputs": []
    },
    {
      "cell_type": "code",
      "source": [
        "model = sm.OLS(y_log, x).fit()\n",
        "predictions = model.predict(x)\n"
      ],
      "metadata": {
        "id": "MNKwqANZ28YV"
      },
      "execution_count": null,
      "outputs": []
    },
    {
      "cell_type": "code",
      "source": [
        "model.summary()"
      ],
      "metadata": {
        "id": "CjSh8bH53Buu"
      },
      "execution_count": null,
      "outputs": []
    },
    {
      "cell_type": "markdown",
      "source": [
        "# **log transformation of X and Y**"
      ],
      "metadata": {
        "id": "0jEVzEFl3Lx2"
      }
    },
    {
      "cell_type": "code",
      "source": [
        "model = sm.OLS(y_log, x_log).fit()\n",
        "predictions = model.predict(x_log)\n"
      ],
      "metadata": {
        "id": "djcfkff23SUK"
      },
      "execution_count": null,
      "outputs": []
    },
    {
      "cell_type": "code",
      "source": [
        "model.summary()"
      ],
      "metadata": {
        "id": "NRUHwhRs3S78"
      },
      "execution_count": null,
      "outputs": []
    },
    {
      "cell_type": "markdown",
      "source": [
        "# **square root transformation of X**"
      ],
      "metadata": {
        "id": "9cZ9c-Nk3eYh"
      }
    },
    {
      "cell_type": "code",
      "source": [
        "x_sqrt = np.sqrt(df['YearsExperience'])\n"
      ],
      "metadata": {
        "id": "jq_JA1bR3kpX"
      },
      "execution_count": null,
      "outputs": []
    },
    {
      "cell_type": "code",
      "source": [
        "model = sm.OLS(y, x_sqrt).fit()\n",
        "predictions = model.predict(x_sqrt)\n"
      ],
      "metadata": {
        "id": "TYymgkM23lia"
      },
      "execution_count": null,
      "outputs": []
    },
    {
      "cell_type": "code",
      "source": [
        "model.summary()"
      ],
      "metadata": {
        "id": "tQCHlog93uhi"
      },
      "execution_count": null,
      "outputs": []
    },
    {
      "cell_type": "markdown",
      "source": [
        "# **square root transformation of Y**"
      ],
      "metadata": {
        "id": "SBwr9SBt3zOw"
      }
    },
    {
      "cell_type": "code",
      "source": [
        "y_sqrt = np.sqrt(df['Salary'])\n"
      ],
      "metadata": {
        "id": "_BP7gz6n37KP"
      },
      "execution_count": null,
      "outputs": []
    },
    {
      "cell_type": "code",
      "source": [
        "model = sm.OLS(y_sqrt, x).fit()\n",
        "predictions = model.predict(x)\n"
      ],
      "metadata": {
        "id": "yxFU6wY64AS5"
      },
      "execution_count": null,
      "outputs": []
    },
    {
      "cell_type": "code",
      "source": [
        "model.summary()"
      ],
      "metadata": {
        "id": "ucjqmtHZ4DMS"
      },
      "execution_count": null,
      "outputs": []
    },
    {
      "cell_type": "markdown",
      "source": [
        "# **square root transformation of X and Y**"
      ],
      "metadata": {
        "id": "uRAXOg0R4LJL"
      }
    },
    {
      "cell_type": "code",
      "source": [
        "model = sm.OLS(y_sqrt, x_sqrt).fit()\n",
        "predictions = model.predict(x_sqrt)\n"
      ],
      "metadata": {
        "id": "9_q4XHek4T1a"
      },
      "execution_count": null,
      "outputs": []
    },
    {
      "cell_type": "code",
      "source": [
        "model.summary()"
      ],
      "metadata": {
        "id": "yVkGSmXr4UrK"
      },
      "execution_count": null,
      "outputs": []
    },
    {
      "cell_type": "markdown",
      "source": [
        "# **output Interpretation**\n",
        "We will use Model (sqaure root transformation of x) as it has the best R square value\n",
        "\n",
        "1 - p-value < 0.01\n",
        "Thus the model is accepted\n",
        "\n",
        "2 - coefficient == 3.48e+04\n",
        "Thus if the value of years of experience is increased by 1, the predicted value of Salary hike will increase by 3.48e+04\n",
        "\n",
        "3 - Adj. R-sqared == 0.989\n",
        "Thus the model explains 98.9% of the variance in dependent variable\n",
        "\n",
        "\n",
        "\n"
      ],
      "metadata": {
        "id": "qXiCN41a4lIL"
      }
    },
    {
      "cell_type": "code",
      "source": [
        ""
      ],
      "metadata": {
        "id": "URP-0kWM4rt1"
      },
      "execution_count": null,
      "outputs": []
    }
  ]
}