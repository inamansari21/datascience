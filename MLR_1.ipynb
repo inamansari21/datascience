{
  "nbformat": 4,
  "nbformat_minor": 0,
  "metadata": {
    "colab": {
      "name": "MLR 1.ipynb",
      "provenance": [],
      "authorship_tag": "ABX9TyPbUAOIqIzZTHIeicJyGQQ2",
      "include_colab_link": true
    },
    "kernelspec": {
      "name": "python3",
      "display_name": "Python 3"
    },
    "language_info": {
      "name": "python"
    }
  },
  "cells": [
    {
      "cell_type": "markdown",
      "metadata": {
        "id": "view-in-github",
        "colab_type": "text"
      },
      "source": [
        "<a href=\"https://colab.research.google.com/github/inamansari21/datascience/blob/main/MLR_1.ipynb\" target=\"_parent\"><img src=\"https://colab.research.google.com/assets/colab-badge.svg\" alt=\"Open In Colab\"/></a>"
      ]
    },
    {
      "cell_type": "code",
      "execution_count": null,
      "metadata": {
        "id": "0TSacjHs55I_"
      },
      "outputs": [],
      "source": [
        "import numpy as np\n",
        "import pandas as pd\n",
        "import matplotlib.pyplot as plt\n",
        "import statsmodels.api as sm\n",
        "from numpy.polynomial.polynomial import polyfit\n",
        "from sklearn.linear_model import LinearRegression\n",
        "import seaborn as sns\n",
        "import statsmodels.stats.tests.test_influence\n",
        "from sklearn.feature_selection import RFE\n",
        "from statsmodels.stats.outliers_influence import variance_inflation_factor\n",
        "import math\n"
      ]
    },
    {
      "cell_type": "code",
      "source": [
        "df = pd.read_csv(\"50_Startups.csv\")\n"
      ],
      "metadata": {
        "id": "ntAWM0Bp7OHB"
      },
      "execution_count": null,
      "outputs": []
    },
    {
      "cell_type": "code",
      "source": [
        "df1 = df.copy()\n",
        "df1"
      ],
      "metadata": {
        "id": "z9NRJyVI7Sgs"
      },
      "execution_count": null,
      "outputs": []
    },
    {
      "cell_type": "code",
      "source": [
        "df1.describe\n"
      ],
      "metadata": {
        "id": "zUOOFmUU7X1H"
      },
      "execution_count": null,
      "outputs": []
    },
    {
      "cell_type": "code",
      "source": [
        "sns.pairplot(df1)\n"
      ],
      "metadata": {
        "id": "gDxzV5yt7eYH"
      },
      "execution_count": null,
      "outputs": []
    },
    {
      "cell_type": "markdown",
      "source": [
        "# **correlation matrix**"
      ],
      "metadata": {
        "id": "_C3ne7mh7soA"
      }
    },
    {
      "cell_type": "code",
      "source": [
        "corrMatrix = df1.corr()\n"
      ],
      "metadata": {
        "id": "g3inMJl77yB0"
      },
      "execution_count": null,
      "outputs": []
    },
    {
      "cell_type": "code",
      "source": [
        "sns.heatmap(corrMatrix, annot=True)\n"
      ],
      "metadata": {
        "id": "8_nX4kjf73Xa"
      },
      "execution_count": null,
      "outputs": []
    },
    {
      "cell_type": "markdown",
      "source": [
        "# **regression model**"
      ],
      "metadata": {
        "id": "wDr6noBd7_pR"
      }
    },
    {
      "cell_type": "code",
      "source": [
        "df1 = pd.get_dummies(df1, columns=['State'])\n"
      ],
      "metadata": {
        "id": "JSeLvs7I8Dof"
      },
      "execution_count": null,
      "outputs": []
    },
    {
      "cell_type": "code",
      "source": [
        "X = df1[['R&D Spend','Administration', 'Marketing Spend', 'State_California', 'State_Florida', 'State_New York']]\n",
        "Y = df1[['Profit']]\n"
      ],
      "metadata": {
        "id": "Pjs92DfG8I1T"
      },
      "execution_count": null,
      "outputs": []
    },
    {
      "cell_type": "code",
      "source": [
        "model = sm.OLS(Y, X).fit()\n",
        "predictions = model.predict(X)\n"
      ],
      "metadata": {
        "id": "5WElGlso8MKx"
      },
      "execution_count": null,
      "outputs": []
    },
    {
      "cell_type": "code",
      "source": [
        "model.summary()"
      ],
      "metadata": {
        "id": "Xd0MFsKY8PZv"
      },
      "execution_count": null,
      "outputs": []
    },
    {
      "cell_type": "code",
      "source": [
        ""
      ],
      "metadata": {
        "id": "fF8M5s308Ril"
      },
      "execution_count": null,
      "outputs": []
    },
    {
      "cell_type": "markdown",
      "source": [
        "R sq and p Value of the Model is Good and the model can be accepted. However as you can see not all variables have acceptable p value. Thus we have Multicollinearity issue in our Data Frame\n"
      ],
      "metadata": {
        "id": "wvJ-2PRR8dep"
      }
    },
    {
      "cell_type": "markdown",
      "source": [
        "# **solving multicollinearity**\n",
        "\n",
        "# **finding cook's distance**\n",
        "\n"
      ],
      "metadata": {
        "id": "Mytb30Ci8hlF"
      }
    },
    {
      "cell_type": "code",
      "source": [
        "infl = model.get_influence()\n"
      ],
      "metadata": {
        "id": "C9D8XhnU8oJ-"
      },
      "execution_count": null,
      "outputs": []
    },
    {
      "cell_type": "code",
      "source": [
        "summ_df = infl.summary_frame()\n"
      ],
      "metadata": {
        "id": "pgWHBcxY86Oh"
      },
      "execution_count": null,
      "outputs": []
    },
    {
      "cell_type": "code",
      "source": [
        "summ_df.sort_values('cooks_d', ascending=False)\n"
      ],
      "metadata": {
        "id": "VzKA_OvU9IBw"
      },
      "execution_count": null,
      "outputs": []
    },
    {
      "cell_type": "code",
      "source": [
        "infl.plot_influence()\n"
      ],
      "metadata": {
        "id": "kbdSh-hG9MLM"
      },
      "execution_count": null,
      "outputs": []
    },
    {
      "cell_type": "markdown",
      "source": [
        "Index 48 and 49 has highest Cook's Distance.\n",
        "Thus it will be wise to drop this row from the data set\n",
        "\n"
      ],
      "metadata": {
        "id": "X_oGBH4D9X1e"
      }
    },
    {
      "cell_type": "markdown",
      "source": [
        "# **finding VIF**"
      ],
      "metadata": {
        "id": "b3TpYIdK9l-6"
      }
    },
    {
      "cell_type": "code",
      "source": [
        "vif = pd.DataFrame()\n"
      ],
      "metadata": {
        "id": "F9um3_wh9b_Y"
      },
      "execution_count": null,
      "outputs": []
    },
    {
      "cell_type": "code",
      "source": [
        "vif[\"VIF Factor\"] = [variance_inflation_factor(X.values, i) for i in range(X.shape[1])]\n"
      ],
      "metadata": {
        "id": "RN_bP6YW9stG"
      },
      "execution_count": null,
      "outputs": []
    },
    {
      "cell_type": "code",
      "source": [
        "vif[\"features\"] = X.columns\n"
      ],
      "metadata": {
        "id": "NRONamza9wgN"
      },
      "execution_count": null,
      "outputs": []
    },
    {
      "cell_type": "code",
      "source": [
        "vif.round(1)\n"
      ],
      "metadata": {
        "id": "wNbTUlKb9z4l"
      },
      "execution_count": null,
      "outputs": []
    },
    {
      "cell_type": "markdown",
      "source": [
        "**As expected, Administration has the lowest variance inflation factor We would need to discard this variables to improve model and try to solve multicolinearity.\n",
        "**"
      ],
      "metadata": {
        "id": "V3kWrNBU98vo"
      }
    },
    {
      "cell_type": "code",
      "source": [
        "# Removed administration fron the dataframe and Test the model\n",
        "new_X = df1[['R&D Spend', 'Marketing Spend', 'State_California', 'State_Florida', 'State_New York']]\n"
      ],
      "metadata": {
        "id": "zIaTQ-74-AO2"
      },
      "execution_count": null,
      "outputs": []
    },
    {
      "cell_type": "code",
      "source": [
        "new_model = sm.OLS(Y, new_X).fit()\n",
        "new_predictions = new_model.predict(new_X)\n"
      ],
      "metadata": {
        "id": "YZYTWPZr-H5X"
      },
      "execution_count": null,
      "outputs": []
    },
    {
      "cell_type": "code",
      "source": [
        "new_model.summary()\n"
      ],
      "metadata": {
        "id": "j-fTpDpL-XaV"
      },
      "execution_count": null,
      "outputs": []
    },
    {
      "cell_type": "markdown",
      "source": [
        "**once we remove \"Administration\" from input variables list and run the model again, all the variables are significant.\n",
        "**"
      ],
      "metadata": {
        "id": "Sl3luJst-kBg"
      }
    },
    {
      "cell_type": "markdown",
      "source": [
        "# **FINAL MODEL**"
      ],
      "metadata": {
        "id": "5ScKE6GJ-tKI"
      }
    },
    {
      "cell_type": "code",
      "source": [
        "# Removed Index with highest Cook's distance to remove the hightest influencial ROW\n",
        "new_df = df1.drop(df1.index[[49,48]])\n"
      ],
      "metadata": {
        "id": "NHHLsYEx-p_4"
      },
      "execution_count": null,
      "outputs": []
    },
    {
      "cell_type": "code",
      "source": [
        "new_X = new_df[['R&D Spend', 'Marketing Spend', 'State_California', 'State_Florida', 'State_New York']]\n",
        "new_Y = new_df[['Profit']]\n"
      ],
      "metadata": {
        "id": "32mAthNh-0jT"
      },
      "execution_count": null,
      "outputs": []
    },
    {
      "cell_type": "code",
      "source": [
        "final_model = sm.OLS(new_Y, new_X).fit()\n",
        "predictions = final_model.predict(new_X)\n"
      ],
      "metadata": {
        "id": "94XpCAW1-4QB"
      },
      "execution_count": null,
      "outputs": []
    },
    {
      "cell_type": "code",
      "source": [
        "final_model.summary()\n"
      ],
      "metadata": {
        "id": "qf4Kb-ty-71t"
      },
      "execution_count": null,
      "outputs": []
    },
    {
      "cell_type": "code",
      "source": [
        ""
      ],
      "metadata": {
        "id": "Q4YyF434-_cC"
      },
      "execution_count": null,
      "outputs": []
    },
    {
      "cell_type": "markdown",
      "source": [
        "# **SQUARE ROOT TRANSFORMATION OF X**"
      ],
      "metadata": {
        "id": "smyfPOuw_LbB"
      }
    },
    {
      "cell_type": "code",
      "source": [
        "X_sqrt = np.sqrt(new_df[['R&D Spend', 'Marketing Spend', 'State_California', 'State_Florida', 'State_New York']])\n"
      ],
      "metadata": {
        "id": "RaxA6Xgv_TEc"
      },
      "execution_count": null,
      "outputs": []
    },
    {
      "cell_type": "code",
      "source": [
        "model3 = sm.OLS(new_Y, X_sqrt).fit()\n",
        "predictions3 = model3.predict(X_sqrt)\n"
      ],
      "metadata": {
        "id": "bpCy_5P2_WFz"
      },
      "execution_count": null,
      "outputs": []
    },
    {
      "cell_type": "code",
      "source": [
        "model3.summary()"
      ],
      "metadata": {
        "id": "4kSiTr0k_bpm"
      },
      "execution_count": null,
      "outputs": []
    },
    {
      "cell_type": "markdown",
      "source": [
        "# **square root transformation of Y**"
      ],
      "metadata": {
        "id": "dKcMgX6D_kGM"
      }
    },
    {
      "cell_type": "code",
      "source": [
        "Y_sqrt = np.sqrt(new_df['Profit'])\n"
      ],
      "metadata": {
        "id": "dAgKBmeg_p8G"
      },
      "execution_count": null,
      "outputs": []
    },
    {
      "cell_type": "code",
      "source": [
        "model4 = sm.OLS(Y_sqrt, new_X).fit()\n",
        "predictions4 = model4.predict(new_X)\n"
      ],
      "metadata": {
        "id": "o8bwRcyg_v5Y"
      },
      "execution_count": null,
      "outputs": []
    },
    {
      "cell_type": "code",
      "source": [
        "model4.summary()"
      ],
      "metadata": {
        "id": "piz1nEom_zdO"
      },
      "execution_count": null,
      "outputs": []
    },
    {
      "cell_type": "code",
      "source": [
        ""
      ],
      "metadata": {
        "id": "A4u-meKS_2eH"
      },
      "execution_count": null,
      "outputs": []
    },
    {
      "cell_type": "markdown",
      "source": [
        "# **square root transformation of X and Y**"
      ],
      "metadata": {
        "id": "Jj7fbw4Y_8JO"
      }
    },
    {
      "cell_type": "code",
      "source": [
        "model5 = sm.OLS(Y_sqrt, X_sqrt).fit()\n",
        "predictions5 = model5.predict(X_sqrt)\n"
      ],
      "metadata": {
        "id": "Jqaj9UG5AEmV"
      },
      "execution_count": null,
      "outputs": []
    },
    {
      "cell_type": "code",
      "source": [
        "model5.summary()"
      ],
      "metadata": {
        "id": "IFxPOY2GAFSR"
      },
      "execution_count": null,
      "outputs": []
    },
    {
      "cell_type": "markdown",
      "source": [
        "# **output interpretation**\n",
        "We will use Model5  as it has the best R square value 1 - p-value < 0.01\n",
        "Thus the model is accepted\n",
        "\n",
        "2 - coefficient == 1 Thus if the value of x increased by 1, the predicted value of Price will increase by 1\n",
        "\n",
        "3 - Adj. R-sqared == 1\n",
        "Thus the model explains 100% of the variance in dependent variable\n",
        "\n"
      ],
      "metadata": {
        "id": "_4fzcnuDAQkQ"
      }
    },
    {
      "cell_type": "code",
      "source": [
        "|"
      ],
      "metadata": {
        "id": "hkPf-XabAiK-"
      },
      "execution_count": null,
      "outputs": []
    }
  ]
}