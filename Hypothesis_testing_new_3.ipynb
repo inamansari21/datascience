{
  "nbformat": 4,
  "nbformat_minor": 0,
  "metadata": {
    "colab": {
      "name": "Hypothesis testing new 3.ipynb",
      "provenance": [],
      "authorship_tag": "ABX9TyNKo5ES3Djbc9gLnnRIdj+b",
      "include_colab_link": true
    },
    "kernelspec": {
      "name": "python3",
      "display_name": "Python 3"
    },
    "language_info": {
      "name": "python"
    }
  },
  "cells": [
    {
      "cell_type": "markdown",
      "metadata": {
        "id": "view-in-github",
        "colab_type": "text"
      },
      "source": [
        "<a href=\"https://colab.research.google.com/github/inamansari21/datascience/blob/main/Hypothesis_testing_new_3.ipynb\" target=\"_parent\"><img src=\"https://colab.research.google.com/assets/colab-badge.svg\" alt=\"Open In Colab\"/></a>"
      ]
    },
    {
      "cell_type": "code",
      "execution_count": 1,
      "metadata": {
        "id": "sdK-MmzrMOYa"
      },
      "outputs": [],
      "source": [
        "import pandas as pd\n",
        "import numpy as np\n",
        "from scipy import stats\n"
      ]
    },
    {
      "cell_type": "markdown",
      "source": [
        "## Problem Statement :\n",
        "Sales of products in four different regions is tabulated for males and females. Find if male-female buyer rations are similar across regions\n",
        "\n",
        "\n",
        "**Is the male-female buyer rations are similar across regions**\n",
        "\n"
      ],
      "metadata": {
        "id": "hVpH1kjpMuQ5"
      }
    },
    {
      "cell_type": "markdown",
      "source": [
        "# Data description\n",
        "\n",
        "α == 0.05 (95% Confidence)\n",
        "\n",
        "Y == Discrete\n",
        "X == Discrete\n",
        "\n",
        "Since there are more than 2 variable we will perform Chi-Square test\n",
        "\n"
      ],
      "metadata": {
        "id": "WWvi_-rRM_db"
      }
    },
    {
      "cell_type": "markdown",
      "source": [
        "## Chi-square test"
      ],
      "metadata": {
        "id": "BurPZLjRNQB7"
      }
    },
    {
      "cell_type": "code",
      "source": [
        "df = pd.read_csv(\"BuyerRatio.csv\")\n"
      ],
      "metadata": {
        "id": "8RkEBgHwMrsc"
      },
      "execution_count": 2,
      "outputs": []
    },
    {
      "cell_type": "markdown",
      "source": [
        "H0 == The male-female buyer rations are similar across regions\n",
        "\n",
        "H1 == The male-female buyer rations are not similar across regions\n",
        "\n"
      ],
      "metadata": {
        "id": "j70guPF_NhX3"
      }
    },
    {
      "cell_type": "code",
      "source": [
        "stats.chi2_contingency([df[\"East\"], df[\"West\"], df[\"North\"], df[\"South\"]])\n"
      ],
      "metadata": {
        "colab": {
          "base_uri": "https://localhost:8080/"
        },
        "id": "ZfMFiAWRNc7e",
        "outputId": "beb64330-c94a-4b4a-b456-b7a5e0309328"
      },
      "execution_count": 3,
      "outputs": [
        {
          "output_type": "execute_result",
          "data": {
            "text/plain": [
              "(1.5959455386610577,\n",
              " 0.6603094907091882,\n",
              " 3,\n",
              " array([[  42.76531299,  442.23468701],\n",
              "        [ 146.81287862, 1518.18712138],\n",
              "        [ 131.11756787, 1355.88243213],\n",
              "        [  72.30424052,  747.69575948]]))"
            ]
          },
          "metadata": {},
          "execution_count": 3
        }
      ]
    },
    {
      "cell_type": "markdown",
      "source": [
        "P value of Chi-Square test == 0.66 > α\n",
        "\n",
        "**Thus HO is accepted.**\n",
        "\n",
        "**The male-female buyer rations are similar across regions**\n"
      ],
      "metadata": {
        "id": "E1gSoyyzNsdX"
      }
    },
    {
      "cell_type": "code",
      "source": [
        ""
      ],
      "metadata": {
        "id": "Zyz8gSZRNmTY"
      },
      "execution_count": null,
      "outputs": []
    }
  ]
}