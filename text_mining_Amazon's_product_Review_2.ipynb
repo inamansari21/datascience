{
  "cells": [
    {
      "cell_type": "markdown",
      "metadata": {
        "id": "view-in-github",
        "colab_type": "text"
      },
      "source": [
        "<a href=\"https://colab.research.google.com/github/inamansari21/datascience/blob/main/text_mining_Amazon's_product_Review_2.ipynb\" target=\"_parent\"><img src=\"https://colab.research.google.com/assets/colab-badge.svg\" alt=\"Open In Colab\"/></a>"
      ]
    },
    {
      "cell_type": "code",
      "source": [
        "pip install selenium"
      ],
      "metadata": {
        "id": "vZg_EBj-Vj6n"
      },
      "id": "vZg_EBj-Vj6n",
      "execution_count": null,
      "outputs": []
    },
    {
      "cell_type": "code",
      "execution_count": null,
      "id": "6fcc2d55",
      "metadata": {
        "id": "6fcc2d55"
      },
      "outputs": [],
      "source": [
        "import pandas as pd\n",
        "import numpy as np\n",
        "import tweepy\n",
        "import re \n",
        "import matplotlib.pyplot as plt\n",
        "from wordcloud import WordCloud\n",
        "from nltk.tokenize import word_tokenize\n",
        "import nltk\n",
        "from nltk.stem import WordNetLemmatizer\n",
        "from nltk.corpus import stopwords\n",
        "wordnet = WordNetLemmatizer()\n",
        "import re\n",
        "from nltk.tokenize import sent_tokenize\n",
        "from sklearn.feature_extraction.text import TfidfVectorizer\n",
        "import requests\n",
        "from bs4 import BeautifulSoup as bs\n",
        "from selenium import webdriver"
      ]
    },
    {
      "cell_type": "code",
      "execution_count": null,
      "id": "89837399",
      "metadata": {
        "id": "89837399"
      },
      "outputs": [],
      "source": [
        "samsung_reviews=[]"
      ]
    },
    {
      "cell_type": "markdown",
      "id": "c390b2fe",
      "metadata": {
        "id": "c390b2fe"
      },
      "source": [
        "## Extracting reviews from amazon for product Samsung Galaxy S20"
      ]
    },
    {
      "cell_type": "code",
      "execution_count": null,
      "id": "f949099a",
      "metadata": {
        "id": "f949099a"
      },
      "outputs": [],
      "source": [
        "for i in range (1,31):\n",
        "    op=[]\n",
        "    url =\"https://www.amazon.in/product-reviews/B08444S68Q/ref=acr_dp_hist_5?ie=UTF8&filterByStar=five_star&reviewerType=all_reviews\"+str(i)\n",
        "    response = requests.get(url)\n",
        "    soup = bs(response.content,\"html.parser\")\n",
        "    reviews = soup.findAll(\"span\",attrs = {\"class\",\"a-size-base review-text review-text-content\"})\n",
        "    for i in range(len(reviews)):\n",
        "        op.append(reviews[i].text)    \n",
        "    samsung_reviews = samsung_reviews+op"
      ]
    },
    {
      "cell_type": "code",
      "execution_count": null,
      "id": "10f03def",
      "metadata": {
        "id": "10f03def"
      },
      "outputs": [],
      "source": [
        " samsung_reviews"
      ]
    },
    {
      "cell_type": "code",
      "execution_count": null,
      "id": "521be267",
      "metadata": {
        "id": "521be267"
      },
      "outputs": [],
      "source": [
        "reviews = ' '.join(samsung_reviews)"
      ]
    },
    {
      "cell_type": "markdown",
      "id": "1b7255b6",
      "metadata": {
        "id": "1b7255b6"
      },
      "source": [
        "## Data Cleaning"
      ]
    },
    {
      "cell_type": "code",
      "execution_count": null,
      "id": "e3bba656",
      "metadata": {
        "id": "e3bba656"
      },
      "outputs": [],
      "source": [
        "reviews = re.sub(\"[^A-Za-z\" \"]+\",\" \",reviews).lower() \n",
        "reviews = re.sub(\"[0-9\" \"]+\",\" \",reviews).lower() \n",
        "reviews = re.sub(r'^https?:\\/\\/.*[\\r\\n]*', '', reviews).lower()"
      ]
    },
    {
      "cell_type": "markdown",
      "id": "c3d9eb0c",
      "metadata": {
        "id": "c3d9eb0c"
      },
      "source": [
        "## tokenize"
      ]
    },
    {
      "cell_type": "code",
      "source": [
        "import nltk\n",
        "from nltk import punkt\n",
        "import nltk; nltk.download('punkt')"
      ],
      "metadata": {
        "id": "iIig8h7QWHEc"
      },
      "id": "iIig8h7QWHEc",
      "execution_count": null,
      "outputs": []
    },
    {
      "cell_type": "code",
      "execution_count": null,
      "id": "c563af80",
      "metadata": {
        "id": "c563af80"
      },
      "outputs": [],
      "source": [
        "reviews_token = word_tokenize(reviews)"
      ]
    },
    {
      "cell_type": "code",
      "source": [
        "import nltk; nltk.download('stopwords') \n"
      ],
      "metadata": {
        "id": "K5YqHHz7WvT5"
      },
      "id": "K5YqHHz7WvT5",
      "execution_count": null,
      "outputs": []
    },
    {
      "cell_type": "code",
      "execution_count": null,
      "id": "86072a33",
      "metadata": {
        "id": "86072a33"
      },
      "outputs": [],
      "source": [
        "reviews_without_stopwords = [word for word in reviews_token if not word in stopwords.words()]"
      ]
    },
    {
      "cell_type": "code",
      "execution_count": null,
      "id": "3edee802",
      "metadata": {
        "id": "3edee802"
      },
      "outputs": [],
      "source": [
        "reviews_without_stopwords"
      ]
    },
    {
      "cell_type": "code",
      "execution_count": null,
      "id": "2f2782b5",
      "metadata": {
        "id": "2f2782b5"
      },
      "outputs": [],
      "source": [
        "reviews=' '.join(reviews_without_stopwords)"
      ]
    },
    {
      "cell_type": "markdown",
      "id": "7294f210",
      "metadata": {
        "id": "7294f210"
      },
      "source": [
        "## Word cloud"
      ]
    },
    {
      "cell_type": "code",
      "execution_count": null,
      "id": "0744bc5b",
      "metadata": {
        "id": "0744bc5b"
      },
      "outputs": [],
      "source": [
        "def plot_cloud(wordcloud):\n",
        "    plt.figure(figsize=(40,30))\n",
        "    plt.imshow(wordcloud)\n",
        "    plt.axis('off')\n",
        "    \n",
        "\n",
        "from wordcloud import WordCloud, STOPWORDS\n",
        "STOPWORDS.add('refresh')\n",
        "wordcloud=WordCloud(width=3000,height=2000,background_color='black',max_words=70,\n",
        "                   colormap='Set1',stopwords=STOPWORDS).generate(reviews)\n",
        "plot_cloud(wordcloud)"
      ]
    },
    {
      "cell_type": "markdown",
      "id": "17d3719a",
      "metadata": {
        "id": "17d3719a"
      },
      "source": [
        "### Emotion Mining"
      ]
    },
    {
      "cell_type": "code",
      "execution_count": null,
      "id": "37aa5f3c",
      "metadata": {
        "id": "37aa5f3c"
      },
      "outputs": [],
      "source": [
        "with open(\"negative-words.txt\",\"r\", encoding=\"ISO-8859-1\") as f:\n",
        "    negative=f.read().split(\"\\n\")"
      ]
    },
    {
      "cell_type": "code",
      "execution_count": null,
      "id": "b90a3ca7",
      "metadata": {
        "id": "b90a3ca7"
      },
      "outputs": [],
      "source": [
        "negative = negative[35:]"
      ]
    },
    {
      "cell_type": "code",
      "execution_count": null,
      "id": "995c897a",
      "metadata": {
        "id": "995c897a"
      },
      "outputs": [],
      "source": [
        "reviews_neg=' '.join([word for word in reviews_without_sw if word in negative])"
      ]
    },
    {
      "cell_type": "markdown",
      "id": "f6052192",
      "metadata": {
        "id": "f6052192"
      },
      "source": [
        "### Word Cloud for negative word"
      ]
    },
    {
      "cell_type": "code",
      "execution_count": null,
      "id": "e892a6b7",
      "metadata": {
        "id": "e892a6b7"
      },
      "outputs": [],
      "source": [
        "def plot_cloud(wordcloud):\n",
        "    plt.figure(figsize=(40,30))\n",
        "    plt.imshow(wordcloud)\n",
        "    plt.axis('off')\n",
        "    \n",
        "\n",
        "from wordcloud import WordCloud, STOPWORDS\n",
        "wordcloud=WordCloud(width=3000,height=2000,background_color='black',max_words=70,\n",
        "                   colormap='Set1',stopwords=STOPWORDS).generate(reviews_neg)\n",
        "plot_cloud(wordcloud)"
      ]
    },
    {
      "cell_type": "code",
      "execution_count": null,
      "id": "7fa6a977",
      "metadata": {
        "id": "7fa6a977"
      },
      "outputs": [],
      "source": [
        "with open(\"positive-words.txt\",\"r\") as f:\n",
        "    positive=f.read().split(\"\\n\")"
      ]
    },
    {
      "cell_type": "code",
      "execution_count": null,
      "id": "6c72335b",
      "metadata": {
        "id": "6c72335b"
      },
      "outputs": [],
      "source": [
        "reviews_pos=' '.join([word for word in reviews if word in positive])\n",
        "positive = positive[35:]"
      ]
    },
    {
      "cell_type": "code",
      "execution_count": null,
      "id": "70ebacd9",
      "metadata": {
        "id": "70ebacd9"
      },
      "outputs": [],
      "source": [
        "reviews_pos=' '.join([word for word in reviews_without_sw if word in positive])"
      ]
    },
    {
      "cell_type": "markdown",
      "id": "23e5a3e4",
      "metadata": {
        "id": "23e5a3e4"
      },
      "source": [
        "## Word Cloud for positive word"
      ]
    },
    {
      "cell_type": "code",
      "execution_count": null,
      "id": "090d21c4",
      "metadata": {
        "id": "090d21c4"
      },
      "outputs": [],
      "source": [
        "def plot_cloud(wordcloud):\n",
        "    plt.figure(figsize=(40,30))\n",
        "    plt.imshow(wordcloud)\n",
        "    plt.axis('off')\n",
        "    \n",
        "\n",
        "from wordcloud import WordCloud, STOPWORDS\n",
        "wordcloud=WordCloud(width=3000,height=2000,background_color='black',max_words=70,\n",
        "                   colormap='Set1',stopwords=STOPWORDS).generate(reviews_pos)\n",
        "plot_cloud(wordcloud)"
      ]
    },
    {
      "cell_type": "code",
      "execution_count": null,
      "id": "bd4e28fd",
      "metadata": {
        "id": "bd4e28fd"
      },
      "outputs": [],
      "source": [
        ""
      ]
    }
  ],
  "metadata": {
    "kernelspec": {
      "display_name": "Python 3",
      "language": "python",
      "name": "python3"
    },
    "language_info": {
      "codemirror_mode": {
        "name": "ipython",
        "version": 3
      },
      "file_extension": ".py",
      "mimetype": "text/x-python",
      "name": "python",
      "nbconvert_exporter": "python",
      "pygments_lexer": "ipython3",
      "version": "3.8.8"
    },
    "colab": {
      "name": "text_mining_Amazon's product Review 2.ipynb",
      "provenance": [],
      "collapsed_sections": [],
      "include_colab_link": true
    }
  },
  "nbformat": 4,
  "nbformat_minor": 5
}