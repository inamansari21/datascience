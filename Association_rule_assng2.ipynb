{
  "nbformat": 4,
  "nbformat_minor": 0,
  "metadata": {
    "colab": {
      "name": "Assg_Assiciation_Rule_Book.ipynb",
      "provenance": [],
      "collapsed_sections": [],
      "include_colab_link": true
    },
    "kernelspec": {
      "name": "python3",
      "display_name": "Python 3"
    },
    "language_info": {
      "name": "python"
    }
  },
  "cells": [
    {
      "cell_type": "markdown",
      "metadata": {
        "id": "view-in-github",
        "colab_type": "text"
      },
      "source": [
        "<a href=\"https://colab.research.google.com/github/inamansari21/datascience/blob/main/Association_rule_assng2.ipynb\" target=\"_parent\"><img src=\"https://colab.research.google.com/assets/colab-badge.svg\" alt=\"Open In Colab\"/></a>"
      ]
    },
    {
      "cell_type": "code",
      "execution_count": null,
      "metadata": {
        "id": "B5z9CDCyvBn4"
      },
      "outputs": [],
      "source": [
        "import pandas as pd\n",
        "from mlxtend.frequent_patterns import apriori,association_rules\n",
        "from mlxtend.preprocessing import TransactionEncoder\n",
        "# conda install -c conda-forge mlxtend"
      ]
    },
    {
      "cell_type": "code",
      "source": [
        "books=pd.read_csv(\"book.csv\")\n",
        "books.head()"
      ],
      "metadata": {
        "id": "hg6bTAsMvSAs"
      },
      "execution_count": null,
      "outputs": []
    },
    {
      "cell_type": "code",
      "source": [
        "books.shape\n"
      ],
      "metadata": {
        "id": "XpRTCxrVvSD0"
      },
      "execution_count": null,
      "outputs": []
    },
    {
      "cell_type": "code",
      "source": [
        "books.info()\n"
      ],
      "metadata": {
        "id": "aUJoKTJCvSGR"
      },
      "execution_count": null,
      "outputs": []
    },
    {
      "cell_type": "markdown",
      "source": [
        "**Apriori Algorithm\n",
        "Associations Rule with 0.10% support and 0.70% confidence interval**"
      ],
      "metadata": {
        "id": "zlkgicrYvt0-"
      }
    },
    {
      "cell_type": "code",
      "source": [
        "frequent_itemsets = apriori(books,min_support=0.1,use_colnames=True)\n",
        "frequent_itemsets"
      ],
      "metadata": {
        "id": "SazR0o4lvSJC"
      },
      "execution_count": null,
      "outputs": []
    },
    {
      "cell_type": "code",
      "source": [
        "rules=association_rules(frequent_itemsets,metric = 'lift' ,min_threshold=0.9)\n"
      ],
      "metadata": {
        "id": "kTWT0Q6yvSL6"
      },
      "execution_count": null,
      "outputs": []
    },
    {
      "cell_type": "code",
      "source": [
        "rules[rules.lift>1]\n"
      ],
      "metadata": {
        "id": "sPlQ5EhyvSOF"
      },
      "execution_count": null,
      "outputs": []
    },
    {
      "cell_type": "code",
      "source": [
        "import matplotlib.pyplot as plt\n",
        "plt.scatter(rules['support'],rules['confidence'])\n",
        "plt.xlabel('Support')\n",
        "plt.ylabel('Confidence')\n",
        "plt.show()"
      ],
      "metadata": {
        "id": "Re6l80StvSQe"
      },
      "execution_count": null,
      "outputs": []
    },
    {
      "cell_type": "code",
      "source": [
        "frequent_itemsets.sort_values('support',ascending=False).head(20)"
      ],
      "metadata": {
        "id": "FqxlevgavSS7"
      },
      "execution_count": null,
      "outputs": []
    },
    {
      "cell_type": "code",
      "source": [
        "frequent_itemsets = apriori(books,min_support=0.19,use_colnames=True)\n",
        "frequent_itemsets"
      ],
      "metadata": {
        "id": "6jqsRR_TvSVb"
      },
      "execution_count": null,
      "outputs": []
    },
    {
      "cell_type": "code",
      "source": [
        "rules1=association_rules(frequent_itemsets,metric = 'lift' ,min_threshold=0.9)"
      ],
      "metadata": {
        "id": "9jCNVSVTvSYK"
      },
      "execution_count": null,
      "outputs": []
    },
    {
      "cell_type": "code",
      "source": [
        "rules1[rules1.lift>1]\n"
      ],
      "metadata": {
        "id": "1UG2DUAJvSaN"
      },
      "execution_count": null,
      "outputs": []
    },
    {
      "cell_type": "code",
      "source": [
        "import matplotlib.pyplot as plt\n",
        "plt.scatter(rules1['support'],rules1['confidence'])\n",
        "plt.xlabel('Support')\n",
        "plt.ylabel('Confidence')\n",
        "plt.show()"
      ],
      "metadata": {
        "id": "efhzfGuEvScs"
      },
      "execution_count": null,
      "outputs": []
    },
    {
      "cell_type": "code",
      "source": [
        "frequent_itemsets = apriori(books,min_support=0.10609,use_colnames=True)\n",
        "frequent_itemsets\n"
      ],
      "metadata": {
        "id": "WfWpPFbsvSfU"
      },
      "execution_count": null,
      "outputs": []
    },
    {
      "cell_type": "code",
      "source": [
        "rules2=association_rules(frequent_itemsets,metric = 'lift' ,min_threshold=0.4)"
      ],
      "metadata": {
        "id": "IZde3anpvSh6"
      },
      "execution_count": null,
      "outputs": []
    },
    {
      "cell_type": "code",
      "source": [
        "rules2[rules2.lift>1]\n"
      ],
      "metadata": {
        "id": "4Wr_e0DCvSkh"
      },
      "execution_count": null,
      "outputs": []
    },
    {
      "cell_type": "code",
      "source": [
        "import matplotlib.pyplot as plt\n",
        "plt.scatter(rules2['support'],rules2['confidence'])\n",
        "plt.xlabel('Support')\n",
        "plt.ylabel('Confidence')\n",
        "plt.show()"
      ],
      "metadata": {
        "id": "IUEUGUC5whnK"
      },
      "execution_count": null,
      "outputs": []
    },
    {
      "cell_type": "code",
      "source": [
        ""
      ],
      "metadata": {
        "id": "bZqCf6wXwhlW"
      },
      "execution_count": null,
      "outputs": []
    },
    {
      "cell_type": "code",
      "source": [
        ""
      ],
      "metadata": {
        "id": "Zwuia4ZKwhik"
      },
      "execution_count": null,
      "outputs": []
    }
  ]
}