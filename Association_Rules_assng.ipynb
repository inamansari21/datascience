{
  "nbformat": 4,
  "nbformat_minor": 0,
  "metadata": {
    "colab": {
      "name": "Association_Rules_assng.ipynb",
      "provenance": [],
      "collapsed_sections": [],
      "include_colab_link": true
    },
    "kernelspec": {
      "name": "python3",
      "display_name": "Python 3"
    },
    "language_info": {
      "name": "python"
    }
  },
  "cells": [
    {
      "cell_type": "markdown",
      "metadata": {
        "id": "view-in-github",
        "colab_type": "text"
      },
      "source": [
        "<a href=\"https://colab.research.google.com/github/inamansari21/datascience/blob/main/Association_Rules_assng.ipynb\" target=\"_parent\"><img src=\"https://colab.research.google.com/assets/colab-badge.svg\" alt=\"Open In Colab\"/></a>"
      ]
    },
    {
      "cell_type": "code",
      "execution_count": null,
      "metadata": {
        "id": "5OywUtBkw7qs"
      },
      "outputs": [],
      "source": [
        "import pandas as pd\n",
        "from mlxtend.frequent_patterns import apriori,association_rules\n",
        "from mlxtend.preprocessing import TransactionEncoder\n",
        "# conda install -c conda-forge mlxtend"
      ]
    },
    {
      "cell_type": "code",
      "source": [
        "movies = pd.read_csv(\"my_movies.csv\")\n",
        "movies.head()"
      ],
      "metadata": {
        "id": "M2Yql36kxJAP"
      },
      "execution_count": null,
      "outputs": []
    },
    {
      "cell_type": "code",
      "source": [
        "movies.shape\n"
      ],
      "metadata": {
        "id": "qE6a0LGWxJC-"
      },
      "execution_count": null,
      "outputs": []
    },
    {
      "cell_type": "code",
      "source": [
        "movies.info()\n"
      ],
      "metadata": {
        "id": "BDVUDflGxJJo"
      },
      "execution_count": null,
      "outputs": []
    },
    {
      "cell_type": "code",
      "source": [
        "df=movies.iloc[:,5:]\n"
      ],
      "metadata": {
        "id": "8OQKTopkxUZI"
      },
      "execution_count": null,
      "outputs": []
    },
    {
      "cell_type": "code",
      "source": [
        "df"
      ],
      "metadata": {
        "id": "cNsG1qgGxJMa"
      },
      "execution_count": null,
      "outputs": []
    },
    {
      "cell_type": "markdown",
      "source": [
        "**Apriori Algorithm\n",
        "Associations Rule with 0.10% support and 0.70% confidence interval**"
      ],
      "metadata": {
        "id": "n_7Jmsfvxj3K"
      }
    },
    {
      "cell_type": "code",
      "source": [
        "frequent_itemsets = apriori(df,min_support=.1,use_colnames=True)\n",
        "frequent_itemsets['length']=frequent_itemsets['itemsets'].apply(lambda x:len(x))"
      ],
      "metadata": {
        "id": "ikB31zpxxJOb"
      },
      "execution_count": null,
      "outputs": []
    },
    {
      "cell_type": "code",
      "source": [
        "frequent_itemsets"
      ],
      "metadata": {
        "id": "W4rU3TvcxJQ4"
      },
      "execution_count": null,
      "outputs": []
    },
    {
      "cell_type": "code",
      "source": [
        "rules=association_rules(frequent_itemsets,metric = 'lift' ,min_threshold=0.7)\n"
      ],
      "metadata": {
        "id": "rfEmw-SlxJTW"
      },
      "execution_count": null,
      "outputs": []
    },
    {
      "cell_type": "code",
      "source": [
        "rules\n"
      ],
      "metadata": {
        "id": "LN-Z0qAJxJV0"
      },
      "execution_count": null,
      "outputs": []
    },
    {
      "cell_type": "code",
      "source": [
        "rules[rules.lift>1]\n"
      ],
      "metadata": {
        "id": "hHbixUiAxJX7"
      },
      "execution_count": null,
      "outputs": []
    },
    {
      "cell_type": "code",
      "source": [
        "import matplotlib.pyplot as plt\n",
        "plt.scatter(rules['support'],rules['confidence'])\n",
        "plt.xlabel('Support')\n",
        "plt.ylabel('Confidence')\n",
        "plt.show()"
      ],
      "metadata": {
        "id": "uDYhkBehxJak"
      },
      "execution_count": null,
      "outputs": []
    },
    {
      "cell_type": "code",
      "source": [
        "frequent_itemsets = apriori(df,min_support=.150,use_colnames=True)\n",
        "frequent_itemsets['length']=frequent_itemsets['itemsets'].apply(lambda x:len(x))"
      ],
      "metadata": {
        "id": "VGqEXtnmxJc4"
      },
      "execution_count": null,
      "outputs": []
    },
    {
      "cell_type": "code",
      "source": [
        "rules1=association_rules(frequent_itemsets,metric = 'lift' ,min_threshold=0.9)\n"
      ],
      "metadata": {
        "id": "lVKk0GasyGFm"
      },
      "execution_count": null,
      "outputs": []
    },
    {
      "cell_type": "code",
      "source": [
        "rules1[rules1.lift>1]\n"
      ],
      "metadata": {
        "id": "v3L0ICqtyGDR"
      },
      "execution_count": null,
      "outputs": []
    },
    {
      "cell_type": "code",
      "source": [
        "import matplotlib.pyplot as plt\n",
        "plt.scatter(rules1['support'],rules1['confidence'])\n",
        "plt.xlabel('Support')\n",
        "plt.ylabel('Confidence')\n",
        "plt.show()"
      ],
      "metadata": {
        "id": "wGmqYzRryGBJ"
      },
      "execution_count": null,
      "outputs": []
    },
    {
      "cell_type": "code",
      "source": [
        "frequent_itemsets = apriori(df,min_support=.170,use_colnames=True)\n",
        "frequent_itemsets['length']=frequent_itemsets['itemsets'].apply(lambda x:len(x))"
      ],
      "metadata": {
        "id": "u_rz88n0yF-x"
      },
      "execution_count": null,
      "outputs": []
    },
    {
      "cell_type": "code",
      "source": [
        "rules2=association_rules(frequent_itemsets,metric = 'lift' ,min_threshold=0.8)\n"
      ],
      "metadata": {
        "id": "EUU14x5FyF8c"
      },
      "execution_count": null,
      "outputs": []
    },
    {
      "cell_type": "code",
      "source": [
        "rules2[rules2.lift>1]\n"
      ],
      "metadata": {
        "id": "pXY2gT6uyF6R"
      },
      "execution_count": null,
      "outputs": []
    },
    {
      "cell_type": "code",
      "source": [
        "import matplotlib.pyplot as plt\n",
        "plt.scatter(rules2['support'],rules2['confidence'])\n",
        "plt.xlabel('Support')\n",
        "plt.ylabel('Confidence')\n",
        "plt.show()\n"
      ],
      "metadata": {
        "id": "ENbjADSJyF3m"
      },
      "execution_count": null,
      "outputs": []
    }
  ]
}