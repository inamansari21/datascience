{
  "nbformat": 4,
  "nbformat_minor": 0,
  "metadata": {
    "colab": {
      "name": "Decision_tree_assign 2.ipynb",
      "provenance": [],
      "collapsed_sections": [],
      "include_colab_link": true
    },
    "kernelspec": {
      "name": "python3",
      "display_name": "Python 3"
    },
    "language_info": {
      "name": "python"
    }
  },
  "cells": [
    {
      "cell_type": "markdown",
      "metadata": {
        "id": "view-in-github",
        "colab_type": "text"
      },
      "source": [
        "<a href=\"https://colab.research.google.com/github/inamansari21/datascience/blob/main/Decision_tree_assign_2.ipynb\" target=\"_parent\"><img src=\"https://colab.research.google.com/assets/colab-badge.svg\" alt=\"Open In Colab\"/></a>"
      ]
    },
    {
      "cell_type": "code",
      "execution_count": null,
      "metadata": {
        "id": "XY1xpa1VcWg4"
      },
      "outputs": [],
      "source": [
        "\n",
        "import pandas as pd\n",
        "import matplotlib.pyplot as plt\n",
        "import numpy as np\n",
        "from sklearn.model_selection import train_test_split\n",
        "from sklearn.tree import  DecisionTreeClassifier\n",
        "from sklearn import tree\n",
        "from sklearn.metrics import classification_report\n",
        "from sklearn import preprocessing"
      ]
    },
    {
      "cell_type": "code",
      "source": [
        "# Loading Dataset\n",
        "data = pd.read_csv('Fraud_check.csv')"
      ],
      "metadata": {
        "id": "Yydqi1Bzcj49"
      },
      "execution_count": null,
      "outputs": []
    },
    {
      "cell_type": "code",
      "source": [
        "data.head()"
      ],
      "metadata": {
        "id": "GCKy5NCWcoyV"
      },
      "execution_count": null,
      "outputs": []
    },
    {
      "cell_type": "code",
      "source": [
        "data.info()"
      ],
      "metadata": {
        "id": "IMhf4nuUcrtI"
      },
      "execution_count": null,
      "outputs": []
    },
    {
      "cell_type": "code",
      "source": [
        "data.columns"
      ],
      "metadata": {
        "id": "ryQLsOnScvGz"
      },
      "execution_count": null,
      "outputs": []
    },
    {
      "cell_type": "code",
      "source": [
        "# Renaming columns\n",
        "data = data.rename({'Undergrad':'under_grad', 'Marital.Status':'marital_status', 'Taxable.Income':'taxable_income',\n",
        "                    'City.Population':'city_population', 'Work.Experience':'work_experience', 'Urban':'urban'}, axis = 1)\n",
        "data.head()"
      ],
      "metadata": {
        "id": "qREuIrjZcy04"
      },
      "execution_count": null,
      "outputs": []
    },
    {
      "cell_type": "code",
      "source": [
        "data.describe()"
      ],
      "metadata": {
        "id": "Q1UINfjVdDPk"
      },
      "execution_count": null,
      "outputs": []
    },
    {
      "cell_type": "code",
      "source": [
        "# checking count of categories for categorical columns colums\n",
        "import seaborn as sns\n",
        "\n",
        "sns.countplot(data['under_grad'])\n",
        "plt.show()\n",
        "\n",
        "sns.countplot(data['marital_status'])\n",
        "plt.show()\n",
        "\n",
        "sns.countplot(data['urban'])\n",
        "plt.show()"
      ],
      "metadata": {
        "id": "jKzF5RCNdGl2"
      },
      "execution_count": null,
      "outputs": []
    },
    {
      "cell_type": "code",
      "source": [
        "# Checking for outliers in numerical data\n",
        "sns.boxplot(data['taxable_income'])\n",
        "plt.show()\n",
        "\n",
        "sns.boxplot(data['city_population'])\n",
        "plt.show()\n",
        "\n",
        "sns.boxplot(data['work_experience'])\n",
        "plt.show()"
      ],
      "metadata": {
        "id": "Zo6cvF4VdKrU"
      },
      "execution_count": null,
      "outputs": []
    },
    {
      "cell_type": "code",
      "source": [
        "# Correlation analysis for data\n",
        "corr = data.corr()\n",
        "#Plot figsize\n",
        "fig, ax = plt.subplots(figsize=(10, 6))\n",
        "#Generate Heat Map, allow annotations and place floats in map\n",
        "sns.heatmap(corr, cmap='magma', annot=True, fmt=\".2f\")\n",
        "#Apply xticks\n",
        "plt.xticks(range(len(corr.columns)), corr.columns);\n",
        "#Apply yticks\n",
        "plt.yticks(range(len(corr.columns)), corr.columns)\n",
        "#show plot\n",
        "plt.show()"
      ],
      "metadata": {
        "id": "k_Y71-QEdQQz"
      },
      "execution_count": null,
      "outputs": []
    },
    {
      "cell_type": "code",
      "source": [
        "# Converting taxable_income <= 30000 as \"Risky\" and others are \"Good\"\n",
        "data['taxable_category'] = pd.cut(x = data['taxable_income'], bins = [10002,30000,99620], labels = ['Risky', 'Good'])\n",
        "data"
      ],
      "metadata": {
        "id": "xqH-BGbFdVnK"
      },
      "execution_count": null,
      "outputs": []
    },
    {
      "cell_type": "code",
      "source": [
        "sns.countplot(data['taxable_category'])"
      ],
      "metadata": {
        "id": "b2lgKSM_da4y"
      },
      "execution_count": null,
      "outputs": []
    },
    {
      "cell_type": "code",
      "source": [
        "data['taxable_category'].value_counts()"
      ],
      "metadata": {
        "id": "GfJsAeMOdeTk"
      },
      "execution_count": null,
      "outputs": []
    },
    {
      "cell_type": "code",
      "source": [
        "#encoding categorical data\n",
        "label_encoder = preprocessing.LabelEncoder()\n",
        "\n",
        "data['under_grad'] = label_encoder.fit_transform(data['under_grad'])\n",
        "data['marital_status'] = label_encoder.fit_transform(data['marital_status'])\n",
        "data['urban'] = label_encoder.fit_transform(data['urban'])\n",
        "data['taxable_category'] = label_encoder.fit_transform(data['taxable_category'])\n",
        "data.sample(10)"
      ],
      "metadata": {
        "id": "hn_8dOU0dh0G"
      },
      "execution_count": null,
      "outputs": []
    },
    {
      "cell_type": "code",
      "source": [
        "# dropping column taxable_income\n",
        "data1 = data.drop('taxable_income', axis = 1)\n",
        "data1"
      ],
      "metadata": {
        "id": "MAHpB2PHdlzN"
      },
      "execution_count": null,
      "outputs": []
    },
    {
      "cell_type": "code",
      "source": [
        "# Correlation analysis for data11\n",
        "corr = data1.corr()\n",
        "#Plot figsize\n",
        "fig, ax = plt.subplots(figsize=(10, 6))\n",
        "#Generate Heat Map, allow annotations and place floats in map\n",
        "sns.heatmap(corr, cmap='magma', annot=True, fmt=\".2f\")\n",
        "#Apply xticks\n",
        "plt.xticks(range(len(corr.columns)), corr.columns);\n",
        "#Apply yticks\n",
        "plt.yticks(range(len(corr.columns)), corr.columns)\n",
        "#show plot\n",
        "plt.show()"
      ],
      "metadata": {
        "id": "AHqoveLtdpnf"
      },
      "execution_count": null,
      "outputs": []
    },
    {
      "cell_type": "code",
      "source": [
        "# Dividing data into independent variables and dependent variable\n",
        "X = data1.drop('taxable_category', axis = 1)\n",
        "y = data1['taxable_category']"
      ],
      "metadata": {
        "id": "w1vKqnJydta0"
      },
      "execution_count": null,
      "outputs": []
    },
    {
      "cell_type": "code",
      "source": [
        "X"
      ],
      "metadata": {
        "id": "BkBHh82jdxfs"
      },
      "execution_count": null,
      "outputs": []
    },
    {
      "cell_type": "code",
      "source": [
        "y"
      ],
      "metadata": {
        "id": "70VtIh1ld0aK"
      },
      "execution_count": null,
      "outputs": []
    },
    {
      "cell_type": "code",
      "source": [
        "# Splitting data into training and testing data\n",
        "x_train, x_test, y_train, y_test = train_test_split(X, y, test_size= 0.33, random_state= 42)"
      ],
      "metadata": {
        "id": "w0CJyA5Dd3Zb"
      },
      "execution_count": null,
      "outputs": []
    },
    {
      "cell_type": "code",
      "source": [
        "x_train"
      ],
      "metadata": {
        "id": "NPk6IY8gd7lb"
      },
      "execution_count": null,
      "outputs": []
    },
    {
      "cell_type": "code",
      "source": [
        "x_test"
      ],
      "metadata": {
        "id": "GEKozbeBd-zP"
      },
      "execution_count": null,
      "outputs": []
    },
    {
      "cell_type": "code",
      "source": [
        "y_train"
      ],
      "metadata": {
        "id": "zPskwGqMeBe_"
      },
      "execution_count": null,
      "outputs": []
    },
    {
      "cell_type": "code",
      "source": [
        "y_test"
      ],
      "metadata": {
        "id": "LoVk2hp9eERF"
      },
      "execution_count": null,
      "outputs": []
    },
    {
      "cell_type": "code",
      "source": [
        "model_c5 = DecisionTreeClassifier(criterion = 'entropy', max_depth= 3)\n",
        "model_c5.fit(x_train, y_train)"
      ],
      "metadata": {
        "id": "VyNVNiRheHPc"
      },
      "execution_count": null,
      "outputs": []
    },
    {
      "cell_type": "code",
      "source": [
        "# Plotting Decision tree\n",
        "tree.plot_tree(model_c5);"
      ],
      "metadata": {
        "id": "plppNOS2eLEC"
      },
      "execution_count": null,
      "outputs": []
    },
    {
      "cell_type": "code",
      "source": [
        "data1.columns"
      ],
      "metadata": {
        "id": "ts4znHvUePp4"
      },
      "execution_count": null,
      "outputs": []
    },
    {
      "cell_type": "code",
      "source": [
        "fn=['under_grad', 'marital_status', 'city_population', 'work_experience',\n",
        "       'urban', 'taxable_category']\n",
        "cn=['Risky', 'Good']\n",
        "fig, axes = plt.subplots(nrows = 1,ncols = 1,figsize = (6,6), dpi=600)\n",
        "tree.plot_tree(model_c5,\n",
        "               feature_names = fn, \n",
        "               class_names=cn,\n",
        "               filled = True);"
      ],
      "metadata": {
        "id": "D6wN6dpCeTSA"
      },
      "execution_count": null,
      "outputs": []
    },
    {
      "cell_type": "code",
      "source": [
        "# Predicting Data\n",
        "preds = model_c5.predict(x_test)\n",
        "pd.Series(preds).value_counts()"
      ],
      "metadata": {
        "id": "5MWktONQeXXA"
      },
      "execution_count": null,
      "outputs": []
    },
    {
      "cell_type": "code",
      "source": [
        "preds"
      ],
      "metadata": {
        "id": "GOCVuOezfD8P"
      },
      "execution_count": null,
      "outputs": []
    },
    {
      "cell_type": "code",
      "source": [
        "# Creating cross tables for checking model\n",
        "pd.crosstab(y_test, preds)"
      ],
      "metadata": {
        "id": "URFGUZuxfHlS"
      },
      "execution_count": null,
      "outputs": []
    },
    {
      "cell_type": "code",
      "source": [
        "# Checking accuracy of model\n",
        "model_c5.score(x_test, y_test)"
      ],
      "metadata": {
        "id": "EXarM9v0fM0Q"
      },
      "execution_count": null,
      "outputs": []
    },
    {
      "cell_type": "code",
      "source": [
        "model_CART = DecisionTreeClassifier(criterion = 'gini', max_depth= 3)\n",
        "model_CART.fit(x_train, y_train)"
      ],
      "metadata": {
        "id": "CWGcZfqqfTKY"
      },
      "execution_count": null,
      "outputs": []
    },
    {
      "cell_type": "code",
      "source": [
        "# Plotting Decision tree\n",
        "tree.plot_tree(model_CART);"
      ],
      "metadata": {
        "id": "gpRVusyDfYtv"
      },
      "execution_count": null,
      "outputs": []
    },
    {
      "cell_type": "code",
      "source": [
        "fn=['under_grad', 'marital_status', 'city_population', 'work_experience',\n",
        "       'urban', 'taxable_category']\n",
        "cn=['Risky', 'Good']\n",
        "fig, axes = plt.subplots(nrows = 1,ncols = 1,figsize = (6,6), dpi=600)\n",
        "tree.plot_tree(model_CART,\n",
        "               feature_names = fn, \n",
        "               class_names=cn,\n",
        "               filled = True);"
      ],
      "metadata": {
        "id": "Ak2fl1kufccH"
      },
      "execution_count": null,
      "outputs": []
    },
    {
      "cell_type": "code",
      "source": [
        "# Predicting Data\n",
        "preds = model_CART.predict(x_test)\n",
        "pd.Series(preds).value_counts()"
      ],
      "metadata": {
        "id": "SuUWEff9fgnP"
      },
      "execution_count": null,
      "outputs": []
    },
    {
      "cell_type": "code",
      "source": [
        "preds"
      ],
      "metadata": {
        "id": "jVaLd24Rf3Kl"
      },
      "execution_count": null,
      "outputs": []
    },
    {
      "cell_type": "code",
      "source": [
        "# Creating cross tables for checking model\n",
        "pd.crosstab(y_test, preds)"
      ],
      "metadata": {
        "id": "HOJc-p0if6O8"
      },
      "execution_count": null,
      "outputs": []
    },
    {
      "cell_type": "code",
      "source": [
        "# Checking accuracy of model\n",
        "model_CART.score(x_test, y_test)"
      ],
      "metadata": {
        "id": "KidruxSMf96u"
      },
      "execution_count": null,
      "outputs": []
    },
    {
      "cell_type": "code",
      "source": [
        ""
      ],
      "metadata": {
        "id": "vpDOEjUegEHL"
      },
      "execution_count": null,
      "outputs": []
    }
  ]
}