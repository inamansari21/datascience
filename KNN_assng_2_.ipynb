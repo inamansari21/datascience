{
  "cells": [
    {
      "cell_type": "markdown",
      "metadata": {
        "id": "view-in-github",
        "colab_type": "text"
      },
      "source": [
        "<a href=\"https://colab.research.google.com/github/inamansari21/datascience/blob/main/KNN_assng_2_.ipynb\" target=\"_parent\"><img src=\"https://colab.research.google.com/assets/colab-badge.svg\" alt=\"Open In Colab\"/></a>"
      ]
    },
    {
      "cell_type": "code",
      "execution_count": null,
      "id": "7e2a6012",
      "metadata": {
        "id": "7e2a6012"
      },
      "outputs": [],
      "source": [
        "import numpy as np\n",
        "import pandas as pd\n",
        "import matplotlib.pyplot as plt"
      ]
    },
    {
      "cell_type": "code",
      "execution_count": null,
      "id": "3a972522",
      "metadata": {
        "scrolled": true,
        "id": "3a972522"
      },
      "outputs": [],
      "source": [
        "m=pd.read_csv(\"Zoo.csv\")\n",
        "n=m.iloc[:,1:]\n",
        "n"
      ]
    },
    {
      "cell_type": "code",
      "execution_count": null,
      "id": "417cc5df",
      "metadata": {
        "id": "417cc5df"
      },
      "outputs": [],
      "source": [
        "#to split train and test data\n",
        "from sklearn.model_selection import train_test_split\n",
        "train,test=train_test_split(n,test_size=0.3,random_state=0)"
      ]
    },
    {
      "cell_type": "code",
      "execution_count": null,
      "id": "354ad48f",
      "metadata": {
        "id": "354ad48f"
      },
      "outputs": [],
      "source": [
        "#KNN\n",
        "from sklearn.neighbors import KNeighborsClassifier as KNC"
      ]
    },
    {
      "cell_type": "code",
      "execution_count": null,
      "id": "f4feee33",
      "metadata": {
        "id": "f4feee33"
      },
      "outputs": [],
      "source": [
        "#to find best k value\n",
        "acc=[]\n",
        "for i in range(3,50,2):\n",
        "    neigh=KNC(n_neighbors=i)\n",
        "    neigh.fit(train.iloc[:,0:16],train.iloc[:,16])\n",
        "    train_acc=np.mean(neigh.predict(train.iloc[:,0:16])==train.iloc[:,16])\n",
        "    test_acc=np.mean(neigh.predict(test.iloc[:,0:16])==test.iloc[:,16])\n",
        "    acc.append([train_acc,test_acc])"
      ]
    },
    {
      "cell_type": "code",
      "execution_count": null,
      "id": "6768bd94",
      "metadata": {
        "id": "6768bd94"
      },
      "outputs": [],
      "source": [
        "plt.plot(np.arange(3,50,2),[i[0] for i in acc],'bo-')\n",
        "plt.plot(np.arange(3,50,2),[i[1] for i in acc],'ro-')\n",
        "plt.legend(['train','test'])"
      ]
    },
    {
      "cell_type": "code",
      "execution_count": null,
      "id": "e452476b",
      "metadata": {
        "id": "e452476b"
      },
      "outputs": [],
      "source": [
        "#from plots atk=5 we get best model\n",
        "#model building at k=5\n",
        "neigh=KNC(n_neighbors=5)\n",
        "neigh.fit(train.iloc[:,0:16],train.iloc[:,16])\n",
        "train_acc=np.mean(neigh.predict(train.iloc[:,0:16])==train.iloc[:,16])\n",
        "test_acc=np.mean(neigh.predict(test.iloc[:,0:16])==test.iloc[:,16])\n",
        "train_acc\n",
        "test_acc"
      ]
    },
    {
      "cell_type": "markdown",
      "id": "3a3db426",
      "metadata": {
        "id": "3a3db426"
      },
      "source": [
        "### So final model accuracy is 93.54 %"
      ]
    },
    {
      "cell_type": "code",
      "source": [
        ""
      ],
      "metadata": {
        "id": "dAzBRkfsPIAF"
      },
      "id": "dAzBRkfsPIAF",
      "execution_count": null,
      "outputs": []
    }
  ],
  "metadata": {
    "kernelspec": {
      "display_name": "Python 3",
      "language": "python",
      "name": "python3"
    },
    "language_info": {
      "codemirror_mode": {
        "name": "ipython",
        "version": 3
      },
      "file_extension": ".py",
      "mimetype": "text/x-python",
      "name": "python",
      "nbconvert_exporter": "python",
      "pygments_lexer": "ipython3",
      "version": "3.8.8"
    },
    "colab": {
      "name": " KNN_assng_2 .ipynb",
      "provenance": [],
      "include_colab_link": true
    }
  },
  "nbformat": 4,
  "nbformat_minor": 5
}