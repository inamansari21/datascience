{
  "nbformat": 4,
  "nbformat_minor": 0,
  "metadata": {
    "colab": {
      "name": "KNN new 1.ipynb",
      "provenance": [],
      "authorship_tag": "ABX9TyOZoWBpdU4qOX6xgP+6MglP",
      "include_colab_link": true
    },
    "kernelspec": {
      "name": "python3",
      "display_name": "Python 3"
    },
    "language_info": {
      "name": "python"
    }
  },
  "cells": [
    {
      "cell_type": "markdown",
      "metadata": {
        "id": "view-in-github",
        "colab_type": "text"
      },
      "source": [
        "<a href=\"https://colab.research.google.com/github/inamansari21/datascience/blob/main/KNN_new_1.ipynb\" target=\"_parent\"><img src=\"https://colab.research.google.com/assets/colab-badge.svg\" alt=\"Open In Colab\"/></a>"
      ]
    },
    {
      "cell_type": "code",
      "execution_count": 1,
      "metadata": {
        "id": "1L7q6q3o7GxU"
      },
      "outputs": [],
      "source": [
        "import numpy as np\n",
        "import pandas as pd\n",
        "from matplotlib import pyplot as plt\n",
        "from sklearn.preprocessing import StandardScaler\n",
        "from sklearn import preprocessing\n",
        "import seaborn as sns\n",
        "from sklearn.neighbors import KNeighborsClassifier\n",
        "from sklearn.metrics import confusion_matrix\n",
        "from sklearn.model_selection import train_test_split\n",
        "from sklearn.metrics import accuracy_score\n",
        "from sklearn.model_selection import cross_val_score\n",
        "sns.set()\n"
      ]
    },
    {
      "cell_type": "code",
      "source": [
        "df = pd.read_csv(\"glass.csv\")\n"
      ],
      "metadata": {
        "id": "OKTs2BZ18FNf"
      },
      "execution_count": 3,
      "outputs": []
    },
    {
      "cell_type": "code",
      "source": [
        "df1 = df.copy()\n"
      ],
      "metadata": {
        "id": "2sPW_9Y-8h80"
      },
      "execution_count": 4,
      "outputs": []
    },
    {
      "cell_type": "code",
      "source": [
        "df1.loc[df['Type'] == 1, 'Type'] = 'building_windows_float_processed'\n",
        "df1.loc[df['Type'] == 2, 'Type'] = 'building_windows_non_float_processed' \n",
        "df1.loc[df['Type'] == 3, 'Type'] = 'vehicle_windows_float_processed' \n",
        "df1.loc[df['Type'] == 4, 'Type'] = 'vehicle_windows_non_float_processed' \n",
        "df1.loc[df['Type'] == 5, 'Type'] = 'containers' \n",
        "df1.loc[df['Type'] == 6, 'Type'] = 'tableware' \n",
        "df1.loc[df['Type'] == 7, 'Type'] = 'headlamps' \n"
      ],
      "metadata": {
        "id": "4xxyrrCM8--v"
      },
      "execution_count": 5,
      "outputs": []
    },
    {
      "cell_type": "code",
      "source": [
        "df1.head()\n"
      ],
      "metadata": {
        "colab": {
          "base_uri": "https://localhost:8080/",
          "height": 206
        },
        "id": "D2lgedNM9CwU",
        "outputId": "e5430524-1cfb-466d-f9a5-8ade49ffeaf9"
      },
      "execution_count": 6,
      "outputs": [
        {
          "output_type": "execute_result",
          "data": {
            "text/html": [
              "\n",
              "  <div id=\"df-e3a143ed-3ad6-4931-8153-dae483f3b9fc\">\n",
              "    <div class=\"colab-df-container\">\n",
              "      <div>\n",
              "<style scoped>\n",
              "    .dataframe tbody tr th:only-of-type {\n",
              "        vertical-align: middle;\n",
              "    }\n",
              "\n",
              "    .dataframe tbody tr th {\n",
              "        vertical-align: top;\n",
              "    }\n",
              "\n",
              "    .dataframe thead th {\n",
              "        text-align: right;\n",
              "    }\n",
              "</style>\n",
              "<table border=\"1\" class=\"dataframe\">\n",
              "  <thead>\n",
              "    <tr style=\"text-align: right;\">\n",
              "      <th></th>\n",
              "      <th>RI</th>\n",
              "      <th>Na</th>\n",
              "      <th>Mg</th>\n",
              "      <th>Al</th>\n",
              "      <th>Si</th>\n",
              "      <th>K</th>\n",
              "      <th>Ca</th>\n",
              "      <th>Ba</th>\n",
              "      <th>Fe</th>\n",
              "      <th>Type</th>\n",
              "    </tr>\n",
              "  </thead>\n",
              "  <tbody>\n",
              "    <tr>\n",
              "      <th>0</th>\n",
              "      <td>1.52101</td>\n",
              "      <td>13.64</td>\n",
              "      <td>4.49</td>\n",
              "      <td>1.10</td>\n",
              "      <td>71.78</td>\n",
              "      <td>0.06</td>\n",
              "      <td>8.75</td>\n",
              "      <td>0.0</td>\n",
              "      <td>0.0</td>\n",
              "      <td>building_windows_float_processed</td>\n",
              "    </tr>\n",
              "    <tr>\n",
              "      <th>1</th>\n",
              "      <td>1.51761</td>\n",
              "      <td>13.89</td>\n",
              "      <td>3.60</td>\n",
              "      <td>1.36</td>\n",
              "      <td>72.73</td>\n",
              "      <td>0.48</td>\n",
              "      <td>7.83</td>\n",
              "      <td>0.0</td>\n",
              "      <td>0.0</td>\n",
              "      <td>building_windows_float_processed</td>\n",
              "    </tr>\n",
              "    <tr>\n",
              "      <th>2</th>\n",
              "      <td>1.51618</td>\n",
              "      <td>13.53</td>\n",
              "      <td>3.55</td>\n",
              "      <td>1.54</td>\n",
              "      <td>72.99</td>\n",
              "      <td>0.39</td>\n",
              "      <td>7.78</td>\n",
              "      <td>0.0</td>\n",
              "      <td>0.0</td>\n",
              "      <td>building_windows_float_processed</td>\n",
              "    </tr>\n",
              "    <tr>\n",
              "      <th>3</th>\n",
              "      <td>1.51766</td>\n",
              "      <td>13.21</td>\n",
              "      <td>3.69</td>\n",
              "      <td>1.29</td>\n",
              "      <td>72.61</td>\n",
              "      <td>0.57</td>\n",
              "      <td>8.22</td>\n",
              "      <td>0.0</td>\n",
              "      <td>0.0</td>\n",
              "      <td>building_windows_float_processed</td>\n",
              "    </tr>\n",
              "    <tr>\n",
              "      <th>4</th>\n",
              "      <td>1.51742</td>\n",
              "      <td>13.27</td>\n",
              "      <td>3.62</td>\n",
              "      <td>1.24</td>\n",
              "      <td>73.08</td>\n",
              "      <td>0.55</td>\n",
              "      <td>8.07</td>\n",
              "      <td>0.0</td>\n",
              "      <td>0.0</td>\n",
              "      <td>building_windows_float_processed</td>\n",
              "    </tr>\n",
              "  </tbody>\n",
              "</table>\n",
              "</div>\n",
              "      <button class=\"colab-df-convert\" onclick=\"convertToInteractive('df-e3a143ed-3ad6-4931-8153-dae483f3b9fc')\"\n",
              "              title=\"Convert this dataframe to an interactive table.\"\n",
              "              style=\"display:none;\">\n",
              "        \n",
              "  <svg xmlns=\"http://www.w3.org/2000/svg\" height=\"24px\"viewBox=\"0 0 24 24\"\n",
              "       width=\"24px\">\n",
              "    <path d=\"M0 0h24v24H0V0z\" fill=\"none\"/>\n",
              "    <path d=\"M18.56 5.44l.94 2.06.94-2.06 2.06-.94-2.06-.94-.94-2.06-.94 2.06-2.06.94zm-11 1L8.5 8.5l.94-2.06 2.06-.94-2.06-.94L8.5 2.5l-.94 2.06-2.06.94zm10 10l.94 2.06.94-2.06 2.06-.94-2.06-.94-.94-2.06-.94 2.06-2.06.94z\"/><path d=\"M17.41 7.96l-1.37-1.37c-.4-.4-.92-.59-1.43-.59-.52 0-1.04.2-1.43.59L10.3 9.45l-7.72 7.72c-.78.78-.78 2.05 0 2.83L4 21.41c.39.39.9.59 1.41.59.51 0 1.02-.2 1.41-.59l7.78-7.78 2.81-2.81c.8-.78.8-2.07 0-2.86zM5.41 20L4 18.59l7.72-7.72 1.47 1.35L5.41 20z\"/>\n",
              "  </svg>\n",
              "      </button>\n",
              "      \n",
              "  <style>\n",
              "    .colab-df-container {\n",
              "      display:flex;\n",
              "      flex-wrap:wrap;\n",
              "      gap: 12px;\n",
              "    }\n",
              "\n",
              "    .colab-df-convert {\n",
              "      background-color: #E8F0FE;\n",
              "      border: none;\n",
              "      border-radius: 50%;\n",
              "      cursor: pointer;\n",
              "      display: none;\n",
              "      fill: #1967D2;\n",
              "      height: 32px;\n",
              "      padding: 0 0 0 0;\n",
              "      width: 32px;\n",
              "    }\n",
              "\n",
              "    .colab-df-convert:hover {\n",
              "      background-color: #E2EBFA;\n",
              "      box-shadow: 0px 1px 2px rgba(60, 64, 67, 0.3), 0px 1px 3px 1px rgba(60, 64, 67, 0.15);\n",
              "      fill: #174EA6;\n",
              "    }\n",
              "\n",
              "    [theme=dark] .colab-df-convert {\n",
              "      background-color: #3B4455;\n",
              "      fill: #D2E3FC;\n",
              "    }\n",
              "\n",
              "    [theme=dark] .colab-df-convert:hover {\n",
              "      background-color: #434B5C;\n",
              "      box-shadow: 0px 1px 3px 1px rgba(0, 0, 0, 0.15);\n",
              "      filter: drop-shadow(0px 1px 2px rgba(0, 0, 0, 0.3));\n",
              "      fill: #FFFFFF;\n",
              "    }\n",
              "  </style>\n",
              "\n",
              "      <script>\n",
              "        const buttonEl =\n",
              "          document.querySelector('#df-e3a143ed-3ad6-4931-8153-dae483f3b9fc button.colab-df-convert');\n",
              "        buttonEl.style.display =\n",
              "          google.colab.kernel.accessAllowed ? 'block' : 'none';\n",
              "\n",
              "        async function convertToInteractive(key) {\n",
              "          const element = document.querySelector('#df-e3a143ed-3ad6-4931-8153-dae483f3b9fc');\n",
              "          const dataTable =\n",
              "            await google.colab.kernel.invokeFunction('convertToInteractive',\n",
              "                                                     [key], {});\n",
              "          if (!dataTable) return;\n",
              "\n",
              "          const docLinkHtml = 'Like what you see? Visit the ' +\n",
              "            '<a target=\"_blank\" href=https://colab.research.google.com/notebooks/data_table.ipynb>data table notebook</a>'\n",
              "            + ' to learn more about interactive tables.';\n",
              "          element.innerHTML = '';\n",
              "          dataTable['output_type'] = 'display_data';\n",
              "          await google.colab.output.renderOutput(dataTable, element);\n",
              "          const docLink = document.createElement('div');\n",
              "          docLink.innerHTML = docLinkHtml;\n",
              "          element.appendChild(docLink);\n",
              "        }\n",
              "      </script>\n",
              "    </div>\n",
              "  </div>\n",
              "  "
            ],
            "text/plain": [
              "        RI     Na    Mg    Al  ...    Ca   Ba   Fe                              Type\n",
              "0  1.52101  13.64  4.49  1.10  ...  8.75  0.0  0.0  building_windows_float_processed\n",
              "1  1.51761  13.89  3.60  1.36  ...  7.83  0.0  0.0  building_windows_float_processed\n",
              "2  1.51618  13.53  3.55  1.54  ...  7.78  0.0  0.0  building_windows_float_processed\n",
              "3  1.51766  13.21  3.69  1.29  ...  8.22  0.0  0.0  building_windows_float_processed\n",
              "4  1.51742  13.27  3.62  1.24  ...  8.07  0.0  0.0  building_windows_float_processed\n",
              "\n",
              "[5 rows x 10 columns]"
            ]
          },
          "metadata": {},
          "execution_count": 6
        }
      ]
    },
    {
      "cell_type": "code",
      "source": [
        "df1.describe()\n"
      ],
      "metadata": {
        "colab": {
          "base_uri": "https://localhost:8080/",
          "height": 300
        },
        "id": "qBpQspUj9GDY",
        "outputId": "7c81b2af-4897-4f25-b365-c2fc6ef40081"
      },
      "execution_count": 7,
      "outputs": [
        {
          "output_type": "execute_result",
          "data": {
            "text/html": [
              "\n",
              "  <div id=\"df-2958a965-e34e-4e2f-ad0b-a5726f80d593\">\n",
              "    <div class=\"colab-df-container\">\n",
              "      <div>\n",
              "<style scoped>\n",
              "    .dataframe tbody tr th:only-of-type {\n",
              "        vertical-align: middle;\n",
              "    }\n",
              "\n",
              "    .dataframe tbody tr th {\n",
              "        vertical-align: top;\n",
              "    }\n",
              "\n",
              "    .dataframe thead th {\n",
              "        text-align: right;\n",
              "    }\n",
              "</style>\n",
              "<table border=\"1\" class=\"dataframe\">\n",
              "  <thead>\n",
              "    <tr style=\"text-align: right;\">\n",
              "      <th></th>\n",
              "      <th>RI</th>\n",
              "      <th>Na</th>\n",
              "      <th>Mg</th>\n",
              "      <th>Al</th>\n",
              "      <th>Si</th>\n",
              "      <th>K</th>\n",
              "      <th>Ca</th>\n",
              "      <th>Ba</th>\n",
              "      <th>Fe</th>\n",
              "    </tr>\n",
              "  </thead>\n",
              "  <tbody>\n",
              "    <tr>\n",
              "      <th>count</th>\n",
              "      <td>214.000000</td>\n",
              "      <td>214.000000</td>\n",
              "      <td>214.000000</td>\n",
              "      <td>214.000000</td>\n",
              "      <td>214.000000</td>\n",
              "      <td>214.000000</td>\n",
              "      <td>214.000000</td>\n",
              "      <td>214.000000</td>\n",
              "      <td>214.000000</td>\n",
              "    </tr>\n",
              "    <tr>\n",
              "      <th>mean</th>\n",
              "      <td>1.518365</td>\n",
              "      <td>13.407850</td>\n",
              "      <td>2.684533</td>\n",
              "      <td>1.444907</td>\n",
              "      <td>72.650935</td>\n",
              "      <td>0.497056</td>\n",
              "      <td>8.956963</td>\n",
              "      <td>0.175047</td>\n",
              "      <td>0.057009</td>\n",
              "    </tr>\n",
              "    <tr>\n",
              "      <th>std</th>\n",
              "      <td>0.003037</td>\n",
              "      <td>0.816604</td>\n",
              "      <td>1.442408</td>\n",
              "      <td>0.499270</td>\n",
              "      <td>0.774546</td>\n",
              "      <td>0.652192</td>\n",
              "      <td>1.423153</td>\n",
              "      <td>0.497219</td>\n",
              "      <td>0.097439</td>\n",
              "    </tr>\n",
              "    <tr>\n",
              "      <th>min</th>\n",
              "      <td>1.511150</td>\n",
              "      <td>10.730000</td>\n",
              "      <td>0.000000</td>\n",
              "      <td>0.290000</td>\n",
              "      <td>69.810000</td>\n",
              "      <td>0.000000</td>\n",
              "      <td>5.430000</td>\n",
              "      <td>0.000000</td>\n",
              "      <td>0.000000</td>\n",
              "    </tr>\n",
              "    <tr>\n",
              "      <th>25%</th>\n",
              "      <td>1.516523</td>\n",
              "      <td>12.907500</td>\n",
              "      <td>2.115000</td>\n",
              "      <td>1.190000</td>\n",
              "      <td>72.280000</td>\n",
              "      <td>0.122500</td>\n",
              "      <td>8.240000</td>\n",
              "      <td>0.000000</td>\n",
              "      <td>0.000000</td>\n",
              "    </tr>\n",
              "    <tr>\n",
              "      <th>50%</th>\n",
              "      <td>1.517680</td>\n",
              "      <td>13.300000</td>\n",
              "      <td>3.480000</td>\n",
              "      <td>1.360000</td>\n",
              "      <td>72.790000</td>\n",
              "      <td>0.555000</td>\n",
              "      <td>8.600000</td>\n",
              "      <td>0.000000</td>\n",
              "      <td>0.000000</td>\n",
              "    </tr>\n",
              "    <tr>\n",
              "      <th>75%</th>\n",
              "      <td>1.519157</td>\n",
              "      <td>13.825000</td>\n",
              "      <td>3.600000</td>\n",
              "      <td>1.630000</td>\n",
              "      <td>73.087500</td>\n",
              "      <td>0.610000</td>\n",
              "      <td>9.172500</td>\n",
              "      <td>0.000000</td>\n",
              "      <td>0.100000</td>\n",
              "    </tr>\n",
              "    <tr>\n",
              "      <th>max</th>\n",
              "      <td>1.533930</td>\n",
              "      <td>17.380000</td>\n",
              "      <td>4.490000</td>\n",
              "      <td>3.500000</td>\n",
              "      <td>75.410000</td>\n",
              "      <td>6.210000</td>\n",
              "      <td>16.190000</td>\n",
              "      <td>3.150000</td>\n",
              "      <td>0.510000</td>\n",
              "    </tr>\n",
              "  </tbody>\n",
              "</table>\n",
              "</div>\n",
              "      <button class=\"colab-df-convert\" onclick=\"convertToInteractive('df-2958a965-e34e-4e2f-ad0b-a5726f80d593')\"\n",
              "              title=\"Convert this dataframe to an interactive table.\"\n",
              "              style=\"display:none;\">\n",
              "        \n",
              "  <svg xmlns=\"http://www.w3.org/2000/svg\" height=\"24px\"viewBox=\"0 0 24 24\"\n",
              "       width=\"24px\">\n",
              "    <path d=\"M0 0h24v24H0V0z\" fill=\"none\"/>\n",
              "    <path d=\"M18.56 5.44l.94 2.06.94-2.06 2.06-.94-2.06-.94-.94-2.06-.94 2.06-2.06.94zm-11 1L8.5 8.5l.94-2.06 2.06-.94-2.06-.94L8.5 2.5l-.94 2.06-2.06.94zm10 10l.94 2.06.94-2.06 2.06-.94-2.06-.94-.94-2.06-.94 2.06-2.06.94z\"/><path d=\"M17.41 7.96l-1.37-1.37c-.4-.4-.92-.59-1.43-.59-.52 0-1.04.2-1.43.59L10.3 9.45l-7.72 7.72c-.78.78-.78 2.05 0 2.83L4 21.41c.39.39.9.59 1.41.59.51 0 1.02-.2 1.41-.59l7.78-7.78 2.81-2.81c.8-.78.8-2.07 0-2.86zM5.41 20L4 18.59l7.72-7.72 1.47 1.35L5.41 20z\"/>\n",
              "  </svg>\n",
              "      </button>\n",
              "      \n",
              "  <style>\n",
              "    .colab-df-container {\n",
              "      display:flex;\n",
              "      flex-wrap:wrap;\n",
              "      gap: 12px;\n",
              "    }\n",
              "\n",
              "    .colab-df-convert {\n",
              "      background-color: #E8F0FE;\n",
              "      border: none;\n",
              "      border-radius: 50%;\n",
              "      cursor: pointer;\n",
              "      display: none;\n",
              "      fill: #1967D2;\n",
              "      height: 32px;\n",
              "      padding: 0 0 0 0;\n",
              "      width: 32px;\n",
              "    }\n",
              "\n",
              "    .colab-df-convert:hover {\n",
              "      background-color: #E2EBFA;\n",
              "      box-shadow: 0px 1px 2px rgba(60, 64, 67, 0.3), 0px 1px 3px 1px rgba(60, 64, 67, 0.15);\n",
              "      fill: #174EA6;\n",
              "    }\n",
              "\n",
              "    [theme=dark] .colab-df-convert {\n",
              "      background-color: #3B4455;\n",
              "      fill: #D2E3FC;\n",
              "    }\n",
              "\n",
              "    [theme=dark] .colab-df-convert:hover {\n",
              "      background-color: #434B5C;\n",
              "      box-shadow: 0px 1px 3px 1px rgba(0, 0, 0, 0.15);\n",
              "      filter: drop-shadow(0px 1px 2px rgba(0, 0, 0, 0.3));\n",
              "      fill: #FFFFFF;\n",
              "    }\n",
              "  </style>\n",
              "\n",
              "      <script>\n",
              "        const buttonEl =\n",
              "          document.querySelector('#df-2958a965-e34e-4e2f-ad0b-a5726f80d593 button.colab-df-convert');\n",
              "        buttonEl.style.display =\n",
              "          google.colab.kernel.accessAllowed ? 'block' : 'none';\n",
              "\n",
              "        async function convertToInteractive(key) {\n",
              "          const element = document.querySelector('#df-2958a965-e34e-4e2f-ad0b-a5726f80d593');\n",
              "          const dataTable =\n",
              "            await google.colab.kernel.invokeFunction('convertToInteractive',\n",
              "                                                     [key], {});\n",
              "          if (!dataTable) return;\n",
              "\n",
              "          const docLinkHtml = 'Like what you see? Visit the ' +\n",
              "            '<a target=\"_blank\" href=https://colab.research.google.com/notebooks/data_table.ipynb>data table notebook</a>'\n",
              "            + ' to learn more about interactive tables.';\n",
              "          element.innerHTML = '';\n",
              "          dataTable['output_type'] = 'display_data';\n",
              "          await google.colab.output.renderOutput(dataTable, element);\n",
              "          const docLink = document.createElement('div');\n",
              "          docLink.innerHTML = docLinkHtml;\n",
              "          element.appendChild(docLink);\n",
              "        }\n",
              "      </script>\n",
              "    </div>\n",
              "  </div>\n",
              "  "
            ],
            "text/plain": [
              "               RI          Na          Mg  ...          Ca          Ba          Fe\n",
              "count  214.000000  214.000000  214.000000  ...  214.000000  214.000000  214.000000\n",
              "mean     1.518365   13.407850    2.684533  ...    8.956963    0.175047    0.057009\n",
              "std      0.003037    0.816604    1.442408  ...    1.423153    0.497219    0.097439\n",
              "min      1.511150   10.730000    0.000000  ...    5.430000    0.000000    0.000000\n",
              "25%      1.516523   12.907500    2.115000  ...    8.240000    0.000000    0.000000\n",
              "50%      1.517680   13.300000    3.480000  ...    8.600000    0.000000    0.000000\n",
              "75%      1.519157   13.825000    3.600000  ...    9.172500    0.000000    0.100000\n",
              "max      1.533930   17.380000    4.490000  ...   16.190000    3.150000    0.510000\n",
              "\n",
              "[8 rows x 9 columns]"
            ]
          },
          "metadata": {},
          "execution_count": 7
        }
      ]
    },
    {
      "cell_type": "code",
      "source": [
        "sns.factorplot('Type', data=df1, kind=\"count\",size = 5,aspect = 2)\n"
      ],
      "metadata": {
        "colab": {
          "base_uri": "https://localhost:8080/",
          "height": 511
        },
        "id": "k8EEQprbGKY1",
        "outputId": "a109af71-722e-4cb8-9b49-9098d30dfdee"
      },
      "execution_count": 8,
      "outputs": [
        {
          "output_type": "stream",
          "name": "stderr",
          "text": [
            "/usr/local/lib/python3.7/dist-packages/seaborn/categorical.py:3717: UserWarning: The `factorplot` function has been renamed to `catplot`. The original name will be removed in a future release. Please update your code. Note that the default `kind` in `factorplot` (`'point'`) has changed `'strip'` in `catplot`.\n",
            "  warnings.warn(msg)\n",
            "/usr/local/lib/python3.7/dist-packages/seaborn/categorical.py:3723: UserWarning: The `size` parameter has been renamed to `height`; please update your code.\n",
            "  warnings.warn(msg, UserWarning)\n",
            "/usr/local/lib/python3.7/dist-packages/seaborn/_decorators.py:43: FutureWarning: Pass the following variable as a keyword arg: x. From version 0.12, the only valid positional argument will be `data`, and passing other arguments without an explicit keyword will result in an error or misinterpretation.\n",
            "  FutureWarning\n"
          ]
        },
        {
          "output_type": "execute_result",
          "data": {
            "text/plain": [
              "<seaborn.axisgrid.FacetGrid at 0x7f1a1f5a9750>"
            ]
          },
          "metadata": {},
          "execution_count": 8
        },
        {
          "output_type": "display_data",
          "data": {
            "image/png": "[encoded data removed]",
            "text/plain": [
              "<Figure size 720x360 with 1 Axes>"
            ]
          },
          "metadata": {
            "needs_background": "light"
          }
        }
      ]
    },
    {
      "cell_type": "markdown",
      "source": [
        "As shown in the graphs above, majority of the glass types are building_windows_float_processed and building_windows_non_float_processed, followed by headlamps\n"
      ],
      "metadata": {
        "id": "aN7i9B-IGXfs"
      }
    },
    {
      "cell_type": "code",
      "source": [
        "df1.plot(kind='density', subplots=True, layout=(4,5), figsize=(13,20), sharex=False, sharey=False)\n",
        "plt.show()\n"
      ],
      "metadata": {
        "colab": {
          "base_uri": "https://localhost:8080/",
          "height": 573
        },
        "id": "8Y44AZ_lGRXv",
        "outputId": "92129e66-a395-4499-c579-fba2f9abda6e"
      },
      "execution_count": 9,
      "outputs": [
        {
          "output_type": "display_data",
          "data": {
            "image/png": "[encoded data removed]",
            "text/plain": [
              "<Figure size 936x1440 with 20 Axes>"
            ]
          },
          "metadata": {
            "needs_background": "light"
          }
        }
      ]
    },
    {
      "cell_type": "code",
      "source": [
        "df1.plot(kind='box', subplots=True, layout=(4,5), figsize=(13,20), sharex=False, sharey=False)\n",
        "plt.show()\n"
      ],
      "metadata": {
        "colab": {
          "base_uri": "https://localhost:8080/",
          "height": 574
        },
        "id": "FZDp0KU0Gbpr",
        "outputId": "69302c59-6a20-4679-e2ea-8884dbdfcf4b"
      },
      "execution_count": 10,
      "outputs": [
        {
          "output_type": "display_data",
          "data": {
            "image/png": "[encoded data removed]",
            "text/plain": [
              "<Figure size 936x1440 with 20 Axes>"
            ]
          },
          "metadata": {
            "needs_background": "light"
          }
        }
      ]
    },
    {
      "cell_type": "markdown",
      "source": [
        "# **Finding correlation**"
      ],
      "metadata": {
        "id": "1tb1cchWGmus"
      }
    },
    {
      "cell_type": "code",
      "source": [
        "cor = df1.corr(method='pearson')\n"
      ],
      "metadata": {
        "id": "cZ5u9OMWGhoy"
      },
      "execution_count": 11,
      "outputs": []
    },
    {
      "cell_type": "code",
      "source": [
        "cor.style.background_gradient(cmap='coolwarm')\n"
      ],
      "metadata": {
        "colab": {
          "base_uri": "https://localhost:8080/",
          "height": 332
        },
        "id": "Rylhq2FmGvpz",
        "outputId": "007adc9b-0ef6-4676-90b9-b1b3aba1563c"
      },
      "execution_count": 12,
      "outputs": [
        {
          "output_type": "execute_result",
          "data": {
            "text/html": [
              "<style  type=\"text/css\" >\n",
              "#T_a799f136_7ec0_11ec_9242_0242ac1c0002row0_col0,#T_a799f136_7ec0_11ec_9242_0242ac1c0002row1_col1,#T_a799f136_7ec0_11ec_9242_0242ac1c0002row2_col2,#T_a799f136_7ec0_11ec_9242_0242ac1c0002row3_col3,#T_a799f136_7ec0_11ec_9242_0242ac1c0002row4_col4,#T_a799f136_7ec0_11ec_9242_0242ac1c0002row5_col5,#T_a799f136_7ec0_11ec_9242_0242ac1c0002row6_col6,#T_a799f136_7ec0_11ec_9242_0242ac1c0002row7_col7,#T_a799f136_7ec0_11ec_9242_0242ac1c0002row8_col8{\n",
              "            background-color:  #b40426;\n",
              "            color:  #f1f1f1;\n",
              "        }#T_a799f136_7ec0_11ec_9242_0242ac1c0002row0_col1{\n",
              "            background-color:  #4e68d8;\n",
              "            color:  #000000;\n",
              "        }#T_a799f136_7ec0_11ec_9242_0242ac1c0002row0_col2{\n",
              "            background-color:  #8caffe;\n",
              "            color:  #000000;\n",
              "        }#T_a799f136_7ec0_11ec_9242_0242ac1c0002row0_col3{\n",
              "            background-color:  #4961d2;\n",
              "            color:  #f1f1f1;\n",
              "        }#T_a799f136_7ec0_11ec_9242_0242ac1c0002row0_col4,#T_a799f136_7ec0_11ec_9242_0242ac1c0002row1_col8,#T_a799f136_7ec0_11ec_9242_0242ac1c0002row2_col1,#T_a799f136_7ec0_11ec_9242_0242ac1c0002row2_col3,#T_a799f136_7ec0_11ec_9242_0242ac1c0002row2_col6,#T_a799f136_7ec0_11ec_9242_0242ac1c0002row2_col7,#T_a799f136_7ec0_11ec_9242_0242ac1c0002row4_col0,#T_a799f136_7ec0_11ec_9242_0242ac1c0002row6_col1,#T_a799f136_7ec0_11ec_9242_0242ac1c0002row6_col5,#T_a799f136_7ec0_11ec_9242_0242ac1c0002row7_col2{\n",
              "            background-color:  #3b4cc0;\n",
              "            color:  #f1f1f1;\n",
              "        }#T_a799f136_7ec0_11ec_9242_0242ac1c0002row0_col5{\n",
              "            background-color:  #4055c8;\n",
              "            color:  #f1f1f1;\n",
              "        }#T_a799f136_7ec0_11ec_9242_0242ac1c0002row0_col6{\n",
              "            background-color:  #df634e;\n",
              "            color:  #000000;\n",
              "        }#T_a799f136_7ec0_11ec_9242_0242ac1c0002row0_col7{\n",
              "            background-color:  #a9c6fd;\n",
              "            color:  #000000;\n",
              "        }#T_a799f136_7ec0_11ec_9242_0242ac1c0002row0_col8{\n",
              "            background-color:  #a2c1ff;\n",
              "            color:  #000000;\n",
              "        }#T_a799f136_7ec0_11ec_9242_0242ac1c0002row1_col0,#T_a799f136_7ec0_11ec_9242_0242ac1c0002row7_col6{\n",
              "            background-color:  #85a8fc;\n",
              "            color:  #000000;\n",
              "        }#T_a799f136_7ec0_11ec_9242_0242ac1c0002row1_col2,#T_a799f136_7ec0_11ec_9242_0242ac1c0002row7_col8{\n",
              "            background-color:  #688aef;\n",
              "            color:  #000000;\n",
              "        }#T_a799f136_7ec0_11ec_9242_0242ac1c0002row1_col3{\n",
              "            background-color:  #cad8ef;\n",
              "            color:  #000000;\n",
              "        }#T_a799f136_7ec0_11ec_9242_0242ac1c0002row1_col4{\n",
              "            background-color:  #a1c0ff;\n",
              "            color:  #000000;\n",
              "        }#T_a799f136_7ec0_11ec_9242_0242ac1c0002row1_col5{\n",
              "            background-color:  #465ecf;\n",
              "            color:  #f1f1f1;\n",
              "        }#T_a799f136_7ec0_11ec_9242_0242ac1c0002row1_col6{\n",
              "            background-color:  #5e7de7;\n",
              "            color:  #000000;\n",
              "        }#T_a799f136_7ec0_11ec_9242_0242ac1c0002row1_col7{\n",
              "            background-color:  #e9d5cb;\n",
              "            color:  #000000;\n",
              "        }#T_a799f136_7ec0_11ec_9242_0242ac1c0002row2_col0{\n",
              "            background-color:  #94b6ff;\n",
              "            color:  #000000;\n",
              "        }#T_a799f136_7ec0_11ec_9242_0242ac1c0002row2_col4,#T_a799f136_7ec0_11ec_9242_0242ac1c0002row2_col5{\n",
              "            background-color:  #8badfd;\n",
              "            color:  #000000;\n",
              "        }#T_a799f136_7ec0_11ec_9242_0242ac1c0002row2_col8,#T_a799f136_7ec0_11ec_9242_0242ac1c0002row4_col7{\n",
              "            background-color:  #90b2fe;\n",
              "            color:  #000000;\n",
              "        }#T_a799f136_7ec0_11ec_9242_0242ac1c0002row3_col0,#T_a799f136_7ec0_11ec_9242_0242ac1c0002row5_col6{\n",
              "            background-color:  #5572df;\n",
              "            color:  #000000;\n",
              "        }#T_a799f136_7ec0_11ec_9242_0242ac1c0002row3_col1{\n",
              "            background-color:  #abc8fd;\n",
              "            color:  #000000;\n",
              "        }#T_a799f136_7ec0_11ec_9242_0242ac1c0002row3_col2,#T_a799f136_7ec0_11ec_9242_0242ac1c0002row5_col1{\n",
              "            background-color:  #3c4ec2;\n",
              "            color:  #f1f1f1;\n",
              "        }#T_a799f136_7ec0_11ec_9242_0242ac1c0002row3_col4,#T_a799f136_7ec0_11ec_9242_0242ac1c0002row7_col0{\n",
              "            background-color:  #afcafc;\n",
              "            color:  #000000;\n",
              "        }#T_a799f136_7ec0_11ec_9242_0242ac1c0002row3_col5{\n",
              "            background-color:  #dadce0;\n",
              "            color:  #000000;\n",
              "        }#T_a799f136_7ec0_11ec_9242_0242ac1c0002row3_col6{\n",
              "            background-color:  #6282ea;\n",
              "            color:  #000000;\n",
              "        }#T_a799f136_7ec0_11ec_9242_0242ac1c0002row3_col7,#T_a799f136_7ec0_11ec_9242_0242ac1c0002row7_col3{\n",
              "            background-color:  #f6bda2;\n",
              "            color:  #000000;\n",
              "        }#T_a799f136_7ec0_11ec_9242_0242ac1c0002row3_col8{\n",
              "            background-color:  #6485ec;\n",
              "            color:  #000000;\n",
              "        }#T_a799f136_7ec0_11ec_9242_0242ac1c0002row4_col1,#T_a799f136_7ec0_11ec_9242_0242ac1c0002row4_col6,#T_a799f136_7ec0_11ec_9242_0242ac1c0002row5_col0{\n",
              "            background-color:  #6e90f2;\n",
              "            color:  #000000;\n",
              "        }#T_a799f136_7ec0_11ec_9242_0242ac1c0002row4_col2,#T_a799f136_7ec0_11ec_9242_0242ac1c0002row6_col4{\n",
              "            background-color:  #81a4fb;\n",
              "            color:  #000000;\n",
              "        }#T_a799f136_7ec0_11ec_9242_0242ac1c0002row4_col3{\n",
              "            background-color:  #a6c4fe;\n",
              "            color:  #000000;\n",
              "        }#T_a799f136_7ec0_11ec_9242_0242ac1c0002row4_col5{\n",
              "            background-color:  #5875e1;\n",
              "            color:  #000000;\n",
              "        }#T_a799f136_7ec0_11ec_9242_0242ac1c0002row4_col8{\n",
              "            background-color:  #5f7fe8;\n",
              "            color:  #000000;\n",
              "        }#T_a799f136_7ec0_11ec_9242_0242ac1c0002row5_col2{\n",
              "            background-color:  #aac7fd;\n",
              "            color:  #000000;\n",
              "        }#T_a799f136_7ec0_11ec_9242_0242ac1c0002row5_col3{\n",
              "            background-color:  #e8d6cc;\n",
              "            color:  #000000;\n",
              "        }#T_a799f136_7ec0_11ec_9242_0242ac1c0002row5_col4{\n",
              "            background-color:  #84a7fc;\n",
              "            color:  #000000;\n",
              "        }#T_a799f136_7ec0_11ec_9242_0242ac1c0002row5_col7{\n",
              "            background-color:  #9fbfff;\n",
              "            color:  #000000;\n",
              "        }#T_a799f136_7ec0_11ec_9242_0242ac1c0002row5_col8{\n",
              "            background-color:  #779af7;\n",
              "            color:  #000000;\n",
              "        }#T_a799f136_7ec0_11ec_9242_0242ac1c0002row6_col0{\n",
              "            background-color:  #dd5f4b;\n",
              "            color:  #000000;\n",
              "        }#T_a799f136_7ec0_11ec_9242_0242ac1c0002row6_col2{\n",
              "            background-color:  #445acc;\n",
              "            color:  #f1f1f1;\n",
              "        }#T_a799f136_7ec0_11ec_9242_0242ac1c0002row6_col3{\n",
              "            background-color:  #6a8bef;\n",
              "            color:  #000000;\n",
              "        }#T_a799f136_7ec0_11ec_9242_0242ac1c0002row6_col7{\n",
              "            background-color:  #8fb1fe;\n",
              "            color:  #000000;\n",
              "        }#T_a799f136_7ec0_11ec_9242_0242ac1c0002row6_col8{\n",
              "            background-color:  #9dbdff;\n",
              "            color:  #000000;\n",
              "        }#T_a799f136_7ec0_11ec_9242_0242ac1c0002row7_col1{\n",
              "            background-color:  #d5dbe5;\n",
              "            color:  #000000;\n",
              "        }#T_a799f136_7ec0_11ec_9242_0242ac1c0002row7_col4{\n",
              "            background-color:  #9abbff;\n",
              "            color:  #000000;\n",
              "        }#T_a799f136_7ec0_11ec_9242_0242ac1c0002row7_col5{\n",
              "            background-color:  #7ea1fa;\n",
              "            color:  #000000;\n",
              "        }#T_a799f136_7ec0_11ec_9242_0242ac1c0002row8_col0{\n",
              "            background-color:  #cdd9ec;\n",
              "            color:  #000000;\n",
              "        }#T_a799f136_7ec0_11ec_9242_0242ac1c0002row8_col1{\n",
              "            background-color:  #4257c9;\n",
              "            color:  #f1f1f1;\n",
              "        }#T_a799f136_7ec0_11ec_9242_0242ac1c0002row8_col2{\n",
              "            background-color:  #bbd1f8;\n",
              "            color:  #000000;\n",
              "        }#T_a799f136_7ec0_11ec_9242_0242ac1c0002row8_col3{\n",
              "            background-color:  #96b7ff;\n",
              "            color:  #000000;\n",
              "        }#T_a799f136_7ec0_11ec_9242_0242ac1c0002row8_col4,#T_a799f136_7ec0_11ec_9242_0242ac1c0002row8_col7{\n",
              "            background-color:  #9bbcff;\n",
              "            color:  #000000;\n",
              "        }#T_a799f136_7ec0_11ec_9242_0242ac1c0002row8_col5{\n",
              "            background-color:  #88abfd;\n",
              "            color:  #000000;\n",
              "        }#T_a799f136_7ec0_11ec_9242_0242ac1c0002row8_col6{\n",
              "            background-color:  #bed2f6;\n",
              "            color:  #000000;\n",
              "        }</style><table id=\"T_a799f136_7ec0_11ec_9242_0242ac1c0002\" class=\"dataframe\"><thead>    <tr>        <th class=\"blank level0\" ></th>        <th class=\"col_heading level0 col0\" >RI</th>        <th class=\"col_heading level0 col1\" >Na</th>        <th class=\"col_heading level0 col2\" >Mg</th>        <th class=\"col_heading level0 col3\" >Al</th>        <th class=\"col_heading level0 col4\" >Si</th>        <th class=\"col_heading level0 col5\" >K</th>        <th class=\"col_heading level0 col6\" >Ca</th>        <th class=\"col_heading level0 col7\" >Ba</th>        <th class=\"col_heading level0 col8\" >Fe</th>    </tr></thead><tbody>\n",
              "                <tr>\n",
              "                        <th id=\"T_a799f136_7ec0_11ec_9242_0242ac1c0002level0_row0\" class=\"row_heading level0 row0\" >RI</th>\n",
              "                        <td id=\"T_a799f136_7ec0_11ec_9242_0242ac1c0002row0_col0\" class=\"data row0 col0\" >1.000000</td>\n",
              "                        <td id=\"T_a799f136_7ec0_11ec_9242_0242ac1c0002row0_col1\" class=\"data row0 col1\" >-0.191885</td>\n",
              "                        <td id=\"T_a799f136_7ec0_11ec_9242_0242ac1c0002row0_col2\" class=\"data row0 col2\" >-0.122274</td>\n",
              "                        <td id=\"T_a799f136_7ec0_11ec_9242_0242ac1c0002row0_col3\" class=\"data row0 col3\" >-0.407326</td>\n",
              "                        <td id=\"T_a799f136_7ec0_11ec_9242_0242ac1c0002row0_col4\" class=\"data row0 col4\" >-0.542052</td>\n",
              "                        <td id=\"T_a799f136_7ec0_11ec_9242_0242ac1c0002row0_col5\" class=\"data row0 col5\" >-0.289833</td>\n",
              "                        <td id=\"T_a799f136_7ec0_11ec_9242_0242ac1c0002row0_col6\" class=\"data row0 col6\" >0.810403</td>\n",
              "                        <td id=\"T_a799f136_7ec0_11ec_9242_0242ac1c0002row0_col7\" class=\"data row0 col7\" >-0.000386</td>\n",
              "                        <td id=\"T_a799f136_7ec0_11ec_9242_0242ac1c0002row0_col8\" class=\"data row0 col8\" >0.143010</td>\n",
              "            </tr>\n",
              "            <tr>\n",
              "                        <th id=\"T_a799f136_7ec0_11ec_9242_0242ac1c0002level0_row1\" class=\"row_heading level0 row1\" >Na</th>\n",
              "                        <td id=\"T_a799f136_7ec0_11ec_9242_0242ac1c0002row1_col0\" class=\"data row1 col0\" >-0.191885</td>\n",
              "                        <td id=\"T_a799f136_7ec0_11ec_9242_0242ac1c0002row1_col1\" class=\"data row1 col1\" >1.000000</td>\n",
              "                        <td id=\"T_a799f136_7ec0_11ec_9242_0242ac1c0002row1_col2\" class=\"data row1 col2\" >-0.273732</td>\n",
              "                        <td id=\"T_a799f136_7ec0_11ec_9242_0242ac1c0002row1_col3\" class=\"data row1 col3\" >0.156794</td>\n",
              "                        <td id=\"T_a799f136_7ec0_11ec_9242_0242ac1c0002row1_col4\" class=\"data row1 col4\" >-0.069809</td>\n",
              "                        <td id=\"T_a799f136_7ec0_11ec_9242_0242ac1c0002row1_col5\" class=\"data row1 col5\" >-0.266087</td>\n",
              "                        <td id=\"T_a799f136_7ec0_11ec_9242_0242ac1c0002row1_col6\" class=\"data row1 col6\" >-0.275442</td>\n",
              "                        <td id=\"T_a799f136_7ec0_11ec_9242_0242ac1c0002row1_col7\" class=\"data row1 col7\" >0.326603</td>\n",
              "                        <td id=\"T_a799f136_7ec0_11ec_9242_0242ac1c0002row1_col8\" class=\"data row1 col8\" >-0.241346</td>\n",
              "            </tr>\n",
              "            <tr>\n",
              "                        <th id=\"T_a799f136_7ec0_11ec_9242_0242ac1c0002level0_row2\" class=\"row_heading level0 row2\" >Mg</th>\n",
              "                        <td id=\"T_a799f136_7ec0_11ec_9242_0242ac1c0002row2_col0\" class=\"data row2 col0\" >-0.122274</td>\n",
              "                        <td id=\"T_a799f136_7ec0_11ec_9242_0242ac1c0002row2_col1\" class=\"data row2 col1\" >-0.273732</td>\n",
              "                        <td id=\"T_a799f136_7ec0_11ec_9242_0242ac1c0002row2_col2\" class=\"data row2 col2\" >1.000000</td>\n",
              "                        <td id=\"T_a799f136_7ec0_11ec_9242_0242ac1c0002row2_col3\" class=\"data row2 col3\" >-0.481799</td>\n",
              "                        <td id=\"T_a799f136_7ec0_11ec_9242_0242ac1c0002row2_col4\" class=\"data row2 col4\" >-0.165927</td>\n",
              "                        <td id=\"T_a799f136_7ec0_11ec_9242_0242ac1c0002row2_col5\" class=\"data row2 col5\" >0.005396</td>\n",
              "                        <td id=\"T_a799f136_7ec0_11ec_9242_0242ac1c0002row2_col6\" class=\"data row2 col6\" >-0.443750</td>\n",
              "                        <td id=\"T_a799f136_7ec0_11ec_9242_0242ac1c0002row2_col7\" class=\"data row2 col7\" >-0.492262</td>\n",
              "                        <td id=\"T_a799f136_7ec0_11ec_9242_0242ac1c0002row2_col8\" class=\"data row2 col8\" >0.083060</td>\n",
              "            </tr>\n",
              "            <tr>\n",
              "                        <th id=\"T_a799f136_7ec0_11ec_9242_0242ac1c0002level0_row3\" class=\"row_heading level0 row3\" >Al</th>\n",
              "                        <td id=\"T_a799f136_7ec0_11ec_9242_0242ac1c0002row3_col0\" class=\"data row3 col0\" >-0.407326</td>\n",
              "                        <td id=\"T_a799f136_7ec0_11ec_9242_0242ac1c0002row3_col1\" class=\"data row3 col1\" >0.156794</td>\n",
              "                        <td id=\"T_a799f136_7ec0_11ec_9242_0242ac1c0002row3_col2\" class=\"data row3 col2\" >-0.481799</td>\n",
              "                        <td id=\"T_a799f136_7ec0_11ec_9242_0242ac1c0002row3_col3\" class=\"data row3 col3\" >1.000000</td>\n",
              "                        <td id=\"T_a799f136_7ec0_11ec_9242_0242ac1c0002row3_col4\" class=\"data row3 col4\" >-0.005524</td>\n",
              "                        <td id=\"T_a799f136_7ec0_11ec_9242_0242ac1c0002row3_col5\" class=\"data row3 col5\" >0.325958</td>\n",
              "                        <td id=\"T_a799f136_7ec0_11ec_9242_0242ac1c0002row3_col6\" class=\"data row3 col6\" >-0.259592</td>\n",
              "                        <td id=\"T_a799f136_7ec0_11ec_9242_0242ac1c0002row3_col7\" class=\"data row3 col7\" >0.479404</td>\n",
              "                        <td id=\"T_a799f136_7ec0_11ec_9242_0242ac1c0002row3_col8\" class=\"data row3 col8\" >-0.074402</td>\n",
              "            </tr>\n",
              "            <tr>\n",
              "                        <th id=\"T_a799f136_7ec0_11ec_9242_0242ac1c0002level0_row4\" class=\"row_heading level0 row4\" >Si</th>\n",
              "                        <td id=\"T_a799f136_7ec0_11ec_9242_0242ac1c0002row4_col0\" class=\"data row4 col0\" >-0.542052</td>\n",
              "                        <td id=\"T_a799f136_7ec0_11ec_9242_0242ac1c0002row4_col1\" class=\"data row4 col1\" >-0.069809</td>\n",
              "                        <td id=\"T_a799f136_7ec0_11ec_9242_0242ac1c0002row4_col2\" class=\"data row4 col2\" >-0.165927</td>\n",
              "                        <td id=\"T_a799f136_7ec0_11ec_9242_0242ac1c0002row4_col3\" class=\"data row4 col3\" >-0.005524</td>\n",
              "                        <td id=\"T_a799f136_7ec0_11ec_9242_0242ac1c0002row4_col4\" class=\"data row4 col4\" >1.000000</td>\n",
              "                        <td id=\"T_a799f136_7ec0_11ec_9242_0242ac1c0002row4_col5\" class=\"data row4 col5\" >-0.193331</td>\n",
              "                        <td id=\"T_a799f136_7ec0_11ec_9242_0242ac1c0002row4_col6\" class=\"data row4 col6\" >-0.208732</td>\n",
              "                        <td id=\"T_a799f136_7ec0_11ec_9242_0242ac1c0002row4_col7\" class=\"data row4 col7\" >-0.102151</td>\n",
              "                        <td id=\"T_a799f136_7ec0_11ec_9242_0242ac1c0002row4_col8\" class=\"data row4 col8\" >-0.094201</td>\n",
              "            </tr>\n",
              "            <tr>\n",
              "                        <th id=\"T_a799f136_7ec0_11ec_9242_0242ac1c0002level0_row5\" class=\"row_heading level0 row5\" >K</th>\n",
              "                        <td id=\"T_a799f136_7ec0_11ec_9242_0242ac1c0002row5_col0\" class=\"data row5 col0\" >-0.289833</td>\n",
              "                        <td id=\"T_a799f136_7ec0_11ec_9242_0242ac1c0002row5_col1\" class=\"data row5 col1\" >-0.266087</td>\n",
              "                        <td id=\"T_a799f136_7ec0_11ec_9242_0242ac1c0002row5_col2\" class=\"data row5 col2\" >0.005396</td>\n",
              "                        <td id=\"T_a799f136_7ec0_11ec_9242_0242ac1c0002row5_col3\" class=\"data row5 col3\" >0.325958</td>\n",
              "                        <td id=\"T_a799f136_7ec0_11ec_9242_0242ac1c0002row5_col4\" class=\"data row5 col4\" >-0.193331</td>\n",
              "                        <td id=\"T_a799f136_7ec0_11ec_9242_0242ac1c0002row5_col5\" class=\"data row5 col5\" >1.000000</td>\n",
              "                        <td id=\"T_a799f136_7ec0_11ec_9242_0242ac1c0002row5_col6\" class=\"data row5 col6\" >-0.317836</td>\n",
              "                        <td id=\"T_a799f136_7ec0_11ec_9242_0242ac1c0002row5_col7\" class=\"data row5 col7\" >-0.042618</td>\n",
              "                        <td id=\"T_a799f136_7ec0_11ec_9242_0242ac1c0002row5_col8\" class=\"data row5 col8\" >-0.007719</td>\n",
              "            </tr>\n",
              "            <tr>\n",
              "                        <th id=\"T_a799f136_7ec0_11ec_9242_0242ac1c0002level0_row6\" class=\"row_heading level0 row6\" >Ca</th>\n",
              "                        <td id=\"T_a799f136_7ec0_11ec_9242_0242ac1c0002row6_col0\" class=\"data row6 col0\" >0.810403</td>\n",
              "                        <td id=\"T_a799f136_7ec0_11ec_9242_0242ac1c0002row6_col1\" class=\"data row6 col1\" >-0.275442</td>\n",
              "                        <td id=\"T_a799f136_7ec0_11ec_9242_0242ac1c0002row6_col2\" class=\"data row6 col2\" >-0.443750</td>\n",
              "                        <td id=\"T_a799f136_7ec0_11ec_9242_0242ac1c0002row6_col3\" class=\"data row6 col3\" >-0.259592</td>\n",
              "                        <td id=\"T_a799f136_7ec0_11ec_9242_0242ac1c0002row6_col4\" class=\"data row6 col4\" >-0.208732</td>\n",
              "                        <td id=\"T_a799f136_7ec0_11ec_9242_0242ac1c0002row6_col5\" class=\"data row6 col5\" >-0.317836</td>\n",
              "                        <td id=\"T_a799f136_7ec0_11ec_9242_0242ac1c0002row6_col6\" class=\"data row6 col6\" >1.000000</td>\n",
              "                        <td id=\"T_a799f136_7ec0_11ec_9242_0242ac1c0002row6_col7\" class=\"data row6 col7\" >-0.112841</td>\n",
              "                        <td id=\"T_a799f136_7ec0_11ec_9242_0242ac1c0002row6_col8\" class=\"data row6 col8\" >0.124968</td>\n",
              "            </tr>\n",
              "            <tr>\n",
              "                        <th id=\"T_a799f136_7ec0_11ec_9242_0242ac1c0002level0_row7\" class=\"row_heading level0 row7\" >Ba</th>\n",
              "                        <td id=\"T_a799f136_7ec0_11ec_9242_0242ac1c0002row7_col0\" class=\"data row7 col0\" >-0.000386</td>\n",
              "                        <td id=\"T_a799f136_7ec0_11ec_9242_0242ac1c0002row7_col1\" class=\"data row7 col1\" >0.326603</td>\n",
              "                        <td id=\"T_a799f136_7ec0_11ec_9242_0242ac1c0002row7_col2\" class=\"data row7 col2\" >-0.492262</td>\n",
              "                        <td id=\"T_a799f136_7ec0_11ec_9242_0242ac1c0002row7_col3\" class=\"data row7 col3\" >0.479404</td>\n",
              "                        <td id=\"T_a799f136_7ec0_11ec_9242_0242ac1c0002row7_col4\" class=\"data row7 col4\" >-0.102151</td>\n",
              "                        <td id=\"T_a799f136_7ec0_11ec_9242_0242ac1c0002row7_col5\" class=\"data row7 col5\" >-0.042618</td>\n",
              "                        <td id=\"T_a799f136_7ec0_11ec_9242_0242ac1c0002row7_col6\" class=\"data row7 col6\" >-0.112841</td>\n",
              "                        <td id=\"T_a799f136_7ec0_11ec_9242_0242ac1c0002row7_col7\" class=\"data row7 col7\" >1.000000</td>\n",
              "                        <td id=\"T_a799f136_7ec0_11ec_9242_0242ac1c0002row7_col8\" class=\"data row7 col8\" >-0.058692</td>\n",
              "            </tr>\n",
              "            <tr>\n",
              "                        <th id=\"T_a799f136_7ec0_11ec_9242_0242ac1c0002level0_row8\" class=\"row_heading level0 row8\" >Fe</th>\n",
              "                        <td id=\"T_a799f136_7ec0_11ec_9242_0242ac1c0002row8_col0\" class=\"data row8 col0\" >0.143010</td>\n",
              "                        <td id=\"T_a799f136_7ec0_11ec_9242_0242ac1c0002row8_col1\" class=\"data row8 col1\" >-0.241346</td>\n",
              "                        <td id=\"T_a799f136_7ec0_11ec_9242_0242ac1c0002row8_col2\" class=\"data row8 col2\" >0.083060</td>\n",
              "                        <td id=\"T_a799f136_7ec0_11ec_9242_0242ac1c0002row8_col3\" class=\"data row8 col3\" >-0.074402</td>\n",
              "                        <td id=\"T_a799f136_7ec0_11ec_9242_0242ac1c0002row8_col4\" class=\"data row8 col4\" >-0.094201</td>\n",
              "                        <td id=\"T_a799f136_7ec0_11ec_9242_0242ac1c0002row8_col5\" class=\"data row8 col5\" >-0.007719</td>\n",
              "                        <td id=\"T_a799f136_7ec0_11ec_9242_0242ac1c0002row8_col6\" class=\"data row8 col6\" >0.124968</td>\n",
              "                        <td id=\"T_a799f136_7ec0_11ec_9242_0242ac1c0002row8_col7\" class=\"data row8 col7\" >-0.058692</td>\n",
              "                        <td id=\"T_a799f136_7ec0_11ec_9242_0242ac1c0002row8_col8\" class=\"data row8 col8\" >1.000000</td>\n",
              "            </tr>\n",
              "    </tbody></table>"
            ],
            "text/plain": [
              "<pandas.io.formats.style.Styler at 0x7f1a165546d0>"
            ]
          },
          "metadata": {},
          "execution_count": 12
        }
      ]
    },
    {
      "cell_type": "markdown",
      "source": [
        "As seen in the above graph, there is a high correlation exists between some of the variables. We can use PCA to reduce the hight correlated variables\n"
      ],
      "metadata": {
        "id": "84qT__mcG4zT"
      }
    },
    {
      "cell_type": "markdown",
      "source": [
        "# KNN\n",
        "Finding optimal number of K\n"
      ],
      "metadata": {
        "id": "bqfM8M7oG-mV"
      }
    },
    {
      "cell_type": "code",
      "source": [
        "X = np.array(df1.iloc[:,3:5])\n",
        "y = np.array(df1['Type'])\n"
      ],
      "metadata": {
        "id": "A_BGug8-G24K"
      },
      "execution_count": 14,
      "outputs": []
    },
    {
      "cell_type": "code",
      "source": [
        "X_train, X_test, y_train, y_test = train_test_split(X, y, test_size=0.2, random_state=1, stratify=y)\n"
      ],
      "metadata": {
        "id": "SkQyIJiZHGk2"
      },
      "execution_count": 15,
      "outputs": []
    },
    {
      "cell_type": "code",
      "source": [
        "k_values = np.arange(1,25)\n",
        "train_accuracy = []\n",
        "test_accuracy = []\n"
      ],
      "metadata": {
        "id": "X2jh0_KGHKK-"
      },
      "execution_count": 16,
      "outputs": []
    },
    {
      "cell_type": "code",
      "source": [
        "for i, k in enumerate(k_values):\n",
        "    knn = KNeighborsClassifier(n_neighbors=k)\n",
        "    knn.fit(X_train,y_train)\n",
        "    train_accuracy.append(knn.score(X_train, y_train))\n",
        "    test_accuracy.append(knn.score(X_test, y_test))\n"
      ],
      "metadata": {
        "id": "WqWbAHU5HOP4"
      },
      "execution_count": 17,
      "outputs": []
    },
    {
      "cell_type": "code",
      "source": [
        "plt.figure(figsize=[13,8])\n",
        "plt.plot(k_values, test_accuracy, label = 'Testing Accuracy')\n",
        "plt.plot(k_values, train_accuracy, label = 'Training Accuracy')\n",
        "plt.legend()\n",
        "plt.title('-value VS Accuracy')\n",
        "plt.xlabel('Number of Neighbors')\n",
        "plt.ylabel('Accuracy')\n",
        "plt.xticks(k_values)\n",
        "plt.show()\n"
      ],
      "metadata": {
        "colab": {
          "base_uri": "https://localhost:8080/",
          "height": 518
        },
        "id": "1NQV8xwjHScg",
        "outputId": "710b3602-35ff-48d4-b93f-e0e96747dbdd"
      },
      "execution_count": 18,
      "outputs": [
        {
          "output_type": "display_data",
          "data": {
            "image/png": "[encoded data removed]",
            "text/plain": [
              "<Figure size 936x576 with 1 Axes>"
            ]
          },
          "metadata": {
            "needs_background": "light"
          }
        }
      ]
    },
    {
      "cell_type": "markdown",
      "source": [
        "we can see that k=4 produces the most accurate results\n"
      ],
      "metadata": {
        "id": "2o5jRaXKHbuJ"
      }
    },
    {
      "cell_type": "markdown",
      "source": [
        "Applying the theorem"
      ],
      "metadata": {
        "id": "1IKMsNkBHm48"
      }
    },
    {
      "cell_type": "code",
      "source": [
        "knn = KNeighborsClassifier(n_neighbors=4)\n"
      ],
      "metadata": {
        "id": "2FAFbxJKHrFK"
      },
      "execution_count": 19,
      "outputs": []
    },
    {
      "cell_type": "code",
      "source": [
        "knn.fit(X_train, y_train)\n",
        "y_pred_KNeighborsClassifier = knn.predict(X_test)\n"
      ],
      "metadata": {
        "id": "5MoEvUZOHsGY"
      },
      "execution_count": 20,
      "outputs": []
    },
    {
      "cell_type": "code",
      "source": [
        "scores = []\n",
        "cv_scores = []\n"
      ],
      "metadata": {
        "id": "nvjooRz3Hxpf"
      },
      "execution_count": 21,
      "outputs": []
    },
    {
      "cell_type": "code",
      "source": [
        "score = accuracy_score(y_pred_KNeighborsClassifier,y_test)\n",
        "scores.append(score)\n"
      ],
      "metadata": {
        "id": "I97oQMAKH1BY"
      },
      "execution_count": 22,
      "outputs": []
    },
    {
      "cell_type": "code",
      "source": [
        "score_knn=cross_val_score(knn, X,y, cv=10)\n"
      ],
      "metadata": {
        "colab": {
          "base_uri": "https://localhost:8080/"
        },
        "id": "_2KsF-itH4w6",
        "outputId": "e34f90ce-f5b0-4680-f57d-622c4b5faaf3"
      },
      "execution_count": 23,
      "outputs": [
        {
          "output_type": "stream",
          "name": "stderr",
          "text": [
            "/usr/local/lib/python3.7/dist-packages/sklearn/model_selection/_split.py:680: UserWarning: The least populated class in y has only 9 members, which is less than n_splits=10.\n",
            "  UserWarning,\n"
          ]
        }
      ]
    },
    {
      "cell_type": "code",
      "source": [
        "score_knn.mean()\n"
      ],
      "metadata": {
        "colab": {
          "base_uri": "https://localhost:8080/"
        },
        "id": "8OInqXFvH7kn",
        "outputId": "2a7814d9-ee4f-4543-9575-93c3d694b3a9"
      },
      "execution_count": 24,
      "outputs": [
        {
          "output_type": "execute_result",
          "data": {
            "text/plain": [
              "0.6127705627705629"
            ]
          },
          "metadata": {},
          "execution_count": 24
        }
      ]
    },
    {
      "cell_type": "code",
      "source": [
        "score_knn.std()*2\n"
      ],
      "metadata": {
        "colab": {
          "base_uri": "https://localhost:8080/"
        },
        "id": "EHe8SSQYH_mf",
        "outputId": "a7200245-94d3-4080-a6bc-fcc8b587c684"
      },
      "execution_count": 25,
      "outputs": [
        {
          "output_type": "execute_result",
          "data": {
            "text/plain": [
              "0.23547117559816877"
            ]
          },
          "metadata": {},
          "execution_count": 25
        }
      ]
    },
    {
      "cell_type": "code",
      "source": [
        "cv_score = score_knn.mean()\n"
      ],
      "metadata": {
        "id": "8UQnzxV5IBwQ"
      },
      "execution_count": 26,
      "outputs": []
    },
    {
      "cell_type": "code",
      "source": [
        "cv_scores.append(cv_score)\n"
      ],
      "metadata": {
        "id": "QZqS1qmRIEIq"
      },
      "execution_count": 27,
      "outputs": []
    },
    {
      "cell_type": "code",
      "source": [
        "cv_scores\n"
      ],
      "metadata": {
        "colab": {
          "base_uri": "https://localhost:8080/"
        },
        "id": "0JZXEHDnIHNf",
        "outputId": "a7658aee-fcb5-4749-8af0-818c4d702f8a"
      },
      "execution_count": 28,
      "outputs": [
        {
          "output_type": "execute_result",
          "data": {
            "text/plain": [
              "[0.6127705627705629]"
            ]
          },
          "metadata": {},
          "execution_count": 28
        }
      ]
    },
    {
      "cell_type": "markdown",
      "source": [
        "## Conclusion\n",
        "Support Vector Machine Accuracy: 0.60 (+/- 0.21)"
      ],
      "metadata": {
        "id": "osW1IGRjIRD5"
      }
    },
    {
      "cell_type": "code",
      "source": [
        ""
      ],
      "metadata": {
        "id": "DjcAd7UdITHE"
      },
      "execution_count": null,
      "outputs": []
    }
  ]
}