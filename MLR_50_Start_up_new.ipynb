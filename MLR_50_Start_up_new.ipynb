{
  "nbformat": 4,
  "nbformat_minor": 0,
  "metadata": {
    "colab": {
      "name": "MLR 50 Start up new.ipynb",
      "provenance": [],
      "authorship_tag": "ABX9TyMf7ddpxWY8Ndo2uqBrpLFf",
      "include_colab_link": true
    },
    "kernelspec": {
      "name": "python3",
      "display_name": "Python 3"
    },
    "language_info": {
      "name": "python"
    }
  },
  "cells": [
    {
      "cell_type": "markdown",
      "metadata": {
        "id": "view-in-github",
        "colab_type": "text"
      },
      "source": [
        "<a href=\"https://colab.research.google.com/github/inamansari21/datascience/blob/main/MLR_50_Start_up_new.ipynb\" target=\"_parent\"><img src=\"https://colab.research.google.com/assets/colab-badge.svg\" alt=\"Open In Colab\"/></a>"
      ]
    },
    {
      "cell_type": "code",
      "execution_count": null,
      "metadata": {
        "id": "kQxeP4EI5aKa"
      },
      "outputs": [],
      "source": [
        "import pandas as pd\n",
        "import numpy as np\n",
        "import seaborn as sns\n",
        "import matplotlib.pyplot as  plt\n",
        "import statsmodels.formula.api as smf\n",
        "from statsmodels.graphics.regressionplots import influence_plot\n"
      ]
    },
    {
      "cell_type": "code",
      "source": [
        "df=pd.read_csv(\"50 Startups.csv\")\n",
        "df"
      ],
      "metadata": {
        "id": "xG_E1VlU5jDY"
      },
      "execution_count": null,
      "outputs": []
    },
    {
      "cell_type": "code",
      "source": [
        "df.describe()"
      ],
      "metadata": {
        "id": "oXonsuw35vqM"
      },
      "execution_count": null,
      "outputs": []
    },
    {
      "cell_type": "code",
      "source": [
        "df.shape"
      ],
      "metadata": {
        "id": "TpIfCtCi6Z2P"
      },
      "execution_count": null,
      "outputs": []
    },
    {
      "cell_type": "code",
      "source": [
        "df.columns"
      ],
      "metadata": {
        "id": "reyhDmeI6ftY"
      },
      "execution_count": null,
      "outputs": []
    },
    {
      "cell_type": "code",
      "source": [
        "df.dtypes"
      ],
      "metadata": {
        "id": "ahSWPwDE6hYL"
      },
      "execution_count": null,
      "outputs": []
    },
    {
      "cell_type": "code",
      "source": [
        "df['State'].unique()\n"
      ],
      "metadata": {
        "id": "vkc7CH1o6rj-"
      },
      "execution_count": null,
      "outputs": []
    },
    {
      "cell_type": "code",
      "source": [
        "df.State.value_counts()\n"
      ],
      "metadata": {
        "id": "2Xp4rg6t6sl_"
      },
      "execution_count": null,
      "outputs": []
    },
    {
      "cell_type": "markdown",
      "source": [
        "## Pre processing"
      ],
      "metadata": {
        "id": "5Lbbjbda6yna"
      }
    },
    {
      "cell_type": "code",
      "source": [
        "df.mean()\n"
      ],
      "metadata": {
        "id": "x94Ex9qg6w3v"
      },
      "execution_count": null,
      "outputs": []
    },
    {
      "cell_type": "code",
      "source": [
        "df.median()"
      ],
      "metadata": {
        "id": "ZuLcTRMu66RN"
      },
      "execution_count": null,
      "outputs": []
    },
    {
      "cell_type": "code",
      "source": [
        "df.var()\n"
      ],
      "metadata": {
        "id": "sTy_oX7j68_L"
      },
      "execution_count": null,
      "outputs": []
    },
    {
      "cell_type": "code",
      "source": [
        "df.skew()"
      ],
      "metadata": {
        "id": "Bdt0pcTb7AES"
      },
      "execution_count": null,
      "outputs": []
    },
    {
      "cell_type": "code",
      "source": [
        "df.kurtosis()"
      ],
      "metadata": {
        "id": "AkWROGPr7EfZ"
      },
      "execution_count": null,
      "outputs": []
    },
    {
      "cell_type": "code",
      "source": [
        "df.info()\n"
      ],
      "metadata": {
        "id": "_F6NWA-y7GxQ"
      },
      "execution_count": null,
      "outputs": []
    },
    {
      "cell_type": "code",
      "source": [
        "df.isnull().sum()\n"
      ],
      "metadata": {
        "id": "I_4xjpH17PII"
      },
      "execution_count": null,
      "outputs": []
    },
    {
      "cell_type": "code",
      "source": [
        "df=df.rename({\"R&D Spend\":\"R_D\",\n",
        "             \"Administration\":\"Admin\",\n",
        "             \"Marketing Spend\":\"MS\"},axis=1)\n"
      ],
      "metadata": {
        "id": "DRNnbasi7Rkw"
      },
      "execution_count": null,
      "outputs": []
    },
    {
      "cell_type": "code",
      "source": [
        "#One hot Encoding by  using get dummies\n",
        "df=pd.get_dummies(df,columns=['State'])\n"
      ],
      "metadata": {
        "id": "xnavTLYJ7W6y"
      },
      "execution_count": null,
      "outputs": []
    },
    {
      "cell_type": "code",
      "source": [
        "df=df.rename({\"State_New York\":\"St_NY\",\n",
        "              \"State_Florida\":\"St_F\",\n",
        "              \"State_California\":\"St_C\"},axis=1)\n"
      ],
      "metadata": {
        "id": "6iP91M_Y7afQ"
      },
      "execution_count": null,
      "outputs": []
    },
    {
      "cell_type": "code",
      "source": [
        "df.head(6)\n"
      ],
      "metadata": {
        "id": "Jijp9JH17dzJ"
      },
      "execution_count": null,
      "outputs": []
    },
    {
      "cell_type": "markdown",
      "source": [
        "# Checking for outliers"
      ],
      "metadata": {
        "id": "Ov1HL-ee7jfq"
      }
    },
    {
      "cell_type": "code",
      "source": [
        "sns.boxplot(data=df)\n"
      ],
      "metadata": {
        "id": "LaSP1utW7f6y"
      },
      "execution_count": null,
      "outputs": []
    },
    {
      "cell_type": "code",
      "source": [
        "sns.boxplot(df.Profit) # Target variable containg the one Out liers it was based on Profit of the company so Neglet the Outliers\n"
      ],
      "metadata": {
        "id": "W6eyNH877qzZ"
      },
      "execution_count": null,
      "outputs": []
    },
    {
      "cell_type": "markdown",
      "source": [
        "## Plots and graphs"
      ],
      "metadata": {
        "id": "kqwh_2wC7xao"
      }
    },
    {
      "cell_type": "code",
      "source": [
        "sns.distplot(df['St_C'])# California\n"
      ],
      "metadata": {
        "id": "hhrW_yOr7t-a"
      },
      "execution_count": null,
      "outputs": []
    },
    {
      "cell_type": "code",
      "source": [
        "sns.distplot(df['St_F'])# Florida\n"
      ],
      "metadata": {
        "id": "F3HivSSy71Z3"
      },
      "execution_count": null,
      "outputs": []
    },
    {
      "cell_type": "code",
      "source": [
        "sns.distplot(df['St_C'])# NewYork\n"
      ],
      "metadata": {
        "id": "WRSQKOD-74Ig"
      },
      "execution_count": null,
      "outputs": []
    },
    {
      "cell_type": "code",
      "source": [
        "sns.distplot(df['R_D'])# Reasearch and Developement Spend\n"
      ],
      "metadata": {
        "id": "7kYs3un_76xp"
      },
      "execution_count": null,
      "outputs": []
    },
    {
      "cell_type": "code",
      "source": [
        "sns.distplot(df['Admin'])# Adminstartion Spend\n"
      ],
      "metadata": {
        "id": "Tyz7-IiQ79Oj"
      },
      "execution_count": null,
      "outputs": []
    },
    {
      "cell_type": "code",
      "source": [
        "sns.distplot(df['MS'])# Marketing  Spend\n"
      ],
      "metadata": {
        "id": "N0-ekRmz8AC-"
      },
      "execution_count": null,
      "outputs": []
    },
    {
      "cell_type": "code",
      "source": [
        "sns.distplot(df['Profit'])# Taeget Profit ## the profit the perfectly Normal Distribution. data ranges betwween -5000 to 250000\n"
      ],
      "metadata": {
        "id": "r8BM6dEs8Cjk"
      },
      "execution_count": null,
      "outputs": []
    },
    {
      "cell_type": "code",
      "source": [
        "# Here the Relationship between =========> postive Corelation +1\n",
        "plt.scatter(x='R_D',y='Profit',data=df)\n",
        "plt.xlabel('R_D')\n",
        "plt.ylabel('Profit')\n",
        "plt.show()\n"
      ],
      "metadata": {
        "id": "kXqc59m08FGd"
      },
      "execution_count": null,
      "outputs": []
    },
    {
      "cell_type": "code",
      "source": [
        "# Here the Relationship between =========> postive Corelation 1\n",
        "plt.scatter(x='MS',y='Profit',data=df)\n",
        "plt.xlabel('MS')\n",
        "plt.ylabel('Profit')\n",
        "plt.show()\n"
      ],
      "metadata": {
        "id": "CCOE4usW8IIz"
      },
      "execution_count": null,
      "outputs": []
    },
    {
      "cell_type": "code",
      "source": [
        "# Here the Relationship  =========> No Corelation between Profit and Admin 0\n",
        "plt.scatter(x='Admin',y='Profit',data=df)\n",
        "plt.xlabel('Admin')\n",
        "plt.ylabel('Profit')\n",
        "plt.show()\n"
      ],
      "metadata": {
        "id": "c1-gYv128KvG"
      },
      "execution_count": null,
      "outputs": []
    },
    {
      "cell_type": "code",
      "source": [
        "plt.scatter(x='St_C',y='Profit',data=df)\n",
        "plt.xlabel('St_C')\n",
        "plt.ylabel('Profit')\n",
        "plt.show()\n"
      ],
      "metadata": {
        "id": "1gtgfJrk8N3a"
      },
      "execution_count": null,
      "outputs": []
    },
    {
      "cell_type": "code",
      "source": [
        "bar=df.groupby(df['St_F'])['Profit'].mean().plot.bar( figsize=(10,5),fontsize=14)\n"
      ],
      "metadata": {
        "id": "kSj-9iTE8Qbf"
      },
      "execution_count": null,
      "outputs": []
    },
    {
      "cell_type": "code",
      "source": [
        "bar=df.groupby(df['St_C'])['Profit'].mean().plot.bar( figsize=(10,5),fontsize=14)\n"
      ],
      "metadata": {
        "id": "qEB4j1l18S9v"
      },
      "execution_count": null,
      "outputs": []
    },
    {
      "cell_type": "code",
      "source": [
        "bar=df.groupby(df['St_NY'])['Profit'].mean().plot.bar( figsize=(10,5),fontsize=14)\n",
        "\n"
      ],
      "metadata": {
        "id": "cw-fs5hq8VRT"
      },
      "execution_count": null,
      "outputs": []
    },
    {
      "cell_type": "code",
      "source": [
        "##plot Scatter plot between all the variables\n",
        "sns.set_style(style='darkgrid')\n",
        "sns.pairplot(df)\n"
      ],
      "metadata": {
        "id": "GGmQIlsr8Z54"
      },
      "execution_count": null,
      "outputs": []
    },
    {
      "cell_type": "markdown",
      "source": [
        "## Correlation matrix"
      ],
      "metadata": {
        "id": "9uyzj1Zp8oRy"
      }
    },
    {
      "cell_type": "code",
      "source": [
        "df.corr()\n"
      ],
      "metadata": {
        "id": "fhLAGl5a8scl"
      },
      "execution_count": null,
      "outputs": []
    },
    {
      "cell_type": "markdown",
      "source": [
        "## Check for the best model"
      ],
      "metadata": {
        "id": "o-2ia6wK81ot"
      }
    },
    {
      "cell_type": "code",
      "source": [
        "x=df[[\"R_D\",\"Admin\",\"MS\",\"St_C\",\"St_F\",\"St_NY\"]]\n",
        "y=df[\"Profit\"]\n"
      ],
      "metadata": {
        "id": "5ajkZm528toD"
      },
      "execution_count": null,
      "outputs": []
    },
    {
      "cell_type": "code",
      "source": [
        "from sklearn.model_selection import train_test_split\n",
        "x_train,x_test,y_train,y_test=train_test_split(x,y,test_size=0.2,random_state=40)\n"
      ],
      "metadata": {
        "id": "r2H6k5E089n9"
      },
      "execution_count": null,
      "outputs": []
    },
    {
      "cell_type": "code",
      "source": [
        "from sklearn import linear_model\n",
        "regressor=linear_model.LinearRegression()\n",
        "regressor.fit(x_train,y_train)\n"
      ],
      "metadata": {
        "id": "w0A1QkvW9BPb"
      },
      "execution_count": null,
      "outputs": []
    },
    {
      "cell_type": "code",
      "source": [
        "predicted=regressor.predict(x_test)\n",
        "predicted\n"
      ],
      "metadata": {
        "id": "y-Xbqne09Ek3"
      },
      "execution_count": null,
      "outputs": []
    },
    {
      "cell_type": "code",
      "source": [
        "from  sklearn.metrics import  mean_squared_error,r2_score\n",
        "mse=mean_squared_error(y_test,predicted)\n",
        "print(mse)\n"
      ],
      "metadata": {
        "id": "92H1hX0u9HFK"
      },
      "execution_count": null,
      "outputs": []
    },
    {
      "cell_type": "code",
      "source": [
        "rmse=np.sqrt(mse)\n",
        "rmse\n"
      ],
      "metadata": {
        "id": "ymS5o2fN9NWP"
      },
      "execution_count": null,
      "outputs": []
    },
    {
      "cell_type": "code",
      "source": [
        "r2=r2_score(y_test,predicted)\n",
        "r2\n"
      ],
      "metadata": {
        "id": "uMcLq4_h9QkI"
      },
      "execution_count": null,
      "outputs": []
    },
    {
      "cell_type": "markdown",
      "source": [
        "## Implementing OLS Method"
      ],
      "metadata": {
        "id": "jJNRnTs59WfP"
      }
    },
    {
      "cell_type": "code",
      "source": [
        "import statsmodels.formula.api as smf\n",
        "all_variables=smf.ols(\"Profit~R_D+Admin+MS+St_C+St_F+St_NY\",data=df).fit()\n"
      ],
      "metadata": {
        "id": "IPuNsVn_9TPV"
      },
      "execution_count": null,
      "outputs": []
    },
    {
      "cell_type": "code",
      "source": [
        "all_variables.summary()\n"
      ],
      "metadata": {
        "id": "o5Ug-Psp9cMG"
      },
      "execution_count": null,
      "outputs": []
    },
    {
      "cell_type": "code",
      "source": [
        "all_variables.aic,all_variables.rsquared\n"
      ],
      "metadata": {
        "id": "4z8hsC7l9e_F"
      },
      "execution_count": null,
      "outputs": []
    },
    {
      "cell_type": "markdown",
      "source": [
        "Here we have Multiple in-Significant Featuers which means Which are not fit for you model. features are ( Adminstartion and Market Spend) based on P value wich are greater than 0.05 value Now check for is there any problem called Multicollinearity by using (Simple Linear Regression)\n",
        "\n",
        "here chechking for the First In-Significant feature's Independentally for MultiColinearity==> (0.162) greater than 0.05 Again it becames In-Significant Feature\n",
        "\n"
      ],
      "metadata": {
        "id": "EDczmxET9lJd"
      }
    },
    {
      "cell_type": "code",
      "source": [
        "mdl_stc=smf.ols(\"Profit~St_C\",data=df).fit()\n",
        "mdl_stf=smf.ols(\"Profit~St_F\",data=df).fit()\n",
        "mdl_stny=smf.ols(\"Profit~St_NY\",data=df).fit()\n",
        "mdl_stc.summary()\n"
      ],
      "metadata": {
        "id": "6xjPap9D9h_f"
      },
      "execution_count": null,
      "outputs": []
    },
    {
      "cell_type": "code",
      "source": [
        "mdl_stf.summary()\n"
      ],
      "metadata": {
        "id": "9h1hw7ez9pmi"
      },
      "execution_count": null,
      "outputs": []
    },
    {
      "cell_type": "code",
      "source": [
        "mdl_stny.summary()\n"
      ],
      "metadata": {
        "id": "8HcBcQnj9tDy"
      },
      "execution_count": null,
      "outputs": []
    },
    {
      "cell_type": "markdown",
      "source": [
        "Here Overall State Feature contain three Cateories which are explaining or predicting only a little amount of data(0.001+0.014+0.021)% of data\n",
        "\n"
      ],
      "metadata": {
        "id": "zmxGXE4P90WN"
      }
    },
    {
      "cell_type": "code",
      "source": [
        "mdl_pro=smf.ols(\"Profit~R_D\",data=df).fit()\n",
        "mdl_pro.summary()\n"
      ],
      "metadata": {
        "id": "nUi4q26R9v3X"
      },
      "execution_count": null,
      "outputs": []
    },
    {
      "cell_type": "code",
      "source": [
        "ad_slr=smf.ols(\"Profit~Admin\",data=df).fit()\n"
      ],
      "metadata": {
        "id": "EdxUZ3ca94Ig"
      },
      "execution_count": null,
      "outputs": []
    },
    {
      "cell_type": "code",
      "source": [
        "ad_slr.summary()\n"
      ],
      "metadata": {
        "id": "5zmd_YvQ97B-"
      },
      "execution_count": null,
      "outputs": []
    },
    {
      "cell_type": "markdown",
      "source": [
        "here chechking for the Second In-Significant feature's Independentally for MultiColinearity. It Became Significant Feature whose p value is 0 which is less than 0.05\n",
        "\n"
      ],
      "metadata": {
        "id": "N-PbMf5n-BNn"
      }
    },
    {
      "cell_type": "code",
      "source": [
        "ms_slr=smf.ols(\"Profit~MS\",data=df).fit()\n"
      ],
      "metadata": {
        "id": "SLOUZUoK99BA"
      },
      "execution_count": null,
      "outputs": []
    },
    {
      "cell_type": "code",
      "source": [
        "ms_slr.summary()\n"
      ],
      "metadata": {
        "id": "vZMCt-IU-Hwj"
      },
      "execution_count": null,
      "outputs": []
    },
    {
      "cell_type": "markdown",
      "source": [
        "Now check Both first and Second In-Significant variable by Combining . Here we got again One Significant and Another one In-Significant feature\n",
        "\n"
      ],
      "metadata": {
        "id": "FFNh8Ctl-NsG"
      }
    },
    {
      "cell_type": "code",
      "source": [
        "with_both=smf.ols(\"Profit~Admin+MS\",data=df).fit()\n"
      ],
      "metadata": {
        "id": "FkDcpEBn-J7x"
      },
      "execution_count": null,
      "outputs": []
    },
    {
      "cell_type": "code",
      "source": [
        "with_both.summary()\n"
      ],
      "metadata": {
        "id": "2k0KY62Y-SE0"
      },
      "execution_count": null,
      "outputs": []
    },
    {
      "cell_type": "code",
      "source": [
        "with_both.rsquared,with_both.aic\n"
      ],
      "metadata": {
        "id": "UHb_OWYt-UHc"
      },
      "execution_count": null,
      "outputs": []
    },
    {
      "cell_type": "markdown",
      "source": [
        "Check by Removing one Feature by another and check the R^2 and Aic Values based on these choose the Best fit Model Excluding Adminstartion Spend\n",
        "\n"
      ],
      "metadata": {
        "id": "Fd7PSA5R-bGf"
      }
    },
    {
      "cell_type": "code",
      "source": [
        "out_admin=smf.ols(\"Profit~R_D+MS+St_C+St_F+St_NY\",data=df).fit()\n"
      ],
      "metadata": {
        "id": "4_lz5cPu-XN7"
      },
      "execution_count": null,
      "outputs": []
    },
    {
      "cell_type": "code",
      "source": [
        "out_admin.summary()\n"
      ],
      "metadata": {
        "id": "S5XDzwSb-elt"
      },
      "execution_count": null,
      "outputs": []
    },
    {
      "cell_type": "code",
      "source": [
        "out_admin.rsquared,out_admin.aic\n"
      ],
      "metadata": {
        "id": "bIdPV6Io-g2W"
      },
      "execution_count": null,
      "outputs": []
    },
    {
      "cell_type": "markdown",
      "source": [
        "Here Model1 got All the Significant variables and their p values are less than 0.05 They have R^2 ==>0.950 and adj R^2 ==> 0.946 and AIC Value is 1061\n",
        "\n",
        "Removing Marketing Spend we have here In-Significant Feature p values are greater than 0.05 Admin becames again In-Significant\n",
        "\n"
      ],
      "metadata": {
        "id": "VNTUUY9a-np2"
      }
    },
    {
      "cell_type": "code",
      "source": [
        "out_ms=smf.ols(\"Profit~R_D+Admin+St_C+St_F+St_NY\",data=df).fit()\n"
      ],
      "metadata": {
        "id": "x0WRoVJ6-kPh"
      },
      "execution_count": null,
      "outputs": []
    },
    {
      "cell_type": "code",
      "source": [
        "out_ms.summary()\n"
      ],
      "metadata": {
        "id": "O5a7NQ64-rw1"
      },
      "execution_count": null,
      "outputs": []
    },
    {
      "cell_type": "code",
      "source": [
        "out_ms.rsquared,out_ms.aic\n"
      ],
      "metadata": {
        "id": "t9MA6DSA-vLy"
      },
      "execution_count": null,
      "outputs": []
    },
    {
      "cell_type": "code",
      "source": [
        "#vif for Admin\n",
        "ad_vif=smf.ols(\"Admin~Profit+R_D+MS+St_C+St_F+St_NY\",data=df).fit().rsquared\n",
        "vif_ad= 1/(1-ad_vif)\n",
        "\n",
        "ms_vif=smf.ols(\"MS~Profit+R_D+Admin+St_C+St_F+St_NY\",data=df).fit().rsquared\n",
        "vif_ms= 1/(1-ms_vif)\n",
        "\n",
        "rd_vif=smf.ols(\"R_D~Profit+Admin+MS+St_C+St_F+St_NY\",data=df).fit().rsquared\n",
        "vif_rd= 1/(1-rd_vif)\n",
        "\n",
        "stc_vif=smf.ols(\"St_C~Profit+R_D+MS+Admin+St_F+St_NY\",data=df).fit().rsquared\n",
        "vif_stc= 1/(1-stc_vif)\n",
        "\n",
        "stf_vif=smf.ols(\"St_F~Profit+R_D+MS+St_C+Admin+St_NY\",data=df).fit().rsquared\n",
        "vif_stf= 1/(1-stf_vif)\n",
        "\n",
        "stny_vif=smf.ols(\"St_NY~Profit+R_D+MS+St_C+St_F+Admin\",data=df).fit().rsquared\n",
        "\n",
        "vif_stny= 1/(1-stny_vif)\n",
        "pro_vif=smf.ols(\"Profit~St_NY+R_D+MS+St_C+St_F+Admin\",data=df).fit().rsquared\n",
        "vif_pro= 1/(1-pro_vif)\n",
        "\n",
        "\n",
        "\n",
        "\n",
        "## Sorting Vif Values\n",
        "d1={\"Variables\":['Admin','R_D','MS','St_C','St_F','St_NY','Pro'],'VIF':[vif_ad,vif_rd,vif_ms,vif_stc,vif_stf,vif_stny,vif_pro]}\n"
      ],
      "metadata": {
        "id": "Hu2g0ui4-ywz"
      },
      "execution_count": null,
      "outputs": []
    },
    {
      "cell_type": "code",
      "source": [
        "vif_frame=pd.DataFrame(d1)\n",
        "vif_frame\n"
      ],
      "metadata": {
        "id": "l6AlCoeH-3hM"
      },
      "execution_count": null,
      "outputs": []
    },
    {
      "cell_type": "markdown",
      "source": [
        "# Here There is NO Multicollinearity Problem So we are Not Finding VIF values\n"
      ],
      "metadata": {
        "id": "g-F2VyFL_AX4"
      }
    },
    {
      "cell_type": "markdown",
      "source": [
        "## Model Validation techniques"
      ],
      "metadata": {
        "id": "hka3hPHS_I04"
      }
    },
    {
      "cell_type": "code",
      "source": [
        "import statsmodels.api as sm\n",
        "qqplot=sm.qqplot(out_admin.resid,line='q')\n",
        "plt.title('QQ-plot for model1')\n",
        "plt.show()\n"
      ],
      "metadata": {
        "id": "aY4PeTq4-7nr"
      },
      "execution_count": null,
      "outputs": []
    },
    {
      "cell_type": "code",
      "source": [
        "list(np.where(out_admin.resid<(-10000)))\n"
      ],
      "metadata": {
        "id": "sTp5-yjC_PD0"
      },
      "execution_count": null,
      "outputs": []
    },
    {
      "cell_type": "markdown",
      "source": [
        "## By Using Standardization Technique\n",
        "\n"
      ],
      "metadata": {
        "id": "JPXc_jMc_X3F"
      }
    },
    {
      "cell_type": "code",
      "source": [
        "## Here we are going to Standardize the data\n",
        "def get_stnd_data(vals):\n",
        "    return(vals-vals.mean())/vals.std()\n"
      ],
      "metadata": {
        "id": "TE-41CgW_T_X"
      },
      "execution_count": null,
      "outputs": []
    },
    {
      "cell_type": "code",
      "source": [
        "plt.scatter(get_stnd_data(out_admin.fittedvalues),\n",
        "           get_stnd_data(out_admin.resid))\n",
        "\n",
        "plt.title(\"Fitted values Vs Residuals\")\n",
        "plt.xlabel('Stnd Fitted values')\n",
        "plt.ylabel('Stnd Residuals')\n",
        "plt.show()\n"
      ],
      "metadata": {
        "id": "aDtilJ6v_dBv"
      },
      "execution_count": null,
      "outputs": []
    },
    {
      "cell_type": "markdown",
      "source": [
        "by using normalisation technique"
      ],
      "metadata": {
        "id": "1S5aABdz_jYE"
      }
    },
    {
      "cell_type": "code",
      "source": [
        "# here first we are going to Normalize  the data \n",
        "def normal_data(x):\n",
        "    return(x - x.min()/(x.max()-x.min()))\n"
      ],
      "metadata": {
        "id": "9q8gtf3d_fud"
      },
      "execution_count": null,
      "outputs": []
    },
    {
      "cell_type": "code",
      "source": [
        "plt.scatter(normal_data(out_admin.fittedvalues),\n",
        "           normal_data(out_admin.resid))\n",
        "plt.show()\n"
      ],
      "metadata": {
        "id": "3pAv8INx_o-N"
      },
      "execution_count": null,
      "outputs": []
    },
    {
      "cell_type": "markdown",
      "source": [
        "Both Standardization and Normalization Techniques are Same The are Removing the Scaling\n",
        "\n"
      ],
      "metadata": {
        "id": "Q6BmluhD_wiL"
      }
    },
    {
      "cell_type": "markdown",
      "source": [
        "## Residual VS Regressor"
      ],
      "metadata": {
        "id": "RY0sqkci_xvO"
      }
    },
    {
      "cell_type": "code",
      "source": [
        "fig =plt.figure(figsize=(10,5))\n",
        "fig=sm.graphics.plot_regress_exog(out_admin,\"MS\",fig=fig)\n",
        "plt.show()\n"
      ],
      "metadata": {
        "id": "nJML6p8RAHUp"
      },
      "execution_count": null,
      "outputs": []
    },
    {
      "cell_type": "code",
      "source": [
        "fig =plt.figure(figsize=(10,5))\n",
        "fig=sm.graphics.plot_regress_exog(out_admin,\"R_D\",fig=fig)\n",
        "plt.show()\n"
      ],
      "metadata": {
        "id": "0fMxoFGL_9sT"
      },
      "execution_count": null,
      "outputs": []
    },
    {
      "cell_type": "markdown",
      "source": [
        "## Improving the final model"
      ],
      "metadata": {
        "id": "wC8eZ0KEAS-U"
      }
    },
    {
      "cell_type": "code",
      "source": [
        "startup=pd.read_csv(\"50 Startups.csv\")\n"
      ],
      "metadata": {
        "id": "GPiAqH9jAnc_"
      },
      "execution_count": null,
      "outputs": []
    },
    {
      "cell_type": "code",
      "source": [
        "startup.head()\n"
      ],
      "metadata": {
        "id": "HnZSJs5kCAPz"
      },
      "execution_count": null,
      "outputs": []
    },
    {
      "cell_type": "code",
      "source": [
        "pro = startup.drop(startup.index[[14,49,45]],axis=0).reset_index()\n",
        "pro"
      ],
      "metadata": {
        "id": "jwJxWQ4XCDeV"
      },
      "execution_count": null,
      "outputs": []
    },
    {
      "cell_type": "code",
      "source": [
        "pro=pd.get_dummies(pro,columns=['State'])\n"
      ],
      "metadata": {
        "id": "T-xGk4-gCH-8"
      },
      "execution_count": null,
      "outputs": []
    },
    {
      "cell_type": "code",
      "source": [
        "pro=pro.rename({\"R&D Spend\":\"R_D\",\n",
        "             \"Administration\":\"Admin\",\n",
        "             \"Marketing Spend\":\"MS\",\n",
        "               \"State_New York\":\"St_NY\",\n",
        "                \"State_Florida\":\"St_F\",\n",
        "                \"State_California\":\"St_C\"\n",
        "               },axis=1)\n"
      ],
      "metadata": {
        "id": "enpdqwB_CL9Z"
      },
      "execution_count": null,
      "outputs": []
    },
    {
      "cell_type": "code",
      "source": [
        "pro"
      ],
      "metadata": {
        "id": "uGf3qr5vCPCU"
      },
      "execution_count": null,
      "outputs": []
    },
    {
      "cell_type": "code",
      "source": [
        "# With out Admin \n",
        "final_model=smf.ols(\"Profit~R_D+MS+St_C+St_F+St_NY\",data=pro).fit()\n"
      ],
      "metadata": {
        "id": "EwKnyNMuCUiA"
      },
      "execution_count": null,
      "outputs": []
    },
    {
      "cell_type": "code",
      "source": [
        "final_model.summary()\n"
      ],
      "metadata": {
        "id": "Wb70k3DhCVkv"
      },
      "execution_count": null,
      "outputs": []
    },
    {
      "cell_type": "code",
      "source": [
        "final_model.rsquared\n"
      ],
      "metadata": {
        "id": "KcSauKIXCYop"
      },
      "execution_count": null,
      "outputs": []
    },
    {
      "cell_type": "code",
      "source": [
        "final_model.aic\n"
      ],
      "metadata": {
        "id": "Jb9fHWYYCbrO"
      },
      "execution_count": null,
      "outputs": []
    },
    {
      "cell_type": "code",
      "source": [
        "#Final include variable With  Admin\n"
      ],
      "metadata": {
        "id": "ljRjJ9IzCd6B"
      },
      "execution_count": null,
      "outputs": []
    },
    {
      "cell_type": "code",
      "source": [
        "final_mdl=smf.ols(\"Profit~R_D+Admin+St_C+St_F+St_NY\",data=pro).fit()\n",
        "final_mdl.summary()\n"
      ],
      "metadata": {
        "id": "iaIDGyfLChaD"
      },
      "execution_count": null,
      "outputs": []
    },
    {
      "cell_type": "code",
      "source": [
        "#print(final_modl.rsquared)\n",
        "final_mdl.aic # aic values is  increased\n"
      ],
      "metadata": {
        "id": "94Y1gRYFClwU"
      },
      "execution_count": null,
      "outputs": []
    },
    {
      "cell_type": "code",
      "source": [
        "final_mdl.rsquared\n"
      ],
      "metadata": {
        "id": "4XYOUhuFCrhx"
      },
      "execution_count": null,
      "outputs": []
    },
    {
      "cell_type": "code",
      "source": [
        "#final_modl == here it is not that much effictive model because \n",
        "#AIC==975 the previous\n",
        "#AIC==971\n",
        "#which means final_mdl is working great\n"
      ],
      "metadata": {
        "id": "myzYm2gxCvTz"
      },
      "execution_count": null,
      "outputs": []
    },
    {
      "cell_type": "markdown",
      "source": [
        "# Comparing R^ 2 Table with other Models\n"
      ],
      "metadata": {
        "id": "QOWVNgAEC4aV"
      }
    },
    {
      "cell_type": "code",
      "source": [
        "d1=pd.DataFrame({'Models':[\"all_variables\",\"Admin & MS \",\"with out Admin \",\"With out MS \",\"Final Model\"],\n",
        "                 \"R_Squred_values\" : [all_variables.rsquared,with_both.rsquared,out_admin.rsquared,out_ms.rsquared,final_model.rsquared]})\n",
        "R_squares=pd.DataFrame(d1)\n"
      ],
      "metadata": {
        "id": "GZf-unCPC0kl"
      },
      "execution_count": null,
      "outputs": []
    },
    {
      "cell_type": "code",
      "source": [
        "R_squares\n"
      ],
      "metadata": {
        "id": "tE0dSlG9DAcp"
      },
      "execution_count": null,
      "outputs": []
    },
    {
      "cell_type": "code",
      "source": [
        "d2=pd.DataFrame({'Models':['All variabels','with admin & Ms','without Admin','without Ms','Final Model'],\n",
        "                'Aic_values':[all_variables.aic,with_both.aic,out_admin.aic,out_ms.aic,final_model.aic]})\n",
        "\n",
        "Aic_values=pd.DataFrame(d2)\n",
        "Aic_values\n"
      ],
      "metadata": {
        "id": "iUi0FjpoDHyd"
      },
      "execution_count": null,
      "outputs": []
    },
    {
      "cell_type": "markdown",
      "source": [
        "What ever the Aic value is Low value that is Best Fit Model\n",
        "\n"
      ],
      "metadata": {
        "id": "V4P6QSyhDZE1"
      }
    },
    {
      "cell_type": "code",
      "source": [
        "d3= pd.DataFrame({'Models':['All variabels','with admin & Ms','without Admin','without Ms','Final Model'],\n",
        "                 \"Adj_rsquares\":[0.945,0.593,0.966,0.963,0.966]})\n",
        "Adj_rsquares=pd.DataFrame(d3)\n",
        "Adj_rsquares\n"
      ],
      "metadata": {
        "id": "XOCjItHcDVkv"
      },
      "execution_count": null,
      "outputs": []
    },
    {
      "cell_type": "markdown",
      "source": [
        "Normally R-Squared values will be Flucuating when the feature Variables are added or deleted but the Adjusted R-Square will not be Flucuated When the Variables added or deleted Adjusted R-Squares will only be increased when the Feature Variable is Significant and that feature variable will be used for the Dependent Variable\n",
        "\n"
      ],
      "metadata": {
        "id": "DsYXmxHRDgjF"
      }
    },
    {
      "cell_type": "code",
      "source": [
        ""
      ],
      "metadata": {
        "id": "7zWuqwLjDclS"
      },
      "execution_count": null,
      "outputs": []
    }
  ]
}