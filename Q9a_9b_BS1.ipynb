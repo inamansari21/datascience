{
  "nbformat": 4,
  "nbformat_minor": 0,
  "metadata": {
    "colab": {
      "name": "Q9a_9b_BS1.ipynb",
      "provenance": [],
      "collapsed_sections": [],
      "include_colab_link": true
    },
    "kernelspec": {
      "name": "python3",
      "display_name": "Python 3"
    },
    "language_info": {
      "name": "python"
    }
  },
  "cells": [
    {
      "cell_type": "markdown",
      "metadata": {
        "id": "view-in-github",
        "colab_type": "text"
      },
      "source": [
        "<a href=\"https://colab.research.google.com/github/inamansari21/datascience/blob/main/Q9a_9b_BS1.ipynb\" target=\"_parent\"><img src=\"https://colab.research.google.com/assets/colab-badge.svg\" alt=\"Open In Colab\"/></a>"
      ]
    },
    {
      "cell_type": "code",
      "metadata": {
        "id": "8tNb7dStnlAE"
      },
      "source": [
        "import numpy as np\n",
        "import pandas as pd\n",
        "import seaborn as sns\n",
        "import matplotlib.pyplot as plt\n"
      ],
      "execution_count": null,
      "outputs": []
    },
    {
      "cell_type": "code",
      "metadata": {
        "id": "YWDNS_oGsgvB"
      },
      "source": [
        "data=pd.read_csv(\"Q9_a.csv\")"
      ],
      "execution_count": null,
      "outputs": []
    },
    {
      "cell_type": "code",
      "metadata": {
        "id": "difJZXvrsgsI"
      },
      "source": [
        "data"
      ],
      "execution_count": null,
      "outputs": []
    },
    {
      "cell_type": "code",
      "metadata": {
        "id": "DnwHvFkdsgnq"
      },
      "source": [
        "data.skew()"
      ],
      "execution_count": null,
      "outputs": []
    },
    {
      "cell_type": "markdown",
      "metadata": {
        "id": "RDbyJ9khtR15"
      },
      "source": [
        "Speed is Left Skewed as its value is Negative & Distance is Right Skewed as its value is Positive.\n",
        "\n"
      ]
    },
    {
      "cell_type": "code",
      "metadata": {
        "id": "NCIEEuYmsgl6"
      },
      "source": [
        "data.kurtosis()"
      ],
      "execution_count": null,
      "outputs": []
    },
    {
      "cell_type": "markdown",
      "metadata": {
        "id": "nyCtOe2AuQLw"
      },
      "source": [
        "Speed is flat distribution as its value is negative & Distance is at Peaked as its value is positive\n"
      ]
    },
    {
      "cell_type": "code",
      "metadata": {
        "id": "PGcuyffssgi2"
      },
      "source": [
        "data2=pd.read_csv(\"Q9_b.csv\")"
      ],
      "execution_count": null,
      "outputs": []
    },
    {
      "cell_type": "code",
      "metadata": {
        "id": "0hWZDkU4sgfW"
      },
      "source": [
        "data2"
      ],
      "execution_count": null,
      "outputs": []
    },
    {
      "cell_type": "code",
      "metadata": {
        "id": "T9iHY1OLvb2t"
      },
      "source": [
        "data2.skew()"
      ],
      "execution_count": null,
      "outputs": []
    },
    {
      "cell_type": "markdown",
      "metadata": {
        "id": "qphfTukRvugo"
      },
      "source": [
        "SP is Right Skewed as its value is Positive & WT is left Skewed as its value is Negative\n"
      ]
    },
    {
      "cell_type": "code",
      "metadata": {
        "id": "1rGgniFKvmXf"
      },
      "source": [
        "data2.kurt()"
      ],
      "execution_count": null,
      "outputs": []
    },
    {
      "cell_type": "markdown",
      "metadata": {
        "id": "auUm-1itwKtW"
      },
      "source": [
        "SP and WT both are at Peaked Distribution as both are Positive.\n"
      ]
    }
  ]
}