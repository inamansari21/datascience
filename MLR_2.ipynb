{
  "nbformat": 4,
  "nbformat_minor": 0,
  "metadata": {
    "colab": {
      "name": "MLR 2.ipynb",
      "provenance": [],
      "authorship_tag": "ABX9TyPpOZGMySzfbHFT22NbGRIa",
      "include_colab_link": true
    },
    "kernelspec": {
      "name": "python3",
      "display_name": "Python 3"
    },
    "language_info": {
      "name": "python"
    }
  },
  "cells": [
    {
      "cell_type": "markdown",
      "metadata": {
        "id": "view-in-github",
        "colab_type": "text"
      },
      "source": [
        "<a href=\"https://colab.research.google.com/github/inamansari21/datascience/blob/main/MLR_2.ipynb\" target=\"_parent\"><img src=\"https://colab.research.google.com/assets/colab-badge.svg\" alt=\"Open In Colab\"/></a>"
      ]
    },
    {
      "cell_type": "code",
      "execution_count": null,
      "metadata": {
        "id": "9wJJN3IABc1o"
      },
      "outputs": [],
      "source": [
        "import numpy as np\n",
        "import pandas as pd\n",
        "import matplotlib.pyplot as plt\n",
        "import statsmodels.api as sm\n",
        "from numpy.polynomial.polynomial import polyfit\n",
        "from sklearn.linear_model import LinearRegression\n",
        "import seaborn as sns\n",
        "import statsmodels.stats.tests.test_influence\n",
        "from sklearn.feature_selection import RFE\n",
        "from statsmodels.stats.outliers_influence import variance_inflation_factor\n"
      ]
    },
    {
      "cell_type": "code",
      "source": [
        "df = pd.read_csv(\"ToyotaCorolla.csv\",encoding='latin1')\n"
      ],
      "metadata": {
        "id": "sB3VZAeZB8-2"
      },
      "execution_count": null,
      "outputs": []
    },
    {
      "cell_type": "code",
      "source": [
        "df1 = df [['Price','Age_08_04','KM','HP','cc','Doors','Gears','Quarterly_Tax','Weight']]\n",
        "df1"
      ],
      "metadata": {
        "id": "p46x16tUCRsx"
      },
      "execution_count": null,
      "outputs": []
    },
    {
      "cell_type": "code",
      "source": [
        "df1.describe\n"
      ],
      "metadata": {
        "id": "YCUMAL9fCToF"
      },
      "execution_count": null,
      "outputs": []
    },
    {
      "cell_type": "code",
      "source": [
        "sns.pairplot(df1)\n"
      ],
      "metadata": {
        "id": "gjYoYSTmCZyd"
      },
      "execution_count": null,
      "outputs": []
    },
    {
      "cell_type": "code",
      "source": [
        ""
      ],
      "metadata": {
        "id": "RvFQgD7ZCeuU"
      },
      "execution_count": null,
      "outputs": []
    },
    {
      "cell_type": "markdown",
      "source": [
        "# **correlation matrix**"
      ],
      "metadata": {
        "id": "kevWrcANCkH5"
      }
    },
    {
      "cell_type": "code",
      "source": [
        "corrMatrix = df1.corr()\n"
      ],
      "metadata": {
        "id": "guU5cNmXCo1y"
      },
      "execution_count": null,
      "outputs": []
    },
    {
      "cell_type": "code",
      "source": [
        "sns.heatmap(corrMatrix, annot=True)\n"
      ],
      "metadata": {
        "id": "H9XU1O1VCpej"
      },
      "execution_count": null,
      "outputs": []
    },
    {
      "cell_type": "code",
      "source": [
        ""
      ],
      "metadata": {
        "id": "XxA7AA-RCtMW"
      },
      "execution_count": null,
      "outputs": []
    },
    {
      "cell_type": "markdown",
      "source": [
        "# **regression model**"
      ],
      "metadata": {
        "id": "v08KBjbvCxdz"
      }
    },
    {
      "cell_type": "code",
      "source": [
        "X = df1[['Age_08_04','KM','HP','cc','Doors','Gears','Quarterly_Tax','Weight']]\n",
        "Y = df1[['Price']]\n"
      ],
      "metadata": {
        "id": "DMMn_IVOC1ON"
      },
      "execution_count": null,
      "outputs": []
    },
    {
      "cell_type": "code",
      "source": [
        "model = sm.OLS(Y, X).fit()\n",
        "predictions = model.predict(X)\n",
        "           "
      ],
      "metadata": {
        "id": "6GKvrwndC2B4"
      },
      "execution_count": null,
      "outputs": []
    },
    {
      "cell_type": "code",
      "source": [
        "model.summary()"
      ],
      "metadata": {
        "id": "8rBLDmG6D3n3"
      },
      "execution_count": null,
      "outputs": []
    },
    {
      "cell_type": "code",
      "source": [
        ""
      ],
      "metadata": {
        "id": "k6Tqp3DDD5mI"
      },
      "execution_count": null,
      "outputs": []
    },
    {
      "cell_type": "markdown",
      "source": [
        "**R sq and p Value of the Model is Good and the model can be accepted. However as you can see not all variables have acceptable p value. Thus we have Multicollinearity issue in our Data Frame\n",
        "**"
      ],
      "metadata": {
        "id": "pKJZxrZeD_do"
      }
    },
    {
      "cell_type": "code",
      "source": [
        ""
      ],
      "metadata": {
        "id": "K6Z_SXwlEDZ7"
      },
      "execution_count": null,
      "outputs": []
    },
    {
      "cell_type": "markdown",
      "source": [
        "# **solving multicollinearity**\n",
        "# **finding cook's distance**"
      ],
      "metadata": {
        "id": "VW1dZYuJEEau"
      }
    },
    {
      "cell_type": "code",
      "source": [
        "infl = model.get_influence()\n"
      ],
      "metadata": {
        "id": "Jg2efevsEUbP"
      },
      "execution_count": null,
      "outputs": []
    },
    {
      "cell_type": "code",
      "source": [
        "summ_df = infl.summary_frame()\n"
      ],
      "metadata": {
        "id": "AzXJESfcEXcb"
      },
      "execution_count": null,
      "outputs": []
    },
    {
      "cell_type": "code",
      "source": [
        "summ_df.sort_values('cooks_d', ascending=False)\n"
      ],
      "metadata": {
        "id": "kUz1QbqMEahb"
      },
      "execution_count": null,
      "outputs": []
    },
    {
      "cell_type": "code",
      "source": [
        "infl.plot_influence()\n"
      ],
      "metadata": {
        "id": "P-NuGYuxEdJe"
      },
      "execution_count": null,
      "outputs": []
    },
    {
      "cell_type": "markdown",
      "source": [
        "Index 80 has highest Cook's Distance\n",
        "Thus it will be wise to drop this row from the data set\n",
        "\n",
        "bold text"
      ],
      "metadata": {
        "id": "pGsV7IZAEnBC"
      }
    },
    {
      "cell_type": "markdown",
      "source": [
        "# **finding VIF**"
      ],
      "metadata": {
        "id": "csPi9bhKEqsp"
      }
    },
    {
      "cell_type": "code",
      "source": [
        "vif = pd.DataFrame()\n"
      ],
      "metadata": {
        "id": "d3sbAGhxEu5Q"
      },
      "execution_count": null,
      "outputs": []
    },
    {
      "cell_type": "code",
      "source": [
        "vif[\"VIF Factor\"] = [variance_inflation_factor(X.values, i) for i in range(X.shape[1])]\n",
        "\n"
      ],
      "metadata": {
        "id": "XnliKMsGE1B6"
      },
      "execution_count": null,
      "outputs": []
    },
    {
      "cell_type": "code",
      "source": [
        "vif[\"features\"] = X.columns\n"
      ],
      "metadata": {
        "id": "iW2_b3EdE9D_"
      },
      "execution_count": null,
      "outputs": []
    },
    {
      "cell_type": "code",
      "source": [
        "vif.round(1)\n"
      ],
      "metadata": {
        "id": "eFOAD3IIE_o6"
      },
      "execution_count": null,
      "outputs": []
    },
    {
      "cell_type": "markdown",
      "source": [
        "**As expected, Geras and Weight have a high variance inflation factor because they \"explain\" the same variance within this dataset. We would need to discard one of these variables to improve model and try to solve multicolinearity.\n",
        "**"
      ],
      "metadata": {
        "id": "UNy0EVHrFHfy"
      }
    },
    {
      "cell_type": "code",
      "source": [
        "# Removed Weight fron the dataframe and Tested the model\n",
        "new_X = df1[['Age_08_04','KM','HP','cc','Doors','Gears','Quarterly_Tax']]\n"
      ],
      "metadata": {
        "id": "mZPsKmSpFKLq"
      },
      "execution_count": null,
      "outputs": []
    },
    {
      "cell_type": "code",
      "source": [
        "new_model = sm.OLS(Y, new_X).fit()\n",
        "new_predictions = new_model.predict(new_X)\n"
      ],
      "metadata": {
        "id": "pDHdnniXFPWp"
      },
      "execution_count": null,
      "outputs": []
    },
    {
      "cell_type": "code",
      "source": [
        "new_model.summary()\n"
      ],
      "metadata": {
        "id": "POW80yPrFSsO"
      },
      "execution_count": null,
      "outputs": []
    },
    {
      "cell_type": "markdown",
      "source": [
        " once we remove \"Weight\" from input variables and run the model again, all the variables are significant.\n"
      ],
      "metadata": {
        "id": "95BPCd17FcHY"
      }
    },
    {
      "cell_type": "markdown",
      "source": [
        "# **final model**"
      ],
      "metadata": {
        "id": "GuMmURgrFiKQ"
      }
    },
    {
      "cell_type": "code",
      "source": [
        "# Removed Index with highest Cook's distance to remove the hightest influencial ROW\n",
        "new_df = df1.drop(df1.index[80])\n"
      ],
      "metadata": {
        "id": "pRzkQXynFdK-"
      },
      "execution_count": null,
      "outputs": []
    },
    {
      "cell_type": "code",
      "source": [
        "new_X = new_df[['Age_08_04','KM','HP','cc','Doors','Gears','Quarterly_Tax']]\n",
        "new_Y = new_df[['Price']]\n"
      ],
      "metadata": {
        "id": "fokNULg4FvNl"
      },
      "execution_count": null,
      "outputs": []
    },
    {
      "cell_type": "code",
      "source": [
        "final_model = sm.OLS(new_Y, new_X).fit()\n",
        "predictions = final_model.predict(new_X)\n"
      ],
      "metadata": {
        "id": "JM97WH24FxXl"
      },
      "execution_count": null,
      "outputs": []
    },
    {
      "cell_type": "code",
      "source": [
        "final_model.summary()\n"
      ],
      "metadata": {
        "id": "E87S7m8oF0Xv"
      },
      "execution_count": null,
      "outputs": []
    },
    {
      "cell_type": "markdown",
      "source": [
        "# **output interpretation**\n",
        "1 - p-value < 0.01\n",
        "Thus the model is accepted\n",
        "\n",
        "2 - coefficient == -132.01\n",
        "Thus if the value of x increased by 1, the predicted value of Price will decrease by 132.01\n",
        "\n",
        "3 - Adj. R-sqared == 0.983\n",
        "Thus the model explains 98.3% of the variance in dependent variable\n",
        "\n"
      ],
      "metadata": {
        "id": "ir3KzuQEF-Ij"
      }
    },
    {
      "cell_type": "code",
      "source": [
        ""
      ],
      "metadata": {
        "id": "xqMLxGNDGC9j"
      },
      "execution_count": null,
      "outputs": []
    }
  ]
}