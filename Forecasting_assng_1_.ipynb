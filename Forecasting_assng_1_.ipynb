{
  "nbformat": 4,
  "nbformat_minor": 0,
  "metadata": {
    "colab": {
      "name": "Forecasting_assng_1 .ipynb",
      "provenance": [],
      "collapsed_sections": [],
      "include_colab_link": true
    },
    "kernelspec": {
      "name": "python3",
      "display_name": "Python 3"
    },
    "language_info": {
      "name": "python"
    }
  },
  "cells": [
    {
      "cell_type": "markdown",
      "metadata": {
        "id": "view-in-github",
        "colab_type": "text"
      },
      "source": [
        "<a href=\"https://colab.research.google.com/github/inamansari21/datascience/blob/main/Forecasting_assng_1_.ipynb\" target=\"_parent\"><img src=\"https://colab.research.google.com/assets/colab-badge.svg\" alt=\"Open In Colab\"/></a>"
      ]
    },
    {
      "cell_type": "code",
      "execution_count": null,
      "metadata": {
        "id": "o6VFHSf_mUQj"
      },
      "outputs": [],
      "source": [
        "# Importing libraries\n",
        "import pandas as pd\n",
        "import numpy as np\n",
        "import matplotlib.pyplot as plt\n",
        "import seaborn as sns"
      ]
    },
    {
      "cell_type": "code",
      "source": [
        "# Loading Dataset\n",
        "data = pd.read_excel('CocaCola_Sales_Rawdata.xlsx')"
      ],
      "metadata": {
        "id": "f8Sakcq9m2an"
      },
      "execution_count": null,
      "outputs": []
    },
    {
      "cell_type": "code",
      "source": [
        "data"
      ],
      "metadata": {
        "id": "cxwEPQV2nhFz"
      },
      "execution_count": null,
      "outputs": []
    },
    {
      "cell_type": "markdown",
      "source": [
        "***Visualization and Data Preprocessing***"
      ],
      "metadata": {
        "id": "ygGHCHbxnU8G"
      }
    },
    {
      "cell_type": "code",
      "source": [
        "data.shape"
      ],
      "metadata": {
        "id": "Bk2lMMKPm2fs"
      },
      "execution_count": null,
      "outputs": []
    },
    {
      "cell_type": "code",
      "source": [
        "data.head()\n"
      ],
      "metadata": {
        "id": "puSvfdPrm2hQ"
      },
      "execution_count": null,
      "outputs": []
    },
    {
      "cell_type": "code",
      "source": [
        "# We will extract Quarter values and Year values separately from 'Quarter column'\n",
        "data['Quarters'] = 0\n",
        "data['Year'] = 0\n",
        "for i in range(42):\n",
        "    p = data[\"Quarter\"][i]\n",
        "    data['Quarters'][i]= p[0:2]\n",
        "    data['Year'][i]= p[3:5]"
      ],
      "metadata": {
        "id": "tNt2hGZ6m2kp"
      },
      "execution_count": null,
      "outputs": []
    },
    {
      "cell_type": "code",
      "source": [
        "data.head()\n"
      ],
      "metadata": {
        "id": "W5ALJxFum2mr"
      },
      "execution_count": null,
      "outputs": []
    },
    {
      "cell_type": "code",
      "source": [
        "# Getting dummy variables for Quarters Q1, Q2, Q3, Q4 \n",
        "Quarters_Dummies = pd.DataFrame(pd.get_dummies(data['Quarters']))\n",
        "data = pd.concat([data,Quarters_Dummies],axis = 1)\n",
        "data.head()"
      ],
      "metadata": {
        "id": "5_Ky-3WVm2pV"
      },
      "execution_count": null,
      "outputs": []
    },
    {
      "cell_type": "code",
      "source": [
        "# Lineplot for Sales of CocaCola\n",
        "plt.figure(figsize=(8,5))\n",
        "plt.plot(data['Sales'], color = 'blue', linewidth=3)"
      ],
      "metadata": {
        "id": "7YpAPuWRm2q1"
      },
      "execution_count": null,
      "outputs": []
    },
    {
      "cell_type": "code",
      "source": [
        "# Histogram\n",
        "data['Sales'].hist(figsize=(8,5))"
      ],
      "metadata": {
        "id": "zPauu992m2uc"
      },
      "execution_count": null,
      "outputs": []
    },
    {
      "cell_type": "code",
      "source": [
        "# Density Plot\n",
        "data['Sales'].plot(kind = 'kde', figsize=(8,5))"
      ],
      "metadata": {
        "id": "sa-NfQZ7m2wq"
      },
      "execution_count": null,
      "outputs": []
    },
    {
      "cell_type": "code",
      "source": [
        "#boxplot of Quarters Vs. Sales\n",
        "sns.set(rc={'figure.figsize':(8,5)})\n",
        "sns.boxplot(x=\"Quarters\",y=\"Sales\",data=data)"
      ],
      "metadata": {
        "id": "4vgeo73Im2y8"
      },
      "execution_count": null,
      "outputs": []
    },
    {
      "cell_type": "code",
      "source": [
        "# boxplot of Years Vs. Sales\n",
        "sns.boxplot(x=\"Year\",y=\"Sales\",data=data)"
      ],
      "metadata": {
        "id": "9u0K3P1Dm20j"
      },
      "execution_count": null,
      "outputs": []
    },
    {
      "cell_type": "code",
      "source": [
        "from pandas.plotting import lag_plot\n",
        "lag_plot(data['Sales'])\n",
        "plt.show()"
      ],
      "metadata": {
        "id": "N0Yff4eJm24G"
      },
      "execution_count": null,
      "outputs": []
    },
    {
      "cell_type": "code",
      "source": [
        "plt.figure(figsize=(8,5))\n",
        "sns.lineplot(x=\"Year\",y=\"Sales\",data=data)"
      ],
      "metadata": {
        "id": "Zonkd7FioHOO"
      },
      "execution_count": null,
      "outputs": []
    },
    {
      "cell_type": "code",
      "source": [
        "plt.figure(figsize=(12, 7))\n",
        "heatmap_y_month = pd.pivot_table(data=data,values=\"Sales\",index=\"Year\",columns=\"Quarters\",aggfunc=\"mean\",fill_value=0)\n",
        "sns.heatmap(heatmap_y_month,annot=True,fmt=\"g\")"
      ],
      "metadata": {
        "id": "LDBj0dBeoKFH"
      },
      "execution_count": null,
      "outputs": []
    },
    {
      "cell_type": "code",
      "source": [
        "import statsmodels.graphics.tsaplots as tsa_plots\n",
        "tsa_plots.plot_acf(data.Sales,lags=12)\n",
        "tsa_plots.plot_pacf(data.Sales,lags=12)\n",
        "plt.show()"
      ],
      "metadata": {
        "id": "_eJbbUVfoMvH"
      },
      "execution_count": null,
      "outputs": []
    },
    {
      "cell_type": "markdown",
      "source": [
        "***Data Driven Forecasting Methods***"
      ],
      "metadata": {
        "id": "u9_fzdPeoc2F"
      }
    },
    {
      "cell_type": "code",
      "source": [
        "from statsmodels.tsa.holtwinters import SimpleExpSmoothing # SES\n",
        "from statsmodels.tsa.holtwinters import Holt # Holts Exponential Smoothing\n",
        "from statsmodels.tsa.holtwinters import ExponentialSmoothing "
      ],
      "metadata": {
        "id": "Ku3V8QQBoXAu"
      },
      "execution_count": null,
      "outputs": []
    },
    {
      "cell_type": "markdown",
      "source": [
        "***Splitting Data***"
      ],
      "metadata": {
        "id": "AHoF3WdVoqOq"
      }
    },
    {
      "cell_type": "code",
      "source": [
        "# Splitting data into Train and Test (77/33)\n",
        "Train = data.head(32)\n",
        "Test = data.tail(10)"
      ],
      "metadata": {
        "id": "xCZjPOH1on6u"
      },
      "execution_count": null,
      "outputs": []
    },
    {
      "cell_type": "markdown",
      "source": [
        "***Moving Average Method***"
      ],
      "metadata": {
        "id": "8lLcEJKMoyxe"
      }
    },
    {
      "cell_type": "code",
      "source": [
        "plt.figure(figsize=(12,4))\n",
        "data.Sales.plot(label=\"org\")\n",
        "for i in range(2,8,2):\n",
        "    data[\"Sales\"].rolling(i).mean().plot(label=str(i))\n",
        "plt.legend(loc='best')"
      ],
      "metadata": {
        "id": "wdXnQenxon9G"
      },
      "execution_count": null,
      "outputs": []
    },
    {
      "cell_type": "markdown",
      "source": [
        "***Time series decomposition plot***"
      ],
      "metadata": {
        "id": "wJf4XlGio-qj"
      }
    },
    {
      "cell_type": "code",
      "source": [
        "from statsmodels.tsa.seasonal import seasonal_decompose\n",
        "\n",
        "decompose_ts_add = seasonal_decompose(data.Sales,freq=12)\n",
        "decompose_ts_add.plot()\n",
        "plt.show()"
      ],
      "metadata": {
        "id": "paShKMJ0ooBR"
      },
      "execution_count": null,
      "outputs": []
    },
    {
      "cell_type": "markdown",
      "source": [
        "***Evaluation Metric RMSE***"
      ],
      "metadata": {
        "id": "E1yWFWOsrh7D"
      }
    },
    {
      "cell_type": "code",
      "source": [
        "def RMSE(org, pred):\n",
        "    rmse=np.sqrt(np.mean((np.array(org)-np.array(pred))**2))\n",
        "    return rmse"
      ],
      "metadata": {
        "id": "jW62darNooEP"
      },
      "execution_count": null,
      "outputs": []
    },
    {
      "cell_type": "markdown",
      "source": [
        "***Simple Exponential Method***"
      ],
      "metadata": {
        "id": "knPIb4lWrtgc"
      }
    },
    {
      "cell_type": "code",
      "source": [
        "import warnings\n",
        "warnings.filterwarnings(\"ignore\")"
      ],
      "metadata": {
        "id": "UwlMyXTIooHX"
      },
      "execution_count": null,
      "outputs": []
    },
    {
      "cell_type": "code",
      "source": [
        "ses_model = SimpleExpSmoothing(Train[\"Sales\"]).fit()\n",
        "pred_ses = ses_model.predict(start = Test.index[0],end = Test.index[-1])\n",
        "rmse_ses_model = RMSE(Test.Sales, pred_ses)\n",
        "rmse_ses_model"
      ],
      "metadata": {
        "id": "jHR03eQBooJX"
      },
      "execution_count": null,
      "outputs": []
    },
    {
      "cell_type": "markdown",
      "source": [
        "***Holt method***"
      ],
      "metadata": {
        "id": "TMoZs9zBr8Gp"
      }
    },
    {
      "cell_type": "code",
      "source": [
        "hw_model = Holt(Train[\"Sales\"]).fit()\n",
        "pred_hw = hw_model.predict(start = Test.index[0],end = Test.index[-1])\n",
        "rmse_hw_model = RMSE(Test.Sales, pred_hw)\n",
        "rmse_hw_model"
      ],
      "metadata": {
        "id": "elMvoBdpr4bM"
      },
      "execution_count": null,
      "outputs": []
    },
    {
      "cell_type": "markdown",
      "source": [
        "***Holts winter exponential smoothing with additive seasonality and additive trend***"
      ],
      "metadata": {
        "id": "5GMKnf6osIvu"
      }
    },
    {
      "cell_type": "code",
      "source": [
        "hwe_model_add_add = ExponentialSmoothing(Train[\"Sales\"],seasonal=\"add\",trend=\"add\",seasonal_periods=4).fit()\n",
        "pred_hwe_add_add = hwe_model_add_add.predict(start = Test.index[0],end = Test.index[-1])\n",
        "rmse_hwe_add_add_model = RMSE(Test.Sales, pred_hwe_add_add)\n",
        "rmse_hwe_add_add_model"
      ],
      "metadata": {
        "id": "tRekODHyr4hL"
      },
      "execution_count": null,
      "outputs": []
    },
    {
      "cell_type": "markdown",
      "source": [
        "***Holts winter exponential smoothing with multiplicative seasonality and additive trend***"
      ],
      "metadata": {
        "id": "LTeiUM1DsX4m"
      }
    },
    {
      "cell_type": "code",
      "source": [
        "hwe_model_mul_add = ExponentialSmoothing(Train[\"Sales\"],seasonal=\"mul\",trend=\"add\",seasonal_periods=4).fit() \n",
        "pred_hwe_mul_add = hwe_model_mul_add.predict(start = Test.index[0],end = Test.index[-1])\n",
        "rmse_hwe_model_mul_add_model = RMSE(Test.Sales, pred_hwe_mul_add)\n",
        "rmse_hwe_model_mul_add_model"
      ],
      "metadata": {
        "id": "EBXndbFVr4jA"
      },
      "execution_count": null,
      "outputs": []
    },
    {
      "cell_type": "markdown",
      "source": [
        "***Model based Forecasting Method***\n"
      ],
      "metadata": {
        "id": "y4KICFhUsrXf"
      }
    },
    {
      "cell_type": "code",
      "source": [
        "# Data preprocessing for models\n",
        "data[\"t\"] = np.arange(1,43)\n",
        "data[\"t_squared\"] = data[\"t\"]*data[\"t\"]\n",
        "\n",
        "data[\"log_sales\"] = np.log(data[\"Sales\"])\n",
        "\n",
        "data.head()"
      ],
      "metadata": {
        "id": "YRY77LHEr4ly"
      },
      "execution_count": null,
      "outputs": []
    },
    {
      "cell_type": "markdown",
      "source": [
        "***Splitting data***"
      ],
      "metadata": {
        "id": "a9h1wvOss5Mw"
      }
    },
    {
      "cell_type": "code",
      "source": [
        "# Splitting data into Train and Test (77/33)\n",
        "Train = data.head(32)\n",
        "Test = data.tail(10)"
      ],
      "metadata": {
        "id": "3oovqEIzr4pZ"
      },
      "execution_count": null,
      "outputs": []
    },
    {
      "cell_type": "code",
      "source": [
        "Train.head()\n"
      ],
      "metadata": {
        "id": "USoA4-XbooLx"
      },
      "execution_count": null,
      "outputs": []
    },
    {
      "cell_type": "markdown",
      "source": [
        "***Linear Model***"
      ],
      "metadata": {
        "id": "t7JuFYmOtJO2"
      }
    },
    {
      "cell_type": "code",
      "source": [
        "import statsmodels.formula.api as smf \n",
        "\n",
        "linear_model = smf.ols('Sales~t',data=Train).fit()\n",
        "pred_linear =  pd.Series(linear_model.predict(pd.DataFrame(Test['t'])))\n",
        "rmse_linear_model = RMSE(Test['Sales'], pred_linear)\n",
        "rmse_linear_model"
      ],
      "metadata": {
        "id": "JTKMPhUDtCnt"
      },
      "execution_count": null,
      "outputs": []
    },
    {
      "cell_type": "markdown",
      "source": [
        "***Exponential Model***"
      ],
      "metadata": {
        "id": "JrIo5S_LtP_k"
      }
    },
    {
      "cell_type": "code",
      "source": [
        "Exp = smf.ols('log_sales~t',data=Train).fit()\n",
        "pred_Exp = pd.Series(Exp.predict(pd.DataFrame(Test['t'])))\n",
        "rmse_Exp_model = RMSE(Test['Sales'], np.exp(pred_Exp))\n",
        "rmse_Exp_model"
      ],
      "metadata": {
        "id": "3yYmSYD8tDeh"
      },
      "execution_count": null,
      "outputs": []
    },
    {
      "cell_type": "markdown",
      "source": [
        "***Quadratic Model***"
      ],
      "metadata": {
        "id": "Fh8yTiWytZcx"
      }
    },
    {
      "cell_type": "code",
      "source": [
        "Quad = smf.ols('Sales~t+t_squared',data=Train).fit()\n",
        "pred_Quad = pd.Series(Quad.predict(Test[[\"t\",\"t_squared\"]]))\n",
        "rmse_Quad_model = RMSE(Test['Sales'], pred_Quad)\n",
        "rmse_Quad_model"
      ],
      "metadata": {
        "id": "ZWMwFr2QtDhz"
      },
      "execution_count": null,
      "outputs": []
    },
    {
      "cell_type": "markdown",
      "source": [
        "***Additive Seasonality model***"
      ],
      "metadata": {
        "id": "A2casE2ktiPi"
      }
    },
    {
      "cell_type": "code",
      "source": [
        "add_sea = smf.ols('Sales~Q1+Q2+Q3',data=Train).fit()\n",
        "pred_add_sea = pd.Series(add_sea.predict(Test[['Q1', 'Q2', 'Q3']]))\n",
        "rmse_add_sea = RMSE(Test['Sales'], pred_add_sea)\n",
        "rmse_add_sea"
      ],
      "metadata": {
        "id": "SnSbqjZRtDlO"
      },
      "execution_count": null,
      "outputs": []
    },
    {
      "cell_type": "markdown",
      "source": [
        "***Additive Seasonality Quadratic model***"
      ],
      "metadata": {
        "id": "XXEGOc5htz4_"
      }
    },
    {
      "cell_type": "code",
      "source": [
        "add_sea_Quad = smf.ols('Sales~t+t_squared+Q1+Q2+Q3',data=Train).fit()\n",
        "pred_add_sea_quad = pd.Series(add_sea_Quad.predict(Test[['Q1','Q2','Q3','t','t_squared']]))\n",
        "rmse_add_sea_Quad_model = RMSE(Test['Sales'], pred_add_sea_quad)\n",
        "rmse_add_sea_Quad_model  "
      ],
      "metadata": {
        "id": "FaRjLzmttDnH"
      },
      "execution_count": null,
      "outputs": []
    },
    {
      "cell_type": "markdown",
      "source": [
        "***Multiplicative Seasonality model***"
      ],
      "metadata": {
        "id": "kWdJKpPKt999"
      }
    },
    {
      "cell_type": "code",
      "source": [
        "Mul_sea = smf.ols('log_sales~Q1+Q2+Q3',data=Train).fit()\n",
        "pred_Mult_sea = pd.Series(Mul_sea.predict(Test))\n",
        "rmse_Mul_sea = RMSE(Test['Sales'], np.exp(pred_Mult_sea))\n",
        "rmse_Mul_sea"
      ],
      "metadata": {
        "id": "CCzRXBCitDpB"
      },
      "execution_count": null,
      "outputs": []
    },
    {
      "cell_type": "markdown",
      "source": [
        "***Multiplicative Additive Seasonality model***"
      ],
      "metadata": {
        "id": "5n9xpLxlu42U"
      }
    },
    {
      "cell_type": "code",
      "source": [
        "Mul_Add_sea = smf.ols('log_sales~t+Q1+Q2+Q3',data = Train).fit()\n",
        "pred_Mult_add_sea = pd.Series(Mul_Add_sea.predict(Test))\n",
        "rmse_Mul_Add_sea = RMSE(Test['Sales'], np.exp(pred_Mult_add_sea))\n",
        "rmse_Mul_Add_sea\n"
      ],
      "metadata": {
        "id": "TsvxoOxNtDtE"
      },
      "execution_count": null,
      "outputs": []
    },
    {
      "cell_type": "code",
      "source": [
        "list = [['Simple Exponential Method',rmse_ses_model], ['Holt method',rmse_hw_model],\n",
        "          ['HW exp smoothing add',rmse_hwe_add_add_model],['HW exp smoothing mult',rmse_hwe_model_mul_add_model],\n",
        "          ['Linear Mode',rmse_linear_model],['Exp model',rmse_Exp_model],['Quad model',rmse_Quad_model],\n",
        "          ['add seasonality',rmse_add_sea],['Quad add seasonality',rmse_add_sea_Quad_model],\n",
        "          ['Mult Seasonality',rmse_Mul_sea],['Mult add seasonality',rmse_Mul_Add_sea]]"
      ],
      "metadata": {
        "id": "d24tM7hBvLbX"
      },
      "execution_count": null,
      "outputs": []
    },
    {
      "cell_type": "code",
      "source": [
        "df = pd.DataFrame(list, columns =['Model', 'RMSE_Value']) \n",
        "df"
      ],
      "metadata": {
        "id": "V1w5uEUYvPkS"
      },
      "execution_count": null,
      "outputs": []
    },
    {
      "cell_type": "markdown",
      "source": [
        "***Building final model with least RMSE value***"
      ],
      "metadata": {
        "id": "gKuhn3N0vXZm"
      }
    },
    {
      "cell_type": "code",
      "source": [
        "data.head()\n"
      ],
      "metadata": {
        "id": "zuxs-f74vS8a"
      },
      "execution_count": null,
      "outputs": []
    },
    {
      "cell_type": "code",
      "source": [
        "final_model = smf.ols('Sales~t+t_squared+Q1+Q2+Q3',data=data).fit()\n",
        "pred_final = pd.Series(final_model.predict(data[['Q1','Q2','Q3','t','t_squared']]))\n",
        "rmse_final_model = RMSE(data['Sales'], pred_final)\n",
        "rmse_final_model"
      ],
      "metadata": {
        "id": "l72PiNoQvaPq"
      },
      "execution_count": null,
      "outputs": []
    },
    {
      "cell_type": "code",
      "source": [
        "pred_df = pd.DataFrame({'Actual' : data.Sales, 'Predicted' : pred_final})\n",
        "pred_df"
      ],
      "metadata": {
        "id": "KPUIJwvqvaMw"
      },
      "execution_count": null,
      "outputs": []
    },
    {
      "cell_type": "code",
      "source": [
        "# Actual Vs Predicted graph\n",
        "\n",
        "sns.set_style('whitegrid')\n",
        "\n",
        "plt.rcParams['figure.figsize'] = (10, 6) \n",
        "_, ax = plt.subplots()\n",
        "ax.hist(data.Sales, color = 'm', alpha = 0.5, label = 'actual', bins=7)\n",
        "ax.hist(pred_final, color = 'c', alpha = 0.5, label = 'prediction', bins=7)\n",
        "ax.yaxis.set_ticks(np.arange(0,11))\n",
        "ax.legend(loc = 'best')\n",
        "plt.show()"
      ],
      "metadata": {
        "id": "KUirnCJ1vaJp"
      },
      "execution_count": null,
      "outputs": []
    },
    {
      "cell_type": "code",
      "source": [
        "# Plot of Actual Sales values and Predicted sales values\n",
        "plt.plot(data.Sales, color='b',marker='o', label='Actual Sales of CocaCola')\n",
        "plt.plot(pred_final, color='m',marker='x', label='Predicted Sales of CocaCola')\n",
        "\n",
        "# Added titles and adjust dimensions\n",
        "plt.title('Actual Sales values and Predicted sales')\n",
        "plt.xlabel(\"Timeline\")\n",
        "plt.ylabel(\"Sales\")\n",
        "plt.legend()\n",
        "plt.rcParams['figure.figsize'] = (10,8) \n",
        "\n",
        "plt.show()"
      ],
      "metadata": {
        "id": "oICfRqgwvaHY"
      },
      "execution_count": null,
      "outputs": []
    },
    {
      "cell_type": "code",
      "source": [
        ""
      ],
      "metadata": {
        "id": "P0oy5UbZvaFk"
      },
      "execution_count": null,
      "outputs": []
    }
  ]
}