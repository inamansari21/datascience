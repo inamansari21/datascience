{
  "nbformat": 4,
  "nbformat_minor": 0,
  "metadata": {
    "colab": {
      "name": "Decision_tree_assng 1.ipynb",
      "provenance": [],
      "collapsed_sections": [],
      "include_colab_link": true
    },
    "kernelspec": {
      "name": "python3",
      "display_name": "Python 3"
    },
    "language_info": {
      "name": "python"
    }
  },
  "cells": [
    {
      "cell_type": "markdown",
      "metadata": {
        "id": "view-in-github",
        "colab_type": "text"
      },
      "source": [
        "<a href=\"https://colab.research.google.com/github/inamansari21/datascience/blob/main/Decision_tree_assng_1.ipynb\" target=\"_parent\"><img src=\"https://colab.research.google.com/assets/colab-badge.svg\" alt=\"Open In Colab\"/></a>"
      ]
    },
    {
      "cell_type": "code",
      "execution_count": null,
      "metadata": {
        "id": "lVi7pvCIXV8J"
      },
      "outputs": [],
      "source": [
        "# importing Libraries\n",
        "import pandas as pd\n",
        "import matplotlib.pyplot as plt\n",
        "import numpy as np\n",
        "from sklearn.model_selection import train_test_split\n",
        "from sklearn.tree import  DecisionTreeClassifier\n",
        "from sklearn import tree\n",
        "from sklearn.metrics import classification_report\n",
        "from sklearn import preprocessing"
      ]
    },
    {
      "cell_type": "code",
      "source": [
        "# Loading Dataset\n",
        "data = pd.read_csv('Company_Data.csv')"
      ],
      "metadata": {
        "id": "W-1lBGrRXkDl"
      },
      "execution_count": null,
      "outputs": []
    },
    {
      "cell_type": "code",
      "source": [
        "data.head()"
      ],
      "metadata": {
        "id": "ZQ9IEq63XsUM"
      },
      "execution_count": null,
      "outputs": []
    },
    {
      "cell_type": "code",
      "source": [
        "data.sample(10)"
      ],
      "metadata": {
        "id": "hkxk-WRgXyRM"
      },
      "execution_count": null,
      "outputs": []
    },
    {
      "cell_type": "code",
      "source": [
        "data.info()"
      ],
      "metadata": {
        "id": "Ox9x4L6KX2Zv"
      },
      "execution_count": null,
      "outputs": []
    },
    {
      "cell_type": "code",
      "source": [
        "data.describe()"
      ],
      "metadata": {
        "id": "K7F24BP6X6Jy"
      },
      "execution_count": null,
      "outputs": []
    },
    {
      "cell_type": "code",
      "source": [
        "# pairplot\n",
        "import seaborn as sns\n",
        "sns.pairplot(data)"
      ],
      "metadata": {
        "id": "_IhxmueOX-Pq"
      },
      "execution_count": null,
      "outputs": []
    },
    {
      "cell_type": "code",
      "source": [
        "# Correlation analysis for data\n",
        "corr = data.corr()\n",
        "#Plot figsize\n",
        "fig, ax = plt.subplots(figsize=(10, 6))\n",
        "#Generate Heat Map, allow annotations and place floats in map\n",
        "sns.heatmap(corr, cmap='magma', annot=True, fmt=\".2f\")\n",
        "#Apply xticks\n",
        "plt.xticks(range(len(corr.columns)), corr.columns);\n",
        "#Apply yticks\n",
        "plt.yticks(range(len(corr.columns)), corr.columns)\n",
        "#show plot\n",
        "plt.show()"
      ],
      "metadata": {
        "id": "De61bR8eYCrw"
      },
      "execution_count": null,
      "outputs": []
    },
    {
      "cell_type": "code",
      "source": [
        "# checking count of categories for categorical columns colums\n",
        "sns.countplot(data['ShelveLoc'])\n",
        "plt.show()\n",
        "\n",
        "sns.countplot(data['Urban'])\n",
        "plt.show()\n",
        "\n",
        "sns.countplot(data['US'])\n",
        "plt.show()"
      ],
      "metadata": {
        "id": "wQi20QMuYQyn"
      },
      "execution_count": null,
      "outputs": []
    },
    {
      "cell_type": "code",
      "source": [
        "# Converting Target variable 'Sales' into categories Low, Medium and High.\n",
        "data['Sales'] = pd.cut(x=data['Sales'],bins=[0, 6, 12, 17], labels=['Low','Medium', 'High'], right = False)\n",
        "data['Sales']"
      ],
      "metadata": {
        "id": "8qnQ-wHkYVla"
      },
      "execution_count": null,
      "outputs": []
    },
    {
      "cell_type": "code",
      "source": [
        "sns.countplot(data['Sales'])"
      ],
      "metadata": {
        "id": "-8blpD1cYaD5"
      },
      "execution_count": null,
      "outputs": []
    },
    {
      "cell_type": "code",
      "source": [
        "data['Sales'].value_counts()"
      ],
      "metadata": {
        "id": "cICw_L7zYeni"
      },
      "execution_count": null,
      "outputs": []
    },
    {
      "cell_type": "code",
      "source": [
        "# Converting other attributes into categories\n",
        "data['CompPrice'] = pd.cut(x=data['CompPrice'],bins=[77, 100, 133, 176], labels=['Low','Medium', 'High'], right = False)\n",
        "\n",
        "data['Income'] = pd.cut(x=data['Income'],bins=[21, 46, 71, 121], labels=['Low','Medium', 'High'], right = False)\n",
        "\n",
        "data['Advertising'] = pd.cut(x=data['Advertising'],bins=[0, 10, 20, 30], labels=['Low','Medium', 'High'], right = False)\n",
        "\n",
        "data['Population'] = pd.cut(x=data['Population'],bins=[10, 170, 340, 510], labels=['Low','Medium', 'High'], right = False)\n",
        "\n",
        "data['Price'] = pd.cut(x=data['Price'],bins=[24, 80, 136, 192], labels=['Low','Medium', 'High'], right = False)\n",
        "\n",
        "data['Age'] = pd.cut(x=data['Age'],bins=[25, 45, 60, 81], labels=['Low','Medium', 'High'], right = False)\n",
        "\n",
        "data['Education'] = pd.cut(x=data['Education'],bins=[10, 12.5, 15, 19], labels=['Low','Medium', 'High'], right = False)"
      ],
      "metadata": {
        "id": "EJQZn_3pYieI"
      },
      "execution_count": null,
      "outputs": []
    },
    {
      "cell_type": "code",
      "source": [
        "data.head()"
      ],
      "metadata": {
        "id": "fGCZdOCaYoYP"
      },
      "execution_count": null,
      "outputs": []
    },
    {
      "cell_type": "code",
      "source": [
        "#encoding categorical data\n",
        "label_encoder = preprocessing.LabelEncoder()\n",
        "\n",
        "data['Sales'] = label_encoder.fit_transform(data['Sales'])\n",
        "data['CompPrice'] = label_encoder.fit_transform(data['CompPrice'])\n",
        "data['Income'] = label_encoder.fit_transform(data['Income'])\n",
        "data['Advertising'] = label_encoder.fit_transform(data['Advertising'])\n",
        "data['Population'] = label_encoder.fit_transform(data['Population'])\n",
        "data['Price'] = label_encoder.fit_transform(data['Price'])\n",
        "data['ShelveLoc'] = label_encoder.fit_transform(data['ShelveLoc'])\n",
        "data['Age'] = label_encoder.fit_transform(data['Age'])\n",
        "data['Education'] = label_encoder.fit_transform(data['Education'])\n",
        "data['Urban'] = label_encoder.fit_transform(data['Urban'])\n",
        "data['US'] = label_encoder.fit_transform(data['US'])\n",
        "\n",
        "data"
      ],
      "metadata": {
        "id": "LhuFxv_sYsas"
      },
      "execution_count": null,
      "outputs": []
    },
    {
      "cell_type": "code",
      "source": [
        "# Dividing data into independent variables and dependent variable\n",
        "X = data.drop('Sales', axis = 1)\n",
        "y = data['Sales']"
      ],
      "metadata": {
        "id": "HznJARfeYw1P"
      },
      "execution_count": null,
      "outputs": []
    },
    {
      "cell_type": "code",
      "source": [
        "X"
      ],
      "metadata": {
        "id": "ZRjoXAQiY1qq"
      },
      "execution_count": null,
      "outputs": []
    },
    {
      "cell_type": "code",
      "source": [
        "y"
      ],
      "metadata": {
        "id": "eli7RynsY5bW"
      },
      "execution_count": null,
      "outputs": []
    },
    {
      "cell_type": "code",
      "source": [
        "# Splitting data into training and testing data\n",
        "x_train, x_test, y_train, y_test = train_test_split(X, y, test_size= 0.33, random_state= 42)"
      ],
      "metadata": {
        "id": "vOmstTIJY-a5"
      },
      "execution_count": null,
      "outputs": []
    },
    {
      "cell_type": "code",
      "source": [
        "x_train"
      ],
      "metadata": {
        "id": "MK0a--onZGmX"
      },
      "execution_count": null,
      "outputs": []
    },
    {
      "cell_type": "code",
      "source": [
        "x_test"
      ],
      "metadata": {
        "id": "UyQ913GAZKBP"
      },
      "execution_count": null,
      "outputs": []
    },
    {
      "cell_type": "code",
      "source": [
        "y_train"
      ],
      "metadata": {
        "id": "D0oQseqdZNJ7"
      },
      "execution_count": null,
      "outputs": []
    },
    {
      "cell_type": "code",
      "source": [
        "y_test"
      ],
      "metadata": {
        "id": "keopg6n0ZQP4"
      },
      "execution_count": null,
      "outputs": []
    },
    {
      "cell_type": "code",
      "source": [
        "model_c5 = DecisionTreeClassifier(criterion = 'entropy', max_depth= 3)\n",
        "model_c5.fit(x_train, y_train)"
      ],
      "metadata": {
        "id": "p-BcaRlgZTUh"
      },
      "execution_count": null,
      "outputs": []
    },
    {
      "cell_type": "code",
      "source": [
        "# Plotting Decision tree\n",
        "tree.plot_tree(model_c5);"
      ],
      "metadata": {
        "id": "AE3qhHhnZXjU"
      },
      "execution_count": null,
      "outputs": []
    },
    {
      "cell_type": "code",
      "source": [
        "fn=['CompPrice', 'Income', 'Advertising', 'Population', 'Price',\n",
        "       'ShelveLoc', 'Age', 'Education', 'Urban', 'US']\n",
        "cn=['Low', 'Medium', 'High']\n",
        "fig, axes = plt.subplots(nrows = 1,ncols = 1,figsize = (6,6), dpi=600)\n",
        "tree.plot_tree(model_c5,\n",
        "               feature_names = fn, \n",
        "               class_names=cn,\n",
        "               filled = True);\n"
      ],
      "metadata": {
        "id": "Eo10X0iFZbov"
      },
      "execution_count": null,
      "outputs": []
    },
    {
      "cell_type": "code",
      "source": [
        "# Predicting Data\n",
        "preds = model_c5.predict(x_test)\n",
        "pd.Series(preds).value_counts()"
      ],
      "metadata": {
        "id": "zmLcqbylZftO"
      },
      "execution_count": null,
      "outputs": []
    },
    {
      "cell_type": "code",
      "source": [
        "preds"
      ],
      "metadata": {
        "id": "PABbjUH-Z95w"
      },
      "execution_count": null,
      "outputs": []
    },
    {
      "cell_type": "code",
      "source": [
        "# Creating cross tables for checking model\n",
        "pd.crosstab(y_test, preds)"
      ],
      "metadata": {
        "id": "EvJOs4MCaBPo"
      },
      "execution_count": null,
      "outputs": []
    },
    {
      "cell_type": "code",
      "source": [
        "# Checking accuracy of model\n",
        "model_c5.score(x_test, y_test)"
      ],
      "metadata": {
        "id": "8qT6HNP9aFcd"
      },
      "execution_count": null,
      "outputs": []
    },
    {
      "cell_type": "code",
      "source": [
        "model_CART = DecisionTreeClassifier(criterion = 'gini', max_depth= 3)\n",
        "model_CART.fit(x_train, y_train)"
      ],
      "metadata": {
        "id": "Aq0PZMr2aKi2"
      },
      "execution_count": null,
      "outputs": []
    },
    {
      "cell_type": "code",
      "source": [
        "# Plotting Decision tree\n",
        "tree.plot_tree(model_CART);\n"
      ],
      "metadata": {
        "id": "x7f621j4aOJ9"
      },
      "execution_count": null,
      "outputs": []
    },
    {
      "cell_type": "code",
      "source": [
        "fn=['CompPrice', 'Income', 'Advertising', 'Population', 'Price',\n",
        "       'ShelveLoc', 'Age', 'Education', 'Urban', 'US']\n",
        "cn=['Low', 'Medium', 'High']\n",
        "fig, axes = plt.subplots(nrows = 1,ncols = 1,figsize = (6,6), dpi=600)\n",
        "tree.plot_tree(model_CART,\n",
        "               feature_names = fn, \n",
        "               class_names=cn,\n",
        "               filled = True);"
      ],
      "metadata": {
        "id": "mbuNmEDNaRhy"
      },
      "execution_count": null,
      "outputs": []
    },
    {
      "cell_type": "code",
      "source": [
        "# Predicting Data\n",
        "preds = model_CART.predict(x_test)\n",
        "pd.Series(preds).value_counts()"
      ],
      "metadata": {
        "id": "U59EryczaWyN"
      },
      "execution_count": null,
      "outputs": []
    },
    {
      "cell_type": "code",
      "source": [
        "preds"
      ],
      "metadata": {
        "id": "-yR3lloybRll"
      },
      "execution_count": null,
      "outputs": []
    },
    {
      "cell_type": "code",
      "source": [
        "# Creating cross tables for checking model\n",
        "pd.crosstab(y_test, preds)"
      ],
      "metadata": {
        "id": "aEgYTf08bWTB"
      },
      "execution_count": null,
      "outputs": []
    },
    {
      "cell_type": "code",
      "source": [
        "# Checking accuracy of model\n",
        "model_CART.score(x_test, y_test)"
      ],
      "metadata": {
        "id": "ue_jzlbpbaS8"
      },
      "execution_count": null,
      "outputs": []
    },
    {
      "cell_type": "code",
      "source": [
        ""
      ],
      "metadata": {
        "id": "JMCU2egWbfn-"
      },
      "execution_count": null,
      "outputs": []
    }
  ]
}