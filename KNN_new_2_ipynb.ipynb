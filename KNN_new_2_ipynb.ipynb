{
  "nbformat": 4,
  "nbformat_minor": 0,
  "metadata": {
    "colab": {
      "name": "KNN new 2  ipynb",
      "provenance": [],
      "authorship_tag": "ABX9TyOY6tW3jV/fy5bgBIlq9ffB",
      "include_colab_link": true
    },
    "kernelspec": {
      "name": "python3",
      "display_name": "Python 3"
    },
    "language_info": {
      "name": "python"
    }
  },
  "cells": [
    {
      "cell_type": "markdown",
      "metadata": {
        "id": "view-in-github",
        "colab_type": "text"
      },
      "source": [
        "<a href=\"https://colab.research.google.com/github/inamansari21/datascience/blob/main/KNN_new_2_ipynb.ipynb\" target=\"_parent\"><img src=\"https://colab.research.google.com/assets/colab-badge.svg\" alt=\"Open In Colab\"/></a>"
      ]
    },
    {
      "cell_type": "code",
      "execution_count": null,
      "metadata": {
        "id": "gcG-jOI2BOaY"
      },
      "outputs": [],
      "source": [
        "import numpy as np\n",
        "import pandas as pd\n",
        "from matplotlib import pyplot as plt\n",
        "from sklearn.preprocessing import StandardScaler\n",
        "from sklearn import preprocessing\n",
        "import seaborn as sns\n",
        "from sklearn.neighbors import KNeighborsClassifier\n",
        "from sklearn.metrics import confusion_matrix\n",
        "from sklearn.model_selection import train_test_split\n",
        "from sklearn.metrics import accuracy_score\n",
        "from sklearn.model_selection import cross_val_score\n",
        "sns.set()\n"
      ]
    },
    {
      "cell_type": "code",
      "source": [
        "df = pd.read_csv(\"Zoo.csv\")\n"
      ],
      "metadata": {
        "id": "y5YuPChiBjU2"
      },
      "execution_count": null,
      "outputs": []
    },
    {
      "cell_type": "code",
      "source": [
        "df1 = df.copy()\n"
      ],
      "metadata": {
        "id": "07an9KWiByo-"
      },
      "execution_count": null,
      "outputs": []
    },
    {
      "cell_type": "code",
      "source": [
        "df1.head()\n"
      ],
      "metadata": {
        "id": "qQ7en66EB3wY"
      },
      "execution_count": null,
      "outputs": []
    },
    {
      "cell_type": "code",
      "source": [
        "df1.describe()"
      ],
      "metadata": {
        "id": "ZPnUWeCAB6tL"
      },
      "execution_count": null,
      "outputs": []
    },
    {
      "cell_type": "code",
      "source": [
        "sns.factorplot('type', data=df1, kind=\"count\",size = 5,aspect = 2)\n"
      ],
      "metadata": {
        "id": "aSbp7ZrIB-Qo"
      },
      "execution_count": null,
      "outputs": []
    },
    {
      "cell_type": "markdown",
      "source": [
        "As shown in the graphs above, highest number of animals available in Zoo are Type 1 followed by 2, 4 and 7 respectively\n"
      ],
      "metadata": {
        "id": "dCUbL2kqCHFn"
      }
    },
    {
      "cell_type": "code",
      "source": [
        "df1.plot(kind='density', subplots=True, layout=(4,5), figsize=(13,20), sharex=False, sharey=False)\n",
        "plt.show()\n"
      ],
      "metadata": {
        "id": "Uwzxk_DVCCL7"
      },
      "execution_count": null,
      "outputs": []
    },
    {
      "cell_type": "code",
      "source": [
        "df1.plot(kind='box', subplots=True, layout=(4,5), figsize=(13,20), sharex=False, sharey=False)\n",
        "plt.show()\n"
      ],
      "metadata": {
        "id": "-e8OnZF8CKne"
      },
      "execution_count": null,
      "outputs": []
    },
    {
      "cell_type": "markdown",
      "source": [
        "As shown in the graphs above, majority of the variables are evenly distributed amongst the animals. However some of the variables like airbone, backbone, breathes, venomous, fins, tail and domestic is not evenly distributed (i.e majority of animals either have these variable or dont)\n"
      ],
      "metadata": {
        "id": "oTyf5hDGCVEv"
      }
    },
    {
      "cell_type": "markdown",
      "source": [
        "# **Finding correlation**"
      ],
      "metadata": {
        "id": "0c8UvmMpCbjT"
      }
    },
    {
      "cell_type": "code",
      "source": [
        "cor = df1.corr(method='pearson')\n"
      ],
      "metadata": {
        "id": "RysDQVyVCPSj"
      },
      "execution_count": null,
      "outputs": []
    },
    {
      "cell_type": "code",
      "source": [
        "cor.style.background_gradient(cmap='coolwarm')\n"
      ],
      "metadata": {
        "id": "rTZzmQ3XCgwi"
      },
      "execution_count": null,
      "outputs": []
    },
    {
      "cell_type": "markdown",
      "source": [
        "As seen in the above graph, there is a high correlation exists between some of the variables. We can use PCA to reduce the hight correlated variables\n"
      ],
      "metadata": {
        "id": "oEI5QIUZCp8o"
      }
    },
    {
      "cell_type": "markdown",
      "source": [
        "## KNN"
      ],
      "metadata": {
        "id": "77PWaLYtCteW"
      }
    },
    {
      "cell_type": "markdown",
      "source": [
        "# Finding no. of k"
      ],
      "metadata": {
        "id": "9-jSsVn5C02w"
      }
    },
    {
      "cell_type": "code",
      "source": [
        "X = df1.iloc[:,1:17]\n",
        "y = df1.iloc[:,17]\n"
      ],
      "metadata": {
        "id": "99C89QZMC5vm"
      },
      "execution_count": null,
      "outputs": []
    },
    {
      "cell_type": "code",
      "source": [
        "X_train, X_test, y_train, y_test = train_test_split(X, y, test_size=0.2, random_state=1, stratify=y)\n"
      ],
      "metadata": {
        "id": "UG6rZ6eTDBuv"
      },
      "execution_count": null,
      "outputs": []
    },
    {
      "cell_type": "code",
      "source": [
        "k_values = np.arange(1,25)\n",
        "train_accuracy = []\n",
        "test_accuracy = []\n"
      ],
      "metadata": {
        "id": "19envBP6DOBp"
      },
      "execution_count": null,
      "outputs": []
    },
    {
      "cell_type": "code",
      "source": [
        "for i, k in enumerate(k_values):\n",
        "    knn = KNeighborsClassifier(n_neighbors=k)\n",
        "    knn.fit(X_train,y_train)\n",
        "    train_accuracy.append(knn.score(X_train, y_train))\n",
        "    test_accuracy.append(knn.score(X_test, y_test))\n"
      ],
      "metadata": {
        "id": "ci87inwvDSVS"
      },
      "execution_count": null,
      "outputs": []
    },
    {
      "cell_type": "code",
      "source": [
        "plt.figure(figsize=[13,8])\n",
        "plt.plot(k_values, test_accuracy, label = 'Testing Accuracy')\n",
        "plt.plot(k_values, train_accuracy, label = 'Training Accuracy')\n",
        "plt.legend()\n",
        "plt.title('-value VS Accuracy')\n",
        "plt.xlabel('Number of Neighbors')\n",
        "plt.ylabel('Accuracy')\n",
        "plt.xticks(k_values)\n",
        "plt.show()\n"
      ],
      "metadata": {
        "id": "--Prvo9wDVja"
      },
      "execution_count": null,
      "outputs": []
    },
    {
      "cell_type": "markdown",
      "source": [
        "As shown in the graph, with K=5 we can achive accurary of 90%.\n"
      ],
      "metadata": {
        "id": "CYMAVOiTDc_t"
      }
    },
    {
      "cell_type": "markdown",
      "source": [
        "## Appying the algorithm"
      ],
      "metadata": {
        "id": "3kTc_J6tDglC"
      }
    },
    {
      "cell_type": "code",
      "source": [
        "knn = KNeighborsClassifier(n_neighbors=5)\n"
      ],
      "metadata": {
        "id": "axUEEIbsDdgM"
      },
      "execution_count": null,
      "outputs": []
    },
    {
      "cell_type": "code",
      "source": [
        "knn.fit(X_train, y_train)\n",
        "y_pred_KNeighborsClassifier = knn.predict(X_test)\n"
      ],
      "metadata": {
        "id": "O0THFnJ0DpTW"
      },
      "execution_count": null,
      "outputs": []
    },
    {
      "cell_type": "code",
      "source": [
        "scores = []\n",
        "cv_scores = []\n"
      ],
      "metadata": {
        "id": "uoUu6cRFDr1K"
      },
      "execution_count": null,
      "outputs": []
    },
    {
      "cell_type": "code",
      "source": [
        "score = accuracy_score(y_pred_KNeighborsClassifier,y_test)\n",
        "scores.append(score)\n"
      ],
      "metadata": {
        "id": "sMCqcMdoDvUT"
      },
      "execution_count": null,
      "outputs": []
    },
    {
      "cell_type": "code",
      "source": [
        "score_knn=cross_val_score(knn, X,y, cv=10)\n"
      ],
      "metadata": {
        "id": "4CiiZfWYDx1v"
      },
      "execution_count": null,
      "outputs": []
    },
    {
      "cell_type": "code",
      "source": [
        "score_knn.mean()\n"
      ],
      "metadata": {
        "id": "wgz_nFdeD0KB"
      },
      "execution_count": null,
      "outputs": []
    },
    {
      "cell_type": "code",
      "source": [
        "score_knn.std()*2\n"
      ],
      "metadata": {
        "id": "vWVfCmAID3j0"
      },
      "execution_count": null,
      "outputs": []
    },
    {
      "cell_type": "code",
      "source": [
        "cv_score = score_knn.mean()\n"
      ],
      "metadata": {
        "id": "qfinJ62xD59c"
      },
      "execution_count": null,
      "outputs": []
    },
    {
      "cell_type": "code",
      "source": [
        "cv_scores.append(cv_score)\n"
      ],
      "metadata": {
        "id": "bw5ufpGbD8PV"
      },
      "execution_count": null,
      "outputs": []
    },
    {
      "cell_type": "code",
      "source": [
        "cv_scores\n"
      ],
      "metadata": {
        "id": "FKX20IELD-eB"
      },
      "execution_count": null,
      "outputs": []
    },
    {
      "cell_type": "markdown",
      "source": [
        "## Conclusion\n",
        "Support Vector Machine Accuracy: 0.90 (+/- 0.14)"
      ],
      "metadata": {
        "id": "5su8JV5DEFgM"
      }
    },
    {
      "cell_type": "code",
      "source": [
        ""
      ],
      "metadata": {
        "id": "yHpFjNVJEBCO"
      },
      "execution_count": null,
      "outputs": []
    }
  ]
}