{
  "nbformat": 4,
  "nbformat_minor": 0,
  "metadata": {
    "colab": {
      "name": "random forest new 1.ipynb",
      "provenance": [],
      "authorship_tag": "ABX9TyOtS+it2AHBqW3qtTktnbfy",
      "include_colab_link": true
    },
    "kernelspec": {
      "name": "python3",
      "display_name": "Python 3"
    },
    "language_info": {
      "name": "python"
    }
  },
  "cells": [
    {
      "cell_type": "markdown",
      "metadata": {
        "id": "view-in-github",
        "colab_type": "text"
      },
      "source": [
        "<a href=\"https://colab.research.google.com/github/inamansari21/datascience/blob/main/random_forest_new_1.ipynb\" target=\"_parent\"><img src=\"https://colab.research.google.com/assets/colab-badge.svg\" alt=\"Open In Colab\"/></a>"
      ]
    },
    {
      "cell_type": "code",
      "execution_count": null,
      "metadata": {
        "id": "2Jj6rxRTbJ7h"
      },
      "outputs": [],
      "source": [
        "import pandas as pd\n",
        "import numpy as np\n",
        "import matplotlib.pyplot as plt\n",
        "from sklearn import preprocessing\n",
        "from sklearn.model_selection import train_test_split\n",
        "from sklearn import datasets,tree\n",
        "from sklearn.tree import export_graphviz \n",
        "from sklearn import externals\n",
        "from io import StringIO\n",
        "import pydotplus\n",
        "import seaborn as sns\n",
        "from sklearn.ensemble import RandomForestClassifier as RF\n",
        "from sklearn.metrics import accuracy_score\n",
        "from sklearn.metrics import confusion_matrix\n",
        "import matplotlib.image as mpimg \n",
        "import matplotlib.pyplot as plt\n"
      ]
    },
    {
      "cell_type": "code",
      "source": [
        "df = pd.read_csv(\"Company_Data.csv\")\n"
      ],
      "metadata": {
        "id": "lbAhj0mqbYF4"
      },
      "execution_count": null,
      "outputs": []
    },
    {
      "cell_type": "code",
      "source": [
        "df1 = df.copy()\n"
      ],
      "metadata": {
        "id": "Y37S43-Vbsss"
      },
      "execution_count": null,
      "outputs": []
    },
    {
      "cell_type": "code",
      "source": [
        "df1.head()"
      ],
      "metadata": {
        "id": "vkloqfTFbv2h"
      },
      "execution_count": null,
      "outputs": []
    },
    {
      "cell_type": "code",
      "source": [
        "df1.describe()\n"
      ],
      "metadata": {
        "id": "8FoARVvFbyC8"
      },
      "execution_count": null,
      "outputs": []
    },
    {
      "cell_type": "code",
      "source": [
        "df1.isnull().sum()\n"
      ],
      "metadata": {
        "id": "VkhCB0MYb3kb"
      },
      "execution_count": null,
      "outputs": []
    },
    {
      "cell_type": "code",
      "source": [
        "df1.dtypes\n"
      ],
      "metadata": {
        "id": "_4LXs3CHb_EU"
      },
      "execution_count": null,
      "outputs": []
    },
    {
      "cell_type": "markdown",
      "source": [
        "# **Checking outliers**"
      ],
      "metadata": {
        "id": "9ZEde1hdcS-T"
      }
    },
    {
      "cell_type": "code",
      "source": [
        "ax = sns.boxplot(df1['Sales'])\n"
      ],
      "metadata": {
        "id": "gzIM2BMucDDx"
      },
      "execution_count": null,
      "outputs": []
    },
    {
      "cell_type": "markdown",
      "source": [
        "the data has two outliers"
      ],
      "metadata": {
        "id": "GbI0jfYxcNom"
      }
    },
    {
      "cell_type": "code",
      "source": [
        "plt.rcParams[\"figure.figsize\"] = 9,5\n"
      ],
      "metadata": {
        "id": "Q1eY5acqcb4c"
      },
      "execution_count": null,
      "outputs": []
    },
    {
      "cell_type": "code",
      "source": [
        "plt.figure(figsize=(16,5))\n",
        "print(\"Skew: {}\".format(df1['Sales'].skew()))\n",
        "print(\"Kurtosis: {}\".format(df1['Sales'].kurtosis()))\n",
        "ax = sns.kdeplot(df1['Sales'],shade=True,color='g')\n",
        "plt.xticks([i for i in range(0,20,1)])\n",
        "plt.show()\n"
      ],
      "metadata": {
        "id": "Aiiyu7Qxce2X"
      },
      "execution_count": null,
      "outputs": []
    },
    {
      "cell_type": "markdown",
      "source": [
        "The data is Skwed on the right.\n",
        "The data has negative Kurtosis\n"
      ],
      "metadata": {
        "id": "4epcPjm5codU"
      }
    },
    {
      "cell_type": "code",
      "source": [
        "obj_colum = df1.select_dtypes(include='object').columns.tolist()\n"
      ],
      "metadata": {
        "id": "xUzpTdJmcifq"
      },
      "execution_count": null,
      "outputs": []
    },
    {
      "cell_type": "code",
      "source": [
        "plt.figure(figsize=(16,10))\n",
        "for i,col in enumerate(obj_colum,1):\n",
        "    plt.subplot(2,2,i)\n",
        "    sns.countplot(data=df1,y=col)\n",
        "    plt.subplot(2,2,i+1)\n",
        "    df1[col].value_counts(normalize=True).plot.bar()\n",
        "    plt.ylabel(col)\n",
        "    plt.xlabel('% distribution per category')\n",
        "plt.tight_layout()\n",
        "plt.show()  \n"
      ],
      "metadata": {
        "id": "hJARiJ6ccvNa"
      },
      "execution_count": null,
      "outputs": []
    },
    {
      "cell_type": "code",
      "source": [
        "num_columns = df1.select_dtypes(exclude='object').columns.tolist()\n"
      ],
      "metadata": {
        "id": "ohhpIdtZcyMj"
      },
      "execution_count": null,
      "outputs": []
    },
    {
      "cell_type": "code",
      "source": [
        "plt.figure(figsize=(18,40))\n",
        "for i,col in enumerate(num_columns,1):\n",
        "    plt.subplot(8,4,i)\n",
        "    sns.kdeplot(df[col],color='g',shade=True)\n",
        "    plt.subplot(8,4,i+10)\n",
        "    df[col].plot.box()\n",
        "plt.tight_layout() \n",
        "plt.show()\n",
        "num_data = df[num_columns]\n",
        "pd.DataFrame(data=[num_data.skew(),num_data.kurtosis()],index=['skewness','kurtosis'])\n"
      ],
      "metadata": {
        "id": "8AKUm--sc4-B"
      },
      "execution_count": null,
      "outputs": []
    },
    {
      "cell_type": "code",
      "source": [
        "corr = df1.corr()\n"
      ],
      "metadata": {
        "id": "bW-Noc90dEcf"
      },
      "execution_count": null,
      "outputs": []
    },
    {
      "cell_type": "code",
      "source": [
        "df1 = pd.get_dummies(df1, columns = ['ShelveLoc','Urban','US'])\n"
      ],
      "metadata": {
        "id": "rCyyFAxEdLQK"
      },
      "execution_count": null,
      "outputs": []
    },
    {
      "cell_type": "code",
      "source": [
        "corr = df1.corr()\n"
      ],
      "metadata": {
        "id": "yGXeW5SbdNQ1"
      },
      "execution_count": null,
      "outputs": []
    },
    {
      "cell_type": "code",
      "source": [
        "plt.figure(figsize=(10,10))\n",
        "sns.heatmap(corr,annot=True)\n"
      ],
      "metadata": {
        "id": "lOmdnajZdP02"
      },
      "execution_count": null,
      "outputs": []
    },
    {
      "cell_type": "markdown",
      "source": [
        "# Random forest model\n",
        "Since the target variable is continious, we create a class of the value based on the mean\n",
        "\n",
        "<= 7.49 == \"Small\" and > 7.49 == \"large\"\n"
      ],
      "metadata": {
        "id": "WF2hTssddZTo"
      }
    },
    {
      "cell_type": "code",
      "source": [
        "df1[\"sales\"]=\"small\"\n",
        "df1.loc[df1[\"Sales\"]>7.49,\"sales\"]=\"large\"\n",
        "df1.drop([\"Sales\"],axis=1,inplace=True)\n"
      ],
      "metadata": {
        "id": "xog0Go-0dSxu"
      },
      "execution_count": null,
      "outputs": []
    },
    {
      "cell_type": "code",
      "source": [
        "X = df1.iloc[:,0:14]\n",
        "y = df1.iloc[:,14]\n"
      ],
      "metadata": {
        "id": "mjCspkKpdp1Y"
      },
      "execution_count": null,
      "outputs": []
    },
    {
      "cell_type": "code",
      "source": [
        "x_train,x_test,y_train,y_test = train_test_split(X,y,test_size = 0.2)\n"
      ],
      "metadata": {
        "id": "z9OnPKa4ds3p"
      },
      "execution_count": null,
      "outputs": []
    },
    {
      "cell_type": "code",
      "source": [
        "y_train.value_counts()\n"
      ],
      "metadata": {
        "id": "HO4lYTKQdvqN"
      },
      "execution_count": null,
      "outputs": []
    },
    {
      "cell_type": "code",
      "source": [
        "model =RF(n_jobs=4,n_estimators = 150, oob_score =True,criterion ='entropy') \n",
        "model.fit(x_train,y_train)\n",
        "model.oob_score_\n"
      ],
      "metadata": {
        "id": "wWzem0zGdxlU"
      },
      "execution_count": null,
      "outputs": []
    },
    {
      "cell_type": "code",
      "source": [
        "pred_train = model.predict(x_train)\n"
      ],
      "metadata": {
        "id": "vFf9amKed0KN"
      },
      "execution_count": null,
      "outputs": []
    },
    {
      "cell_type": "code",
      "source": [
        "accuracy_score(y_train,pred_train)\n"
      ],
      "metadata": {
        "id": "cUBPYBnNd25A"
      },
      "execution_count": null,
      "outputs": []
    },
    {
      "cell_type": "code",
      "source": [
        "confusion_matrix(y_train,pred_train)\n"
      ],
      "metadata": {
        "id": "NDm4PEAxd5L3"
      },
      "execution_count": null,
      "outputs": []
    },
    {
      "cell_type": "code",
      "source": [
        "pred_test = model.predict(x_test)\n"
      ],
      "metadata": {
        "id": "bigneVJhd7Ki"
      },
      "execution_count": null,
      "outputs": []
    },
    {
      "cell_type": "code",
      "source": [
        "accuracy_score(y_test,pred_test)\n"
      ],
      "metadata": {
        "id": "tMTT2b8Bd95d"
      },
      "execution_count": null,
      "outputs": []
    },
    {
      "cell_type": "code",
      "source": [
        "confusion_matrix(y_test,pred_test)\n"
      ],
      "metadata": {
        "id": "JY-AhqmLeAv3"
      },
      "execution_count": null,
      "outputs": []
    },
    {
      "cell_type": "code",
      "source": [
        "df_t=pd.DataFrame({'Actual':y_test, 'Predicted':pred_test})\n"
      ],
      "metadata": {
        "id": "H70xLg8VeCf_"
      },
      "execution_count": null,
      "outputs": []
    },
    {
      "cell_type": "code",
      "source": [
        "df_t"
      ],
      "metadata": {
        "id": "lwJ9GNGgeHPD"
      },
      "execution_count": null,
      "outputs": []
    },
    {
      "cell_type": "code",
      "source": [
        "cols = list(df1.columns)\n"
      ],
      "metadata": {
        "id": "Lx2S9ZC7eJkJ"
      },
      "execution_count": null,
      "outputs": []
    },
    {
      "cell_type": "code",
      "source": [
        "predictors = cols[0:14]\n",
        "target = cols[14]\n"
      ],
      "metadata": {
        "id": "MPpmuCQOfL8I"
      },
      "execution_count": null,
      "outputs": []
    },
    {
      "cell_type": "code",
      "source": [
        "tree1 = model.estimators_[20]\n"
      ],
      "metadata": {
        "id": "jtPhZqOBfOI1"
      },
      "execution_count": null,
      "outputs": []
    },
    {
      "cell_type": "code",
      "source": [
        "dot_data = StringIO()\n"
      ],
      "metadata": {
        "id": "I7PWvqzPfQWK"
      },
      "execution_count": null,
      "outputs": []
    },
    {
      "cell_type": "code",
      "source": [
        "export_graphviz(tree1, out_file = dot_data, feature_names =predictors, class_names = target, filled =True,rounded=True,impurity =False,proportion=False,precision =2)\n"
      ],
      "metadata": {
        "id": "7cBVKOg4f8Ub"
      },
      "execution_count": null,
      "outputs": []
    },
    {
      "cell_type": "code",
      "source": [
        "graph = pydotplus.graph_from_dot_data(dot_data.getvalue())\n"
      ],
      "metadata": {
        "id": "_0tqc7vwf_h_"
      },
      "execution_count": null,
      "outputs": []
    },
    {
      "cell_type": "code",
      "source": [
        "graph.write_png('company_full.png')\n"
      ],
      "metadata": {
        "id": "uW_FXF_egByJ"
      },
      "execution_count": null,
      "outputs": []
    },
    {
      "cell_type": "markdown",
      "source": [
        "## Conclusion\n",
        "Since the accuracy of the Training set is 100% we test the accurancy on the test data which is 76%\n",
        "As seen in the confusion matrix of Test data 61 instances are presdected correctly and 19 instances are not\n"
      ],
      "metadata": {
        "id": "A2kyC3JqgOUQ"
      }
    },
    {
      "cell_type": "code",
      "source": [
        "rf_small = RF(n_estimators=10, max_depth = 3)\n"
      ],
      "metadata": {
        "id": "jghj7jBEgEWn"
      },
      "execution_count": null,
      "outputs": []
    },
    {
      "cell_type": "code",
      "source": [
        "rf_small.fit(x_train,y_train)\n"
      ],
      "metadata": {
        "id": "gZJd-l2qgVRf"
      },
      "execution_count": null,
      "outputs": []
    },
    {
      "cell_type": "code",
      "source": [
        "tree_small = rf_small.estimators_[5]\n"
      ],
      "metadata": {
        "id": "7n1c24rNgYOM"
      },
      "execution_count": null,
      "outputs": []
    },
    {
      "cell_type": "code",
      "source": [
        "export_graphviz(tree_small, out_file = dot_data, feature_names = predictors, rounded = True, precision = 1)\n"
      ],
      "metadata": {
        "id": "zy4p_CUHgarO"
      },
      "execution_count": null,
      "outputs": []
    },
    {
      "cell_type": "code",
      "source": [
        "graph_small = pydotplus.graph_from_dot_data(dot_data.getvalue())\n",
        "model.feature_importances_\n"
      ],
      "metadata": {
        "id": "hJfM1gRXgd0f"
      },
      "execution_count": null,
      "outputs": []
    },
    {
      "cell_type": "code",
      "source": [
        "graph.write_png('company_small.png')\n"
      ],
      "metadata": {
        "id": "Yct6f7hAgj-D"
      },
      "execution_count": null,
      "outputs": []
    },
    {
      "cell_type": "code",
      "source": [
        "img = mpimg.imread('company_small.png') \n"
      ],
      "metadata": {
        "id": "ggvD2JuSgmsQ"
      },
      "execution_count": null,
      "outputs": []
    },
    {
      "cell_type": "code",
      "source": [
        "plt.imshow(img)\n"
      ],
      "metadata": {
        "id": "ho2b2_cAgqLN"
      },
      "execution_count": null,
      "outputs": []
    },
    {
      "cell_type": "code",
      "source": [
        "model.feature_importances_\n"
      ],
      "metadata": {
        "id": "k2SeDnV9hOPl"
      },
      "execution_count": null,
      "outputs": []
    },
    {
      "cell_type": "code",
      "source": [
        "fi = pd.DataFrame({'feature': list(x_train.columns),\n",
        "                   'importance': model.feature_importances_}).\\\n",
        "                    sort_values('importance', ascending = False)\n"
      ],
      "metadata": {
        "id": "qZxUaC2thuQf"
      },
      "execution_count": null,
      "outputs": []
    },
    {
      "cell_type": "code",
      "source": [
        "fi"
      ],
      "metadata": {
        "id": "uS6blZd5hx2T"
      },
      "execution_count": null,
      "outputs": []
    },
    {
      "cell_type": "markdown",
      "source": [
        "As seen in the above table Price is most important feature."
      ],
      "metadata": {
        "id": "P0LX49emu6oS"
      }
    },
    {
      "cell_type": "code",
      "source": [
        ""
      ],
      "metadata": {
        "id": "Ds3QdJf5h0Az"
      },
      "execution_count": null,
      "outputs": []
    }
  ]
}