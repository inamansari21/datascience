{
  "nbformat": 4,
  "nbformat_minor": 0,
  "metadata": {
    "colab": {
      "name": "Hypothesis testing new 1.ipynb",
      "provenance": [],
      "authorship_tag": "ABX9TyM9nc8Ywsj1bMHDQCjHlgFH",
      "include_colab_link": true
    },
    "kernelspec": {
      "name": "python3",
      "display_name": "Python 3"
    },
    "language_info": {
      "name": "python"
    }
  },
  "cells": [
    {
      "cell_type": "markdown",
      "metadata": {
        "id": "view-in-github",
        "colab_type": "text"
      },
      "source": [
        "<a href=\"https://colab.research.google.com/github/inamansari21/datascience/blob/main/Hypothesis_testing_new_1.ipynb\" target=\"_parent\"><img src=\"https://colab.research.google.com/assets/colab-badge.svg\" alt=\"Open In Colab\"/></a>"
      ]
    },
    {
      "cell_type": "code",
      "execution_count": 1,
      "metadata": {
        "id": "cTPI-kc9EX1Q"
      },
      "outputs": [],
      "source": [
        "import pandas as pd\n",
        "import numpy as np\n",
        "from scipy import stats\n"
      ]
    },
    {
      "cell_type": "markdown",
      "source": [
        "## problem question\n",
        "A F&B manager wants to determine whether there is any significant difference in the diameter of the cutlet between two units. A randomly selected sample of cutlets was collected from both units and measured? Analyze the data and draw inferences at 5% significance level. Please state the assumptions and tests that you carried out to check validity of the assumptions.\n",
        "\n",
        "\n",
        "**Is there significant difference in the diameter of the cutlet ?**\n",
        "\n"
      ],
      "metadata": {
        "id": "ln0CdymiE7d6"
      }
    },
    {
      "cell_type": "markdown",
      "source": [
        "# Data description\n",
        "\n",
        "α == 0.05 (95% Confidence)\n",
        "\n",
        "Y == Continious\n",
        "X == Discrete\n",
        "\n",
        "Is Y1 and Y2 normal ?\n",
        "\n",
        "H0 = Y1 and Y2 are normal\n",
        "H1 = Y1 and Y2 are not normal\n",
        "\n"
      ],
      "metadata": {
        "id": "FSitgbzRFZSU"
      }
    },
    {
      "cell_type": "markdown",
      "source": [
        "# Normality test"
      ],
      "metadata": {
        "id": "2QzZ3koTFubW"
      }
    },
    {
      "cell_type": "code",
      "source": [
        "df = pd.read_csv(\"Cutlets.csv\")\n"
      ],
      "metadata": {
        "id": "tK9IzfWLFjle"
      },
      "execution_count": 3,
      "outputs": []
    },
    {
      "cell_type": "code",
      "source": [
        "stats.shapiro(df[\"Unit A\"])\n"
      ],
      "metadata": {
        "colab": {
          "base_uri": "https://localhost:8080/"
        },
        "id": "Ne8YTcTGGFSi",
        "outputId": "12c83d98-a92b-44e3-926e-5a673a549241"
      },
      "execution_count": 6,
      "outputs": [
        {
          "output_type": "execute_result",
          "data": {
            "text/plain": [
              "(0.9649458527565002, 0.3199819028377533)"
            ]
          },
          "metadata": {},
          "execution_count": 6
        }
      ]
    },
    {
      "cell_type": "markdown",
      "source": [
        "P value for Unit A == 0.32 > α\n",
        "\n"
      ],
      "metadata": {
        "id": "-w0LpYAdGdyI"
      }
    },
    {
      "cell_type": "code",
      "source": [
        "stats.shapiro(df[\"Unit B\"])\n"
      ],
      "metadata": {
        "colab": {
          "base_uri": "https://localhost:8080/"
        },
        "id": "kTXZ3ogYGNy5",
        "outputId": "091b5541-d59b-4239-a9c5-51f2a721df54"
      },
      "execution_count": 7,
      "outputs": [
        {
          "output_type": "execute_result",
          "data": {
            "text/plain": [
              "(0.9727300405502319, 0.5224985480308533)"
            ]
          },
          "metadata": {},
          "execution_count": 7
        }
      ]
    },
    {
      "cell_type": "markdown",
      "source": [
        "(0.9727300405502319, 0.5224985480308533)\n",
        "P value for Unit B == 0.52 > α\n",
        "\n",
        "**HO is accepted. Thats is both Y1 and Y2 are normal**\n"
      ],
      "metadata": {
        "id": "i462uT-3HEJx"
      }
    },
    {
      "cell_type": "markdown",
      "source": [
        "External condition are same.\n",
        "Thus we can perform Paired T Test\n"
      ],
      "metadata": {
        "id": "1j51BzAzHUnE"
      }
    },
    {
      "cell_type": "markdown",
      "source": [
        "# MOdel\n",
        "\n",
        "H0 == Mean for Y1 and Y2 are equal (There is no significance difference between diameter of the Culets)\n",
        "H1 == Mean for Y1 and Y2 are not equal (There is a significance difference between diameter of the Culets)\n",
        "\n"
      ],
      "metadata": {
        "id": "Gh6yvScdHbmx"
      }
    },
    {
      "cell_type": "code",
      "source": [
        "stats.ttest_rel(df[\"Unit A\"], df[\"Unit B\"])\n"
      ],
      "metadata": {
        "colab": {
          "base_uri": "https://localhost:8080/"
        },
        "id": "pL4uCTuyG6R2",
        "outputId": "f0765674-d2ab-497a-87a5-af606f580a39"
      },
      "execution_count": 10,
      "outputs": [
        {
          "output_type": "execute_result",
          "data": {
            "text/plain": [
              "Ttest_relResult(statistic=0.7536787225614323, pvalue=0.45623007680384076)"
            ]
          },
          "metadata": {},
          "execution_count": 10
        }
      ]
    },
    {
      "cell_type": "markdown",
      "source": [
        "Ttest_relResult(statistic=0.7536787225614323, pvalue=0.45623007680384076)\n",
        "P value of the Paired T Test is == 0.45 > α\n",
        "\n",
        "**Thus H0 is accepted.\n",
        "Mean of both Y1 and Y2 are equal**\n"
      ],
      "metadata": {
        "id": "Kj5U-R98H005"
      }
    },
    {
      "cell_type": "code",
      "source": [
        ""
      ],
      "metadata": {
        "id": "YJnlTNygHsGj"
      },
      "execution_count": null,
      "outputs": []
    }
  ]
}