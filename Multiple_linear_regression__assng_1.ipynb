{
  "nbformat": 4,
  "nbformat_minor": 0,
  "metadata": {
    "colab": {
      "name": "Multiple_linear_regression _assng 1.ipynb",
      "provenance": [],
      "authorship_tag": "ABX9TyNQE/vnWYsUpHf7CsMXuJJm",
      "include_colab_link": true
    },
    "kernelspec": {
      "name": "python3",
      "display_name": "Python 3"
    },
    "language_info": {
      "name": "python"
    }
  },
  "cells": [
    {
      "cell_type": "markdown",
      "metadata": {
        "id": "view-in-github",
        "colab_type": "text"
      },
      "source": [
        "<a href=\"https://colab.research.google.com/github/inamansari21/datascience/blob/main/Multiple_linear_regression__assng_1.ipynb\" target=\"_parent\"><img src=\"https://colab.research.google.com/assets/colab-badge.svg\" alt=\"Open In Colab\"/></a>"
      ]
    },
    {
      "cell_type": "code",
      "execution_count": null,
      "metadata": {
        "id": "aBGTIfetRWWB"
      },
      "outputs": [],
      "source": [
        "import pandas as pd\n",
        "import numpy as np\n",
        "import matplotlib.pyplot as plt\n",
        "import seaborn as sns\n",
        "import statsmodels.formula.api as smf\n",
        "import statsmodels.api as sm\n",
        "from statsmodels.graphics.regressionplots import influence_plot\n"
      ]
    },
    {
      "cell_type": "code",
      "source": [
        "toyo=pd.read_csv('ToyotaCorolla.csv',encoding='latin1')\n",
        "toyo"
      ],
      "metadata": {
        "id": "gkX4n6I4Shxe"
      },
      "execution_count": null,
      "outputs": []
    },
    {
      "cell_type": "code",
      "source": [
        "toyo.info()"
      ],
      "metadata": {
        "id": "qQvCbR1DSjd4"
      },
      "execution_count": null,
      "outputs": []
    },
    {
      "cell_type": "code",
      "source": [
        "toyo2=pd.concat([toyo.iloc[:,2:4],toyo.iloc[:,6:7],toyo.iloc[:,8:9],toyo.iloc[:,12:14],toyo.iloc[:,15:18]],axis=1)\n",
        "toyo2"
      ],
      "metadata": {
        "id": "PUhB_6dsS2YJ"
      },
      "execution_count": null,
      "outputs": []
    },
    {
      "cell_type": "code",
      "source": [
        "toyo3=toyo2.rename({'Age_08_04':'Age','cc':'CC','Quarterly_Tax':'QT'},axis=1)\n",
        "toyo3\n"
      ],
      "metadata": {
        "id": "vTV1vhpmTAUE"
      },
      "execution_count": null,
      "outputs": []
    },
    {
      "cell_type": "code",
      "source": [
        "toyo3[toyo3.duplicated()]\n"
      ],
      "metadata": {
        "id": "SsqxyaZATGev"
      },
      "execution_count": null,
      "outputs": []
    },
    {
      "cell_type": "code",
      "source": [
        "toyo4=toyo3.drop_duplicates().reset_index(drop=True)\n",
        "toyo4"
      ],
      "metadata": {
        "id": "gTPu-JMZTR-A"
      },
      "execution_count": null,
      "outputs": []
    },
    {
      "cell_type": "code",
      "source": [
        "toyo4.describe()\n"
      ],
      "metadata": {
        "id": "94gFbn0rTXWj"
      },
      "execution_count": null,
      "outputs": []
    },
    {
      "cell_type": "code",
      "source": [
        ""
      ],
      "metadata": {
        "id": "q7Aw02SpTcOJ"
      },
      "execution_count": null,
      "outputs": []
    },
    {
      "cell_type": "markdown",
      "source": [
        "**#correlation analysis **"
      ],
      "metadata": {
        "id": "WIO2OA7rTm5E"
      }
    },
    {
      "cell_type": "code",
      "source": [
        "toyo4.corr()\n"
      ],
      "metadata": {
        "id": "A2ZY4Ux3Tu38"
      },
      "execution_count": null,
      "outputs": []
    },
    {
      "cell_type": "code",
      "source": [
        "sns.set_style(style='darkgrid')\n",
        "sns.pairplot(toyo4)\n"
      ],
      "metadata": {
        "id": "XMJAFwTmT1YZ"
      },
      "execution_count": null,
      "outputs": []
    },
    {
      "cell_type": "code",
      "source": [
        "model=smf.ols('Price~Age+KM+HP+CC+Doors+Gears+QT+Weight',data=toyo4).fit()\n"
      ],
      "metadata": {
        "id": "lFDCDRfdT7h_"
      },
      "execution_count": null,
      "outputs": []
    },
    {
      "cell_type": "code",
      "source": [
        ""
      ],
      "metadata": {
        "id": "TnFuhn5oUMH6"
      },
      "execution_count": null,
      "outputs": []
    },
    {
      "cell_type": "markdown",
      "source": [
        "# **model testing**"
      ],
      "metadata": {
        "id": "9fRQRwNCUORk"
      }
    },
    {
      "cell_type": "code",
      "source": [
        "model.params\n"
      ],
      "metadata": {
        "id": "JvaUxe9OUSxt"
      },
      "execution_count": null,
      "outputs": []
    },
    {
      "cell_type": "code",
      "source": [
        "model.tvalues , np.round(model.pvalues,5)\n"
      ],
      "metadata": {
        "id": "lSN9gZgBUZOx"
      },
      "execution_count": null,
      "outputs": []
    },
    {
      "cell_type": "code",
      "source": [
        "model.rsquared , model.rsquared_adj   \n"
      ],
      "metadata": {
        "id": "Yssa2rvBUk3L"
      },
      "execution_count": null,
      "outputs": []
    },
    {
      "cell_type": "code",
      "source": [
        "# Build SLR and MLR models for insignificant variables 'CC' and 'Doors'\n",
        "# Also find their tvalues and pvalues\n"
      ],
      "metadata": {
        "id": "IVHBm7pCUtw_"
      },
      "execution_count": null,
      "outputs": []
    },
    {
      "cell_type": "code",
      "source": [
        "slr_c=smf.ols('Price~CC',data=toyo4).fit()\n",
        "slr_c.tvalues , slr_c.pvalues # CC has significant pvalue\n"
      ],
      "metadata": {
        "id": "RoX7-wykU5ES"
      },
      "execution_count": null,
      "outputs": []
    },
    {
      "cell_type": "code",
      "source": [
        "slr_d=smf.ols('Price~Doors',data=toyo4).fit()\n",
        "slr_d.tvalues , slr_d.pvalues # Doors has significant pvalue\n"
      ],
      "metadata": {
        "id": "lTF_u93UU_nL"
      },
      "execution_count": null,
      "outputs": []
    },
    {
      "cell_type": "code",
      "source": [
        "mlr_cd=smf.ols('Price~CC+Doors',data=toyo4).fit()\n",
        "mlr_cd.tvalues , mlr_cd.pvalues # CC & Doors have significant pvalue\n"
      ],
      "metadata": {
        "id": "J-QIifeSVGYI"
      },
      "execution_count": null,
      "outputs": []
    },
    {
      "cell_type": "code",
      "source": [
        ""
      ],
      "metadata": {
        "id": "OoVhzt8PVM39"
      },
      "execution_count": null,
      "outputs": []
    },
    {
      "cell_type": "markdown",
      "source": [
        "# **model validation techniques**"
      ],
      "metadata": {
        "id": "JxozsLjSVTJ-"
      }
    },
    {
      "cell_type": "code",
      "source": [
        "# 1) Collinearity Problem Check\n",
        "# Calculate VIF = 1/(1-Rsquare) for all independent variables\n",
        "\n",
        "rsq_age=smf.ols('Age~KM+HP+CC+Doors+Gears+QT+Weight',data=toyo4).fit().rsquared\n",
        "vif_age=1/(1-rsq_age)\n",
        "\n",
        "rsq_KM=smf.ols('KM~Age+HP+CC+Doors+Gears+QT+Weight',data=toyo4).fit().rsquared\n",
        "vif_KM=1/(1-rsq_KM)\n",
        "\n",
        "rsq_HP=smf.ols('HP~Age+KM+CC+Doors+Gears+QT+Weight',data=toyo4).fit().rsquared\n",
        "vif_HP=1/(1-rsq_HP)\n",
        "\n",
        "rsq_CC=smf.ols('CC~Age+KM+HP+Doors+Gears+QT+Weight',data=toyo4).fit().rsquared\n",
        "vif_CC=1/(1-rsq_CC)\n",
        "\n",
        "rsq_DR=smf.ols('Doors~Age+KM+HP+CC+Gears+QT+Weight',data=toyo4).fit().rsquared\n",
        "vif_DR=1/(1-rsq_DR)\n",
        "\n",
        "rsq_GR=smf.ols('Gears~Age+KM+HP+CC+Doors+QT+Weight',data=toyo4).fit().rsquared\n",
        "vif_GR=1/(1-rsq_GR)\n",
        "\n",
        "rsq_QT=smf.ols('QT~Age+KM+HP+CC+Doors+Gears+Weight',data=toyo4).fit().rsquared\n",
        "vif_QT=1/(1-rsq_QT)\n",
        "\n",
        "rsq_WT=smf.ols('Weight~Age+KM+HP+CC+Doors+Gears+QT',data=toyo4).fit().rsquared\n",
        "vif_WT=1/(1-rsq_WT)\n",
        "\n",
        "# Putting the values in Dataframe format\n",
        "d1={'Variables':['Age','KM','HP','CC','Doors','Gears','QT','Weight'],\n",
        "    'Vif':[vif_age,vif_KM,vif_HP,vif_CC,vif_DR,vif_GR,vif_QT,vif_WT]}\n",
        "Vif_df=pd.DataFrame(d1)\n",
        "Vif_df\n"
      ],
      "metadata": {
        "id": "TTl0tadXVYop"
      },
      "execution_count": null,
      "outputs": []
    },
    {
      "cell_type": "code",
      "source": [
        "# None variable has VIF>20, No Collinearity, so consider all varaibles in Regression equation\n"
      ],
      "metadata": {
        "id": "5CVrv9XhVqah"
      },
      "execution_count": null,
      "outputs": []
    },
    {
      "cell_type": "code",
      "source": [
        "# 2) Residual Analysis\n",
        "# Test for Normality of Residuals (Q-Q Plot) using residual model (model.resid)\n",
        "sm.qqplot(model.resid,line='q') # 'q' - A line is fit through the quartiles # line = '45'- to draw the 45-degree diagonal line\n",
        "plt.title(\"Normal Q-Q plot of residuals\")\n",
        "plt.show()\n"
      ],
      "metadata": {
        "id": "NlBLIRABV0i7"
      },
      "execution_count": null,
      "outputs": []
    },
    {
      "cell_type": "code",
      "source": [
        "list(np.where(model.resid>6000))  # outliar detection from above QQ plot of residuals\n"
      ],
      "metadata": {
        "id": "V-0EsVtuV43s"
      },
      "execution_count": null,
      "outputs": []
    },
    {
      "cell_type": "code",
      "source": [
        "list(np.where(model.resid<-6000))\n"
      ],
      "metadata": {
        "id": "-pW8g2KxV_es"
      },
      "execution_count": null,
      "outputs": []
    },
    {
      "cell_type": "code",
      "source": [
        "# Test for Homoscedasticity or Heteroscedasticity (plotting model's standardized fitted values vs standardized residual values)\n",
        "\n",
        "def standard_values(vals) : return (vals-vals.mean())/vals.std()  # User defined z = (x - mu)/sigma\n"
      ],
      "metadata": {
        "id": "-Uu9x98HWEe_"
      },
      "execution_count": null,
      "outputs": []
    },
    {
      "cell_type": "code",
      "source": [
        "plt.scatter(standard_values(model.fittedvalues),standard_values(model.resid))\n",
        "plt.title('Residual Plot')\n",
        "plt.xlabel('standardized fitted values')\n",
        "plt.ylabel('standardized residual values')\n",
        "plt.show() \n"
      ],
      "metadata": {
        "id": "Uvhm2uyLWKXF"
      },
      "execution_count": null,
      "outputs": []
    },
    {
      "cell_type": "code",
      "source": [
        "fig=plt.figure(figsize=(15,8))\n",
        "sm.graphics.plot_regress_exog(model,'Age',fig=fig)\n",
        "plt.show()\n"
      ],
      "metadata": {
        "id": "hkW5Do5bWQQG"
      },
      "execution_count": null,
      "outputs": []
    },
    {
      "cell_type": "code",
      "source": [
        "fig=plt.figure(figsize=(15,8))\n",
        "sm.graphics.plot_regress_exog(model,'KM',fig=fig)\n",
        "plt.show()\n"
      ],
      "metadata": {
        "id": "eR8_AK8gWWh8"
      },
      "execution_count": null,
      "outputs": []
    },
    {
      "cell_type": "code",
      "source": [
        "fig=plt.figure(figsize=(15,8))\n",
        "sm.graphics.plot_regress_exog(model,'HP',fig=fig)\n",
        "plt.show()\n"
      ],
      "metadata": {
        "id": "61QfUcyqWdnN"
      },
      "execution_count": null,
      "outputs": []
    },
    {
      "cell_type": "code",
      "source": [
        "fig=plt.figure(figsize=(15,8))\n",
        "sm.graphics.plot_regress_exog(model,'CC',fig=fig)\n",
        "plt.show()\n"
      ],
      "metadata": {
        "id": "1o2XIaA6Wicf"
      },
      "execution_count": null,
      "outputs": []
    },
    {
      "cell_type": "code",
      "source": [
        "fig=plt.figure(figsize=(15,8))\n",
        "sm.graphics.plot_regress_exog(model,'Doors',fig=fig)\n",
        "plt.show()\n"
      ],
      "metadata": {
        "id": "n42KGdc7Wqy2"
      },
      "execution_count": null,
      "outputs": []
    },
    {
      "cell_type": "code",
      "source": [
        "fig=plt.figure(figsize=(15,8))\n",
        "sm.graphics.plot_regress_exog(model,'Gears',fig=fig)\n",
        "plt.show()\n"
      ],
      "metadata": {
        "id": "D89kNlOXWwqT"
      },
      "execution_count": null,
      "outputs": []
    },
    {
      "cell_type": "code",
      "source": [
        "fig=plt.figure(figsize=(15,8))\n",
        "sm.graphics.plot_regress_exog(model,'QT',fig=fig)\n",
        "plt.show()\n"
      ],
      "metadata": {
        "id": "jjx7E04cW2wT"
      },
      "execution_count": null,
      "outputs": []
    },
    {
      "cell_type": "code",
      "source": [
        "fig=plt.figure(figsize=(15,8))\n",
        "sm.graphics.plot_regress_exog(model,'Weight',fig=fig)\n",
        "plt.show()\n"
      ],
      "metadata": {
        "id": "JLcwjZmUW7kT"
      },
      "execution_count": null,
      "outputs": []
    },
    {
      "cell_type": "code",
      "source": [
        ""
      ],
      "metadata": {
        "id": "MfTdlmf0XArF"
      },
      "execution_count": null,
      "outputs": []
    },
    {
      "cell_type": "markdown",
      "source": [
        "# **model deletion technique**"
      ],
      "metadata": {
        "id": "Q16qx3sRXGbM"
      }
    },
    {
      "cell_type": "code",
      "source": [
        "# 1. Cook's Distance: If Cook's distance > 1, then it's an outlier\n",
        "# Get influencers using cook's distance\n",
        "(c,_)=model.get_influence().cooks_distance\n",
        "c\n"
      ],
      "metadata": {
        "id": "qoYyPgC1XMuy"
      },
      "execution_count": null,
      "outputs": []
    },
    {
      "cell_type": "code",
      "source": [
        "fig=plt.figure(figsize=(20,7))\n",
        "plt.stem(np.arange(len(toyo4)),np.round(c,3))\n",
        "plt.xlabel('Row Index')\n",
        "plt.ylabel('Cooks Distance')\n",
        "plt.show()\n"
      ],
      "metadata": {
        "id": "Y-ebdSj8XSZY"
      },
      "execution_count": null,
      "outputs": []
    },
    {
      "cell_type": "code",
      "source": [
        "np.argmax(c) , np.max(c)\n"
      ],
      "metadata": {
        "id": "Xg78jTmtXcOf"
      },
      "execution_count": null,
      "outputs": []
    },
    {
      "cell_type": "code",
      "source": [
        "# Leverage Value using High Influence Points : Points beyond Leverage_cutoff value are influencers\n",
        "fig,ax=plt.subplots(figsize=(20,20))\n",
        "fig=influence_plot(model,ax = ax)"
      ],
      "metadata": {
        "id": "_WsVANYpXj3U"
      },
      "execution_count": null,
      "outputs": []
    },
    {
      "cell_type": "code",
      "source": [
        "# Leverage Cuttoff Value = 3*(k+1)/n ; k = no.of features/columns & n = no. of datapoints\n",
        "k=toyo4.shape[1]\n",
        "n=toyo4.shape[0]\n",
        "leverage_cutoff = (3*(k+1))/n\n",
        "leverage_cutoff\n"
      ],
      "metadata": {
        "id": "20szFffVXrK3"
      },
      "execution_count": null,
      "outputs": []
    },
    {
      "cell_type": "code",
      "source": [
        "toyo4[toyo4.index.isin([80])] \n"
      ],
      "metadata": {
        "id": "Co8XXVyfX6r0"
      },
      "execution_count": null,
      "outputs": []
    },
    {
      "cell_type": "code",
      "source": [
        ""
      ],
      "metadata": {
        "id": "lni6TZf9X_TP"
      },
      "execution_count": null,
      "outputs": []
    },
    {
      "cell_type": "markdown",
      "source": [
        ""
      ],
      "metadata": {
        "id": "svBkyG-kYC_4"
      }
    },
    {
      "cell_type": "markdown",
      "source": [
        "# **improving the model**"
      ],
      "metadata": {
        "id": "Cat9BBF0YDCx"
      }
    },
    {
      "cell_type": "code",
      "source": [
        "toyo_new=toyo4.copy()\n",
        "toyo_new\n"
      ],
      "metadata": {
        "id": "RV0BwX6mYIXm"
      },
      "execution_count": null,
      "outputs": []
    },
    {
      "cell_type": "code",
      "source": [
        "# Discard the data points which are influencers and reassign the row number (reset_index(drop=True))\n",
        "toyo5=toyo_new.drop(toyo_new.index[[80]],axis=0).reset_index(drop=True)\n",
        "toyo5"
      ],
      "metadata": {
        "id": "kM4JiPPlYMad"
      },
      "execution_count": null,
      "outputs": []
    },
    {
      "cell_type": "code",
      "source": [
        ""
      ],
      "metadata": {
        "id": "I0guXeTVYVXf"
      },
      "execution_count": null,
      "outputs": []
    },
    {
      "cell_type": "markdown",
      "source": [
        "# **final model**"
      ],
      "metadata": {
        "id": "UV7bBQyGYbuF"
      }
    },
    {
      "cell_type": "code",
      "source": [
        " while np.max(c)>0.5 :\n",
        "    model=smf.ols('Price~Age+KM+HP+CC+Doors+Gears+QT+Weight',data=toyo5).fit()\n",
        "    (c,_)=model.get_influence().cooks_distance\n",
        "    c\n",
        "    np.argmax(c) , np.max(c)\n",
        "    toyo5=toyo5.drop(toyo5.index[[np.argmax(c)]],axis=0).reset_index(drop=True)\n",
        "    toyo5\n",
        "else:\n",
        "    final_model=smf.ols('Price~Age+KM+HP+CC+Doors+Gears+QT+Weight',data=toyo5).fit()\n",
        "    final_model.rsquared , final_model.aic\n",
        "    print(\"Thus model accuracy is improved to\",final_model.rsquared)\n",
        "\n"
      ],
      "metadata": {
        "id": "hi-N0tRDYe8W"
      },
      "execution_count": null,
      "outputs": []
    },
    {
      "cell_type": "code",
      "source": [
        "if np.max(c)>0.5:\n",
        "    model=smf.ols('Price~Age+KM+HP+CC+Doors+Gears+QT+Weight',data=toyo5).fit()\n",
        "    (c,_)=model.get_influence().cooks_distance\n",
        "    c\n",
        "    np.argmax(c) , np.max(c)\n",
        "    toyo5=toyo5.drop(toyo5.index[[np.argmax(c)]],axis=0).reset_index(drop=True)\n",
        "    toyo5 \n",
        "elif np.max(c)<0.5:\n",
        "    final_model=smf.ols('Price~Age+KM+HP+CC+Doors+Gears+QT+Weight',data=toyo5).fit()\n",
        "    final_model.rsquared , final_model.aic\n",
        "    print(\"Thus model accuracy is improved to\",final_model.rsquared)\n"
      ],
      "metadata": {
        "id": "LUxpA4DLYpzm"
      },
      "execution_count": null,
      "outputs": []
    },
    {
      "cell_type": "code",
      "source": [
        "final_model.rsquared\n"
      ],
      "metadata": {
        "id": "G8hYfvRaZDLT"
      },
      "execution_count": null,
      "outputs": []
    },
    {
      "cell_type": "code",
      "source": [
        "toyo5"
      ],
      "metadata": {
        "id": "BBLT3zh3ZL3c"
      },
      "execution_count": null,
      "outputs": []
    },
    {
      "cell_type": "code",
      "source": [
        ""
      ],
      "metadata": {
        "id": "FrxQW2HnZQri"
      },
      "execution_count": null,
      "outputs": []
    },
    {
      "cell_type": "markdown",
      "source": [
        "# **model prediction**"
      ],
      "metadata": {
        "id": "HL1MX55IZX9o"
      }
    },
    {
      "cell_type": "code",
      "source": [
        "new_data=pd.DataFrame({'Age':12,\"KM\":40000,\"HP\":80,\"CC\":1300,\"Doors\":4,\"Gears\":5,\"QT\":69,\"Weight\":1012},index=[0])\n",
        "new_data"
      ],
      "metadata": {
        "id": "XKhmsY3KZccl"
      },
      "execution_count": null,
      "outputs": []
    },
    {
      "cell_type": "code",
      "source": [
        "final_model.predict(new_data)\n"
      ],
      "metadata": {
        "id": "wAI3rTFaZdP8"
      },
      "execution_count": null,
      "outputs": []
    },
    {
      "cell_type": "code",
      "source": [
        "pred_y=final_model.predict(toyo5)\n",
        "pred_y\n"
      ],
      "metadata": {
        "id": "cCOpzYU9ZiNG"
      },
      "execution_count": null,
      "outputs": []
    },
    {
      "cell_type": "code",
      "source": [
        ""
      ],
      "metadata": {
        "id": "xNUxi7hzZotV"
      },
      "execution_count": null,
      "outputs": []
    }
  ]
}