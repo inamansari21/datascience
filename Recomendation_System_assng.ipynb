{
  "nbformat": 4,
  "nbformat_minor": 0,
  "metadata": {
    "colab": {
      "name": "Recomendation_System_assng.ipynb",
      "provenance": [],
      "collapsed_sections": [],
      "include_colab_link": true
    },
    "kernelspec": {
      "name": "python3",
      "display_name": "Python 3"
    },
    "language_info": {
      "name": "python"
    }
  },
  "cells": [
    {
      "cell_type": "markdown",
      "metadata": {
        "id": "view-in-github",
        "colab_type": "text"
      },
      "source": [
        "<a href=\"https://colab.research.google.com/github/inamansari21/datascience/blob/main/Recomendation_System_assng.ipynb\" target=\"_parent\"><img src=\"https://colab.research.google.com/assets/colab-badge.svg\" alt=\"Open In Colab\"/></a>"
      ]
    },
    {
      "cell_type": "code",
      "execution_count": null,
      "metadata": {
        "id": "Mh0Ygbq75AIE"
      },
      "outputs": [],
      "source": [
        "# Import Libraries\n",
        "import pandas as pd\n",
        "import numpy as np\n",
        "from sklearn.metrics import pairwise_distances\n",
        "from scipy.spatial.distance import cosine,correlation"
      ]
    },
    {
      "cell_type": "code",
      "source": [
        "# Import Dataset\n",
        "books=pd.read_csv('book.csv',encoding='Latin1')\n",
        "books\n"
      ],
      "metadata": {
        "id": "FBAW1GXg5ROq"
      },
      "execution_count": null,
      "outputs": []
    },
    {
      "cell_type": "code",
      "source": [
        "books2=books.iloc[:,1:]\n",
        "books2"
      ],
      "metadata": {
        "id": "bwts139o5RQ8"
      },
      "execution_count": null,
      "outputs": []
    },
    {
      "cell_type": "code",
      "source": [
        "# Sort by User IDs\n",
        "books2.sort_values(['User.ID'])"
      ],
      "metadata": {
        "id": "iXKTKCAb5RTV"
      },
      "execution_count": null,
      "outputs": []
    },
    {
      "cell_type": "code",
      "source": [
        "# number of unique users in the dataset\n",
        "len(books2['User.ID'].unique())"
      ],
      "metadata": {
        "id": "8o6ZjxBq5RV5"
      },
      "execution_count": null,
      "outputs": []
    },
    {
      "cell_type": "code",
      "source": [
        "# number of unique books in the dataset\n",
        "len(books2['Book.Title'].unique())"
      ],
      "metadata": {
        "id": "G-GeKqtW5RYF"
      },
      "execution_count": null,
      "outputs": []
    },
    {
      "cell_type": "code",
      "source": [
        "# converting long data into wide data using pivot table\n",
        "books3=books2.pivot_table(index='User.ID',columns='Book.Title',values='Book.Rating').reset_index(drop=True)\n",
        "books3"
      ],
      "metadata": {
        "id": "HIEIMwGU5RaX"
      },
      "execution_count": null,
      "outputs": []
    },
    {
      "cell_type": "code",
      "source": [
        "# Replacing the index values by unique user Ids\n",
        "books3.index=books2['User.ID'].unique()\n",
        "books3"
      ],
      "metadata": {
        "id": "TDJ6_UP55Rc4"
      },
      "execution_count": null,
      "outputs": []
    },
    {
      "cell_type": "code",
      "source": [
        "# Impute those NaNs with 0 values\n",
        "books3.fillna(0,inplace=True)\n",
        "books3"
      ],
      "metadata": {
        "id": "lldnAcpL5RfW"
      },
      "execution_count": null,
      "outputs": []
    },
    {
      "cell_type": "code",
      "source": [
        "# Calculating Cosine Similarity between Users on array data\n",
        "user_sim=1-pairwise_distances(books3.values,metric='cosine')\n",
        "user_sim"
      ],
      "metadata": {
        "id": "wjDoWMkF5Rhr"
      },
      "execution_count": null,
      "outputs": []
    },
    {
      "cell_type": "code",
      "source": [
        "# Store the results in a dataframe format\n",
        "user_sim2=pd.DataFrame(user_sim)\n",
        "user_sim2"
      ],
      "metadata": {
        "id": "W3ya_KMC5Rj7"
      },
      "execution_count": null,
      "outputs": []
    },
    {
      "cell_type": "code",
      "source": [
        "# Set the index and column names to user ids \n",
        "user_sim2.index=books2['User.ID'].unique()\n",
        "user_sim2.columns=books2['User.ID'].unique()\n",
        "user_sim2"
      ],
      "metadata": {
        "id": "Kw7A4tL25RmD"
      },
      "execution_count": null,
      "outputs": []
    },
    {
      "cell_type": "code",
      "source": [
        "# Nullifying diagonal values\n",
        "np.fill_diagonal(user_sim,0)\n",
        "user_sim2\n"
      ],
      "metadata": {
        "id": "9kSJOEKr6aTl"
      },
      "execution_count": null,
      "outputs": []
    },
    {
      "cell_type": "code",
      "source": [
        "# Most Similar Users\n",
        "user_sim2.idxmax(axis=1)\n"
      ],
      "metadata": {
        "id": "3XnQLdT-6aWD"
      },
      "execution_count": null,
      "outputs": []
    },
    {
      "cell_type": "code",
      "source": [
        "# extract the books which userId 162107 & 276726 have watched\n",
        "books2[(books2['User.ID']==162107) | (books2['User.ID']==276726)]"
      ],
      "metadata": {
        "id": "EdqTX6qH6aYn"
      },
      "execution_count": null,
      "outputs": []
    },
    {
      "cell_type": "code",
      "source": [
        "# extract the books which userId 276729 & 276726 have watched\n",
        "books2[(books2['User.ID']==276729) | (books2['User.ID']==276726)]"
      ],
      "metadata": {
        "id": "xvDWICDW6aa1"
      },
      "execution_count": null,
      "outputs": []
    },
    {
      "cell_type": "code",
      "source": [
        "user_1=books2[(books2['User.ID']==276729)]\n",
        "user_2=books2[(books2['User.ID']==276726)]"
      ],
      "metadata": {
        "id": "D2V9zmSL6adG"
      },
      "execution_count": null,
      "outputs": []
    },
    {
      "cell_type": "code",
      "source": [
        "user_1['Book.Title']"
      ],
      "metadata": {
        "id": "JnQiGlD16afv"
      },
      "execution_count": null,
      "outputs": []
    },
    {
      "cell_type": "code",
      "source": [
        "user_1['Book.Title']"
      ],
      "metadata": {
        "id": "TDEXXuRH61fF"
      },
      "execution_count": null,
      "outputs": []
    },
    {
      "cell_type": "code",
      "source": [
        "pd.merge(user_1,user_2,on='Book.Title',how='outer')"
      ],
      "metadata": {
        "id": "icGmxDh661hm"
      },
      "execution_count": null,
      "outputs": []
    },
    {
      "cell_type": "code",
      "source": [
        ""
      ],
      "metadata": {
        "id": "2mFa2np861kD"
      },
      "execution_count": null,
      "outputs": []
    },
    {
      "cell_type": "code",
      "source": [
        ""
      ],
      "metadata": {
        "id": "YGWvoRgz61m5"
      },
      "execution_count": null,
      "outputs": []
    }
  ]
}