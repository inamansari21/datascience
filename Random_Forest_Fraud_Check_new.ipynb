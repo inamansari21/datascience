{
  "cells": [
    {
      "cell_type": "markdown",
      "metadata": {
        "id": "view-in-github",
        "colab_type": "text"
      },
      "source": [
        "<a href=\"https://colab.research.google.com/github/inamansari21/datascience/blob/main/Random_Forest_Fraud_Check_new.ipynb\" target=\"_parent\"><img src=\"https://colab.research.google.com/assets/colab-badge.svg\" alt=\"Open In Colab\"/></a>"
      ]
    },
    {
      "cell_type": "code",
      "execution_count": null,
      "id": "c869e2ae",
      "metadata": {
        "id": "c869e2ae"
      },
      "outputs": [],
      "source": [
        "import pandas as pd\n",
        "import matplotlib.pyplot as plt\n",
        "from sklearn import datasets  \n",
        "import numpy as np\n",
        "from sklearn.model_selection import train_test_split\n",
        "from sklearn.tree import  DecisionTreeClassifier\n",
        "from sklearn import tree\n",
        "from sklearn.metrics import classification_report\n",
        "from sklearn import preprocessing\n",
        "from sklearn.metrics import confusion_matrix\n",
        "from scipy.special import boxcox1p\n",
        "import warnings\n",
        "warnings.filterwarnings(\"ignore\")\n",
        "from sklearn.preprocessing import LabelEncoder\n",
        "from sklearn.preprocessing import StandardScaler"
      ]
    },
    {
      "cell_type": "code",
      "execution_count": null,
      "id": "fd3f3682",
      "metadata": {
        "id": "fd3f3682"
      },
      "outputs": [],
      "source": [
        "fraud = pd.read_csv(\"Fraud_check.csv\")\n",
        "print(fraud.head(10))\n",
        "print(\"Shape =\", fraud.shape)"
      ]
    },
    {
      "cell_type": "code",
      "execution_count": null,
      "id": "c523e012",
      "metadata": {
        "id": "c523e012"
      },
      "outputs": [],
      "source": [
        "fraud.T"
      ]
    },
    {
      "cell_type": "code",
      "execution_count": null,
      "id": "01fa562e",
      "metadata": {
        "id": "01fa562e"
      },
      "outputs": [],
      "source": [
        "fraud.describe()"
      ]
    },
    {
      "cell_type": "code",
      "execution_count": null,
      "id": "2e7bc93e",
      "metadata": {
        "id": "2e7bc93e"
      },
      "outputs": [],
      "source": [
        "fraud.info()"
      ]
    },
    {
      "cell_type": "code",
      "execution_count": null,
      "id": "95dfee3c",
      "metadata": {
        "scrolled": true,
        "id": "95dfee3c"
      },
      "outputs": [],
      "source": [
        "import seaborn as sns\n",
        "plt.figure(figsize=(10,5))\n",
        "sns.heatmap(fraud.corr(),annot=True)"
      ]
    },
    {
      "cell_type": "code",
      "execution_count": null,
      "id": "11c5241a",
      "metadata": {
        "id": "11c5241a"
      },
      "outputs": [],
      "source": [
        "def distplot(param):\n",
        "    plt.figure(figsize=(20,15))\n",
        "    sns.distplot(fraud[param], color = \"blue\", hist_kws={\"rwidth\":0.80, 'alpha':1.0})\n",
        "    plt.xticks(np.arange(0,20,1),rotation=45)\n",
        "    plt.show()"
      ]
    },
    {
      "cell_type": "code",
      "execution_count": null,
      "id": "4a6018c2",
      "metadata": {
        "id": "4a6018c2"
      },
      "outputs": [],
      "source": [
        "distplot(\"Taxable.Income\")"
      ]
    },
    {
      "cell_type": "markdown",
      "id": "87a99fed",
      "metadata": {
        "id": "87a99fed"
      },
      "source": [
        "# Changing the categorical variables into dummies."
      ]
    },
    {
      "cell_type": "code",
      "execution_count": null,
      "id": "eecaed2a",
      "metadata": {
        "id": "eecaed2a"
      },
      "outputs": [],
      "source": [
        "fraud1 = pd.get_dummies(fraud)"
      ]
    },
    {
      "cell_type": "markdown",
      "id": "758fac6b",
      "metadata": {
        "id": "758fac6b"
      },
      "source": [
        "# Converting the Target variable i.e. Sales into Categorical\n"
      ]
    },
    {
      "cell_type": "code",
      "execution_count": null,
      "id": "65305c22",
      "metadata": {
        "id": "65305c22"
      },
      "outputs": [],
      "source": [
        "fraud1['Category'] = pd.cut(fraud1['Taxable.Income'], \n",
        "                        bins=[0,30000, np.inf], \n",
        "                        labels=['Risky','Good'],\n",
        "                        include_lowest=True)\n",
        "fraud1"
      ]
    },
    {
      "cell_type": "code",
      "execution_count": null,
      "id": "db1ae331",
      "metadata": {
        "id": "db1ae331"
      },
      "outputs": [],
      "source": [
        "from plotly.subplots import make_subplots\n",
        "import plotly.graph_objects as go\n",
        "type_ = [\"Medium\", \"Low\", \"High\"]\n",
        "fig = make_subplots(rows=1, cols=1)\n",
        "\n",
        "fig.add_trace(go.Pie(labels=type_, values=fraud['Taxable.Income'].value_counts(), name=\"Taxable.Income\"))\n",
        "\n",
        "# Use `hole` to create a donut-like pie chart\n",
        "fig.update_traces(hole=.4, hoverinfo=\"label+percent+name\", textfont_size=16)\n",
        "\n",
        "fig.update_layout(\n",
        "    title_text=\"Sales Distributions\",\n",
        "    # Add annotations in the center of the donut pies.\n",
        "    annotations=[dict(text='Taxable.Income', x=0.5, y=0.5, font_size=20, showarrow=False)])\n",
        "fig.show()"
      ]
    },
    {
      "cell_type": "code",
      "execution_count": null,
      "id": "0b6fab1b",
      "metadata": {
        "id": "0b6fab1b"
      },
      "outputs": [],
      "source": [
        "from pandas import read_csv\n",
        "from sklearn.model_selection import KFold\n",
        "from sklearn.model_selection import cross_val_score\n",
        "from sklearn.ensemble import RandomForestClassifier"
      ]
    },
    {
      "cell_type": "code",
      "execution_count": null,
      "id": "1fd11408",
      "metadata": {
        "id": "1fd11408"
      },
      "outputs": [],
      "source": [
        "array = fraud1.values\n",
        "X = array[:,1:10]\n",
        "Y = array[:,10]"
      ]
    },
    {
      "cell_type": "code",
      "execution_count": null,
      "id": "ba08b1be",
      "metadata": {
        "id": "ba08b1be"
      },
      "outputs": [],
      "source": [
        "num_trees = 100\n",
        "max_features = 3\n",
        "kfold = KFold(n_splits=10, random_state=7, shuffle = True)\n",
        "model = RandomForestClassifier(n_estimators=num_trees, max_features=max_features)\n",
        "results = cross_val_score(model, X, Y, cv=kfold)\n",
        "print(round(results.mean()*100,2))"
      ]
    },
    {
      "cell_type": "markdown",
      "id": "b479803f",
      "metadata": {
        "id": "b479803f"
      },
      "source": [
        "# Ensemble techniques\n",
        "\n",
        "\n",
        "# Bagging"
      ]
    },
    {
      "cell_type": "code",
      "execution_count": null,
      "id": "cb273e3f",
      "metadata": {
        "id": "cb273e3f"
      },
      "outputs": [],
      "source": [
        "from pandas import read_csv\n",
        "from sklearn.model_selection import KFold\n",
        "from sklearn.model_selection import cross_val_score\n",
        "from sklearn.ensemble import BaggingClassifier\n",
        "from sklearn.tree import DecisionTreeClassifier\n",
        "\n",
        "seed = 7\n",
        "\n",
        "cart = DecisionTreeClassifier()\n",
        "model1 = BaggingClassifier(base_estimator=cart, n_estimators=num_trees, random_state=seed)\n",
        "results1 = cross_val_score(model1, X, Y, cv=kfold)\n",
        "print(round(results.mean()*100,2))"
      ]
    },
    {
      "cell_type": "markdown",
      "id": "435f70f4",
      "metadata": {
        "id": "435f70f4"
      },
      "source": [
        "# Boosting\n",
        "\n",
        "\n",
        "# AdaBoost Classification"
      ]
    },
    {
      "cell_type": "code",
      "execution_count": null,
      "id": "dcfe3187",
      "metadata": {
        "id": "dcfe3187"
      },
      "outputs": [],
      "source": [
        "from pandas import read_csv\n",
        "from sklearn.model_selection import KFold\n",
        "from sklearn.model_selection import cross_val_score\n",
        "from sklearn.ensemble import AdaBoostClassifier\n",
        "\n",
        "model2 = AdaBoostClassifier(n_estimators=num_trees, random_state=seed)\n",
        "results2 = cross_val_score(model2, X, Y, cv=kfold)\n",
        "print(round(results.mean()*100,2))"
      ]
    },
    {
      "cell_type": "markdown",
      "id": "e90983b7",
      "metadata": {
        "id": "e90983b7"
      },
      "source": [
        "# Stacking\n",
        "\n",
        "\n",
        "# Stacking Ensemble for Classification"
      ]
    },
    {
      "cell_type": "code",
      "execution_count": null,
      "id": "eaa9eacb",
      "metadata": {
        "id": "eaa9eacb"
      },
      "outputs": [],
      "source": [
        "from sklearn.model_selection import KFold\n",
        "from sklearn.model_selection import cross_val_score\n",
        "from sklearn.linear_model import LogisticRegression\n",
        "from sklearn.tree import DecisionTreeClassifier\n",
        "from sklearn.svm import SVC\n",
        "from sklearn.ensemble import VotingClassifier"
      ]
    },
    {
      "cell_type": "markdown",
      "id": "c33caca3",
      "metadata": {
        "id": "c33caca3"
      },
      "source": [
        "# Iteration = 1"
      ]
    },
    {
      "cell_type": "code",
      "execution_count": null,
      "id": "6933de8a",
      "metadata": {
        "id": "6933de8a"
      },
      "outputs": [],
      "source": [
        "estimators = []\n",
        "model3 = LogisticRegression(max_iter=500)\n",
        "estimators.append(('logistic', model3))\n",
        "model4 = DecisionTreeClassifier()\n",
        "estimators.append(('cart', model4))\n",
        "model5 = SVC()\n",
        "estimators.append(('svm', model5))\n",
        "model6 = BaggingClassifier(base_estimator=cart, n_estimators=num_trees, random_state=seed)\n",
        "estimators.append(('bagging', model6))\n",
        "model7 = AdaBoostClassifier(n_estimators=num_trees, random_state=seed)\n",
        "estimators.append(('boosting', model7))\n",
        "\n",
        "# create the ensemble modelIter\n",
        "ensemble = VotingClassifier(estimators)\n",
        "results3 = cross_val_score(ensemble, X, Y, cv=kfold)\n",
        "print(results3.mean()*100)"
      ]
    },
    {
      "cell_type": "markdown",
      "id": "39f939b4",
      "metadata": {
        "id": "39f939b4"
      },
      "source": [
        "# Iteration = 2"
      ]
    },
    {
      "cell_type": "code",
      "execution_count": null,
      "id": "f4967f1f",
      "metadata": {
        "id": "f4967f1f"
      },
      "outputs": [],
      "source": [
        "estimators = []\n",
        "model8 = LogisticRegression(max_iter=500)\n",
        "estimators.append(('logistic', model8))\n",
        "model9 = DecisionTreeClassifier()\n",
        "estimators.append(('cart', model9))\n",
        "model10 = BaggingClassifier(base_estimator=cart, n_estimators=num_trees, random_state=seed)\n",
        "estimators.append(('bagging', model10))\n",
        "model11 = AdaBoostClassifier(n_estimators=num_trees, random_state=seed)\n",
        "estimators.append(('boosting', model11))\n",
        "\n",
        "# create the ensemble model\n",
        "ensemble = VotingClassifier(estimators)\n",
        "results4 = cross_val_score(ensemble, X, Y, cv=kfold)\n",
        "print(results4.mean()*100)"
      ]
    },
    {
      "cell_type": "markdown",
      "id": "851922e7",
      "metadata": {
        "id": "851922e7"
      },
      "source": [
        "# Iteration = 3"
      ]
    },
    {
      "cell_type": "code",
      "execution_count": null,
      "id": "c683f4ae",
      "metadata": {
        "id": "c683f4ae"
      },
      "outputs": [],
      "source": [
        "estimators = []\n",
        "model12 = LogisticRegression(max_iter=500)\n",
        "estimators.append(('logistic', model12))\n",
        "model13 = DecisionTreeClassifier()\n",
        "estimators.append(('cart', model13))\n",
        "model14 = AdaBoostClassifier(n_estimators=num_trees, random_state=seed)\n",
        "estimators.append(('boosting', model14))\n",
        "\n",
        "# create the ensemble model\n",
        "ensemble = VotingClassifier(estimators)\n",
        "results5 = cross_val_score(ensemble, X, Y, cv=kfold)\n",
        "print(results5.mean()*100)"
      ]
    },
    {
      "cell_type": "markdown",
      "id": "eb3beb0e",
      "metadata": {
        "id": "eb3beb0e"
      },
      "source": [
        "# Iteration = 4"
      ]
    },
    {
      "cell_type": "code",
      "execution_count": null,
      "id": "e7f702bf",
      "metadata": {
        "id": "e7f702bf"
      },
      "outputs": [],
      "source": [
        "estimators = []\n",
        "model15 = DecisionTreeClassifier()\n",
        "estimators.append(('cart', model15))\n",
        "model16 = AdaBoostClassifier(n_estimators=num_trees, random_state=seed)\n",
        "estimators.append(('boosting', model16))\n",
        "\n",
        "# create the ensemble model\n",
        "ensemble = VotingClassifier(estimators)\n",
        "results6 = cross_val_score(ensemble, X, Y, cv=kfold)\n",
        "print(results6.mean()*100)"
      ]
    },
    {
      "cell_type": "markdown",
      "id": "8087cc53",
      "metadata": {
        "id": "8087cc53"
      },
      "source": [
        "# Iteration = 5"
      ]
    },
    {
      "cell_type": "code",
      "execution_count": null,
      "id": "2ad40133",
      "metadata": {
        "id": "2ad40133"
      },
      "outputs": [],
      "source": [
        "estimators = []\n",
        "model15 = DecisionTreeClassifier()\n",
        "estimators.append(('logistic', model15))\n",
        "model16 = AdaBoostClassifier(n_estimators=num_trees, random_state=seed)\n",
        "estimators.append(('boosting', model16))\n",
        "\n",
        "# create the ensemble model\n",
        "ensemble = VotingClassifier(estimators)\n",
        "results6 = cross_val_score(ensemble, X, Y, cv=kfold)\n",
        "print(results6.mean()*100)"
      ]
    },
    {
      "cell_type": "code",
      "source": [
        ""
      ],
      "metadata": {
        "id": "yBSbcYzFkSH1"
      },
      "id": "yBSbcYzFkSH1",
      "execution_count": null,
      "outputs": []
    }
  ],
  "metadata": {
    "kernelspec": {
      "display_name": "Python 3 (ipykernel)",
      "language": "python",
      "name": "python3"
    },
    "language_info": {
      "codemirror_mode": {
        "name": "ipython",
        "version": 3
      },
      "file_extension": ".py",
      "mimetype": "text/x-python",
      "name": "python",
      "nbconvert_exporter": "python",
      "pygments_lexer": "ipython3",
      "version": "3.9.7"
    },
    "colab": {
      "name": "Random Forest  Fraud Check new.ipynb",
      "provenance": [],
      "include_colab_link": true
    }
  },
  "nbformat": 4,
  "nbformat_minor": 5
}